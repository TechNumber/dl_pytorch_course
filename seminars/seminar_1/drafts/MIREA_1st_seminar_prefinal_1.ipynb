{
  "metadata": {
    "colab": {
      "provenance": [],
      "collapsed_sections": [
        "mV8n8faxvOQO",
        "W4qhspuX3zOE",
        "mzgpHI4wuaPq",
        "Am-la7kqCDEl",
        "eKr7PQlLke2o",
        "mleBdxygtTPs",
        "64d_Ywznwgbn",
        "YS4WszpAvJl4",
        "7bIrvcYJ_5jK",
        "9P9bWaC9QQJm",
        "TRxJxcRJQsMz",
        "MRuSrP7JQ00i",
        "1b95Z8u7Q3OL",
        "OiPV2u5zfwyo",
        "uEf1aXsdgLBh"
      ]
    },
    "kernelspec": {
      "name": "python3",
      "display_name": "Python 3",
      "language": "python"
    },
    "language_info": {
      "name": "python",
      "version": "3.7.12",
      "mimetype": "text/x-python",
      "codemirror_mode": {
        "name": "ipython",
        "version": 3
      },
      "pygments_lexer": "ipython3",
      "nbconvert_exporter": "python",
      "file_extension": ".py"
    },
    "gpuClass": "standard",
    "accelerator": "GPU"
  },
  "nbformat_minor": 0,
  "nbformat": 4,
  "cells": [
    {
      "cell_type": "markdown",
      "source": [
        "# Семинар 1\n",
        "**План семинара:**\n",
        "1. Получение информации об оборудовании\n",
        "2. Библиотека Pytorch\n",
        "  - установка (Windows/Linux(Google Colab); CPU/GPU)\n",
        "  - обзор возможностей и особенностей\n",
        "  - запуск простейших примеров\n",
        "3. Введение в глубокое обучение\n",
        "  - перцептрон (решение практических задач)"
      ],
      "metadata": {
        "id": "EShwaJUpigbf"
      }
    },
    {
      "cell_type": "markdown",
      "source": [
        "# Получение информации об оборудовании"
      ],
      "metadata": {
        "id": "SE_-SpH-mtFc"
      }
    },
    {
      "cell_type": "markdown",
      "source": [
        "**Windows** - GUI\\\n",
        "**Linux** (Google colab) - terminal"
      ],
      "metadata": {
        "id": "lnGz2Eopm3ag"
      }
    },
    {
      "cell_type": "code",
      "source": [
        "# версия Linux\n",
        "!cat /proc/version"
      ],
      "metadata": {
        "colab": {
          "base_uri": "https://localhost:8080/"
        },
        "id": "vPDZJB92omAL",
        "outputId": "09319db3-08cd-4f6a-e0c5-99a9e677ba22"
      },
      "execution_count": null,
      "outputs": [
        {
          "output_type": "stream",
          "name": "stdout",
          "text": "Linux version 5.10.133+ (builder@b1018906abc3) (Chromium OS 12.0_pre422132_p20210405-r10 clang version 13.0.0 (/var/tmp/portage/sys-devel/llvm-12.0_pre422132_p20210405-r10/work/llvm-12.0_pre422132_p20210405/clang cd442157cff4aad209ae532cbf031abbe10bc1df), LLD 13.0.0 (/var/tmp/portage/sys-devel/llvm-12.0_pre422132_p20210405-r10/work/llvm-12.0_pre422132_p20210405/lld cd442157cff4aad209ae532cbf031abbe10bc1df)) #1 SMP Fri Aug 26 08:44:51 UTC 2022\n"
        }
      ]
    },
    {
      "cell_type": "code",
      "source": [
        "# версия дистрибутива Linux\n",
        "!lsb_release -a"
      ],
      "metadata": {
        "colab": {
          "base_uri": "https://localhost:8080/"
        },
        "id": "ePuVTgneo0Rs",
        "outputId": "82e590e4-a7fc-4fc6-8e02-4dcd55f824d6"
      },
      "execution_count": null,
      "outputs": [
        {
          "output_type": "stream",
          "name": "stdout",
          "text": "No LSB modules are available.\n\nDistributor ID:\tUbuntu\n\nDescription:\tUbuntu 18.04.6 LTS\n\nRelease:\t18.04\n\nCodename:\tbionic\n"
        }
      ]
    },
    {
      "cell_type": "code",
      "source": [
        "# видеокарта\n",
        "!nvidia-smi"
      ],
      "metadata": {
        "id": "eXAC5VIPiJl7",
        "colab": {
          "base_uri": "https://localhost:8080/"
        },
        "outputId": "9e7e4407-a817-4056-98eb-43585c8eb539"
      },
      "execution_count": null,
      "outputs": [
        {
          "output_type": "stream",
          "name": "stdout",
          "text": "Thu Dec  1 07:23:50 2022       \n\n+-----------------------------------------------------------------------------+\n\n| NVIDIA-SMI 460.32.03    Driver Version: 460.32.03    CUDA Version: 11.2     |\n\n|-------------------------------+----------------------+----------------------+\n\n| GPU  Name        Persistence-M| Bus-Id        Disp.A | Volatile Uncorr. ECC |\n\n| Fan  Temp  Perf  Pwr:Usage/Cap|         Memory-Usage | GPU-Util  Compute M. |\n\n|                               |                      |               MIG M. |\n\n|===============================+======================+======================|\n\n|   0  Tesla T4            Off  | 00000000:00:04.0 Off |                    0 |\n\n| N/A   54C    P0    27W /  70W |      0MiB / 15109MiB |      0%      Default |\n\n|                               |                      |                  N/A |\n\n+-------------------------------+----------------------+----------------------+\n\n                                                                               \n\n+-----------------------------------------------------------------------------+\n\n| Processes:                                                                  |\n\n|  GPU   GI   CI        PID   Type   Process name                  GPU Memory |\n\n|        ID   ID                                                   Usage      |\n\n|=============================================================================|\n\n|  No running processes found                                                 |\n\n+-----------------------------------------------------------------------------+\n"
        }
      ]
    },
    {
      "cell_type": "markdown",
      "source": [
        "CUDA Version в nvidia-smi - это не ваша текущая версия CUDA, а [максимально поддерживаемая версия](https://docs.nvidia.com/cuda/cuda-toolkit-release-notes/index.html) для текущего драйвера видеокарты."
      ],
      "metadata": {
        "id": "CPIo9i8Tx0aX"
      }
    },
    {
      "cell_type": "code",
      "source": [
        "# cuda compiler\n",
        "!nvcc --version"
      ],
      "metadata": {
        "colab": {
          "base_uri": "https://localhost:8080/"
        },
        "id": "TF2LKwK9wsiH",
        "outputId": "59d27d9a-b40e-436e-925c-fa9026ed8aae"
      },
      "execution_count": null,
      "outputs": [
        {
          "output_type": "stream",
          "name": "stdout",
          "text": "nvcc: NVIDIA (R) Cuda compiler driver\n\nCopyright (c) 2005-2021 NVIDIA Corporation\n\nBuilt on Sun_Feb_14_21:12:58_PST_2021\n\nCuda compilation tools, release 11.2, V11.2.152\n\nBuild cuda_11.2.r11.2/compiler.29618528_0\n"
        }
      ]
    },
    {
      "cell_type": "code",
      "source": [
        "# процессор\n",
        "!cat /proc/cpuinfo"
      ],
      "metadata": {
        "colab": {
          "base_uri": "https://localhost:8080/"
        },
        "id": "W1vqoHiFnzCk",
        "outputId": "b6093827-8dd5-4b09-8287-86c99cf5dc2e"
      },
      "execution_count": null,
      "outputs": [
        {
          "output_type": "stream",
          "name": "stdout",
          "text": "processor\t: 0\n\nvendor_id\t: GenuineIntel\n\ncpu family\t: 6\n\nmodel\t\t: 85\n\nmodel name\t: Intel(R) Xeon(R) CPU @ 2.00GHz\n\nstepping\t: 3\n\nmicrocode\t: 0x1\n\ncpu MHz\t\t: 2000.162\n\ncache size\t: 39424 KB\n\nphysical id\t: 0\n\nsiblings\t: 2\n\ncore id\t\t: 0\n\ncpu cores\t: 1\n\napicid\t\t: 0\n\ninitial apicid\t: 0\n\nfpu\t\t: yes\n\nfpu_exception\t: yes\n\ncpuid level\t: 13\n\nwp\t\t: yes\n\nflags\t\t: fpu vme de pse tsc msr pae mce cx8 apic sep mtrr pge mca cmov pat pse36 clflush mmx fxsr sse sse2 ss ht syscall nx pdpe1gb rdtscp lm constant_tsc rep_good nopl xtopology nonstop_tsc cpuid tsc_known_freq pni pclmulqdq ssse3 fma cx16 pcid sse4_1 sse4_2 x2apic movbe popcnt aes xsave avx f16c rdrand hypervisor lahf_lm abm 3dnowprefetch invpcid_single ssbd ibrs ibpb stibp fsgsbase tsc_adjust bmi1 hle avx2 smep bmi2 erms invpcid rtm mpx avx512f avx512dq rdseed adx smap clflushopt clwb avx512cd avx512bw avx512vl xsaveopt xsavec xgetbv1 xsaves arat md_clear arch_capabilities\n\nbugs\t\t: cpu_meltdown spectre_v1 spectre_v2 spec_store_bypass l1tf mds swapgs taa mmio_stale_data retbleed\n\nbogomips\t: 4000.32\n\nclflush size\t: 64\n\ncache_alignment\t: 64\n\naddress sizes\t: 46 bits physical, 48 bits virtual\n\npower management:\n\n\n\nprocessor\t: 1\n\nvendor_id\t: GenuineIntel\n\ncpu family\t: 6\n\nmodel\t\t: 85\n\nmodel name\t: Intel(R) Xeon(R) CPU @ 2.00GHz\n\nstepping\t: 3\n\nmicrocode\t: 0x1\n\ncpu MHz\t\t: 2000.162\n\ncache size\t: 39424 KB\n\nphysical id\t: 0\n\nsiblings\t: 2\n\ncore id\t\t: 0\n\ncpu cores\t: 1\n\napicid\t\t: 1\n\ninitial apicid\t: 1\n\nfpu\t\t: yes\n\nfpu_exception\t: yes\n\ncpuid level\t: 13\n\nwp\t\t: yes\n\nflags\t\t: fpu vme de pse tsc msr pae mce cx8 apic sep mtrr pge mca cmov pat pse36 clflush mmx fxsr sse sse2 ss ht syscall nx pdpe1gb rdtscp lm constant_tsc rep_good nopl xtopology nonstop_tsc cpuid tsc_known_freq pni pclmulqdq ssse3 fma cx16 pcid sse4_1 sse4_2 x2apic movbe popcnt aes xsave avx f16c rdrand hypervisor lahf_lm abm 3dnowprefetch invpcid_single ssbd ibrs ibpb stibp fsgsbase tsc_adjust bmi1 hle avx2 smep bmi2 erms invpcid rtm mpx avx512f avx512dq rdseed adx smap clflushopt clwb avx512cd avx512bw avx512vl xsaveopt xsavec xgetbv1 xsaves arat md_clear arch_capabilities\n\nbugs\t\t: cpu_meltdown spectre_v1 spectre_v2 spec_store_bypass l1tf mds swapgs taa mmio_stale_data retbleed\n\nbogomips\t: 4000.32\n\nclflush size\t: 64\n\ncache_alignment\t: 64\n\naddress sizes\t: 46 bits physical, 48 bits virtual\n\npower management:\n\n\n"
        }
      ]
    },
    {
      "cell_type": "code",
      "source": [
        "# процессор\n",
        "!lscpu"
      ],
      "metadata": {
        "colab": {
          "base_uri": "https://localhost:8080/"
        },
        "id": "_q3ACTnJoMJU",
        "outputId": "c550ca94-d17d-4eb6-970a-277a3da18b5e"
      },
      "execution_count": null,
      "outputs": [
        {
          "output_type": "stream",
          "name": "stdout",
          "text": "Architecture:        x86_64\n\nCPU op-mode(s):      32-bit, 64-bit\n\nByte Order:          Little Endian\n\nCPU(s):              2\n\nOn-line CPU(s) list: 0,1\n\nThread(s) per core:  2\n\nCore(s) per socket:  1\n\nSocket(s):           1\n\nNUMA node(s):        1\n\nVendor ID:           GenuineIntel\n\nCPU family:          6\n\nModel:               85\n\nModel name:          Intel(R) Xeon(R) CPU @ 2.00GHz\n\nStepping:            3\n\nCPU MHz:             2000.162\n\nBogoMIPS:            4000.32\n\nHypervisor vendor:   KVM\n\nVirtualization type: full\n\nL1d cache:           32K\n\nL1i cache:           32K\n\nL2 cache:            1024K\n\nL3 cache:            39424K\n\nNUMA node0 CPU(s):   0,1\n\nFlags:               fpu vme de pse tsc msr pae mce cx8 apic sep mtrr pge mca cmov pat pse36 clflush mmx fxsr sse sse2 ss ht syscall nx pdpe1gb rdtscp lm constant_tsc rep_good nopl xtopology nonstop_tsc cpuid tsc_known_freq pni pclmulqdq ssse3 fma cx16 pcid sse4_1 sse4_2 x2apic movbe popcnt aes xsave avx f16c rdrand hypervisor lahf_lm abm 3dnowprefetch invpcid_single ssbd ibrs ibpb stibp fsgsbase tsc_adjust bmi1 hle avx2 smep bmi2 erms invpcid rtm mpx avx512f avx512dq rdseed adx smap clflushopt clwb avx512cd avx512bw avx512vl xsaveopt xsavec xgetbv1 xsaves arat md_clear arch_capabilities\n"
        }
      ]
    },
    {
      "cell_type": "code",
      "source": [
        "# оперативная память\n",
        "!grep MemTotal /proc/meminfo"
      ],
      "metadata": {
        "colab": {
          "base_uri": "https://localhost:8080/"
        },
        "id": "e_AQVQQaoVFR",
        "outputId": "72ba008a-138c-4d4d-ce93-2ea974aafd2f"
      },
      "execution_count": null,
      "outputs": [
        {
          "output_type": "stream",
          "name": "stdout",
          "text": "MemTotal:       13297228 kB\n"
        }
      ]
    },
    {
      "cell_type": "code",
      "source": [
        "# диск\n",
        "!df -h # human-readable"
      ],
      "metadata": {
        "colab": {
          "base_uri": "https://localhost:8080/"
        },
        "id": "58uYqrEBqrqj",
        "outputId": "e39b656a-5d3b-4890-a108-6103c0469cd5"
      },
      "execution_count": null,
      "outputs": [
        {
          "output_type": "stream",
          "name": "stdout",
          "text": "Filesystem      Size  Used Avail Use% Mounted on\n\noverlay          79G   23G   56G  29% /\n\ntmpfs            64M     0   64M   0% /dev\n\nshm             5.7G     0  5.7G   0% /dev/shm\n\n/dev/root       2.0G  1.1G  910M  54% /sbin/docker-init\n\ntmpfs           6.4G   48K  6.4G   1% /var/colab\n\n/dev/sda1        75G   41G   35G  55% /opt/bin/.nvidia\n\ntmpfs           6.4G     0  6.4G   0% /proc/acpi\n\ntmpfs           6.4G     0  6.4G   0% /proc/scsi\n\ntmpfs           6.4G     0  6.4G   0% /sys/firmware\n"
        }
      ]
    },
    {
      "cell_type": "code",
      "source": [
        "!du -h | sort -h"
      ],
      "metadata": {
        "id": "6AZaA5fOwXXC",
        "colab": {
          "base_uri": "https://localhost:8080/"
        },
        "outputId": "b3628b76-ab7a-4f7e-dbf0-0fd04c2ba592"
      },
      "execution_count": null,
      "outputs": [
        {
          "output_type": "stream",
          "name": "stdout",
          "text": "8.0K\t./.config/configurations\n\n72K\t./.config/logs/2022.11.23\n\n76K\t./.config/logs\n\n108K\t./.config\n\n55M\t.\n\n55M\t./sample_data\n"
        }
      ]
    },
    {
      "cell_type": "code",
      "source": [
        "# права в Google Colab\n",
        "!whoami"
      ],
      "metadata": {
        "colab": {
          "base_uri": "https://localhost:8080/"
        },
        "id": "gBYRJ67qqMJ2",
        "outputId": "3cd114f8-fbf5-45f5-ae21-d312a635a99a"
      },
      "execution_count": null,
      "outputs": [
        {
          "output_type": "stream",
          "name": "stdout",
          "text": "root\n"
        }
      ]
    },
    {
      "cell_type": "markdown",
      "source": [
        "# Библиотека Pytorch"
      ],
      "metadata": {
        "id": "xJef-8rXrMR2"
      }
    },
    {
      "cell_type": "markdown",
      "source": [
        "## Установка"
      ],
      "metadata": {
        "id": "mV8n8faxvOQO"
      }
    },
    {
      "cell_type": "markdown",
      "source": [
        "Ссылки для установки под ваше оборудование можно найти [тут](https://pytorch.org/get-started/locally/)."
      ],
      "metadata": {
        "id": "ZOyzr4Vp2vgZ"
      }
    },
    {
      "cell_type": "code",
      "source": [
        "import torch"
      ],
      "metadata": {
        "id": "b_dqa87wrRMu",
        "execution": {
          "iopub.status.busy": "2022-12-01T08:18:23.025424Z",
          "iopub.execute_input": "2022-12-01T08:18:23.025751Z",
          "iopub.status.idle": "2022-12-01T08:18:25.154689Z",
          "shell.execute_reply.started": "2022-12-01T08:18:23.025677Z",
          "shell.execute_reply": "2022-12-01T08:18:25.151777Z"
        },
        "trusted": true
      },
      "execution_count": null,
      "outputs": []
    },
    {
      "cell_type": "code",
      "source": [
        "torch.cuda.is_available()"
      ],
      "metadata": {
        "colab": {
          "base_uri": "https://localhost:8080/"
        },
        "id": "2vcNoQZ4zVJG",
        "outputId": "935bc059-5760-4993-a27f-97cf9241ab09",
        "execution": {
          "iopub.status.busy": "2022-12-01T08:18:58.155826Z",
          "iopub.execute_input": "2022-12-01T08:18:58.156345Z",
          "iopub.status.idle": "2022-12-01T08:18:58.245724Z",
          "shell.execute_reply.started": "2022-12-01T08:18:58.156295Z",
          "shell.execute_reply": "2022-12-01T08:18:58.244602Z"
        },
        "trusted": true
      },
      "execution_count": null,
      "outputs": [
        {
          "execution_count": 2,
          "output_type": "execute_result",
          "data": {
            "text/plain": "True"
          },
          "metadata": {}
        }
      ]
    },
    {
      "cell_type": "code",
      "source": [
        "!python --version"
      ],
      "metadata": {
        "colab": {
          "base_uri": "https://localhost:8080/"
        },
        "id": "Uvg_2P-5J4G6",
        "outputId": "31b94b0e-3df5-418f-80a9-5e0e7ab97015",
        "execution": {
          "iopub.status.busy": "2022-12-01T08:18:59.533808Z",
          "iopub.execute_input": "2022-12-01T08:18:59.534230Z",
          "iopub.status.idle": "2022-12-01T08:19:00.675779Z",
          "shell.execute_reply.started": "2022-12-01T08:18:59.534197Z",
          "shell.execute_reply": "2022-12-01T08:19:00.674604Z"
        },
        "trusted": true
      },
      "execution_count": null,
      "outputs": [
        {
          "name": "stdout",
          "text": "Python 3.7.12\n",
          "output_type": "stream"
        }
      ]
    },
    {
      "cell_type": "code",
      "source": [
        "!python -m pip list | grep torch"
      ],
      "metadata": {
        "colab": {
          "base_uri": "https://localhost:8080/"
        },
        "id": "Fs_NS9SKzZeH",
        "outputId": "d103e128-6ac5-43e7-9135-a7e72530b9f9"
      },
      "execution_count": null,
      "outputs": [
        {
          "output_type": "stream",
          "name": "stdout",
          "text": "torch                         1.12.1+cu113\n\ntorchaudio                    0.12.1+cu113\n\ntorchsummary                  1.5.1\n\ntorchtext                     0.13.1\n\ntorchvision                   0.13.1+cu113\n"
        }
      ]
    },
    {
      "cell_type": "markdown",
      "source": [
        "## Обзор возможностей и особенностей"
      ],
      "metadata": {
        "id": "W4qhspuX3zOE"
      }
    },
    {
      "cell_type": "markdown",
      "source": [
        "## Тензоры"
      ],
      "metadata": {
        "id": "mzgpHI4wuaPq"
      }
    },
    {
      "cell_type": "code",
      "source": [
        "a = torch.Tensor([1,2,3]) # = FloatTensor\n",
        "a"
      ],
      "metadata": {
        "colab": {
          "base_uri": "https://localhost:8080/"
        },
        "id": "gZ4nzBuys7an",
        "outputId": "7f782150-4d63-4188-9be0-f9f251951855"
      },
      "execution_count": null,
      "outputs": [
        {
          "output_type": "execute_result",
          "execution_count": 16,
          "data": {
            "text/plain": [
              "tensor([1., 2., 3.])"
            ]
          },
          "metadata": {}
        }
      ]
    },
    {
      "cell_type": "code",
      "source": [
        "b = torch.tensor([1,2,3])\n",
        "b"
      ],
      "metadata": {
        "colab": {
          "base_uri": "https://localhost:8080/"
        },
        "id": "JLpBNC4Ys-Eu",
        "outputId": "0e9de3f5-b584-4840-ed2e-88753764c285"
      },
      "execution_count": null,
      "outputs": [
        {
          "output_type": "execute_result",
          "execution_count": 17,
          "data": {
            "text/plain": [
              "tensor([1, 2, 3])"
            ]
          },
          "metadata": {}
        }
      ]
    },
    {
      "cell_type": "markdown",
      "source": [
        "Типы данных"
      ],
      "metadata": {
        "id": "tNynZQ_2uc8l"
      }
    },
    {
      "cell_type": "code",
      "source": [
        "a.dtype, b.dtype"
      ],
      "metadata": {
        "colab": {
          "base_uri": "https://localhost:8080/"
        },
        "id": "evWkp5s7tllG",
        "outputId": "f4e41b27-753f-4503-8c48-b93762469dae"
      },
      "execution_count": null,
      "outputs": [
        {
          "output_type": "execute_result",
          "execution_count": 18,
          "data": {
            "text/plain": [
              "(torch.float32, torch.int64)"
            ]
          },
          "metadata": {}
        }
      ]
    },
    {
      "cell_type": "markdown",
      "source": [
        "Перевод данных в другой тип"
      ],
      "metadata": {
        "id": "d-ZmOf4Eufk3"
      }
    },
    {
      "cell_type": "code",
      "source": [
        "c = b.float()\n",
        "\n",
        "print(c, c.dtype)\n",
        "\n",
        "print(c.int(), c.int().dtype)\n",
        "print(c.long(), c.long().dtype)\n",
        "print(c.double(), c.double().dtype)"
      ],
      "metadata": {
        "colab": {
          "base_uri": "https://localhost:8080/"
        },
        "id": "KqTujW0xto6G",
        "outputId": "00911c59-b7f3-4d74-87cb-be222ad221e2"
      },
      "execution_count": null,
      "outputs": [
        {
          "output_type": "stream",
          "name": "stdout",
          "text": "tensor([1., 2., 3.]) torch.float32\n\ntensor([1, 2, 3], dtype=torch.int32) torch.int32\n\ntensor([1, 2, 3]) torch.int64\n\ntensor([1., 2., 3.], dtype=torch.float64) torch.float64\n"
        }
      ]
    },
    {
      "cell_type": "code",
      "source": [
        "x = torch.rand(2, 3)\n",
        "print(x) \n",
        "print(x.device)\n",
        "print(x.dtype)"
      ],
      "metadata": {
        "colab": {
          "base_uri": "https://localhost:8080/"
        },
        "id": "KCHM15UEtRY0",
        "outputId": "a628512d-8783-430d-edb4-14282077b3eb"
      },
      "execution_count": null,
      "outputs": [
        {
          "output_type": "stream",
          "name": "stdout",
          "text": "tensor([[0.2027, 0.1924, 0.0747],\n\n        [0.8738, 0.9038, 0.6521]])\n\ncpu\n\ntorch.float32\n"
        }
      ]
    },
    {
      "cell_type": "markdown",
      "source": [
        "## Воспроизводимость результатов"
      ],
      "metadata": {
        "id": "Am-la7kqCDEl"
      }
    },
    {
      "cell_type": "code",
      "source": [
        "# для воспроизводимости результатов\n",
        "# не изменяйте и не удаляйте этот код\n",
        "from numpy.random import seed\n",
        "import random\n",
        "\n",
        "random.seed(0)\n",
        "seed(0)\n",
        "torch.manual_seed(0)"
      ],
      "metadata": {
        "id": "DT_4H6vQuWuk",
        "colab": {
          "base_uri": "https://localhost:8080/"
        },
        "outputId": "242a8651-e440-45d9-b9eb-013425176c39",
        "execution": {
          "iopub.status.busy": "2022-12-01T08:19:37.702044Z",
          "iopub.execute_input": "2022-12-01T08:19:37.702445Z",
          "iopub.status.idle": "2022-12-01T08:19:37.714493Z",
          "shell.execute_reply.started": "2022-12-01T08:19:37.702411Z",
          "shell.execute_reply": "2022-12-01T08:19:37.713109Z"
        },
        "trusted": true
      },
      "execution_count": null,
      "outputs": [
        {
          "execution_count": 4,
          "output_type": "execute_result",
          "data": {
            "text/plain": "<torch._C.Generator at 0x7ff67cd0da50>"
          },
          "metadata": {}
        }
      ]
    },
    {
      "cell_type": "code",
      "source": [
        "!pip install pytorch-lightning -qqq"
      ],
      "metadata": {
        "id": "FqnA3ZPhkGul",
        "colab": {
          "base_uri": "https://localhost:8080/"
        },
        "outputId": "c21e4c7f-8f1e-478f-ac21-abaddace32ea"
      },
      "execution_count": null,
      "outputs": [
        {
          "output_type": "stream",
          "name": "stdout",
          "text": "\u001b[K     |████████████████████████████████| 798 kB 31.3 MB/s \n\n\u001b[K     |████████████████████████████████| 512 kB 72.8 MB/s \n\n\u001b[K     |████████████████████████████████| 125 kB 75.0 MB/s \n\n\u001b[K     |████████████████████████████████| 87 kB 5.8 MB/s \n\n\u001b[?25h  Building wheel for fire (setup.py) ... \u001b[?25l\u001b[?25hdone\n"
        }
      ]
    },
    {
      "cell_type": "code",
      "source": [
        "import pytorch_lightning as pl"
      ],
      "metadata": {
        "id": "M2C8FkatkN7D",
        "execution": {
          "iopub.status.busy": "2022-12-01T08:20:03.274688Z",
          "iopub.execute_input": "2022-12-01T08:20:03.275063Z",
          "iopub.status.idle": "2022-12-01T08:20:03.280012Z",
          "shell.execute_reply.started": "2022-12-01T08:20:03.275033Z",
          "shell.execute_reply": "2022-12-01T08:20:03.278771Z"
        },
        "trusted": true
      },
      "execution_count": null,
      "outputs": []
    },
    {
      "cell_type": "code",
      "source": [
        "from pytorch_lightning import seed_everything"
      ],
      "metadata": {
        "id": "lLO_HB6ukaKg",
        "execution": {
          "iopub.status.busy": "2022-12-01T08:19:43.390599Z",
          "iopub.execute_input": "2022-12-01T08:19:43.391013Z",
          "iopub.status.idle": "2022-12-01T08:19:45.938714Z",
          "shell.execute_reply.started": "2022-12-01T08:19:43.390980Z",
          "shell.execute_reply": "2022-12-01T08:19:45.937593Z"
        },
        "trusted": true
      },
      "execution_count": null,
      "outputs": []
    },
    {
      "cell_type": "markdown",
      "source": [
        "Function that sets seed for pseudo-random number generators in: pytorch, numpy, python.random"
      ],
      "metadata": {
        "id": "_fRUnIZCkvhx"
      }
    },
    {
      "cell_type": "code",
      "source": [
        "seed_everything(0, workers=True)                "
      ],
      "metadata": {
        "colab": {
          "base_uri": "https://localhost:8080/"
        },
        "id": "LGhazHGdkhir",
        "outputId": "43cb4e6a-1f91-493f-f723-d55fc6773127",
        "execution": {
          "iopub.status.busy": "2022-12-01T08:19:48.454697Z",
          "iopub.execute_input": "2022-12-01T08:19:48.455542Z",
          "iopub.status.idle": "2022-12-01T08:19:48.467245Z",
          "shell.execute_reply.started": "2022-12-01T08:19:48.455508Z",
          "shell.execute_reply": "2022-12-01T08:19:48.465932Z"
        },
        "trusted": true
      },
      "execution_count": null,
      "outputs": [
        {
          "execution_count": 6,
          "output_type": "execute_result",
          "data": {
            "text/plain": "0"
          },
          "metadata": {}
        }
      ]
    },
    {
      "cell_type": "markdown",
      "source": [
        "Подробнее можно прочитать [тут](https://pytorch.org/docs/stable/notes/randomness.html)."
      ],
      "metadata": {
        "id": "P8TfCik9DFMf"
      }
    },
    {
      "cell_type": "markdown",
      "source": [
        "## CUDA"
      ],
      "metadata": {
        "id": "eKr7PQlLke2o"
      }
    },
    {
      "cell_type": "code",
      "source": [
        "# проверка доступности видеокарты, выбор устройства CPU или GPU\n",
        "device = torch.device('cuda' if torch.cuda.is_available() else 'cpu')\n",
        "device"
      ],
      "metadata": {
        "colab": {
          "base_uri": "https://localhost:8080/"
        },
        "id": "es3dbo7murKO",
        "outputId": "7aebcb3d-1f17-450c-aefb-4f44908037b3",
        "execution": {
          "iopub.status.busy": "2022-12-01T08:20:08.388651Z",
          "iopub.execute_input": "2022-12-01T08:20:08.389078Z",
          "iopub.status.idle": "2022-12-01T08:20:08.402050Z",
          "shell.execute_reply.started": "2022-12-01T08:20:08.389045Z",
          "shell.execute_reply": "2022-12-01T08:20:08.400893Z"
        },
        "trusted": true
      },
      "execution_count": null,
      "outputs": [
        {
          "execution_count": 8,
          "output_type": "execute_result",
          "data": {
            "text/plain": "device(type='cuda')"
          },
          "metadata": {}
        }
      ]
    },
    {
      "cell_type": "markdown",
      "source": [
        "Данные нужно вручную переносить в видеопамять -- метод cuda. Перенос в оперативную память -- cpu. Альтернатива -- использование метода `.to(device)`. По умолчанию данные на cpu."
      ],
      "metadata": {
        "id": "3fTPaJAaC25o"
      }
    },
    {
      "cell_type": "code",
      "source": [
        "d = c.to(device)"
      ],
      "metadata": {
        "id": "t05HLcTEur0L"
      },
      "execution_count": null,
      "outputs": []
    },
    {
      "cell_type": "code",
      "source": [
        "import torch"
      ],
      "metadata": {
        "id": "9UXt23O4mx54"
      },
      "execution_count": null,
      "outputs": []
    },
    {
      "cell_type": "code",
      "source": [
        "torch.cuda.get_device_properties(0)"
      ],
      "metadata": {
        "colab": {
          "base_uri": "https://localhost:8080/"
        },
        "id": "Y2VjYSXykhKp",
        "outputId": "e4ae393a-2022-41c7-899d-93d68b64d649"
      },
      "execution_count": null,
      "outputs": [
        {
          "output_type": "execute_result",
          "execution_count": 29,
          "data": {
            "text/plain": [
              "_CudaDeviceProperties(name='Tesla T4', major=7, minor=5, total_memory=15109MB, multi_processor_count=40)"
            ]
          },
          "metadata": {}
        }
      ]
    },
    {
      "cell_type": "code",
      "source": [
        "!nvidia-smi"
      ],
      "metadata": {
        "colab": {
          "base_uri": "https://localhost:8080/"
        },
        "id": "znSVINf1oN9s",
        "outputId": "cecdd0e3-12d5-49f5-8fb7-e66940c0e2a0"
      },
      "execution_count": null,
      "outputs": [
        {
          "output_type": "stream",
          "name": "stdout",
          "text": "Thu Dec  1 07:24:09 2022       \n\n+-----------------------------------------------------------------------------+\n\n| NVIDIA-SMI 460.32.03    Driver Version: 460.32.03    CUDA Version: 11.2     |\n\n|-------------------------------+----------------------+----------------------+\n\n| GPU  Name        Persistence-M| Bus-Id        Disp.A | Volatile Uncorr. ECC |\n\n| Fan  Temp  Perf  Pwr:Usage/Cap|         Memory-Usage | GPU-Util  Compute M. |\n\n|                               |                      |               MIG M. |\n\n|===============================+======================+======================|\n\n|   0  Tesla T4            Off  | 00000000:00:04.0 Off |                    0 |\n\n| N/A   55C    P0    28W /  70W |    612MiB / 15109MiB |      2%      Default |\n\n|                               |                      |                  N/A |\n\n+-------------------------------+----------------------+----------------------+\n\n                                                                               \n\n+-----------------------------------------------------------------------------+\n\n| Processes:                                                                  |\n\n|  GPU   GI   CI        PID   Type   Process name                  GPU Memory |\n\n|        ID   ID                                                   Usage      |\n\n|=============================================================================|\n\n+-----------------------------------------------------------------------------+\n"
        }
      ]
    },
    {
      "cell_type": "code",
      "source": [
        "def allocate_empty_tensor(dim_size):\n",
        "  a=torch.zeros(4096,dim_size,dtype=torch.float32,device='cuda')"
      ],
      "metadata": {
        "id": "BWsfUTi0oQnG"
      },
      "execution_count": null,
      "outputs": []
    },
    {
      "cell_type": "code",
      "source": [
        "allocate_empty_tensor(2048)"
      ],
      "metadata": {
        "id": "pvUBeD9-phd2"
      },
      "execution_count": null,
      "outputs": []
    },
    {
      "cell_type": "code",
      "source": [
        "torch.cuda.memory_allocated()"
      ],
      "metadata": {
        "colab": {
          "base_uri": "https://localhost:8080/"
        },
        "id": "qpJLSkedpdVK",
        "outputId": "fdb58d2b-706a-4301-d39a-698f31c9ae0e"
      },
      "execution_count": null,
      "outputs": [
        {
          "output_type": "execute_result",
          "execution_count": 33,
          "data": {
            "text/plain": [
              "512"
            ]
          },
          "metadata": {}
        }
      ]
    },
    {
      "cell_type": "code",
      "source": [
        "torch.cuda.memory_reserved()"
      ],
      "metadata": {
        "colab": {
          "base_uri": "https://localhost:8080/"
        },
        "id": "PNbeLhzbp8Ch",
        "outputId": "7fa6714b-ef48-4ec7-9a8f-5c0f847cb77e"
      },
      "execution_count": null,
      "outputs": [
        {
          "output_type": "execute_result",
          "execution_count": 34,
          "data": {
            "text/plain": [
              "35651584"
            ]
          },
          "metadata": {}
        }
      ]
    },
    {
      "cell_type": "code",
      "source": [
        "!nvidia-smi"
      ],
      "metadata": {
        "colab": {
          "base_uri": "https://localhost:8080/"
        },
        "id": "mN8IHOIcplaL",
        "outputId": "57d55bfb-cfa2-4a39-fcb2-9e8d2098d963"
      },
      "execution_count": null,
      "outputs": [
        {
          "output_type": "stream",
          "name": "stdout",
          "text": "Thu Dec  1 07:24:09 2022       \n\n+-----------------------------------------------------------------------------+\n\n| NVIDIA-SMI 460.32.03    Driver Version: 460.32.03    CUDA Version: 11.2     |\n\n|-------------------------------+----------------------+----------------------+\n\n| GPU  Name        Persistence-M| Bus-Id        Disp.A | Volatile Uncorr. ECC |\n\n| Fan  Temp  Perf  Pwr:Usage/Cap|         Memory-Usage | GPU-Util  Compute M. |\n\n|                               |                      |               MIG M. |\n\n|===============================+======================+======================|\n\n|   0  Tesla T4            Off  | 00000000:00:04.0 Off |                    0 |\n\n| N/A   55C    P0    28W /  70W |    644MiB / 15109MiB |      0%      Default |\n\n|                               |                      |                  N/A |\n\n+-------------------------------+----------------------+----------------------+\n\n                                                                               \n\n+-----------------------------------------------------------------------------+\n\n| Processes:                                                                  |\n\n|  GPU   GI   CI        PID   Type   Process name                  GPU Memory |\n\n|        ID   ID                                                   Usage      |\n\n|=============================================================================|\n\n+-----------------------------------------------------------------------------+\n"
        }
      ]
    },
    {
      "cell_type": "code",
      "source": [
        "allocate_empty_tensor(3072)"
      ],
      "metadata": {
        "id": "3yNsBe_Apxlv"
      },
      "execution_count": null,
      "outputs": []
    },
    {
      "cell_type": "code",
      "source": [
        "torch.cuda.memory_reserved()"
      ],
      "metadata": {
        "colab": {
          "base_uri": "https://localhost:8080/"
        },
        "id": "Gbj8FG_GqFUG",
        "outputId": "4488e12f-db12-4394-ae80-e5e2c2bf24ee"
      },
      "execution_count": null,
      "outputs": [
        {
          "output_type": "execute_result",
          "execution_count": 37,
          "data": {
            "text/plain": [
              "85983232"
            ]
          },
          "metadata": {}
        }
      ]
    },
    {
      "cell_type": "code",
      "source": [
        "!nvidia-smi"
      ],
      "metadata": {
        "colab": {
          "base_uri": "https://localhost:8080/"
        },
        "id": "99PZakMWp3ZR",
        "outputId": "4ffaa148-d943-4830-f613-232e3ba57478"
      },
      "execution_count": null,
      "outputs": [
        {
          "output_type": "stream",
          "name": "stdout",
          "text": "Thu Dec  1 07:24:09 2022       \n\n+-----------------------------------------------------------------------------+\n\n| NVIDIA-SMI 460.32.03    Driver Version: 460.32.03    CUDA Version: 11.2     |\n\n|-------------------------------+----------------------+----------------------+\n\n| GPU  Name        Persistence-M| Bus-Id        Disp.A | Volatile Uncorr. ECC |\n\n| Fan  Temp  Perf  Pwr:Usage/Cap|         Memory-Usage | GPU-Util  Compute M. |\n\n|                               |                      |               MIG M. |\n\n|===============================+======================+======================|\n\n|   0  Tesla T4            Off  | 00000000:00:04.0 Off |                    0 |\n\n| N/A   55C    P0    28W /  70W |    692MiB / 15109MiB |      0%      Default |\n\n|                               |                      |                  N/A |\n\n+-------------------------------+----------------------+----------------------+\n\n                                                                               \n\n+-----------------------------------------------------------------------------+\n\n| Processes:                                                                  |\n\n|  GPU   GI   CI        PID   Type   Process name                  GPU Memory |\n\n|        ID   ID                                                   Usage      |\n\n|=============================================================================|\n\n+-----------------------------------------------------------------------------+\n"
        }
      ]
    },
    {
      "cell_type": "code",
      "source": [
        "torch.cuda.empty_cache()\n",
        "torch.cuda.memory_reserved()"
      ],
      "metadata": {
        "colab": {
          "base_uri": "https://localhost:8080/"
        },
        "id": "hIAzc2PFqLRj",
        "outputId": "867d3223-1985-4c69-be1f-21178204ac3c"
      },
      "execution_count": null,
      "outputs": [
        {
          "output_type": "execute_result",
          "execution_count": 39,
          "data": {
            "text/plain": [
              "2097152"
            ]
          },
          "metadata": {}
        }
      ]
    },
    {
      "cell_type": "code",
      "source": [
        "!nvidia-smi"
      ],
      "metadata": {
        "colab": {
          "base_uri": "https://localhost:8080/"
        },
        "id": "LlhvCLl0qNil",
        "outputId": "b1ca94db-9ff7-469a-e2f6-5720fb8caeae"
      },
      "execution_count": null,
      "outputs": [
        {
          "output_type": "stream",
          "name": "stdout",
          "text": "Thu Dec  1 07:24:09 2022       \n\n+-----------------------------------------------------------------------------+\n\n| NVIDIA-SMI 460.32.03    Driver Version: 460.32.03    CUDA Version: 11.2     |\n\n|-------------------------------+----------------------+----------------------+\n\n| GPU  Name        Persistence-M| Bus-Id        Disp.A | Volatile Uncorr. ECC |\n\n| Fan  Temp  Perf  Pwr:Usage/Cap|         Memory-Usage | GPU-Util  Compute M. |\n\n|                               |                      |               MIG M. |\n\n|===============================+======================+======================|\n\n|   0  Tesla T4            Off  | 00000000:00:04.0 Off |                    0 |\n\n| N/A   55C    P0    28W /  70W |    612MiB / 15109MiB |      2%      Default |\n\n|                               |                      |                  N/A |\n\n+-------------------------------+----------------------+----------------------+\n\n                                                                               \n\n+-----------------------------------------------------------------------------+\n\n| Processes:                                                                  |\n\n|  GPU   GI   CI        PID   Type   Process name                  GPU Memory |\n\n|        ID   ID                                                   Usage      |\n\n|=============================================================================|\n\n+-----------------------------------------------------------------------------+\n"
        }
      ]
    },
    {
      "cell_type": "code",
      "source": [
        "allocate_empty_tensor(600000)\n",
        "torch.cuda.memory_reserved()"
      ],
      "metadata": {
        "colab": {
          "base_uri": "https://localhost:8080/"
        },
        "id": "AmgQgvNKrBt5",
        "outputId": "ae00f3d1-b470-4034-fd6e-48cf7424793d"
      },
      "execution_count": null,
      "outputs": [
        {
          "output_type": "execute_result",
          "execution_count": 41,
          "data": {
            "text/plain": [
              "9833545728"
            ]
          },
          "metadata": {}
        }
      ]
    },
    {
      "cell_type": "code",
      "source": [
        "!nvidia-smi"
      ],
      "metadata": {
        "colab": {
          "base_uri": "https://localhost:8080/"
        },
        "id": "cfm2AonAiHN1",
        "outputId": "21c5a498-6ab9-4283-be99-fb293cbdbd20"
      },
      "execution_count": null,
      "outputs": [
        {
          "output_type": "stream",
          "name": "stdout",
          "text": "Thu Dec  1 07:24:09 2022       \n\n+-----------------------------------------------------------------------------+\n\n| NVIDIA-SMI 460.32.03    Driver Version: 460.32.03    CUDA Version: 11.2     |\n\n|-------------------------------+----------------------+----------------------+\n\n| GPU  Name        Persistence-M| Bus-Id        Disp.A | Volatile Uncorr. ECC |\n\n| Fan  Temp  Perf  Pwr:Usage/Cap|         Memory-Usage | GPU-Util  Compute M. |\n\n|                               |                      |               MIG M. |\n\n|===============================+======================+======================|\n\n|   0  Tesla T4            Off  | 00000000:00:04.0 Off |                    0 |\n\n| N/A   55C    P0    28W /  70W |   9988MiB / 15109MiB |      2%      Default |\n\n|                               |                      |                  N/A |\n\n+-------------------------------+----------------------+----------------------+\n\n                                                                               \n\n+-----------------------------------------------------------------------------+\n\n| Processes:                                                                  |\n\n|  GPU   GI   CI        PID   Type   Process name                  GPU Memory |\n\n|        ID   ID                                                   Usage      |\n\n|=============================================================================|\n\n+-----------------------------------------------------------------------------+\n"
        }
      ]
    },
    {
      "cell_type": "code",
      "source": [
        "torch.cuda.empty_cache()\n",
        "torch.cuda.memory_reserved()"
      ],
      "metadata": {
        "colab": {
          "base_uri": "https://localhost:8080/"
        },
        "id": "K39chcf6jYWz",
        "outputId": "1843ccd4-273a-4c05-a217-fc2725d5bf8a"
      },
      "execution_count": null,
      "outputs": [
        {
          "output_type": "execute_result",
          "execution_count": 43,
          "data": {
            "text/plain": [
              "2097152"
            ]
          },
          "metadata": {}
        }
      ]
    },
    {
      "cell_type": "markdown",
      "source": [
        "## Точность"
      ],
      "metadata": {
        "id": "mleBdxygtTPs"
      }
    },
    {
      "cell_type": "code",
      "source": [
        "torch.manual_seed(1337)\n",
        "x = torch.randn(5000, 5000)\n",
        "\n",
        "def matrix_power(x):\n",
        "  y = x @ x @ x @ x @ x @ x\n",
        "  return (y).sum().item()\n",
        "\n",
        "print(matrix_power(x))\n",
        "print(matrix_power(x.cuda()))"
      ],
      "metadata": {
        "colab": {
          "base_uri": "https://localhost:8080/"
        },
        "id": "DjHSkmVCtVy9",
        "outputId": "c29a0307-5d89-4f7f-92e9-62d590ce3bb7"
      },
      "execution_count": null,
      "outputs": [
        {
          "output_type": "stream",
          "name": "stdout",
          "text": "27654770130944.0\n\n27654807879680.0\n"
        }
      ]
    },
    {
      "cell_type": "code",
      "source": [
        "import numpy as np"
      ],
      "metadata": {
        "id": "q9ysQ7Ec9YLh"
      },
      "execution_count": null,
      "outputs": []
    },
    {
      "cell_type": "code",
      "source": [
        "print(matrix_power(x.numpy()))\n",
        "np.linalg.matrix_power(x.numpy(),6).sum()"
      ],
      "metadata": {
        "id": "Beplf35tnJ5x",
        "colab": {
          "base_uri": "https://localhost:8080/"
        },
        "outputId": "1f7be297-701a-4648-c2b9-0a99691a8390"
      },
      "execution_count": null,
      "outputs": [
        {
          "output_type": "stream",
          "name": "stdout",
          "text": "27654749159424.0\n"
        },
        {
          "output_type": "execute_result",
          "execution_count": 46,
          "data": {
            "text/plain": [
              "27654760000000.0"
            ]
          },
          "metadata": {}
        }
      ]
    },
    {
      "cell_type": "markdown",
      "source": [
        "Takeaway: numerical precision of floating point computations can vary between libraries, environments and devices, and from the user side, it is often hard to resolve this issue altogether. Usually, this happens due to a different summation order in code or due to inherent nondeterminism of hardware.\n",
        "\n",
        "However, note that the relative error is small enough, which makes such blatant discrepancies less of a problem in regular deep learning code.\n"
      ],
      "metadata": {
        "id": "Dc1_1MmXnNTP"
      }
    },
    {
      "cell_type": "markdown",
      "source": [
        "## Нейроны и линейные слои"
      ],
      "metadata": {
        "id": "64d_Ywznwgbn"
      }
    },
    {
      "cell_type": "markdown",
      "source": [
        "![alt text](https://drive.google.com/uc?export=view&id=1k96ch-5lAGYrfBk4xgoty93xy-GP2bhr)\n"
      ],
      "metadata": {
        "id": "-OBSxEORsEMG"
      }
    },
    {
      "cell_type": "markdown",
      "source": [
        "![alt text](https://drive.google.com/uc?export=view&id=1ORawq1pZJ7a2z7vUD2PPyLELkOHoAB51)"
      ],
      "metadata": {
        "id": "4kiuzSRBQAte"
      }
    },
    {
      "cell_type": "markdown",
      "source": [
        "![изображение.png](data:image/png;base64,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)"
      ],
      "metadata": {
        "id": "TEFP_hPO5MO5"
      }
    },
    {
      "cell_type": "markdown",
      "source": [
        "![изображение.png](data:image/png;base64,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)"
      ],
      "metadata": {
        "id": "_gZo-8fW3PLu"
      }
    },
    {
      "cell_type": "code",
      "source": [
        "batch_size = 2 # Количество покупателей\n",
        "w = 4          # Количество существующих товаров\n",
        "m = 3          # Количество существующих магазинов\n",
        "\n",
        "# Матрица покупателей\n",
        "X = torch.rand(batch_size, w)\n",
        "\n",
        "# Матрица цен в магазине\n",
        "W = torch.rand(m,w)\n",
        "\n",
        "# Цена за топливо\n",
        "b = torch.rand(m)\n",
        "\n",
        "print(X.shape, W.shape, b.shape)\n",
        "\n",
        "print(X)\n",
        "\n",
        "answer = X @ W.T + b\n",
        "answer.shape"
      ],
      "metadata": {
        "colab": {
          "base_uri": "https://localhost:8080/"
        },
        "id": "nSl2PWA9JUpE",
        "outputId": "08650aae-656d-447f-a271-0f922bfc8a94"
      },
      "execution_count": null,
      "outputs": [
        {
          "output_type": "stream",
          "name": "stdout",
          "text": "torch.Size([2, 4]) torch.Size([3, 4]) torch.Size([3])\n\ntensor([[0.5997, 0.7686, 0.8438, 0.6866],\n\n        [0.9745, 0.5593, 0.4227, 0.4468]])\n"
        },
        {
          "output_type": "execute_result",
          "execution_count": 47,
          "data": {
            "text/plain": [
              "torch.Size([2, 3])"
            ]
          },
          "metadata": {}
        }
      ]
    },
    {
      "cell_type": "code",
      "source": [
        "linear = torch.nn.Linear(4, 3)\n",
        "out = linear(X)\n",
        "out.shape"
      ],
      "metadata": {
        "colab": {
          "base_uri": "https://localhost:8080/"
        },
        "id": "fI3aho-92ik5",
        "outputId": "bf1a6726-23d0-4efc-fc1f-ec63b6025e1c"
      },
      "execution_count": null,
      "outputs": [
        {
          "output_type": "execute_result",
          "execution_count": 48,
          "data": {
            "text/plain": [
              "torch.Size([2, 3])"
            ]
          },
          "metadata": {}
        }
      ]
    },
    {
      "cell_type": "code",
      "source": [
        "linear.weight.data.shape"
      ],
      "metadata": {
        "colab": {
          "base_uri": "https://localhost:8080/"
        },
        "id": "c4xuSW9EuxAx",
        "outputId": "2a8234f3-82dd-4102-e692-5add4438ef44"
      },
      "execution_count": null,
      "outputs": [
        {
          "output_type": "execute_result",
          "execution_count": 49,
          "data": {
            "text/plain": [
              "torch.Size([3, 4])"
            ]
          },
          "metadata": {}
        }
      ]
    },
    {
      "cell_type": "markdown",
      "source": [
        "### Встроенные слои"
      ],
      "metadata": {
        "id": "YS4WszpAvJl4"
      }
    },
    {
      "cell_type": "code",
      "source": [
        "from torch import nn # модуль с базовыми слоями\n",
        "import torch.nn.functional as F # модуль с базовыми функциями"
      ],
      "metadata": {
        "id": "N5BaifEM4rVz"
      },
      "execution_count": null,
      "outputs": []
    },
    {
      "cell_type": "code",
      "source": [
        "dir(nn)[:10]"
      ],
      "metadata": {
        "colab": {
          "base_uri": "https://localhost:8080/"
        },
        "id": "UCzQK0As5BQM",
        "outputId": "6f6b050c-7c91-449b-873c-c00f6a6905ba"
      },
      "execution_count": null,
      "outputs": [
        {
          "output_type": "execute_result",
          "execution_count": 51,
          "data": {
            "text/plain": [
              "['AdaptiveAvgPool1d',\n",
              " 'AdaptiveAvgPool2d',\n",
              " 'AdaptiveAvgPool3d',\n",
              " 'AdaptiveLogSoftmaxWithLoss',\n",
              " 'AdaptiveMaxPool1d',\n",
              " 'AdaptiveMaxPool2d',\n",
              " 'AdaptiveMaxPool3d',\n",
              " 'AlphaDropout',\n",
              " 'AvgPool1d',\n",
              " 'AvgPool2d']"
            ]
          },
          "metadata": {}
        }
      ]
    },
    {
      "cell_type": "markdown",
      "source": [
        "Два способа создания нейросети:\n",
        "  1. на основе готового класса `nn.Sequential` объединяющего отдельные слои\n",
        "    - данные передаются по сети в том порядке, в каком объявлены слои\n",
        "    - функции активации задаются как отдельные слои\n",
        "  2. свой класс для нейросети, на основе `nn.Module`\n",
        "    - порядок передачи данных можно менять во время обучения, переопределив forward - динамический граф вычислений\n",
        "\n",
        "Первый способ стоит использовать только как контейнер для ряда слоев. Неросеть нужно наследовать от `nn.Module`.\n"
      ],
      "metadata": {
        "id": "34ox66u1jNBG"
      }
    },
    {
      "cell_type": "code",
      "source": [
        "net_seq = nn.Sequential(\n",
        "    nn.Linear(in_features=3, out_features=5),\n",
        "    nn.Sigmoid(),\n",
        "    nn.Linear(in_features=5, out_features=2),                                                            \n",
        ")\n",
        "net_seq.to(device)\n",
        "net_seq"
      ],
      "metadata": {
        "id": "H17RdEIv7aOT",
        "colab": {
          "base_uri": "https://localhost:8080/"
        },
        "outputId": "98c6ae08-ad0d-4ab1-e498-0b85889e3dc7"
      },
      "execution_count": null,
      "outputs": [
        {
          "output_type": "execute_result",
          "execution_count": 52,
          "data": {
            "text/plain": [
              "Sequential(\n",
              "  (0): Linear(in_features=3, out_features=5, bias=True)\n",
              "  (1): Sigmoid()\n",
              "  (2): Linear(in_features=5, out_features=2, bias=True)\n",
              ")"
            ]
          },
          "metadata": {}
        }
      ]
    },
    {
      "cell_type": "code",
      "source": [
        "# net_seq(x.to(device))\n",
        "x = torch.rand(10, 3)\n",
        "print(x.shape)\n",
        "net_seq(x.to(device))"
      ],
      "metadata": {
        "id": "v2xerVJ983e_",
        "colab": {
          "base_uri": "https://localhost:8080/"
        },
        "outputId": "af27dd85-d0dd-4c52-8145-aaf9ee174562"
      },
      "execution_count": null,
      "outputs": [
        {
          "output_type": "stream",
          "name": "stdout",
          "text": "torch.Size([10, 3])\n"
        },
        {
          "output_type": "execute_result",
          "execution_count": 53,
          "data": {
            "text/plain": [
              "tensor([[-0.3486,  0.1858],\n",
              "        [-0.3352,  0.1524],\n",
              "        [-0.3191,  0.1074],\n",
              "        [-0.3382,  0.1596],\n",
              "        [-0.3360,  0.1497],\n",
              "        [-0.3250,  0.1284],\n",
              "        [-0.3360,  0.1538],\n",
              "        [-0.3399,  0.1630],\n",
              "        [-0.3276,  0.1330],\n",
              "        [-0.2975,  0.0608]], device='cuda:0', grad_fn=<AddmmBackward0>)"
            ]
          },
          "metadata": {}
        }
      ]
    },
    {
      "cell_type": "code",
      "source": [
        "class Model(nn.Module):\n",
        "    def __init__(self):\n",
        "        super().__init__()\n",
        "        self.fc1 = nn.Linear(in_features=3, out_features=5)\n",
        "        self.fc2 = nn.Linear(in_features=5, out_features=2)\n",
        "\n",
        "    def forward(self, x):\n",
        "        x = self.fc1(x)\n",
        "        return F.sigmoid(self.fc2(x))"
      ],
      "metadata": {
        "id": "Xt4BPLs3-7DT"
      },
      "execution_count": null,
      "outputs": []
    },
    {
      "cell_type": "code",
      "source": [
        "net_model = Model()\n",
        "net_model.to(device)\n",
        "net_model"
      ],
      "metadata": {
        "id": "n7csNM12_UYG",
        "colab": {
          "base_uri": "https://localhost:8080/"
        },
        "outputId": "fbf446d6-0097-4378-ce74-73d0f000516b"
      },
      "execution_count": null,
      "outputs": [
        {
          "output_type": "execute_result",
          "execution_count": 55,
          "data": {
            "text/plain": [
              "Model(\n",
              "  (fc1): Linear(in_features=3, out_features=5, bias=True)\n",
              "  (fc2): Linear(in_features=5, out_features=2, bias=True)\n",
              ")"
            ]
          },
          "metadata": {}
        }
      ]
    },
    {
      "cell_type": "code",
      "source": [
        "net_model(x.to(device))"
      ],
      "metadata": {
        "colab": {
          "base_uri": "https://localhost:8080/"
        },
        "id": "1TMvJgp7101K",
        "outputId": "1d62b633-32a4-4c39-c56b-80795bba4420"
      },
      "execution_count": null,
      "outputs": [
        {
          "output_type": "stream",
          "name": "stderr",
          "text": "/usr/local/lib/python3.8/dist-packages/torch/nn/functional.py:1960: UserWarning: nn.functional.sigmoid is deprecated. Use torch.sigmoid instead.\n\n  warnings.warn(\"nn.functional.sigmoid is deprecated. Use torch.sigmoid instead.\")\n"
        },
        {
          "output_type": "execute_result",
          "execution_count": 56,
          "data": {
            "text/plain": [
              "tensor([[0.3925, 0.6320],\n",
              "        [0.4133, 0.6557],\n",
              "        [0.3664, 0.6167],\n",
              "        [0.3909, 0.6431],\n",
              "        [0.3635, 0.6133],\n",
              "        [0.4030, 0.6653],\n",
              "        [0.3920, 0.6437],\n",
              "        [0.4046, 0.6417],\n",
              "        [0.4209, 0.6634],\n",
              "        [0.3932, 0.6557]], device='cuda:0', grad_fn=<SigmoidBackward0>)"
            ]
          },
          "metadata": {}
        }
      ]
    },
    {
      "cell_type": "markdown",
      "source": [
        "### **Задача 1**. Посчитайте количество обучаемых параметров в сети net_seq и net_model."
      ],
      "metadata": {
        "id": "7bIrvcYJ_5jK"
      }
    },
    {
      "cell_type": "markdown",
      "source": [
        "Обе модели имеют одинаковую логическую структуру сети. Сеть состоит из:  \n",
        "1-ый слой из 5-ти нейронов. Каждый нейрон содержит 3 входных веса и смещение. Итого (3 + 1) * 5 = 20 параметров.  \n",
        "2-ой слой из 2-х нейронов. Каждый нейрон содержит 5 входных весов и смещение. Итого (5 + 1) * 2 = 12 параметров.  \n",
        "Всего 20 + 12 = 32 параметра."
      ],
      "metadata": {
        "id": "daqH-Jlw32y0"
      }
    },
    {
      "cell_type": "code",
      "source": [
        "# Проверка:\n",
        "\n",
        "count = 0\n",
        "for param in net_model.parameters():\n",
        "  count += param.data.numel()\n",
        "print(count)"
      ],
      "metadata": {
        "id": "V_yJTNuxwIcl",
        "colab": {
          "base_uri": "https://localhost:8080/"
        },
        "outputId": "d8d44ad2-6ff8-4289-d561-8df15146cc84"
      },
      "execution_count": null,
      "outputs": [
        {
          "output_type": "stream",
          "name": "stdout",
          "text": "32\n"
        }
      ]
    },
    {
      "cell_type": "markdown",
      "source": [
        "# Введение в глубокое обучение"
      ],
      "metadata": {
        "id": "-B0jOvkQE4MQ"
      }
    },
    {
      "cell_type": "code",
      "source": [
        "import numpy as np\n",
        "import torch"
      ],
      "metadata": {
        "id": "K3qDkWpcRTWZ"
      },
      "execution_count": null,
      "outputs": []
    },
    {
      "cell_type": "markdown",
      "source": [
        "![alt text](https://drive.google.com/uc?export=view&id=19I2SrQHTO4njMHwCYh8fcaX-qOcKKy2A)"
      ],
      "metadata": {
        "id": "sVIkrL0-ZjpO"
      }
    },
    {
      "cell_type": "markdown",
      "source": [
        "## **Задача 2**. Cделать нейрон, соответствующий оператору НЕ."
      ],
      "metadata": {
        "id": "9P9bWaC9QQJm"
      }
    },
    {
      "cell_type": "code",
      "source": [
        "class Neuron(torch.nn.Module):\n",
        "  def __init__(self):\n",
        "    super().__init__()\n",
        "    self.fc = torch.nn.Linear(1, 1)\n",
        "\n",
        "  def forward(self, x):\n",
        "    return torch.heaviside(self.fc(x), torch.tensor([0.0]))"
      ],
      "metadata": {
        "id": "Hh8sSJkEWNmT"
      },
      "execution_count": null,
      "outputs": []
    },
    {
      "cell_type": "code",
      "source": [
        "neuron = Neuron()\n",
        "neuron.fc.weight, neuron.fc.bias"
      ],
      "metadata": {
        "id": "r9HoH1koVQXi",
        "colab": {
          "base_uri": "https://localhost:8080/"
        },
        "outputId": "a61a6bf9-7691-4f44-c9ff-40103348d119"
      },
      "execution_count": null,
      "outputs": [
        {
          "output_type": "execute_result",
          "execution_count": 60,
          "data": {
            "text/plain": [
              "(Parameter containing:\n",
              " tensor([[0.1531]], requires_grad=True), Parameter containing:\n",
              " tensor([-0.6409], requires_grad=True))"
            ]
          },
          "metadata": {}
        }
      ]
    },
    {
      "cell_type": "code",
      "source": [
        "neuron.fc.weight.data = torch.tensor([[-2.0]])\n",
        "neuron.fc.bias.data = torch.tensor([1.0])"
      ],
      "metadata": {
        "id": "MLmGhtWFTYlV"
      },
      "execution_count": null,
      "outputs": []
    },
    {
      "cell_type": "code",
      "source": [
        "print(neuron(torch.tensor([0.0])))\n",
        "print(neuron(torch.tensor([1.0])))"
      ],
      "metadata": {
        "id": "UFr5InkDTf-r",
        "colab": {
          "base_uri": "https://localhost:8080/"
        },
        "outputId": "0f4730b1-9e0b-4583-e88f-fd6716cffa24"
      },
      "execution_count": null,
      "outputs": [
        {
          "output_type": "stream",
          "name": "stdout",
          "text": "tensor([1.], grad_fn=<NotImplemented>)\n\ntensor([0.], grad_fn=<NotImplemented>)\n"
        }
      ]
    },
    {
      "cell_type": "markdown",
      "source": [
        "## **Задача 3**. Cделать нейрон, соответствующий оператору И."
      ],
      "metadata": {
        "id": "TRxJxcRJQsMz"
      }
    },
    {
      "cell_type": "code",
      "source": [
        "class Neuron(torch.nn.Module):\n",
        "  def __init__(self):\n",
        "    super().__init__()\n",
        "    self.fc = torch.nn.Linear(2, 1)\n",
        "\n",
        "  def forward(self, x):\n",
        "    \n",
        "    return torch.heaviside(self.fc(x), torch.tensor([0.0]))"
      ],
      "metadata": {
        "id": "7dvDtA7HX3V6"
      },
      "execution_count": null,
      "outputs": []
    },
    {
      "cell_type": "code",
      "source": [
        "neuron = Neuron()\n",
        "neuron.fc.weight, neuron.fc.bias"
      ],
      "metadata": {
        "id": "olMqAnQtX5NQ",
        "colab": {
          "base_uri": "https://localhost:8080/"
        },
        "outputId": "4f037aa9-4bd6-434b-b885-64c128cc9814"
      },
      "execution_count": null,
      "outputs": [
        {
          "output_type": "execute_result",
          "execution_count": 64,
          "data": {
            "text/plain": [
              "(Parameter containing:\n",
              " tensor([[ 0.6648, -0.0046]], requires_grad=True), Parameter containing:\n",
              " tensor([0.3957], requires_grad=True))"
            ]
          },
          "metadata": {}
        }
      ]
    },
    {
      "cell_type": "code",
      "source": [
        "neuron.fc.weight.data = torch.tensor([[1.0, 1.0]])\n",
        "neuron.fc.bias.data = torch.tensor([-1.5])"
      ],
      "metadata": {
        "id": "kAtwMX7HQ0aj"
      },
      "execution_count": null,
      "outputs": []
    },
    {
      "cell_type": "code",
      "source": [
        "print(neuron(torch.tensor([0.0, 0.0])))\n",
        "print(neuron(torch.tensor([0.0, 1.0])))\n",
        "print(neuron(torch.tensor([1.0, 0.0])))\n",
        "print(neuron(torch.tensor([1.0, 1.0])))"
      ],
      "metadata": {
        "id": "P27EdNkrXloh",
        "colab": {
          "base_uri": "https://localhost:8080/"
        },
        "outputId": "34a2ab85-4a80-4fda-bc14-ea96ce18cd8d"
      },
      "execution_count": null,
      "outputs": [
        {
          "output_type": "stream",
          "name": "stdout",
          "text": "tensor([0.], grad_fn=<NotImplemented>)\n\ntensor([0.], grad_fn=<NotImplemented>)\n\ntensor([0.], grad_fn=<NotImplemented>)\n\ntensor([1.], grad_fn=<NotImplemented>)\n"
        }
      ]
    },
    {
      "cell_type": "markdown",
      "source": [
        "## **Задача 4**. Cделать нейрон, соответствующий оператору ИЛИ."
      ],
      "metadata": {
        "id": "MRuSrP7JQ00i"
      }
    },
    {
      "cell_type": "code",
      "source": [
        "neuron.fc.weight.data = torch.tensor([[2.0, 2.0]])\n",
        "neuron.fc.bias.data = torch.tensor([-1.0])"
      ],
      "metadata": {
        "id": "23RuhFqbQ24-"
      },
      "execution_count": null,
      "outputs": []
    },
    {
      "cell_type": "code",
      "source": [
        "print(neuron(torch.tensor([0.0, 0.0])))\n",
        "print(neuron(torch.tensor([0.0, 1.0])))\n",
        "print(neuron(torch.tensor([1.0, 0.0])))\n",
        "print(neuron(torch.tensor([1.0, 1.0])))"
      ],
      "metadata": {
        "id": "i-BZHFqnXpLL",
        "colab": {
          "base_uri": "https://localhost:8080/"
        },
        "outputId": "95bfafa3-4080-4632-fb1f-b94726da9010"
      },
      "execution_count": null,
      "outputs": [
        {
          "output_type": "stream",
          "name": "stdout",
          "text": "tensor([0.], grad_fn=<NotImplemented>)\n\ntensor([1.], grad_fn=<NotImplemented>)\n\ntensor([1.], grad_fn=<NotImplemented>)\n\ntensor([1.], grad_fn=<NotImplemented>)\n"
        }
      ]
    },
    {
      "cell_type": "markdown",
      "source": [
        "## **Задача 5**. Cделать нейрон, соответствующий оператору XOR."
      ],
      "metadata": {
        "id": "1b95Z8u7Q3OL"
      }
    },
    {
      "cell_type": "markdown",
      "source": [
        "Задача нерешаема одним нейроном, поскольку один нейрон со step-активацией соответствует одной линейной разделяющей поверхности."
      ],
      "metadata": {
        "id": "LPNHRRU6C7NC"
      }
    },
    {
      "cell_type": "markdown",
      "source": [
        "![Screenshot from 2022-11-29 18-44-09.png](data:image/png;base64,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)"
      ],
      "metadata": {
        "id": "bMQkcihdER2k"
      }
    },
    {
      "cell_type": "markdown",
      "source": [
        "В данном случае понадобится нейронная сеть со слоем, состоящим хотя бы из двух нейронов со step функцией активации."
      ],
      "metadata": {
        "id": "cuthC_p4EVe4"
      }
    },
    {
      "cell_type": "markdown",
      "source": [
        "![Screenshot from 2022-11-29 18-45-49.png](data:image/png;base64,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)"
      ],
      "metadata": {
        "id": "wOIDCS6_EejS"
      }
    },
    {
      "cell_type": "code",
      "source": [
        "class XORnet(torch.nn.Module):\n",
        "  def __init__(self) -> None:\n",
        "    super().__init__()\n",
        "    self.fc1 = torch.nn.Linear(in_features=2, out_features=2)\n",
        "    self.fc2 = torch.nn.Linear(in_features=2, out_features=1)\n",
        "  \n",
        "  def forward(self, x):\n",
        "    x = self.fc1(x)\n",
        "    x = torch.heaviside(x, torch.tensor([0.0]))\n",
        "    x = self.fc2(x)\n",
        "    x = torch.heaviside(x, torch.tensor([0.0]))\n",
        "    return x\n",
        "\n",
        "xor_net = XORnet()"
      ],
      "metadata": {
        "id": "QuZHbnKqN-y2"
      },
      "execution_count": null,
      "outputs": []
    },
    {
      "cell_type": "code",
      "source": [
        "xor_net.fc1.weight.data = torch.tensor([[1.5, 1.5],\n",
        "                                        [-1.0, -1.0]])\n",
        "xor_net.fc2.weight.data = torch.tensor([[-1.0, -1.0]])\n",
        "\n",
        "xor_net.fc1.bias.data = torch.tensor([-2.0, 0.5])\n",
        "xor_net.fc2.bias.data = torch.tensor([0.5])"
      ],
      "metadata": {
        "id": "hWP7ee7tjCGv"
      },
      "execution_count": null,
      "outputs": []
    },
    {
      "cell_type": "code",
      "source": [
        "print(xor_net(torch.tensor([0.0, 0.0])))\n",
        "print(xor_net(torch.tensor([0.0, 1.0])))\n",
        "print(xor_net(torch.tensor([1.0, 0.0])))\n",
        "print(xor_net(torch.tensor([1.0, 1.0])))"
      ],
      "metadata": {
        "id": "HgDrZ7PBjGwJ",
        "colab": {
          "base_uri": "https://localhost:8080/"
        },
        "outputId": "8a94a6fb-6855-4789-c6be-115f10be1f69"
      },
      "execution_count": null,
      "outputs": [
        {
          "output_type": "stream",
          "name": "stdout",
          "text": "tensor([0.], grad_fn=<NotImplemented>)\n\ntensor([1.], grad_fn=<NotImplemented>)\n\ntensor([1.], grad_fn=<NotImplemented>)\n\ntensor([0.], grad_fn=<NotImplemented>)\n"
        }
      ]
    },
    {
      "cell_type": "markdown",
      "source": [
        "Либо понадобится один нейрон с функцией активации (0 if input$^2$ − 1 <= 0; 1 if input$^2$ − 1 > 0)."
      ],
      "metadata": {
        "id": "OgVRLc-7Qh_7"
      }
    },
    {
      "cell_type": "markdown",
      "source": [
        "![Screenshot from 2022-11-29 19-49-30.png](data:image/png;base64,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)"
      ],
      "metadata": {
        "id": "hyVL9oCoStAs"
      }
    },
    {
      "cell_type": "code",
      "source": [
        "class NeuronMod(torch.nn.Module):\n",
        "  def __init__(self):\n",
        "    super().__init__()\n",
        "    self.fc = torch.nn.Linear(2, 1)\n",
        "\n",
        "  def forward(self, x):\n",
        "    return torch.heaviside(self.fc(x) ** 2 - 1, torch.tensor([0.0]))\n",
        "\n",
        "neuron_mod = NeuronMod()"
      ],
      "metadata": {
        "id": "fwD3aHDzQzO2"
      },
      "execution_count": null,
      "outputs": []
    },
    {
      "cell_type": "code",
      "source": [
        "neuron_mod.fc.weight.data = torch.tensor([[2.0, -2.0]])\n",
        "neuron_mod.fc.bias.data = torch.tensor([0.0])"
      ],
      "metadata": {
        "id": "Qk_j_fdJRar5"
      },
      "execution_count": null,
      "outputs": []
    },
    {
      "cell_type": "code",
      "source": [
        "print(neuron_mod(torch.tensor([0.0, 0.0])))\n",
        "print(neuron_mod(torch.tensor([0.0, 1.0])))\n",
        "print(neuron_mod(torch.tensor([1.0, 0.0])))\n",
        "print(neuron_mod(torch.tensor([1.0, 1.0])))"
      ],
      "metadata": {
        "colab": {
          "base_uri": "https://localhost:8080/"
        },
        "outputId": "c46f9117-0507-4819-f5e7-420b3db23315",
        "id": "ihw2Pb7BRar8"
      },
      "execution_count": null,
      "outputs": [
        {
          "output_type": "stream",
          "name": "stdout",
          "text": "tensor([0.], grad_fn=<NotImplemented>)\n\ntensor([1.], grad_fn=<NotImplemented>)\n\ntensor([1.], grad_fn=<NotImplemented>)\n\ntensor([0.], grad_fn=<NotImplemented>)\n"
        }
      ]
    },
    {
      "cell_type": "markdown",
      "source": [
        "## **Вопрос 1**. Какие нейронные сети могут иметь только линейную разделяющую поверхность?"
      ],
      "metadata": {
        "id": "OiPV2u5zfwyo"
      }
    },
    {
      "cell_type": "markdown",
      "source": [
        "Нейронные сети, содержащие только линейные функции активации."
      ],
      "metadata": {
        "id": "eNi4IwB8f9yK"
      }
    },
    {
      "cell_type": "markdown",
      "source": [
        "## **Вопрос 2**. Имеет ли смысл соединять полносвязанные нейроны (нейроны, которые принимают на вход все выходы предыдущего слоя) с линейной функцией активации в многослойную нейронную сеть?"
      ],
      "metadata": {
        "id": "uEf1aXsdgLBh"
      }
    },
    {
      "cell_type": "markdown",
      "source": [
        "Нет, поскольку на выходе нейронной сети будет получена линейная комбинация входов нейронной сети со смещением (т. е. то, что могло быть получено при помощи одного нейрона)"
      ],
      "metadata": {
        "id": "Jy06MWy-gQCh"
      }
    },
    {
      "cell_type": "markdown",
      "source": [
        "# Домашнее задание"
      ],
      "metadata": {
        "id": "DJ9Uxo7DEns4"
      }
    },
    {
      "cell_type": "markdown",
      "source": [
        "Дедлайн домашнего задания - текущее воскресенье 23:59. "
      ],
      "metadata": {
        "id": "3hbaklz_96EN"
      }
    },
    {
      "cell_type": "markdown",
      "source": [
        "**Домашнее задание 0:** Создайте репозиторий на Github. Вся дальнейшая домашка загружается туда. Чуть позже в телеграм чате будет выложена форма для сдачи."
      ],
      "metadata": {
        "id": "E7VzrzlHyyci"
      }
    },
    {
      "cell_type": "markdown",
      "source": [
        "**Домашнее задание 1:** реализуйте XOR с помощью 3 нейронов. Запишите ответ в виде выражения, состоящего из объектов neuron() – моделей нейрона с пороговой функцией активации, внутри скобок может быть что угодно. Входы верхнего уровня называются x1 и x2. Пример фрагмента записи: neuron(1*x1 + 5*x2 - 0.1) + neuron(x1) (ответ будет выглядеть чуть сложнее, но других символов вроде && не потребуется)."
      ],
      "metadata": {
        "id": "me6riR-YEuYg"
      }
    },
    {
      "cell_type": "markdown",
      "source": [
        "neuron(-1 * neuron(1.5 * x1 + 1.5  * x2 - 2) - 1 * neuron(-1 * x1 -1 * x2 + 0.5) + 0.5)"
      ],
      "metadata": {
        "id": "f-cDK_1lcGv7"
      }
    },
    {
      "cell_type": "markdown",
      "source": [
        "**Домашнее задание 2:** нарисуйте backward граф для выражения `a*b+c*d`. [Теория и пример оформления](https://www.youtube.com/watch?v=MswxJw-8PvE). Сравните полученные теоретические значения с аттрибутами grad у исходных тензоров."
      ],
      "metadata": {
        "id": "UQmVNc2kEyQP"
      }
    },
    {
      "cell_type": "code",
      "source": [
        "a = torch.tensor([2.0], requires_grad=True)\n",
        "b = torch.tensor([4.0], requires_grad=True)\n",
        "c = torch.tensor([1.0], requires_grad=True)\n",
        "d = torch.tensor([5.0], requires_grad=False)"
      ],
      "metadata": {
        "id": "rHAT-rNxnh-X"
      },
      "execution_count": null,
      "outputs": []
    },
    {
      "cell_type": "code",
      "source": [
        "print(a.grad)"
      ],
      "metadata": {
        "id": "yQUF6a8rnjyF",
        "colab": {
          "base_uri": "https://localhost:8080/"
        },
        "outputId": "fb83c8b8-6b5b-45df-ea4d-46d6efa97bbf"
      },
      "execution_count": null,
      "outputs": [
        {
          "output_type": "stream",
          "name": "stdout",
          "text": "None\n"
        }
      ]
    },
    {
      "cell_type": "code",
      "source": [
        "loss = a*b + c*d\n",
        "loss.backward()"
      ],
      "metadata": {
        "id": "WQewq5DCnnPF"
      },
      "execution_count": null,
      "outputs": []
    },
    {
      "cell_type": "markdown",
      "source": [
        "![hw_ex_2_autograd.drawio.svg](data:image/svg+xml;base64,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)"
      ],
      "metadata": {
        "id": "PAWHUU35nh28"
      }
    },
    {
      "cell_type": "code",
      "source": [
        "print(a.grad)\n",
        "print(b.grad)\n",
        "print(c.grad)"
      ],
      "metadata": {
        "id": "tDxWZCwQnojN",
        "colab": {
          "base_uri": "https://localhost:8080/"
        },
        "outputId": "d27c8ee5-4584-4432-f404-c4ef0975d645"
      },
      "execution_count": null,
      "outputs": [
        {
          "output_type": "stream",
          "name": "stdout",
          "text": "tensor([4.])\n\ntensor([2.])\n\ntensor([5.])\n\nNone\n"
        }
      ]
    },
    {
      "cell_type": "markdown",
      "source": [
        "**Домашнее задание 3:** Поэксперементируйте с размером тензоров, которые влезут на видеоркарту в Colab. Найдите максимальный размер тензора для типа данных float32, float64, float16, int32, int64. На сколько они отличаются."
      ],
      "metadata": {
        "id": "NxKEOwWDwv3Y"
      }
    },
    {
      "cell_type": "markdown",
      "source": [
        "**Ручной перебор**"
      ],
      "metadata": {
        "id": "9zA8LZUoHU5w"
      }
    },
    {
      "cell_type": "code",
      "source": [
        "import torch\n",
        "import numpy as np"
      ],
      "metadata": {
        "id": "aXOUXTfeBMeX",
        "execution": {
          "iopub.status.busy": "2022-12-01T08:21:30.690427Z",
          "iopub.execute_input": "2022-12-01T08:21:30.691088Z",
          "iopub.status.idle": "2022-12-01T08:21:30.696386Z",
          "shell.execute_reply.started": "2022-12-01T08:21:30.691048Z",
          "shell.execute_reply": "2022-12-01T08:21:30.695032Z"
        },
        "trusted": true
      },
      "execution_count": null,
      "outputs": []
    },
    {
      "cell_type": "code",
      "source": [
        "print(f'Allocated: {torch.cuda.memory_allocated()}, reserved: {torch.cuda.memory_reserved()} \\n')\n",
        "! nvidia-smi --query-gpu=memory.total,memory.used --format=csv "
      ],
      "metadata": {
        "id": "79sKRbwCBdXm",
        "execution": {
          "iopub.status.busy": "2022-12-01T08:21:32.131639Z",
          "iopub.execute_input": "2022-12-01T08:21:32.131997Z",
          "iopub.status.idle": "2022-12-01T08:21:33.090536Z",
          "shell.execute_reply.started": "2022-12-01T08:21:32.131967Z",
          "shell.execute_reply": "2022-12-01T08:21:33.089386Z"
        },
        "trusted": true,
        "outputId": "df091740-50c1-430a-d09b-e1ecc01239bc"
      },
      "execution_count": null,
      "outputs": [
        {
          "name": "stdout",
          "text": "Allocated: 0, reserved: 0 \n\nmemory.total [MiB], memory.used [MiB]\n16280 MiB, 2 MiB\n",
          "output_type": "stream"
        }
      ]
    },
    {
      "cell_type": "code",
      "source": [
        "def allocate_empty_tensor(dim_size, dtype):\n",
        "  a=torch.zeros(dim_size, 2048, dtype=dtype, device='cuda')\n",
        "\n",
        "allocate_empty_tensor(1998335, torch.float32)"
      ],
      "metadata": {
        "id": "MQjESpnKATuA",
        "execution": {
          "iopub.status.busy": "2022-12-01T08:25:19.829377Z",
          "iopub.execute_input": "2022-12-01T08:25:19.829767Z",
          "iopub.status.idle": "2022-12-01T08:25:19.853258Z",
          "shell.execute_reply.started": "2022-12-01T08:25:19.829732Z",
          "shell.execute_reply": "2022-12-01T08:25:19.852180Z"
        },
        "trusted": true
      },
      "execution_count": null,
      "outputs": []
    },
    {
      "cell_type": "code",
      "source": [
        "print(f'Allocated: {torch.cuda.memory_allocated()}, reserved: {torch.cuda.memory_reserved()} \\n')\n",
        "! nvidia-smi --query-gpu=memory.total,memory.used --format=csv\n",
        "torch.cuda.empty_cache()"
      ],
      "metadata": {
        "id": "H_vyXRtKA0JW",
        "execution": {
          "iopub.status.busy": "2022-12-01T08:25:21.033528Z",
          "iopub.execute_input": "2022-12-01T08:25:21.033897Z",
          "iopub.status.idle": "2022-12-01T08:25:22.030502Z",
          "shell.execute_reply.started": "2022-12-01T08:25:21.033865Z",
          "shell.execute_reply": "2022-12-01T08:25:22.029356Z"
        },
        "trusted": true,
        "outputId": "d78e2428-b8db-405b-b6a2-5908740e77fd"
      },
      "execution_count": null,
      "outputs": [
        {
          "name": "stdout",
          "text": "Allocated: 0, reserved: 16370368512 \n\nmemory.total [MiB], memory.used [MiB]\n16280 MiB, 16259 MiB\n",
          "output_type": "stream"
        }
      ]
    },
    {
      "cell_type": "markdown",
      "source": [
        "**Перебор циклом**"
      ],
      "metadata": {
        "id": "E872ZhfIHXBj"
      }
    },
    {
      "cell_type": "code",
      "source": [
        "import torch\n",
        "import numpy as np\n",
        "\n",
        "def allocate_empty_tensor(dim_size, dtype):\n",
        "  a=torch.zeros(dim_size, 2048, dtype=dtype, device='cuda')\n",
        "\n",
        "def get_max_tensor_size(start_dim, dtype):\n",
        "  print(f'Allocated: {torch.cuda.memory_allocated()}, reserved: {torch.cuda.memory_reserved()} \\n')\n",
        "  ! nvidia-smi --query-gpu=memory.total,memory.used --format=csv \n",
        "  ok = False\n",
        "  while not ok:\n",
        "    print(start_dim)\n",
        "    try:\n",
        "      allocate_empty_tensor(start_dim, dtype)\n",
        "      ok = True\n",
        "    except RuntimeError:\n",
        "      start_dim -= 100\n",
        "  print(f'Allocated: {torch.cuda.memory_allocated()}, reserved: {torch.cuda.memory_reserved()} \\n')\n",
        "  ! nvidia-smi --query-gpu=memory.total,memory.used --format=csv\n",
        "  torch.cuda.empty_cache()"
      ],
      "metadata": {
        "id": "opOfZ7w8TS22",
        "execution": {
          "iopub.status.busy": "2022-12-01T08:27:32.271749Z",
          "iopub.execute_input": "2022-12-01T08:27:32.272108Z",
          "iopub.status.idle": "2022-12-01T08:27:32.284073Z",
          "shell.execute_reply.started": "2022-12-01T08:27:32.272078Z",
          "shell.execute_reply": "2022-12-01T08:27:32.283055Z"
        },
        "trusted": true
      },
      "execution_count": null,
      "outputs": []
    },
    {
      "cell_type": "code",
      "source": [
        "get_max_tensor_size(2000000, torch.int32)"
      ],
      "metadata": {
        "id": "potnuZJuMODI",
        "scrolled": true,
        "execution": {
          "iopub.status.busy": "2022-12-01T08:29:43.060606Z",
          "iopub.execute_input": "2022-12-01T08:29:43.060997Z",
          "iopub.status.idle": "2022-12-01T08:29:45.293423Z",
          "shell.execute_reply.started": "2022-12-01T08:29:43.060962Z",
          "shell.execute_reply": "2022-12-01T08:29:45.292236Z"
        },
        "trusted": true,
        "outputId": "89369eb4-5176-46a1-e668-943b49631691"
      },
      "execution_count": null,
      "outputs": [
        {
          "name": "stdout",
          "text": "Allocated: 0, reserved: 0 \n\nmemory.total [MiB], memory.used [MiB]\n16280 MiB, 647 MiB\n2000000\n1999900\n1999800\n1999700\n1999600\n1999500\n1999400\n1999300\n1999200\n1999100\n1999000\n1998900\n1998800\n1998700\n1998600\n1998500\n1998400\n1998300\nAllocated: 0, reserved: 16370368512 \n\nmemory.total [MiB], memory.used [MiB]\n16280 MiB, 16259 MiB\n",
          "output_type": "stream"
        }
      ]
    },
    {
      "cell_type": "markdown",
      "source": [
        "**Результаты эксперимента**"
      ],
      "metadata": {
        "id": "oZxhCa-enr8-"
      }
    },
    {
      "cell_type": "markdown",
      "source": [
        "*В Google Colab закончилась квота на использование GPU, последующие эксперименты проводились в kaggle*"
      ],
      "metadata": {
        "id": "NcjFd9gBoqhD"
      }
    },
    {
      "cell_type": "markdown",
      "source": [
        "Тип: float32.  \n",
        "Размерность тензора: 1998335 x 2048.  \n",
        "Среда выполнения: Kaggle (16280 MiB VRAM)  \n",
        "![Screenshot from 2022-12-01 11-25-30.png](attachment:ba3c2dca-f063-449c-b66a-5b46b9bab828.png)"
      ],
      "metadata": {
        "id": "8u_dXtKkgt3w"
      }
    },
    {
      "cell_type": "markdown",
      "source": [
        "Тип: float64.  \n",
        "Размерность тензора: 999100 x 2048.  \n",
        "Среда выполнения: Kaggle (16280 MiB VRAM)  \n",
        "![Screenshot from 2022-12-01 11-27-56.png](attachment:e714add8-aad5-4bb0-99f5-a5cfb823c064.png)"
      ],
      "metadata": {
        "id": "WJbKtC-HpH6c"
      }
    },
    {
      "cell_type": "markdown",
      "source": [
        "Тип: float16.  \n",
        "Размерность тензора: 3996600 x 2048.  \n",
        "Среда выполнения: Kaggle (16280 MiB VRAM)  \n",
        "![Screenshot from 2022-12-01 11-28-24.png](attachment:860dcb3e-e27e-4430-b350-50254be5513a.png)"
      ],
      "metadata": {
        "id": "WCXa_ivXosGo"
      }
    },
    {
      "cell_type": "markdown",
      "source": [
        "Тип: int64.  \n",
        "Размерность тензора: 999100 x 2048.  \n",
        "Среда выполнения: Kaggle (16280 MiB VRAM)  \n",
        "![Screenshot from 2022-12-01 11-29-32.png](attachment:e12f68b8-006a-4529-bd41-512161c3907a.png)"
      ],
      "metadata": {
        "id": "S3UkIqDPosZu"
      }
    },
    {
      "cell_type": "markdown",
      "source": [
        "Тип: int32.  \n",
        "Размерность тензора: 1998300 x 2048.  \n",
        "Среда выполнения: Kaggle (16280 MiB VRAM)  \n",
        "![Screenshot from 2022-12-01 11-29-47.png](attachment:17909962-22b4-4ac9-b381-78a7dad0b2e1.png)"
      ],
      "metadata": {
        "id": "5AzvZVvIosm8"
      }
    },
    {
      "cell_type": "markdown",
      "source": [
        "**Домашнее задание 4:** Напишите хороший пример неэффективного кода для занятия памяти видеокарты, который вызовет ошибку out of memory"
      ],
      "metadata": {
        "id": "CBR5pWOlzOtl"
      }
    },
    {
      "cell_type": "code",
      "source": [
        "import torch\n",
        "\n",
        "def show_gpu_memory():\n",
        "    print(f'Allocated: {torch.cuda.memory_allocated()}, reserved: {torch.cuda.memory_reserved()}')\n",
        "    ! nvidia-smi --query-gpu=memory.total,memory.used --format=csv\n",
        "\n",
        "def allocate_empty_tensor(dim_size, dtype):\n",
        "    a = torch.zeros(dim_size, 2048, dtype=dtype, device='cuda')\n",
        "\n",
        "show_gpu_memory()\n",
        "\n",
        "dim = 2000\n",
        "while True:\n",
        "    try:\n",
        "        allocate_empty_tensor(dim, torch.float32)\n",
        "        print(dim, torch.cuda.memory_reserved())\n",
        "    except RuntimeError as re:\n",
        "        print(dim)\n",
        "        print(re)\n",
        "        break\n",
        "    dim += 100000\n",
        "    \n",
        "show_gpu_memory()"
      ],
      "metadata": {
        "scrolled": true,
        "id": "drQNAct6h-iT",
        "outputId": "cfff83c7-65b7-4511-dc0a-3cd4dcc85e80",
        "execution": {
          "iopub.status.busy": "2022-12-01T10:01:11.019579Z",
          "iopub.execute_input": "2022-12-01T10:01:11.020127Z",
          "iopub.status.idle": "2022-12-01T10:01:24.108803Z",
          "shell.execute_reply.started": "2022-12-01T10:01:11.020016Z",
          "shell.execute_reply": "2022-12-01T10:01:24.106831Z"
        },
        "trusted": true
      },
      "execution_count": null,
      "outputs": [
        {
          "name": "stdout",
          "text": "Allocated: 0, reserved: 0\nmemory.total [MiB], memory.used [MiB]\n16280 MiB, 0 MiB\n2000 16777216\n102000 853540864\n202000 2510290944\n302000 4984930304\n402000 8279556096\n502000 12392071168\n602000 4932501504\n702000 10684989440\n802000 6570377216\n902000 13960740864\n1002000 8210350080\n1102000 9028239360\n1202000 9848225792\n1302000 10666115072\n1402000 11486101504\n1502000 12306087936\n1602000 13123977216\n1702000 13943963648\n1802000 14763950080\n1902000 15581839360\n2002000\nCUDA out of memory. Tried to allocate 15.28 GiB (GPU 0; 15.90 GiB total capacity; 0 bytes already allocated; 15.27 GiB free; 0 bytes reserved in total by PyTorch) If reserved memory is >> allocated memory try setting max_split_size_mb to avoid fragmentation.  See documentation for Memory Management and PYTORCH_CUDA_ALLOC_CONF\nAllocated: 0, reserved: 0\nmemory.total [MiB], memory.used [MiB]\n16280 MiB, 645 MiB\n",
          "output_type": "stream"
        }
      ]
    },
    {
      "cell_type": "code",
      "source": [
        "show_gpu_memory()\n",
        "allocate_empty_tensor(500000, torch.float32)\n",
        "show_gpu_memory()\n",
        "allocate_empty_tensor(670000, torch.float32)\n",
        "show_gpu_memory()\n",
        "allocate_empty_tensor(1400000, torch.float32)\n",
        "show_gpu_memory()"
      ],
      "metadata": {
        "execution": {
          "iopub.status.busy": "2022-12-01T10:03:10.098689Z",
          "iopub.execute_input": "2022-12-01T10:03:10.099135Z",
          "iopub.status.idle": "2022-12-01T10:03:15.433730Z",
          "shell.execute_reply.started": "2022-12-01T10:03:10.099100Z",
          "shell.execute_reply": "2022-12-01T10:03:15.432117Z"
        },
        "trusted": true,
        "id": "e0a8N4vagt3x",
        "outputId": "082657f5-579b-4a25-cae5-a6b103b2b138"
      },
      "execution_count": null,
      "outputs": [
        {
          "name": "stdout",
          "text": "Allocated: 0, reserved: 0\nmemory.total [MiB], memory.used [MiB]\n16280 MiB, 645 MiB\nAllocated: 0, reserved: 4097835008\nmemory.total [MiB], memory.used [MiB]\n16280 MiB, 4553 MiB\nAllocated: 0, reserved: 9588178944\nmemory.total [MiB], memory.used [MiB]\n16280 MiB, 9789 MiB\nAllocated: 0, reserved: 11469324288\nmemory.total [MiB], memory.used [MiB]\n16280 MiB, 11583 MiB\n",
          "output_type": "stream"
        }
      ]
    },
    {
      "cell_type": "code",
      "source": [
        "torch.cuda.empty_cache()"
      ],
      "metadata": {
        "execution": {
          "iopub.status.busy": "2022-12-01T10:02:15.124021Z",
          "iopub.execute_input": "2022-12-01T10:02:15.125104Z",
          "iopub.status.idle": "2022-12-01T10:02:15.138379Z",
          "shell.execute_reply.started": "2022-12-01T10:02:15.125056Z",
          "shell.execute_reply": "2022-12-01T10:02:15.136678Z"
        },
        "trusted": true,
        "id": "2xeMGDmkgt3x"
      },
      "execution_count": null,
      "outputs": []
    },
    {
      "cell_type": "markdown",
      "source": [
        "**Домашнее задание 5:** Используя один линейный слой `nn.Linear` и один входной тензор `x` подберите подберите размерности так, чтобы занимать всю видеопамять.\n",
        "Попробуйте применить линейный слой к тензору `x`. Что произойдет? Кратко опишите ваши эксперименты. Что вы поняли?"
      ],
      "metadata": {
        "id": "0_hOtvvR89jq"
      }
    },
    {
      "cell_type": "code",
      "source": [
        "import torch\n",
        "import numpy as np\n",
        "\n",
        "device = torch.device('cuda' if torch.cuda.is_available() else 'cpu')\n",
        "\n",
        "def show_gpu_memory():\n",
        "    print(f'Allocated: {torch.cuda.memory_allocated()}, reserved: {torch.cuda.memory_reserved()}')\n",
        "    ! nvidia-smi --query-gpu=memory.total,memory.used --format=csv\n",
        "    \n",
        "dim = 650000\n",
        "show_gpu_memory()\n",
        "x = torch.zeros(dim, 2048, dtype=torch.float32, device='cuda')\n",
        "show_gpu_memory()\n",
        "fc = torch.nn.Linear(in_features=2048, out_features=4096).to(device)\n",
        "show_gpu_memory()"
      ],
      "metadata": {
        "scrolled": true,
        "id": "fYu2Pxpxh-iT",
        "outputId": "ac6189d3-c589-4f82-a1a6-8fda2f12d93f",
        "execution": {
          "iopub.status.busy": "2022-12-01T09:40:12.566856Z",
          "iopub.execute_input": "2022-12-01T09:40:12.567429Z",
          "iopub.status.idle": "2022-12-01T09:40:20.927092Z",
          "shell.execute_reply.started": "2022-12-01T09:40:12.567337Z",
          "shell.execute_reply": "2022-12-01T09:40:20.925845Z"
        },
        "trusted": true
      },
      "execution_count": null,
      "outputs": [
        {
          "name": "stdout",
          "text": "Allocated: 0, reserved: 0\nmemory.total [MiB], memory.used [MiB]\n16280 MiB, 2 MiB\nAllocated: 5324800000, reserved: 5326766080\nmemory.total [MiB], memory.used [MiB]\n16280 MiB, 5725 MiB\nAllocated: 5358370816, reserved: 5362417664\nmemory.total [MiB], memory.used [MiB]\n16280 MiB, 5759 MiB\n",
          "output_type": "stream"
        }
      ]
    },
    {
      "cell_type": "code",
      "source": [
        "print(fc(x).shape)\n",
        "\n",
        "show_gpu_memory()"
      ],
      "metadata": {
        "id": "fwgvLPpEh-iU",
        "outputId": "a2a0f47d-0cc2-4f39-fb8b-352d92e6763a",
        "execution": {
          "iopub.status.busy": "2022-12-01T09:40:27.277567Z",
          "iopub.execute_input": "2022-12-01T09:40:27.278454Z",
          "iopub.status.idle": "2022-12-01T09:40:29.274363Z",
          "shell.execute_reply.started": "2022-12-01T09:40:27.278411Z",
          "shell.execute_reply": "2022-12-01T09:40:29.273158Z"
        },
        "trusted": true
      },
      "execution_count": null,
      "outputs": [
        {
          "name": "stdout",
          "text": "torch.Size([650000, 4096])\nAllocated: 5358370816, reserved: 16013852672\nmemory.total [MiB], memory.used [MiB]\n16280 MiB, 15987 MiB\n",
          "output_type": "stream"
        }
      ]
    },
    {
      "cell_type": "code",
      "source": [
        "import torch\n",
        "\n",
        "def show_gpu_memory():\n",
        "    print(f'Allocated: {torch.cuda.memory_allocated()}, reserved: {torch.cuda.memory_reserved()}')\n",
        "    ! nvidia-smi --query-gpu=memory.total,memory.used --format=csv\n",
        "\n",
        "def allocate_empty_tensor(dim_size, dtype):\n",
        "  a=torch.zeros(dim_size, 4096, dtype=dtype, device='cuda')\n",
        "\n",
        "\n",
        "show_gpu_memory()\n",
        "allocate_empty_tensor(650000, torch.float32)\n",
        "show_gpu_memory()"
      ],
      "metadata": {
        "execution": {
          "iopub.status.busy": "2022-12-01T09:43:57.064379Z",
          "iopub.execute_input": "2022-12-01T09:43:57.064737Z",
          "iopub.status.idle": "2022-12-01T09:44:02.553406Z",
          "shell.execute_reply.started": "2022-12-01T09:43:57.064706Z",
          "shell.execute_reply": "2022-12-01T09:44:02.550554Z"
        },
        "trusted": true,
        "id": "mxoz6Uiggt3x",
        "outputId": "0f745781-414f-4a30-f22f-0f7f3add6c83"
      },
      "execution_count": null,
      "outputs": [
        {
          "name": "stdout",
          "text": "Allocated: 0, reserved: 0\nmemory.total [MiB], memory.used [MiB]\n16280 MiB, 0 MiB\nAllocated: 0, reserved: 10651435008\nmemory.total [MiB], memory.used [MiB]\n16280 MiB, 10803 MiB\n",
          "output_type": "stream"
        }
      ]
    },
    {
      "cell_type": "markdown",
      "source": [
        "**Результаты эксперимента**"
      ],
      "metadata": {
        "id": "TqPbh_Pxq-2N"
      }
    },
    {
      "cell_type": "markdown",
      "source": [
        "Для начала создадим тензор и слой такой размерности, чтобы остались свободными ~350 Мб видеопамяти. Попробуем прогнать тензор через полученный слой.  \n",
        "![Screenshot from 2022-12-01 11-48-39.png](attachment:f44b3d13-8f9c-4159-afee-5f52b6497bfd.png)"
      ],
      "metadata": {
        "id": "wa5Y-DMZgt3x"
      }
    },
    {
      "cell_type": "markdown",
      "source": [
        "Видим, что прогон завершился с ошибкой из-за нехватки видеопамяти. Попробуем снизить размерность тензора и повторим вычисления.  \n",
        "![Screenshot from 2022-12-01 12-40-37.png](attachment:60d0830b-8b93-405b-abcc-e1392cf11735.png)"
      ],
      "metadata": {
        "id": "BZ6OpXzxgt3x"
      }
    },
    {
      "cell_type": "markdown",
      "source": [
        "Видим, что после прогона тензора через слой в памяти было дополнительно зарезервировано около 10.2 GiB. Можно предположить, что для получения результирующего тензора на выходе из слоя в VRAM был выделен соответствующий объём памяти. Но, поскольку результат не сохраняется в переменную, аллоцированный объём памяти остался не изменным. Объём зарезервированной памяти при этом увеличился, поскольку размерность выходного тензора больше размерности входного (занимающего больше всего зарезервированной памяти). В противной случае выходной тензор был бы записан в существующий блок зарезервированной памяти."
      ],
      "metadata": {
        "id": "IwpxyjaOgt3y"
      }
    },
    {
      "cell_type": "markdown",
      "source": [
        "Если мы попробуем аллоцировать тензор соответствующего объёма в локальном окружении функции, то увидим, что в результате был зарезервирован схожий объём памяти, что подтверждает наши суждения.  \n",
        "![Screenshot from 2022-12-01 12-44-04.png](data:image/png;base64,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)"
      ],
      "metadata": {
        "id": "LqAqmLQBgt3y"
      }
    },
    {
      "cell_type": "markdown",
      "source": [
        "# Рекомендуемые ссылки"
      ],
      "metadata": {
        "id": "_Z2Ot37UODKM"
      }
    },
    {
      "cell_type": "markdown",
      "source": [
        "- [Нейронные сети и компьютерное зрение, Samsung AI Center, часть 1](https://stepik.org/course/50352/syllabus)\n",
        "- [Cимулятор](https://playground.tensorflow.org/) нейронов и нейронных сетей"
      ],
      "metadata": {
        "id": "SnFY95T7kNji"
      }
    }
  ]
}