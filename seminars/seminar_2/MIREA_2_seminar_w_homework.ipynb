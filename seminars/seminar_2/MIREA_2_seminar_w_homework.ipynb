{
 "metadata": {
  "colab": {
   "provenance": [],
   "collapsed_sections": [
    "MRuSrP7JQ00i",
    "1b95Z8u7Q3OL"
   ]
  },
  "kernelspec": {
   "name": "python3",
   "display_name": "Python 3",
   "language": "python"
  },
  "language_info": {
   "name": "python",
   "version": "3.7.12",
   "mimetype": "text/x-python",
   "codemirror_mode": {
    "name": "ipython",
    "version": 3
   },
   "pygments_lexer": "ipython3",
   "nbconvert_exporter": "python",
   "file_extension": ".py"
  },
  "gpuClass": "standard"
 },
 "nbformat_minor": 4,
 "nbformat": 4,
 "cells": [
  {
   "cell_type": "markdown",
   "source": [
    "# **Разбор практики 1.**"
   ],
   "metadata": {
    "id": "RQ8rTFmQ0ueR"
   }
  },
  {
   "cell_type": "markdown",
   "source": [
    "## **Задача 2**. Cделать нейрон, соответствующий оператору НЕ."
   ],
   "metadata": {
    "id": "9P9bWaC9QQJm"
   }
  },
  {
   "cell_type": "code",
   "execution_count": 1,
   "outputs": [],
   "source": [
    "import torch"
   ],
   "metadata": {
    "collapsed": false
   }
  },
  {
   "cell_type": "code",
   "source": [
    "class Neuron(torch.nn.Module):\n",
    "  def __init__(self):\n",
    "    super().__init__()\n",
    "    self.fc = torch.nn.Linear(1, 1, bias=True)\n",
    "\n",
    "  def forward(self, x):\n",
    "    return torch.heaviside(self.fc(x), torch.tensor([0.0]))"
   ],
   "metadata": {
    "id": "Hh8sSJkEWNmT",
    "execution": {
     "iopub.status.busy": "2022-12-08T15:49:29.257425Z",
     "iopub.execute_input": "2022-12-08T15:49:29.257800Z",
     "iopub.status.idle": "2022-12-08T15:49:29.264537Z",
     "shell.execute_reply.started": "2022-12-08T15:49:29.257769Z",
     "shell.execute_reply": "2022-12-08T15:49:29.263439Z"
    },
    "trusted": true
   },
   "execution_count": 2,
   "outputs": []
  },
  {
   "cell_type": "code",
   "source": [
    "neuron = Neuron()\n",
    "neuron.fc.weight, neuron.fc.bias"
   ],
   "metadata": {
    "id": "r9HoH1koVQXi",
    "outputId": "e3020bb5-04c1-45cf-937a-77d6c2337325",
    "colab": {
     "base_uri": "https://localhost:8080/"
    },
    "execution": {
     "iopub.status.busy": "2022-12-08T15:49:29.271340Z",
     "iopub.execute_input": "2022-12-08T15:49:29.271674Z",
     "iopub.status.idle": "2022-12-08T15:49:29.286216Z",
     "shell.execute_reply.started": "2022-12-08T15:49:29.271647Z",
     "shell.execute_reply": "2022-12-08T15:49:29.285205Z"
    },
    "trusted": true
   },
   "execution_count": 3,
   "outputs": [
    {
     "data": {
      "text/plain": "(Parameter containing:\n tensor([[-0.8530]], requires_grad=True),\n Parameter containing:\n tensor([0.3124], requires_grad=True))"
     },
     "execution_count": 3,
     "metadata": {},
     "output_type": "execute_result"
    }
   ]
  },
  {
   "cell_type": "code",
   "source": [
    "neuron.fc.weight.data = torch.tensor([[-1.0]])\n",
    "neuron.fc.bias.data = torch.tensor([1.0])\n",
    "neuron.fc.weight, neuron.fc.bias"
   ],
   "metadata": {
    "id": "MLmGhtWFTYlV",
    "outputId": "9ca8cb0a-4683-44d6-e910-69e6908a587c",
    "colab": {
     "base_uri": "https://localhost:8080/"
    },
    "execution": {
     "iopub.status.busy": "2022-12-08T15:49:29.288588Z",
     "iopub.execute_input": "2022-12-08T15:49:29.289075Z",
     "iopub.status.idle": "2022-12-08T15:49:29.297482Z",
     "shell.execute_reply.started": "2022-12-08T15:49:29.289012Z",
     "shell.execute_reply": "2022-12-08T15:49:29.296494Z"
    },
    "trusted": true
   },
   "execution_count": 4,
   "outputs": [
    {
     "data": {
      "text/plain": "(Parameter containing:\n tensor([[-1.]], requires_grad=True),\n Parameter containing:\n tensor([1.], requires_grad=True))"
     },
     "execution_count": 4,
     "metadata": {},
     "output_type": "execute_result"
    }
   ]
  },
  {
   "cell_type": "code",
   "source": [
    "x = torch.tensor([0.0])\n",
    "neuron(x)"
   ],
   "metadata": {
    "id": "UFr5InkDTf-r",
    "outputId": "6504e778-9bd4-4c5f-c2f8-67d22bb522d5",
    "colab": {
     "base_uri": "https://localhost:8080/"
    },
    "execution": {
     "iopub.status.busy": "2022-12-08T15:49:29.299226Z",
     "iopub.execute_input": "2022-12-08T15:49:29.300040Z",
     "iopub.status.idle": "2022-12-08T15:49:29.326185Z",
     "shell.execute_reply.started": "2022-12-08T15:49:29.299987Z",
     "shell.execute_reply": "2022-12-08T15:49:29.325165Z"
    },
    "trusted": true
   },
   "execution_count": 5,
   "outputs": [
    {
     "data": {
      "text/plain": "tensor([1.], grad_fn=<NotImplemented>)"
     },
     "execution_count": 5,
     "metadata": {},
     "output_type": "execute_result"
    }
   ]
  },
  {
   "cell_type": "code",
   "source": [
    "x = torch.tensor([1.0])\n",
    "neuron(x)"
   ],
   "metadata": {
    "id": "sXJqgPEwAwHa",
    "outputId": "12c3a893-da2c-4b19-de63-0a803b132b38",
    "colab": {
     "base_uri": "https://localhost:8080/"
    },
    "execution": {
     "iopub.status.busy": "2022-12-08T15:49:29.327811Z",
     "iopub.execute_input": "2022-12-08T15:49:29.328162Z",
     "iopub.status.idle": "2022-12-08T15:49:29.335790Z",
     "shell.execute_reply.started": "2022-12-08T15:49:29.328128Z",
     "shell.execute_reply": "2022-12-08T15:49:29.334756Z"
    },
    "trusted": true
   },
   "execution_count": 6,
   "outputs": [
    {
     "data": {
      "text/plain": "tensor([0.], grad_fn=<NotImplemented>)"
     },
     "execution_count": 6,
     "metadata": {},
     "output_type": "execute_result"
    }
   ]
  },
  {
   "cell_type": "markdown",
   "source": [
    "## **Задача 3**. Cделать нейрон, соответствующий оператору И."
   ],
   "metadata": {
    "id": "TRxJxcRJQsMz"
   }
  },
  {
   "cell_type": "code",
   "source": [
    "class Neuron(torch.nn.Module):\n",
    "  def __init__(self):\n",
    "    super().__init__()\n",
    "    self.fc = torch.nn.Linear(2, 1)\n",
    "\n",
    "  def forward(self, x):\n",
    "    return torch.heaviside(self.fc(x), torch.tensor([0.0]))"
   ],
   "metadata": {
    "id": "7dvDtA7HX3V6",
    "execution": {
     "iopub.status.busy": "2022-12-08T15:49:29.338655Z",
     "iopub.execute_input": "2022-12-08T15:49:29.339468Z",
     "iopub.status.idle": "2022-12-08T15:49:29.346407Z",
     "shell.execute_reply.started": "2022-12-08T15:49:29.339434Z",
     "shell.execute_reply": "2022-12-08T15:49:29.344939Z"
    },
    "trusted": true
   },
   "execution_count": 7,
   "outputs": []
  },
  {
   "cell_type": "code",
   "source": [
    "neuron = Neuron()\n",
    "neuron.fc.weight, neuron.fc.bias"
   ],
   "metadata": {
    "id": "olMqAnQtX5NQ",
    "colab": {
     "base_uri": "https://localhost:8080/"
    },
    "outputId": "d3b3ffe4-f637-4338-a46f-9db503a316ab",
    "execution": {
     "iopub.status.busy": "2022-12-08T15:49:29.347872Z",
     "iopub.execute_input": "2022-12-08T15:49:29.348825Z",
     "iopub.status.idle": "2022-12-08T15:49:29.358885Z",
     "shell.execute_reply.started": "2022-12-08T15:49:29.348702Z",
     "shell.execute_reply": "2022-12-08T15:49:29.357585Z"
    },
    "trusted": true
   },
   "execution_count": 8,
   "outputs": [
    {
     "data": {
      "text/plain": "(Parameter containing:\n tensor([[ 0.5735, -0.0196]], requires_grad=True),\n Parameter containing:\n tensor([0.4357], requires_grad=True))"
     },
     "execution_count": 8,
     "metadata": {},
     "output_type": "execute_result"
    }
   ]
  },
  {
   "cell_type": "code",
   "source": [
    "neuron.fc.weight.data = torch.tensor([[1.0, 1.0]])\n",
    "neuron.fc.bias.data = torch.tensor([-1.5])\n",
    "neuron.fc.weight, neuron.fc.bias"
   ],
   "metadata": {
    "id": "kAtwMX7HQ0aj",
    "colab": {
     "base_uri": "https://localhost:8080/"
    },
    "outputId": "53bb0196-ecaf-489c-858e-c3d420d454aa",
    "execution": {
     "iopub.status.busy": "2022-12-08T15:49:29.360543Z",
     "iopub.execute_input": "2022-12-08T15:49:29.361361Z",
     "iopub.status.idle": "2022-12-08T15:49:29.371965Z",
     "shell.execute_reply.started": "2022-12-08T15:49:29.361328Z",
     "shell.execute_reply": "2022-12-08T15:49:29.371075Z"
    },
    "trusted": true
   },
   "execution_count": 9,
   "outputs": [
    {
     "data": {
      "text/plain": "(Parameter containing:\n tensor([[1., 1.]], requires_grad=True),\n Parameter containing:\n tensor([-1.5000], requires_grad=True))"
     },
     "execution_count": 9,
     "metadata": {},
     "output_type": "execute_result"
    }
   ]
  },
  {
   "cell_type": "code",
   "source": [
    "x = torch.tensor([0.0, 0.0])\n",
    "neuron(x)"
   ],
   "metadata": {
    "id": "P27EdNkrXloh",
    "colab": {
     "base_uri": "https://localhost:8080/"
    },
    "outputId": "96718328-9f63-41df-8077-3791a2d6b905",
    "execution": {
     "iopub.status.busy": "2022-12-08T15:49:29.373387Z",
     "iopub.execute_input": "2022-12-08T15:49:29.374520Z",
     "iopub.status.idle": "2022-12-08T15:49:29.381911Z",
     "shell.execute_reply.started": "2022-12-08T15:49:29.374485Z",
     "shell.execute_reply": "2022-12-08T15:49:29.380895Z"
    },
    "trusted": true
   },
   "execution_count": 10,
   "outputs": [
    {
     "data": {
      "text/plain": "tensor([0.], grad_fn=<NotImplemented>)"
     },
     "execution_count": 10,
     "metadata": {},
     "output_type": "execute_result"
    }
   ]
  },
  {
   "cell_type": "code",
   "source": [
    "x = torch.tensor([1.0, 0.0 ])\n",
    "neuron(x)"
   ],
   "metadata": {
    "outputId": "c04b6405-d7ae-4e49-a6c1-6f478572f17a",
    "colab": {
     "base_uri": "https://localhost:8080/"
    },
    "id": "-BJc_ipGrei3",
    "execution": {
     "iopub.status.busy": "2022-12-08T15:49:29.383427Z",
     "iopub.execute_input": "2022-12-08T15:49:29.384538Z",
     "iopub.status.idle": "2022-12-08T15:49:29.392046Z",
     "shell.execute_reply.started": "2022-12-08T15:49:29.384451Z",
     "shell.execute_reply": "2022-12-08T15:49:29.390993Z"
    },
    "trusted": true
   },
   "execution_count": 11,
   "outputs": [
    {
     "data": {
      "text/plain": "tensor([0.], grad_fn=<NotImplemented>)"
     },
     "execution_count": 11,
     "metadata": {},
     "output_type": "execute_result"
    }
   ]
  },
  {
   "cell_type": "code",
   "source": [
    "x = torch.tensor([0.0, 1.0 ])\n",
    "neuron(x)"
   ],
   "metadata": {
    "outputId": "2788282c-a684-43c1-f219-3d16f45f14d3",
    "colab": {
     "base_uri": "https://localhost:8080/"
    },
    "id": "KjVTdBf-rei5",
    "execution": {
     "iopub.status.busy": "2022-12-08T15:49:29.393448Z",
     "iopub.execute_input": "2022-12-08T15:49:29.394196Z",
     "iopub.status.idle": "2022-12-08T15:49:29.402365Z",
     "shell.execute_reply.started": "2022-12-08T15:49:29.394163Z",
     "shell.execute_reply": "2022-12-08T15:49:29.401421Z"
    },
    "trusted": true
   },
   "execution_count": 12,
   "outputs": [
    {
     "data": {
      "text/plain": "tensor([0.], grad_fn=<NotImplemented>)"
     },
     "execution_count": 12,
     "metadata": {},
     "output_type": "execute_result"
    }
   ]
  },
  {
   "cell_type": "code",
   "source": [
    "x = torch.tensor([1.0, 1.0 ])\n",
    "neuron(x)"
   ],
   "metadata": {
    "outputId": "9b335917-e009-479c-e75d-9d1565422b8e",
    "colab": {
     "base_uri": "https://localhost:8080/"
    },
    "id": "kyomxCJUrei5",
    "execution": {
     "iopub.status.busy": "2022-12-08T15:49:29.408310Z",
     "iopub.execute_input": "2022-12-08T15:49:29.409211Z",
     "iopub.status.idle": "2022-12-08T15:49:29.416929Z",
     "shell.execute_reply.started": "2022-12-08T15:49:29.409168Z",
     "shell.execute_reply": "2022-12-08T15:49:29.415975Z"
    },
    "trusted": true
   },
   "execution_count": 13,
   "outputs": [
    {
     "data": {
      "text/plain": "tensor([1.], grad_fn=<NotImplemented>)"
     },
     "execution_count": 13,
     "metadata": {},
     "output_type": "execute_result"
    }
   ]
  },
  {
   "cell_type": "markdown",
   "source": [
    "## **Задача 4**. Cделать нейрон, соответствующий оператору ИЛИ."
   ],
   "metadata": {
    "id": "MRuSrP7JQ00i"
   }
  },
  {
   "cell_type": "code",
   "source": [
    "neuron.fc.weight.data = torch.tensor([[1., 1.]])\n",
    "neuron.fc.bias.data = torch.tensor([-0.5])"
   ],
   "metadata": {
    "id": "23RuhFqbQ24-",
    "execution": {
     "iopub.status.busy": "2022-12-08T15:49:29.418412Z",
     "iopub.execute_input": "2022-12-08T15:49:29.419719Z",
     "iopub.status.idle": "2022-12-08T15:49:29.425364Z",
     "shell.execute_reply.started": "2022-12-08T15:49:29.419589Z",
     "shell.execute_reply": "2022-12-08T15:49:29.424356Z"
    },
    "trusted": true
   },
   "execution_count": 14,
   "outputs": []
  },
  {
   "cell_type": "code",
   "source": [
    "x = torch.tensor([0.0, 0.0])\n",
    "neuron(x)"
   ],
   "metadata": {
    "id": "i-BZHFqnXpLL",
    "colab": {
     "base_uri": "https://localhost:8080/"
    },
    "outputId": "7105825d-66f2-48db-a250-8a3bfe6be45d",
    "execution": {
     "iopub.status.busy": "2022-12-08T15:49:29.426951Z",
     "iopub.execute_input": "2022-12-08T15:49:29.427479Z",
     "iopub.status.idle": "2022-12-08T15:49:29.438498Z",
     "shell.execute_reply.started": "2022-12-08T15:49:29.427443Z",
     "shell.execute_reply": "2022-12-08T15:49:29.437413Z"
    },
    "trusted": true
   },
   "execution_count": 15,
   "outputs": [
    {
     "data": {
      "text/plain": "tensor([0.], grad_fn=<NotImplemented>)"
     },
     "execution_count": 15,
     "metadata": {},
     "output_type": "execute_result"
    }
   ]
  },
  {
   "cell_type": "code",
   "source": [
    "x = torch.tensor([1.0, 0.0 ])\n",
    "neuron(x)"
   ],
   "metadata": {
    "outputId": "8181961c-7669-4a37-c4ce-1277622af170",
    "colab": {
     "base_uri": "https://localhost:8080/"
    },
    "id": "TZuFtRlvyixQ",
    "execution": {
     "iopub.status.busy": "2022-12-08T15:49:29.440045Z",
     "iopub.execute_input": "2022-12-08T15:49:29.440919Z",
     "iopub.status.idle": "2022-12-08T15:49:29.448663Z",
     "shell.execute_reply.started": "2022-12-08T15:49:29.440886Z",
     "shell.execute_reply": "2022-12-08T15:49:29.447274Z"
    },
    "trusted": true
   },
   "execution_count": 16,
   "outputs": [
    {
     "data": {
      "text/plain": "tensor([1.], grad_fn=<NotImplemented>)"
     },
     "execution_count": 16,
     "metadata": {},
     "output_type": "execute_result"
    }
   ]
  },
  {
   "cell_type": "code",
   "source": [
    "x = torch.tensor([0.0, 1.0 ])\n",
    "neuron(x)"
   ],
   "metadata": {
    "outputId": "26449834-8084-4c6a-a696-141449d0622f",
    "colab": {
     "base_uri": "https://localhost:8080/"
    },
    "id": "jyu88Kg0yixR",
    "execution": {
     "iopub.status.busy": "2022-12-08T15:49:29.450607Z",
     "iopub.execute_input": "2022-12-08T15:49:29.451300Z",
     "iopub.status.idle": "2022-12-08T15:49:29.458887Z",
     "shell.execute_reply.started": "2022-12-08T15:49:29.451266Z",
     "shell.execute_reply": "2022-12-08T15:49:29.457763Z"
    },
    "trusted": true
   },
   "execution_count": 17,
   "outputs": [
    {
     "data": {
      "text/plain": "tensor([1.], grad_fn=<NotImplemented>)"
     },
     "execution_count": 17,
     "metadata": {},
     "output_type": "execute_result"
    }
   ]
  },
  {
   "cell_type": "code",
   "source": [
    "x = torch.tensor([1.0, 1.0 ])\n",
    "neuron(x)"
   ],
   "metadata": {
    "outputId": "0100e5f4-c3a6-4188-9c5b-42cf823eb1e3",
    "colab": {
     "base_uri": "https://localhost:8080/"
    },
    "id": "r2OhYEC7yixS",
    "execution": {
     "iopub.status.busy": "2022-12-08T15:49:29.460388Z",
     "iopub.execute_input": "2022-12-08T15:49:29.461120Z",
     "iopub.status.idle": "2022-12-08T15:49:29.468479Z",
     "shell.execute_reply.started": "2022-12-08T15:49:29.461085Z",
     "shell.execute_reply": "2022-12-08T15:49:29.467410Z"
    },
    "trusted": true
   },
   "execution_count": 18,
   "outputs": [
    {
     "data": {
      "text/plain": "tensor([1.], grad_fn=<NotImplemented>)"
     },
     "execution_count": 18,
     "metadata": {},
     "output_type": "execute_result"
    }
   ]
  },
  {
   "cell_type": "markdown",
   "source": [
    "## **Задача 5**. Cделать нейрон, соответствующий оператору XOR."
   ],
   "metadata": {
    "id": "1b95Z8u7Q3OL"
   }
  },
  {
   "cell_type": "code",
   "source": [
    "neuron.fc.weight.data = torch.tensor([[0.0, 0.0]])\n",
    "neuron.fc.bias.data = torch.tensor([0.0])"
   ],
   "metadata": {
    "id": "hWP7ee7tjCGv",
    "execution": {
     "iopub.status.busy": "2022-12-08T15:49:29.470433Z",
     "iopub.execute_input": "2022-12-08T15:49:29.471205Z",
     "iopub.status.idle": "2022-12-08T15:49:29.476441Z",
     "shell.execute_reply.started": "2022-12-08T15:49:29.471169Z",
     "shell.execute_reply": "2022-12-08T15:49:29.475539Z"
    },
    "trusted": true
   },
   "execution_count": 19,
   "outputs": []
  },
  {
   "cell_type": "code",
   "source": [
    "x = torch.tensor([0.0, 0.0])\n",
    "neuron(x)"
   ],
   "metadata": {
    "id": "HgDrZ7PBjGwJ",
    "execution": {
     "iopub.status.busy": "2022-12-08T15:49:29.477883Z",
     "iopub.execute_input": "2022-12-08T15:49:29.478636Z",
     "iopub.status.idle": "2022-12-08T15:49:29.486822Z",
     "shell.execute_reply.started": "2022-12-08T15:49:29.478602Z",
     "shell.execute_reply": "2022-12-08T15:49:29.486045Z"
    },
    "trusted": true
   },
   "execution_count": 20,
   "outputs": [
    {
     "data": {
      "text/plain": "tensor([0.], grad_fn=<NotImplemented>)"
     },
     "execution_count": 20,
     "metadata": {},
     "output_type": "execute_result"
    }
   ]
  },
  {
   "cell_type": "markdown",
   "source": [
    "# **Занятие 2.**"
   ],
   "metadata": {
    "id": "zjM7DFps2rBi"
   }
  },
  {
   "cell_type": "markdown",
   "source": [
    "# [Pytorch autograd](https://pytorch.org/docs/stable/autograd.html)"
   ],
   "metadata": {
    "id": "KlS1ciOPBg7g"
   }
  },
  {
   "cell_type": "markdown",
   "source": [
    "[Tutorial](https://www.youtube.com/watch?v=MswxJw-8PvE)\n",
    "\n",
    "[Slides](https://app.diagrams.net/#G1bq3akhmA5DGRCiFYJfNPSn7il2wvCkEY)\n",
    "\n",
    "[Torch C++ Binary operations](https://github.com/pytorch/pytorch/blob/c5872e6d6d8fd9b8439b914c143d49488335f573/aten/src/ATen/native/cpu/BinaryOpsKernel.cpp)\n",
    "\n",
    "[Torch C++ Activations](https://github.com/pytorch/pytorch/blob/c5872e6d6d8fd9b8439b914c143d49488335f573/aten/src/ATen/native/cpu/Activation.cpp)"
   ],
   "metadata": {
    "id": "kP06X1SrzLlm"
   }
  },
  {
   "cell_type": "code",
   "source": [
    "def show_tensor_params(*tensors):\n",
    "  for x in tensors:\n",
    "    print('---')\n",
    "    print(f\"data - {x.data}\")\n",
    "    print(f\"grad - {x.grad}\")\n",
    "    print(f\"grad_fn - {x.grad_fn}\")\n",
    "    print(f\"req_grad - {x.requires_grad}\")\n",
    "    print(f\"is_leaf - {x.is_leaf}\")"
   ],
   "metadata": {
    "id": "ipOjjh8OCk4u",
    "execution": {
     "iopub.status.busy": "2022-12-08T15:49:29.495889Z",
     "iopub.execute_input": "2022-12-08T15:49:29.496525Z",
     "iopub.status.idle": "2022-12-08T15:49:29.504268Z",
     "shell.execute_reply.started": "2022-12-08T15:49:29.496488Z",
     "shell.execute_reply": "2022-12-08T15:49:29.503280Z"
    },
    "trusted": true
   },
   "execution_count": 21,
   "outputs": []
  },
  {
   "cell_type": "code",
   "source": [
    "x = torch.tensor(5.0)\n",
    "show_tensor_params(x)"
   ],
   "metadata": {
    "colab": {
     "base_uri": "https://localhost:8080/"
    },
    "id": "lXas0qEnybl9",
    "outputId": "5e4bcc93-2541-4f5d-adf6-578ad58e391e",
    "execution": {
     "iopub.status.busy": "2022-12-08T15:49:29.505724Z",
     "iopub.execute_input": "2022-12-08T15:49:29.506493Z",
     "iopub.status.idle": "2022-12-08T15:49:29.515606Z",
     "shell.execute_reply.started": "2022-12-08T15:49:29.506459Z",
     "shell.execute_reply": "2022-12-08T15:49:29.514549Z"
    },
    "trusted": true
   },
   "execution_count": 22,
   "outputs": [
    {
     "name": "stdout",
     "output_type": "stream",
     "text": [
      "---\n",
      "data - 5.0\n",
      "grad - None\n",
      "grad_fn - None\n",
      "req_grad - False\n",
      "is_leaf - True\n"
     ]
    }
   ]
  },
  {
   "cell_type": "markdown",
   "source": [
    "All Tensors that have **requires_grad** which is **False** will be leaf Tensors by convention.\n",
    "\n",
    "For Tensors that have **requires_grad** which is **True**, they will be leaf Tensors if they were created by the user. This means that they are not the result of an operation and so **grad_fn** is None.\n",
    "\n",
    "Only leaf Tensors will have their **grad** populated during a call to backward(). To get grad populated for non-leaf Tensors, you can use retain_grad().[[Link]](https://pytorch.org/docs/stable/generated/torch.Tensor.is_leaf.html#torch.Tensor.is_leaf)"
   ],
   "metadata": {
    "id": "NuymHxbjzDfP"
   }
  },
  {
   "cell_type": "code",
   "source": [
    "#Slide A4\n",
    "a = torch.tensor(2.0, requires_grad=True)\n",
    "b = torch.tensor(3.0)\n",
    "c = a*b\n",
    "\n",
    "c.backward()\n",
    "# (2 * c).backward()"
   ],
   "metadata": {
    "id": "O5NE4zRPyqTT",
    "execution": {
     "iopub.status.busy": "2022-12-08T15:49:29.517261Z",
     "iopub.execute_input": "2022-12-08T15:49:29.518008Z",
     "iopub.status.idle": "2022-12-08T15:49:29.527555Z",
     "shell.execute_reply.started": "2022-12-08T15:49:29.517973Z",
     "shell.execute_reply": "2022-12-08T15:49:29.526844Z"
    },
    "trusted": true
   },
   "execution_count": 23,
   "outputs": []
  },
  {
   "cell_type": "code",
   "source": [
    "show_tensor_params(a, b, c)"
   ],
   "metadata": {
    "colab": {
     "base_uri": "https://localhost:8080/"
    },
    "id": "q-TbdvmH-oaM",
    "outputId": "4a390c62-06af-4ee1-f086-09ca09c2d70b",
    "execution": {
     "iopub.status.busy": "2022-12-08T15:49:29.529221Z",
     "iopub.execute_input": "2022-12-08T15:49:29.530134Z",
     "iopub.status.idle": "2022-12-08T15:49:29.536977Z",
     "shell.execute_reply.started": "2022-12-08T15:49:29.530095Z",
     "shell.execute_reply": "2022-12-08T15:49:29.535900Z"
    },
    "trusted": true
   },
   "execution_count": 24,
   "outputs": [
    {
     "name": "stdout",
     "output_type": "stream",
     "text": [
      "---\n",
      "data - 2.0\n",
      "grad - 3.0\n",
      "grad_fn - None\n",
      "req_grad - True\n",
      "is_leaf - True\n",
      "---\n",
      "data - 3.0\n",
      "grad - None\n",
      "grad_fn - None\n",
      "req_grad - False\n",
      "is_leaf - True\n",
      "---\n",
      "data - 6.0\n",
      "grad - None\n",
      "grad_fn - <MulBackward0 object at 0x7fd2d2268850>\n",
      "req_grad - True\n",
      "is_leaf - False\n"
     ]
    },
    {
     "name": "stderr",
     "output_type": "stream",
     "text": [
      "/tmp/ipykernel_16552/138193020.py:5: UserWarning: The .grad attribute of a Tensor that is not a leaf Tensor is being accessed. Its .grad attribute won't be populated during autograd.backward(). If you indeed want the .grad field to be populated for a non-leaf Tensor, use .retain_grad() on the non-leaf Tensor. If you access the non-leaf Tensor by mistake, make sure you access the leaf Tensor instead. See github.com/pytorch/pytorch/pull/30531 for more informations. (Triggered internally at /opt/conda/conda-bld/pytorch_1666643003845/work/build/aten/src/ATen/core/TensorBody.h:480.)\n",
      "  print(f\"grad - {x.grad}\")\n"
     ]
    }
   ]
  },
  {
   "cell_type": "code",
   "source": [
    "#Slide Simple5"
   ],
   "metadata": {
    "id": "NqUcFO2rCXni",
    "execution": {
     "iopub.status.busy": "2022-12-08T15:49:29.538674Z",
     "iopub.execute_input": "2022-12-08T15:49:29.539501Z",
     "iopub.status.idle": "2022-12-08T15:49:29.543874Z",
     "shell.execute_reply.started": "2022-12-08T15:49:29.539466Z",
     "shell.execute_reply": "2022-12-08T15:49:29.542856Z"
    },
    "trusted": true
   },
   "execution_count": 25,
   "outputs": []
  },
  {
   "cell_type": "code",
   "source": [
    "a = torch.tensor(2.0, requires_grad=True)\n",
    "b = torch.tensor(3.0, requires_grad=True)\n",
    "c = a*b\n",
    "d = torch.tensor(4.0, requires_grad=True)\n",
    "e = c*d\n",
    "\n",
    "c.retain_grad()\n",
    "e.retain_grad()\n",
    "e.backward()"
   ],
   "metadata": {
    "id": "gYTsuKc3Fn8r",
    "execution": {
     "iopub.status.busy": "2022-12-08T15:49:29.545416Z",
     "iopub.execute_input": "2022-12-08T15:49:29.546173Z",
     "iopub.status.idle": "2022-12-08T15:49:29.554536Z",
     "shell.execute_reply.started": "2022-12-08T15:49:29.546139Z",
     "shell.execute_reply": "2022-12-08T15:49:29.553838Z"
    },
    "trusted": true
   },
   "execution_count": 26,
   "outputs": []
  },
  {
   "cell_type": "code",
   "source": [
    "show_tensor_params(a, b, c, d, e)"
   ],
   "metadata": {
    "colab": {
     "base_uri": "https://localhost:8080/"
    },
    "id": "egTBJvIBF5EO",
    "outputId": "9efd5963-c845-441f-98bd-e2bfccf5f864",
    "execution": {
     "iopub.status.busy": "2022-12-08T15:49:29.556103Z",
     "iopub.execute_input": "2022-12-08T15:49:29.556770Z",
     "iopub.status.idle": "2022-12-08T15:49:29.563895Z",
     "shell.execute_reply.started": "2022-12-08T15:49:29.556735Z",
     "shell.execute_reply": "2022-12-08T15:49:29.563041Z"
    },
    "trusted": true
   },
   "execution_count": 27,
   "outputs": [
    {
     "name": "stdout",
     "output_type": "stream",
     "text": [
      "---\n",
      "data - 2.0\n",
      "grad - 12.0\n",
      "grad_fn - None\n",
      "req_grad - True\n",
      "is_leaf - True\n",
      "---\n",
      "data - 3.0\n",
      "grad - 8.0\n",
      "grad_fn - None\n",
      "req_grad - True\n",
      "is_leaf - True\n",
      "---\n",
      "data - 6.0\n",
      "grad - 4.0\n",
      "grad_fn - <MulBackward0 object at 0x7fd2d2269c90>\n",
      "req_grad - True\n",
      "is_leaf - False\n",
      "---\n",
      "data - 4.0\n",
      "grad - 6.0\n",
      "grad_fn - None\n",
      "req_grad - True\n",
      "is_leaf - True\n",
      "---\n",
      "data - 24.0\n",
      "grad - 1.0\n",
      "grad_fn - <MulBackward0 object at 0x7fd2d2269c90>\n",
      "req_grad - True\n",
      "is_leaf - False\n"
     ]
    }
   ]
  },
  {
   "cell_type": "code",
   "source": [
    "#In place 1\n",
    "a = torch.tensor(2.0, requires_grad=True)\n",
    "b = torch.tensor(3.0, requires_grad=True)\n",
    "c = a*b\n",
    "d = torch.tensor(4.0, requires_grad=True)\n",
    "e = c*d\n",
    "c += 1\n",
    "\n",
    "try:\n",
    "    e.backward()\n",
    "except RuntimeError as re:\n",
    "    print(re)"
   ],
   "metadata": {
    "colab": {
     "base_uri": "https://localhost:8080/",
     "height": 364
    },
    "id": "W5Cs2_REGgOS",
    "outputId": "052158cf-8dba-440f-9e54-e42d5f8cc019",
    "execution": {
     "iopub.status.busy": "2022-12-08T15:50:20.530529Z",
     "iopub.execute_input": "2022-12-08T15:50:20.530900Z",
     "iopub.status.idle": "2022-12-08T15:50:20.544606Z",
     "shell.execute_reply.started": "2022-12-08T15:50:20.530870Z",
     "shell.execute_reply": "2022-12-08T15:50:20.543254Z"
    },
    "trusted": true
   },
   "execution_count": 28,
   "outputs": [
    {
     "name": "stdout",
     "output_type": "stream",
     "text": [
      "one of the variables needed for gradient computation has been modified by an inplace operation: [torch.FloatTensor []], which is output 0 of AddBackward0, is at version 1; expected version 0 instead. Hint: enable anomaly detection to find the operation that failed to compute its gradient, with torch.autograd.set_detect_anomaly(True).\n"
     ]
    }
   ]
  },
  {
   "cell_type": "code",
   "source": [
    "print(c._version)\n",
    "print(d._version)"
   ],
   "metadata": {
    "colab": {
     "base_uri": "https://localhost:8080/"
    },
    "id": "-WeqfWzYGhKG",
    "outputId": "fff4c374-1755-4cd9-89c1-490bc49a9be2",
    "execution": {
     "iopub.status.busy": "2022-12-08T15:50:24.694920Z",
     "iopub.execute_input": "2022-12-08T15:50:24.695616Z",
     "iopub.status.idle": "2022-12-08T15:50:24.701439Z",
     "shell.execute_reply.started": "2022-12-08T15:50:24.695580Z",
     "shell.execute_reply": "2022-12-08T15:50:24.700279Z"
    },
    "trusted": true
   },
   "execution_count": 29,
   "outputs": [
    {
     "name": "stdout",
     "output_type": "stream",
     "text": [
      "1\n",
      "0\n"
     ]
    }
   ]
  },
  {
   "cell_type": "code",
   "source": [
    "#In place 2\n",
    "a = torch.tensor(2.0, requires_grad=True)\n",
    "b = torch.tensor(3.0, requires_grad=True)\n",
    "c = a*b\n",
    "d = torch.tensor(4.0, requires_grad=True)\n",
    "e = c+d\n",
    "c += 1\n",
    "\n",
    "e.backward()"
   ],
   "metadata": {
    "id": "iLZ3Z4qIH4J4",
    "execution": {
     "iopub.status.busy": "2022-12-08T15:50:26.673055Z",
     "iopub.execute_input": "2022-12-08T15:50:26.673735Z",
     "iopub.status.idle": "2022-12-08T15:50:26.681072Z",
     "shell.execute_reply.started": "2022-12-08T15:50:26.673699Z",
     "shell.execute_reply": "2022-12-08T15:50:26.680149Z"
    },
    "trusted": true
   },
   "execution_count": 30,
   "outputs": []
  },
  {
   "cell_type": "code",
   "source": [
    "print(c._version)\n",
    "print(d._version)"
   ],
   "metadata": {
    "colab": {
     "base_uri": "https://localhost:8080/"
    },
    "id": "3ySSjlRUIH0e",
    "outputId": "93759314-cebe-41d2-882c-b59ad2043f2f",
    "execution": {
     "iopub.status.busy": "2022-12-08T15:50:27.725391Z",
     "iopub.execute_input": "2022-12-08T15:50:27.725760Z",
     "iopub.status.idle": "2022-12-08T15:50:27.731092Z",
     "shell.execute_reply.started": "2022-12-08T15:50:27.725728Z",
     "shell.execute_reply": "2022-12-08T15:50:27.730091Z"
    },
    "trusted": true
   },
   "execution_count": 31,
   "outputs": [
    {
     "name": "stdout",
     "output_type": "stream",
     "text": [
      "1\n",
      "0\n"
     ]
    }
   ]
  },
  {
   "cell_type": "code",
   "source": [
    "#In place 3\n",
    "a = torch.tensor(2.0, requires_grad=True)\n",
    "b = torch.tensor(3.0, requires_grad=True)\n",
    "c = a*b\n",
    "d = torch.tensor(4.0, requires_grad=True)\n",
    "e = c+d\n",
    "c = c + 1\n",
    "\n",
    "e.backward()"
   ],
   "metadata": {
    "id": "KUD8tZEh5v1V",
    "execution": {
     "iopub.status.busy": "2022-12-08T15:50:28.763750Z",
     "iopub.execute_input": "2022-12-08T15:50:28.764294Z",
     "iopub.status.idle": "2022-12-08T15:50:28.772128Z",
     "shell.execute_reply.started": "2022-12-08T15:50:28.764258Z",
     "shell.execute_reply": "2022-12-08T15:50:28.770121Z"
    },
    "trusted": true
   },
   "execution_count": 32,
   "outputs": []
  },
  {
   "cell_type": "code",
   "source": [
    "print(c._version)\n",
    "print(d._version)"
   ],
   "metadata": {
    "colab": {
     "base_uri": "https://localhost:8080/"
    },
    "outputId": "f64d6d43-160e-45c5-e256-457b11220314",
    "id": "3nSzWKz85v1Y",
    "execution": {
     "iopub.status.busy": "2022-12-08T15:50:30.091499Z",
     "iopub.execute_input": "2022-12-08T15:50:30.091845Z",
     "iopub.status.idle": "2022-12-08T15:50:30.097669Z",
     "shell.execute_reply.started": "2022-12-08T15:50:30.091814Z",
     "shell.execute_reply": "2022-12-08T15:50:30.096669Z"
    },
    "trusted": true
   },
   "execution_count": 33,
   "outputs": [
    {
     "name": "stdout",
     "output_type": "stream",
     "text": [
      "0\n",
      "0\n"
     ]
    }
   ]
  },
  {
   "cell_type": "code",
   "source": [
    "# отвязка от графа\n",
    "k = e.detach()"
   ],
   "metadata": {
    "id": "4jbSqPGkILEw",
    "execution": {
     "iopub.status.busy": "2022-12-08T15:50:30.845864Z",
     "iopub.execute_input": "2022-12-08T15:50:30.846465Z",
     "iopub.status.idle": "2022-12-08T15:50:30.851061Z",
     "shell.execute_reply.started": "2022-12-08T15:50:30.846425Z",
     "shell.execute_reply": "2022-12-08T15:50:30.849845Z"
    },
    "trusted": true
   },
   "execution_count": 34,
   "outputs": []
  },
  {
   "cell_type": "code",
   "source": [
    "k.storage == e.storage"
   ],
   "metadata": {
    "colab": {
     "base_uri": "https://localhost:8080/"
    },
    "id": "pLKUQ08AJhZT",
    "outputId": "b2465faa-85e9-4e53-fa3f-80be11974202",
    "execution": {
     "iopub.status.busy": "2022-12-08T15:50:31.562039Z",
     "iopub.execute_input": "2022-12-08T15:50:31.563222Z",
     "iopub.status.idle": "2022-12-08T15:50:31.571748Z",
     "shell.execute_reply.started": "2022-12-08T15:50:31.563186Z",
     "shell.execute_reply": "2022-12-08T15:50:31.570648Z"
    },
    "trusted": true
   },
   "execution_count": 35,
   "outputs": [
    {
     "data": {
      "text/plain": "False"
     },
     "execution_count": 35,
     "metadata": {},
     "output_type": "execute_result"
    }
   ]
  },
  {
   "cell_type": "code",
   "source": [
    "show_tensor_params(e, k)"
   ],
   "metadata": {
    "colab": {
     "base_uri": "https://localhost:8080/"
    },
    "id": "Eqo-PW2kJkaG",
    "outputId": "289035b8-cfd5-4b70-b47f-b1dc5e5c184c",
    "execution": {
     "iopub.status.busy": "2022-12-08T15:50:32.654849Z",
     "iopub.execute_input": "2022-12-08T15:50:32.655408Z",
     "iopub.status.idle": "2022-12-08T15:50:32.667588Z",
     "shell.execute_reply.started": "2022-12-08T15:50:32.655355Z",
     "shell.execute_reply": "2022-12-08T15:50:32.666323Z"
    },
    "trusted": true
   },
   "execution_count": 36,
   "outputs": [
    {
     "name": "stdout",
     "output_type": "stream",
     "text": [
      "---\n",
      "data - 10.0\n",
      "grad - None\n",
      "grad_fn - <AddBackward0 object at 0x7fd2d22686a0>\n",
      "req_grad - True\n",
      "is_leaf - False\n",
      "---\n",
      "data - 10.0\n",
      "grad - None\n",
      "grad_fn - None\n",
      "req_grad - False\n",
      "is_leaf - True\n"
     ]
    },
    {
     "name": "stderr",
     "output_type": "stream",
     "text": [
      "/tmp/ipykernel_16552/138193020.py:5: UserWarning: The .grad attribute of a Tensor that is not a leaf Tensor is being accessed. Its .grad attribute won't be populated during autograd.backward(). If you indeed want the .grad field to be populated for a non-leaf Tensor, use .retain_grad() on the non-leaf Tensor. If you access the non-leaf Tensor by mistake, make sure you access the leaf Tensor instead. See github.com/pytorch/pytorch/pull/30531 for more informations. (Triggered internally at /opt/conda/conda-bld/pytorch_1666643003845/work/build/aten/src/ATen/core/TensorBody.h:480.)\n",
      "  print(f\"grad - {x.grad}\")\n"
     ]
    }
   ]
  },
  {
   "cell_type": "markdown",
   "source": [
    "# Создание собственной библиотеки автоматического дифференцирования"
   ],
   "metadata": {
    "id": "B8urvcsAKi62"
   }
  },
  {
   "cell_type": "code",
   "source": [
    "import math\n",
    "import numpy as np\n",
    "import matplotlib.pyplot as plt\n",
    "%matplotlib inline"
   ],
   "metadata": {
    "id": "txwYkEHMftme",
    "execution": {
     "iopub.status.busy": "2022-12-08T15:50:36.532897Z",
     "iopub.execute_input": "2022-12-08T15:50:36.533595Z",
     "iopub.status.idle": "2022-12-08T15:50:36.540044Z",
     "shell.execute_reply.started": "2022-12-08T15:50:36.533555Z",
     "shell.execute_reply": "2022-12-08T15:50:36.538978Z"
    },
    "trusted": true
   },
   "execution_count": 37,
   "outputs": []
  },
  {
   "cell_type": "markdown",
   "source": [
    "### Простой пример"
   ],
   "metadata": {
    "id": "urGQXw9GgdQt"
   }
  },
  {
   "cell_type": "code",
   "source": [
    "def f(x):\n",
    "  return 3*x**2 - 4*x + 5"
   ],
   "metadata": {
    "id": "bPNsEPbZfwXm",
    "execution": {
     "iopub.status.busy": "2022-12-08T15:50:38.736785Z",
     "iopub.execute_input": "2022-12-08T15:50:38.737163Z",
     "iopub.status.idle": "2022-12-08T15:50:38.742376Z",
     "shell.execute_reply.started": "2022-12-08T15:50:38.737132Z",
     "shell.execute_reply": "2022-12-08T15:50:38.740877Z"
    },
    "trusted": true
   },
   "execution_count": 38,
   "outputs": []
  },
  {
   "cell_type": "code",
   "source": [
    "f(3.0)"
   ],
   "metadata": {
    "colab": {
     "base_uri": "https://localhost:8080/"
    },
    "id": "IKMjYubGfzo5",
    "outputId": "e4b624fd-bf9e-40d5-e390-d16bdf2ecaee",
    "execution": {
     "iopub.status.busy": "2022-12-08T15:50:41.065446Z",
     "iopub.execute_input": "2022-12-08T15:50:41.065805Z",
     "iopub.status.idle": "2022-12-08T15:50:41.073171Z",
     "shell.execute_reply.started": "2022-12-08T15:50:41.065773Z",
     "shell.execute_reply": "2022-12-08T15:50:41.071940Z"
    },
    "trusted": true
   },
   "execution_count": 39,
   "outputs": [
    {
     "data": {
      "text/plain": "20.0"
     },
     "execution_count": 39,
     "metadata": {},
     "output_type": "execute_result"
    }
   ]
  },
  {
   "cell_type": "code",
   "source": [
    "xs = np.arange(-5, 5, 0.25)\n",
    "ys = f(xs)\n",
    "plt.plot(xs, ys);"
   ],
   "metadata": {
    "colab": {
     "base_uri": "https://localhost:8080/",
     "height": 265
    },
    "id": "2Mufja5Mf2dD",
    "outputId": "882942ce-e100-4e94-ab16-66df4a91bcd9",
    "execution": {
     "iopub.status.busy": "2022-12-08T15:50:42.225113Z",
     "iopub.execute_input": "2022-12-08T15:50:42.225897Z",
     "iopub.status.idle": "2022-12-08T15:50:42.408917Z",
     "shell.execute_reply.started": "2022-12-08T15:50:42.225857Z",
     "shell.execute_reply": "2022-12-08T15:50:42.407941Z"
    },
    "trusted": true
   },
   "execution_count": 40,
   "outputs": [
    {
     "data": {
      "text/plain": "<Figure size 640x480 with 1 Axes>",
      "image/png": "[encoded data removed]"
     },
     "metadata": {},
     "output_type": "display_data"
    }
   ]
  },
  {
   "cell_type": "code",
   "source": [
    "h = 0.000001\n",
    "x = 2\n",
    "(f(x + h) - f(x))/h"
   ],
   "metadata": {
    "colab": {
     "base_uri": "https://localhost:8080/"
    },
    "id": "kzRAdjhFgGo8",
    "outputId": "80f5b90a-0446-4b37-b728-c6a0339c657f",
    "execution": {
     "iopub.status.busy": "2022-12-08T15:50:44.037302Z",
     "iopub.execute_input": "2022-12-08T15:50:44.037665Z",
     "iopub.status.idle": "2022-12-08T15:50:44.044006Z",
     "shell.execute_reply.started": "2022-12-08T15:50:44.037633Z",
     "shell.execute_reply": "2022-12-08T15:50:44.043044Z"
    },
    "trusted": true
   },
   "execution_count": 41,
   "outputs": [
    {
     "data": {
      "text/plain": "8.000003001384925"
     },
     "execution_count": 41,
     "metadata": {},
     "output_type": "execute_result"
    }
   ]
  },
  {
   "cell_type": "markdown",
   "source": [
    "### Более сложный пример"
   ],
   "metadata": {
    "id": "dOszwXaTgkd4"
   }
  },
  {
   "cell_type": "code",
   "source": [
    "a = 2.0\n",
    "b = -3.0\n",
    "c = 10.0\n",
    "d = a*b + c\n",
    "print(d)"
   ],
   "metadata": {
    "id": "BOzPl8NWghve",
    "colab": {
     "base_uri": "https://localhost:8080/"
    },
    "outputId": "aa8691ab-c4d2-4b94-d016-145849dd8d30",
    "execution": {
     "iopub.status.busy": "2022-12-08T15:50:45.134053Z",
     "iopub.execute_input": "2022-12-08T15:50:45.135100Z",
     "iopub.status.idle": "2022-12-08T15:50:45.141375Z",
     "shell.execute_reply.started": "2022-12-08T15:50:45.135053Z",
     "shell.execute_reply": "2022-12-08T15:50:45.140087Z"
    },
    "trusted": true
   },
   "execution_count": 42,
   "outputs": [
    {
     "name": "stdout",
     "output_type": "stream",
     "text": [
      "4.0\n"
     ]
    }
   ]
  },
  {
   "cell_type": "code",
   "source": [
    "h = 0.0001\n",
    "\n",
    "# inputs\n",
    "a = 2.0\n",
    "b = -3.0\n",
    "c = 10.0\n",
    "\n",
    "d1 = a*b + c\n",
    "c += h\n",
    "d2 = a*b + c\n",
    "\n",
    "print('d1', d1)\n",
    "print('d2', d2)\n",
    "print('slope', (d2 - d1)/h)\n",
    "\n",
    "d1 = a*b + c\n",
    "a += h\n",
    "d2 = a*b + c\n",
    "\n",
    "print('d1', d1)\n",
    "print('d2', d2)\n",
    "print('slope', (d2 - d1)/h)\n",
    "\n",
    "d1 = a*b + c\n",
    "b += h\n",
    "d2 = a*b + c\n",
    "\n",
    "print('d1', d1)\n",
    "print('d2', d2)\n",
    "print('slope', (d2 - d1)/h)"
   ],
   "metadata": {
    "id": "P9Xx4_omgrkm",
    "colab": {
     "base_uri": "https://localhost:8080/"
    },
    "outputId": "fca0e3f8-d66c-45f3-b9f0-7e4464d36c62",
    "execution": {
     "iopub.status.busy": "2022-12-08T15:50:45.695698Z",
     "iopub.execute_input": "2022-12-08T15:50:45.696353Z",
     "iopub.status.idle": "2022-12-08T15:50:45.705143Z",
     "shell.execute_reply.started": "2022-12-08T15:50:45.696312Z",
     "shell.execute_reply": "2022-12-08T15:50:45.704079Z"
    },
    "trusted": true
   },
   "execution_count": 43,
   "outputs": [
    {
     "name": "stdout",
     "output_type": "stream",
     "text": [
      "d1 4.0\n",
      "d2 4.0001\n",
      "slope 0.9999999999976694\n",
      "d1 4.0001\n",
      "d2 3.9997999999999987\n",
      "slope -3.000000000010772\n",
      "d1 3.9997999999999987\n",
      "d2 4.00000001\n",
      "slope 2.0001000000124947\n"
     ]
    }
   ]
  },
  {
   "cell_type": "markdown",
   "source": [],
   "metadata": {
    "id": "wle8vv7_grKJ"
   }
  },
  {
   "cell_type": "markdown",
   "source": [
    "https://pytorch.org/tutorials/beginner/examples_autograd/polynomial_custom_function.html"
   ],
   "metadata": {
    "id": "dlDJrMMsOgNh"
   }
  },
  {
   "cell_type": "code",
   "source": [
    "from torch.autograd import Function"
   ],
   "metadata": {
    "id": "sPyPkdq5RH94",
    "execution": {
     "iopub.status.busy": "2022-12-08T15:50:48.109427Z",
     "iopub.execute_input": "2022-12-08T15:50:48.109885Z",
     "iopub.status.idle": "2022-12-08T15:50:48.116809Z",
     "shell.execute_reply.started": "2022-12-08T15:50:48.109838Z",
     "shell.execute_reply": "2022-12-08T15:50:48.115855Z"
    },
    "trusted": true
   },
   "execution_count": 44,
   "outputs": []
  },
  {
   "cell_type": "code",
   "source": [
    "class Exp(Function):\n",
    "  \"\"\"\n",
    "    We can implement our own custom autograd Functions by subclassing\n",
    "    torch.autograd.Function and implementing the forward and backward passes\n",
    "    which operate on Tensors.\n",
    "    \"\"\"\n",
    "\n",
    "  @staticmethod\n",
    "  def forward(ctx, i):\n",
    "    \"\"\"\n",
    "        In the forward pass we receive a Tensor containing the input and return\n",
    "        a Tensor containing the output. ctx is a context object that can be used\n",
    "        to stash information for backward computation. You can cache arbitrary\n",
    "        objects for use in the backward pass using the ctx.save_for_backward method.\n",
    "    \"\"\"\n",
    "    result = i.exp()\n",
    "    ctx.save_for_backward(result)\n",
    "    return result\n",
    "\n",
    "  @staticmethod\n",
    "  def backward(ctx, grad_output):\n",
    "    \"\"\"\n",
    "        In the backward pass we receive a Tensor containing the gradient of the loss\n",
    "        with respect to the output, and we need to compute the gradient of the loss\n",
    "        with respect to the input.\n",
    "    \"\"\"\n",
    "    print(ctx.saved_tensors)\n",
    "    result, = ctx.saved_tensors\n",
    "    return grad_output * result"
   ],
   "metadata": {
    "id": "F5-hnsEiPIz9",
    "execution": {
     "iopub.status.busy": "2022-12-08T15:53:39.138335Z",
     "iopub.execute_input": "2022-12-08T15:53:39.138842Z",
     "iopub.status.idle": "2022-12-08T15:53:39.148477Z",
     "shell.execute_reply.started": "2022-12-08T15:53:39.138792Z",
     "shell.execute_reply": "2022-12-08T15:53:39.147328Z"
    },
    "trusted": true
   },
   "execution_count": 45,
   "outputs": []
  },
  {
   "cell_type": "code",
   "source": [
    "# Use it by calling the apply method\n",
    "input = torch.tensor(2.0, requires_grad=True)\n",
    "output = Exp.apply(input)\n",
    "output"
   ],
   "metadata": {
    "colab": {
     "base_uri": "https://localhost:8080/"
    },
    "id": "elaOA8bdRiMc",
    "outputId": "be8842b1-682f-4249-dd66-49961d4a93a8",
    "execution": {
     "iopub.status.busy": "2022-12-08T15:53:41.187644Z",
     "iopub.execute_input": "2022-12-08T15:53:41.188008Z",
     "iopub.status.idle": "2022-12-08T15:53:41.200265Z",
     "shell.execute_reply.started": "2022-12-08T15:53:41.187974Z",
     "shell.execute_reply": "2022-12-08T15:53:41.199234Z"
    },
    "trusted": true
   },
   "execution_count": 46,
   "outputs": [
    {
     "data": {
      "text/plain": "tensor(7.3891, grad_fn=<ExpBackward>)"
     },
     "execution_count": 46,
     "metadata": {},
     "output_type": "execute_result"
    }
   ]
  },
  {
   "cell_type": "code",
   "source": [
    "import math\n",
    "math.exp(2.0)"
   ],
   "metadata": {
    "colab": {
     "base_uri": "https://localhost:8080/"
    },
    "id": "JlcZLt-RSGgG",
    "outputId": "2ba81786-2183-4de7-ae7d-bd92ee5234f1",
    "execution": {
     "iopub.status.busy": "2022-12-08T15:53:45.630088Z",
     "iopub.execute_input": "2022-12-08T15:53:45.630446Z",
     "iopub.status.idle": "2022-12-08T15:53:45.637576Z",
     "shell.execute_reply.started": "2022-12-08T15:53:45.630414Z",
     "shell.execute_reply": "2022-12-08T15:53:45.636355Z"
    },
    "trusted": true
   },
   "execution_count": 47,
   "outputs": [
    {
     "data": {
      "text/plain": "7.38905609893065"
     },
     "execution_count": 47,
     "metadata": {},
     "output_type": "execute_result"
    }
   ]
  },
  {
   "cell_type": "code",
   "source": [
    "output.backward()\n",
    "show_tensor_params(output)\n",
    "show_tensor_params(input)"
   ],
   "metadata": {
    "colab": {
     "base_uri": "https://localhost:8080/"
    },
    "id": "Om6dn414SQeA",
    "outputId": "2021d2ec-917e-4da2-8ce7-0fca5b549dfc",
    "execution": {
     "iopub.status.busy": "2022-12-08T15:53:48.671570Z",
     "iopub.execute_input": "2022-12-08T15:53:48.672152Z",
     "iopub.status.idle": "2022-12-08T15:53:48.680246Z",
     "shell.execute_reply.started": "2022-12-08T15:53:48.672107Z",
     "shell.execute_reply": "2022-12-08T15:53:48.678918Z"
    },
    "trusted": true
   },
   "execution_count": 48,
   "outputs": [
    {
     "name": "stdout",
     "output_type": "stream",
     "text": [
      "(tensor(7.3891, grad_fn=<ExpBackward>),)\n",
      "---\n",
      "data - 7.389056205749512\n",
      "grad - None\n",
      "grad_fn - <torch.autograd.function.ExpBackward object at 0x7fd2ca2aeb60>\n",
      "req_grad - True\n",
      "is_leaf - False\n",
      "---\n",
      "data - 2.0\n",
      "grad - 7.389056205749512\n",
      "grad_fn - None\n",
      "req_grad - True\n",
      "is_leaf - True\n"
     ]
    },
    {
     "name": "stderr",
     "output_type": "stream",
     "text": [
      "/tmp/ipykernel_16552/138193020.py:5: UserWarning: The .grad attribute of a Tensor that is not a leaf Tensor is being accessed. Its .grad attribute won't be populated during autograd.backward(). If you indeed want the .grad field to be populated for a non-leaf Tensor, use .retain_grad() on the non-leaf Tensor. If you access the non-leaf Tensor by mistake, make sure you access the leaf Tensor instead. See github.com/pytorch/pytorch/pull/30531 for more informations. (Triggered internally at /opt/conda/conda-bld/pytorch_1666643003845/work/build/aten/src/ATen/core/TensorBody.h:480.)\n",
      "  print(f\"grad - {x.grad}\")\n"
     ]
    }
   ]
  },
  {
   "cell_type": "markdown",
   "source": [
    "**Задание**: реализуйте backward для Polynomial 0.5 * (5 * input ** 3 - 3 * input)"
   ],
   "metadata": {
    "id": "d_14IqfeSnLM"
   }
  },
  {
   "cell_type": "code",
   "source": [
    "import torch\n",
    "\n",
    "\n",
    "class Polynomial(torch.autograd.Function):\n",
    "    \"\"\"\n",
    "    We can implement our own custom autograd Functions by subclassing\n",
    "    torch.autograd.Function and implementing the forward and backward passes\n",
    "    which operate on Tensors.\n",
    "    \"\"\"\n",
    "\n",
    "    @staticmethod\n",
    "    def forward(ctx, input):\n",
    "        \"\"\"\n",
    "        In the forward pass we receive a Tensor containing the input and return\n",
    "        a Tensor containing the output. ctx is a context object that can be used\n",
    "        to stash information for backward computation. You can cache arbitrary\n",
    "        objects for use in the backward pass using the ctx.save_for_backward method.\n",
    "        \"\"\"\n",
    "        result = 0.5 * (5 * input ** 3 - 3 * input)\n",
    "        grad = 7.5 * input ** 2 - 1.5\n",
    "        ctx.save_for_backward(grad)\n",
    "        return result\n",
    "\n",
    "    @staticmethod\n",
    "    def backward(ctx, grad_output):\n",
    "        \"\"\"\n",
    "        In the backward pass we receive a Tensor containing the gradient of the loss\n",
    "        with respect to the output, and we need to compute the gradient of the loss\n",
    "        with respect to the input.\n",
    "        \"\"\"\n",
    "        print(ctx.saved_tensors)\n",
    "        grad, = ctx.saved_tensors\n",
    "        return grad_output * grad\n",
    "        "
   ],
   "metadata": {
    "id": "i5cNegVYOd8u",
    "execution": {
     "iopub.status.busy": "2022-12-08T15:57:46.093868Z",
     "iopub.execute_input": "2022-12-08T15:57:46.094966Z",
     "iopub.status.idle": "2022-12-08T15:57:46.102129Z",
     "shell.execute_reply.started": "2022-12-08T15:57:46.094912Z",
     "shell.execute_reply": "2022-12-08T15:57:46.101071Z"
    },
    "trusted": true
   },
   "execution_count": 49,
   "outputs": []
  },
  {
   "cell_type": "code",
   "source": [
    "input = torch.tensor(2.0, requires_grad=True)\n",
    "Polynomial.apply(input)"
   ],
   "metadata": {
    "colab": {
     "base_uri": "https://localhost:8080/"
    },
    "id": "pZERCX7g_1WS",
    "outputId": "5f2b0174-3a37-4c7d-a7b5-25bd97d1c0c5",
    "execution": {
     "iopub.status.busy": "2022-12-08T15:57:48.369655Z",
     "iopub.execute_input": "2022-12-08T15:57:48.370031Z",
     "iopub.status.idle": "2022-12-08T15:57:48.379752Z",
     "shell.execute_reply.started": "2022-12-08T15:57:48.369984Z",
     "shell.execute_reply": "2022-12-08T15:57:48.378767Z"
    },
    "trusted": true
   },
   "execution_count": 50,
   "outputs": [
    {
     "data": {
      "text/plain": "tensor(17., grad_fn=<PolynomialBackward>)"
     },
     "execution_count": 50,
     "metadata": {},
     "output_type": "execute_result"
    }
   ]
  },
  {
   "cell_type": "code",
   "source": [
    "p = Polynomial.apply(input)\n",
    "p.backward()\n",
    "show_tensor_params(input)"
   ],
   "metadata": {
    "colab": {
     "base_uri": "https://localhost:8080/"
    },
    "id": "Y5Nw3ByaAfsS",
    "outputId": "1f9272dc-ac07-40f6-9847-06792331a342",
    "execution": {
     "iopub.status.busy": "2022-12-08T15:57:49.202272Z",
     "iopub.execute_input": "2022-12-08T15:57:49.202626Z",
     "iopub.status.idle": "2022-12-08T15:57:49.209783Z",
     "shell.execute_reply.started": "2022-12-08T15:57:49.202594Z",
     "shell.execute_reply": "2022-12-08T15:57:49.208601Z"
    },
    "trusted": true
   },
   "execution_count": 51,
   "outputs": [
    {
     "name": "stdout",
     "output_type": "stream",
     "text": [
      "(tensor(28.5000),)\n",
      "---\n",
      "data - 2.0\n",
      "grad - 28.5\n",
      "grad_fn - None\n",
      "req_grad - True\n",
      "is_leaf - True\n"
     ]
    }
   ]
  },
  {
   "cell_type": "code",
   "source": [
    "input_tensor = torch.tensor(2.0, requires_grad=True)\n",
    "e = Exp.apply(input_tensor)\n",
    "p = Polynomial.apply(e)\n",
    "print(p)"
   ],
   "metadata": {
    "execution": {
     "iopub.status.busy": "2022-12-08T16:01:52.021807Z",
     "iopub.execute_input": "2022-12-08T16:01:52.022226Z",
     "iopub.status.idle": "2022-12-08T16:01:52.029856Z",
     "shell.execute_reply.started": "2022-12-08T16:01:52.022195Z",
     "shell.execute_reply": "2022-12-08T16:01:52.028824Z"
    },
    "trusted": true
   },
   "execution_count": 52,
   "outputs": [
    {
     "name": "stdout",
     "output_type": "stream",
     "text": [
      "tensor(997.4885, grad_fn=<PolynomialBackward>)\n"
     ]
    }
   ]
  },
  {
   "cell_type": "code",
   "source": [
    "p.backward()\n",
    "show_tensor_params(input_tensor)"
   ],
   "metadata": {
    "execution": {
     "iopub.status.busy": "2022-12-08T16:01:52.605669Z",
     "iopub.execute_input": "2022-12-08T16:01:52.606010Z",
     "iopub.status.idle": "2022-12-08T16:01:52.613283Z",
     "shell.execute_reply.started": "2022-12-08T16:01:52.605972Z",
     "shell.execute_reply": "2022-12-08T16:01:52.612238Z"
    },
    "trusted": true
   },
   "execution_count": 53,
   "outputs": [
    {
     "name": "stdout",
     "output_type": "stream",
     "text": [
      "(tensor(407.9861),)\n",
      "(tensor(7.3891, grad_fn=<ExpBackward>),)\n",
      "---\n",
      "data - 2.0\n",
      "grad - 3014.632568359375\n",
      "grad_fn - None\n",
      "req_grad - True\n",
      "is_leaf - True\n"
     ]
    }
   ]
  },
  {
   "cell_type": "code",
   "source": [
    "input_tensor = torch.tensor(2.0, requires_grad=True)\n",
    "e = Exp.apply(input_tensor)\n",
    "e = Exp.apply(e)\n",
    "print(e)"
   ],
   "metadata": {
    "execution": {
     "iopub.status.busy": "2022-12-08T16:03:13.301352Z",
     "iopub.execute_input": "2022-12-08T16:03:13.301708Z",
     "iopub.status.idle": "2022-12-08T16:03:13.309658Z",
     "shell.execute_reply.started": "2022-12-08T16:03:13.301678Z",
     "shell.execute_reply": "2022-12-08T16:03:13.308711Z"
    },
    "trusted": true
   },
   "execution_count": 54,
   "outputs": [
    {
     "name": "stdout",
     "output_type": "stream",
     "text": [
      "tensor(1618.1781, grad_fn=<ExpBackward>)\n"
     ]
    }
   ]
  },
  {
   "cell_type": "code",
   "source": [
    "e.backward()\n",
    "show_tensor_params(input_tensor)"
   ],
   "metadata": {
    "execution": {
     "iopub.status.busy": "2022-12-08T16:03:15.063827Z",
     "iopub.execute_input": "2022-12-08T16:03:15.064494Z",
     "iopub.status.idle": "2022-12-08T16:03:15.071730Z",
     "shell.execute_reply.started": "2022-12-08T16:03:15.064456Z",
     "shell.execute_reply": "2022-12-08T16:03:15.070415Z"
    },
    "trusted": true
   },
   "execution_count": 55,
   "outputs": [
    {
     "name": "stdout",
     "output_type": "stream",
     "text": [
      "(tensor(1618.1781, grad_fn=<ExpBackward>),)\n",
      "(tensor(7.3891, grad_fn=<ExpBackward>),)\n",
      "---\n",
      "data - 2.0\n",
      "grad - 11956.80859375\n",
      "grad_fn - None\n",
      "req_grad - True\n",
      "is_leaf - True\n"
     ]
    }
   ]
  },
  {
   "cell_type": "code",
   "source": [
    "input_tensor = torch.tensor(2.0, requires_grad=True)\n",
    "exp = Exp()\n",
    "e = exp.apply(input_tensor)\n",
    "e = exp.apply(e)\n",
    "print(e)"
   ],
   "metadata": {
    "execution": {
     "iopub.status.busy": "2022-12-08T16:06:33.887380Z",
     "iopub.execute_input": "2022-12-08T16:06:33.887742Z",
     "iopub.status.idle": "2022-12-08T16:06:33.895569Z",
     "shell.execute_reply.started": "2022-12-08T16:06:33.887711Z",
     "shell.execute_reply": "2022-12-08T16:06:33.894558Z"
    },
    "trusted": true
   },
   "execution_count": 56,
   "outputs": [
    {
     "name": "stdout",
     "output_type": "stream",
     "text": [
      "tensor(1618.1781, grad_fn=<ExpBackward>)\n"
     ]
    }
   ]
  },
  {
   "cell_type": "code",
   "source": [
    "e.backward()\n",
    "show_tensor_params(input_tensor)"
   ],
   "metadata": {
    "execution": {
     "iopub.status.busy": "2022-12-08T16:06:40.462821Z",
     "iopub.execute_input": "2022-12-08T16:06:40.463812Z",
     "iopub.status.idle": "2022-12-08T16:06:40.471069Z",
     "shell.execute_reply.started": "2022-12-08T16:06:40.463778Z",
     "shell.execute_reply": "2022-12-08T16:06:40.469961Z"
    },
    "trusted": true
   },
   "execution_count": 57,
   "outputs": [
    {
     "name": "stdout",
     "output_type": "stream",
     "text": [
      "(tensor(1618.1781, grad_fn=<ExpBackward>),)\n",
      "(tensor(7.3891, grad_fn=<ExpBackward>),)\n",
      "---\n",
      "data - 2.0\n",
      "grad - 11956.80859375\n",
      "grad_fn - None\n",
      "req_grad - True\n",
      "is_leaf - True\n"
     ]
    }
   ]
  },
  {
   "cell_type": "markdown",
   "source": [
    "Практическое задание: написать собственный движок автоматического дифференцирования, а именно: реализовать"
   ],
   "metadata": {
    "id": "fA2PNhudUNij"
   }
  },
  {
   "cell_type": "code",
   "source": [
    "class Value:\n",
    "    \"\"\" stores a single scalar value and its gradient \"\"\"\n",
    "\n",
    "    def __init__(self, data, _children=(), _op=''):\n",
    "        self.data = data\n",
    "        self.grad = 0\n",
    "        # internal variables used for autograd graph construction\n",
    "        self._backward = lambda prev_grad: None  # function\n",
    "        self._prev = set(_children)  # set of Value objects\n",
    "        self._op = _op  # the op that produced this node, string ('+', '-', ....)\n",
    "\n",
    "    def __add__(self, other):\n",
    "        other = other if isinstance(other, Value) else Value(other)\n",
    "        out = Value(self.data + other.data)\n",
    "\n",
    "        def _backward(pred_grad):\n",
    "            self.grad += 1 * pred_grad\n",
    "            other.grad += 1 * pred_grad\n",
    "\n",
    "        out._backward = _backward\n",
    "        out._prev = {self, other}\n",
    "        out._op = '+'\n",
    "\n",
    "        return out\n",
    "\n",
    "    def __mul__(self, other):\n",
    "        other = other if isinstance(other, Value) else Value(other)\n",
    "        out = Value(other.data * self.data)\n",
    "\n",
    "        def _backward(pred_grad):\n",
    "            self.grad += other.data * pred_grad\n",
    "            other.grad += self.data * pred_grad\n",
    "\n",
    "        out._backward = _backward\n",
    "        out._prev = {self, other}\n",
    "        out._op = '*'\n",
    "\n",
    "        return out\n",
    "\n",
    "    def __pow__(self, other):\n",
    "        assert isinstance(other, (int, float)), \"only supporting int/float powers for now\"\n",
    "        out = Value(self.data ** other)\n",
    "\n",
    "        def _backward(pred_grad):\n",
    "            self.grad += other * self.data ** (other - 1) * pred_grad\n",
    "\n",
    "        out._backward = _backward\n",
    "        out._prev = {self}\n",
    "        out._op = '^'\n",
    "\n",
    "        return out\n",
    "\n",
    "    def relu(self):\n",
    "        out = Value(self.data if self.data > 0 else 0)\n",
    "\n",
    "        def _backward(pred_grad):\n",
    "            self.grad += (1 if self.data > 0 else 0) * pred_grad\n",
    "\n",
    "        out._backward = _backward\n",
    "        out._prev = {self}\n",
    "        out._op = 'ReLU'\n",
    "\n",
    "        return out\n",
    "\n",
    "    def backward(self):\n",
    "\n",
    "        # topological order all of the children in the graph\n",
    "        topo = []\n",
    "        visited = set()\n",
    "\n",
    "        def build_topo(v):\n",
    "            if v not in visited:\n",
    "                visited.add(v)\n",
    "                for child in v._prev:\n",
    "                    build_topo(child)\n",
    "                topo.append(v)\n",
    "\n",
    "        build_topo(self)\n",
    "\n",
    "        # go one variable at a time and apply the chain rule to get its gradient\n",
    "        self.grad = 1\n",
    "        for v in reversed(topo):\n",
    "            v._backward(v.grad)\n",
    "\n",
    "    def __neg__(self):  # -self\n",
    "        return self * -1\n",
    "\n",
    "    def __radd__(self, other):  # other + self\n",
    "        return self + other\n",
    "\n",
    "    def __sub__(self, other):  # self - other\n",
    "        return self + (-other)\n",
    "\n",
    "    def __rsub__(self, other):  # other - self\n",
    "        return other + (-self)\n",
    "\n",
    "    def __rmul__(self, other):  # other * self\n",
    "        return self * other\n",
    "\n",
    "    def __truediv__(self, other):  # self / other\n",
    "        return self * other ** -1\n",
    "\n",
    "    def __rtruediv__(self, other):  # other / self\n",
    "        return other * self ** -1\n",
    "\n",
    "    def __repr__(self):\n",
    "        return f\"Value(data={self.data}, grad={self.grad})\"\n",
    "\n"
   ],
   "metadata": {
    "id": "chDdD9oSUlUJ",
    "scrolled": true,
    "execution": {
     "iopub.status.busy": "2022-12-08T16:36:43.175567Z",
     "iopub.execute_input": "2022-12-08T16:36:43.175926Z",
     "iopub.status.idle": "2022-12-08T16:36:43.193195Z",
     "shell.execute_reply.started": "2022-12-08T16:36:43.175894Z",
     "shell.execute_reply": "2022-12-08T16:36:43.192251Z"
    },
    "trusted": true
   },
   "execution_count": 66,
   "outputs": []
  },
  {
   "cell_type": "code",
   "source": [
    "def test_sanity_check():\n",
    "\n",
    "    x = Value(-4.0)\n",
    "    z = 2 * x + 2 + x\n",
    "  \n",
    "    q = z.relu() + z * x\n",
    "    h = (z * z).relu()\n",
    "    y = h + q + q * x\n",
    "    y.backward()\n",
    "    xmg, ymg = x, y\n",
    "\n",
    "    x = torch.Tensor([-4.0]).double()\n",
    "    x.requires_grad = True\n",
    "    z = 2 * x + 2 + x\n",
    "    q = z.relu() + z * x\n",
    "    h = (z * z).relu()\n",
    "    y = h + q + q * x\n",
    "    y.backward()\n",
    "    xpt, ypt = x, y\n",
    "\n",
    "    \n",
    "    # forward pass went well\n",
    "    assert ymg.data == ypt.data.item()\n",
    "    # backward pass went well\n",
    "    print(xmg, xpt, xpt.grad)\n",
    "    assert xmg.grad == xpt.grad.item()\n",
    "\n",
    "\n",
    "def test_more_ops():\n",
    "\n",
    "    a = Value(-4.0)\n",
    "    b = Value(2.0)\n",
    "    c = a + b\n",
    "    d = a * b + b**3\n",
    "    c += c + 1\n",
    "    c += 1 + c + (-a)\n",
    "    d += d * 2 + (b + a).relu()\n",
    "    d += 3 * d + (b - a).relu()\n",
    "    e = c - d\n",
    "    f = e**2\n",
    "    g = f / 2.0\n",
    "    g += 10.0 / f\n",
    "    g.backward()\n",
    "    amg, bmg, gmg = a, b, g\n",
    "\n",
    "    a = torch.Tensor([-4.0]).double()\n",
    "    b = torch.Tensor([2.0]).double()\n",
    "    a.requires_grad = True\n",
    "    b.requires_grad = True\n",
    "    c = a + b\n",
    "    d = a * b + b**3\n",
    "    c = c + c + 1\n",
    "    c = c + 1 + c + (-a)\n",
    "    d = d + d * 2 + (b + a).relu()\n",
    "    d = d + 3 * d + (b - a).relu()\n",
    "    e = c - d\n",
    "    f = e**2\n",
    "    g = f / 2.0\n",
    "    g = g + 10.0 / f\n",
    "    g.backward()\n",
    "    apt, bpt, gpt = a, b, g\n",
    "\n",
    "    tol = 1e-6\n",
    "    # forward pass went well\n",
    "    assert abs(gmg.data - gpt.data.item()) < tol\n",
    "    # backward pass went well\n",
    "    assert abs(amg.grad - apt.grad.item()) < tol\n",
    "    assert abs(bmg.grad - bpt.grad.item()) < tol"
   ],
   "metadata": {
    "id": "vY7OzWjuUiaa",
    "execution": {
     "iopub.status.busy": "2022-12-08T16:36:31.362458Z",
     "iopub.execute_input": "2022-12-08T16:36:31.362802Z",
     "iopub.status.idle": "2022-12-08T16:36:31.377284Z",
     "shell.execute_reply.started": "2022-12-08T16:36:31.362773Z",
     "shell.execute_reply": "2022-12-08T16:36:31.376196Z"
    },
    "trusted": true
   },
   "execution_count": 67,
   "outputs": []
  },
  {
   "cell_type": "code",
   "source": [
    "a = Value(-4.0)\n",
    "b = Value(2.0)\n",
    "d = Value(3.0)"
   ],
   "metadata": {
    "colab": {
     "base_uri": "https://localhost:8080/"
    },
    "id": "1LgTiYeZ-WGk",
    "outputId": "a334fd44-c71e-4f4e-ce44-301e90d1d03e",
    "execution": {
     "iopub.status.busy": "2022-12-08T16:36:33.095130Z",
     "iopub.execute_input": "2022-12-08T16:36:33.095545Z",
     "iopub.status.idle": "2022-12-08T16:36:33.103936Z",
     "shell.execute_reply.started": "2022-12-08T16:36:33.095511Z",
     "shell.execute_reply": "2022-12-08T16:36:33.102798Z"
    },
    "trusted": true
   },
   "execution_count": 68,
   "outputs": []
  },
  {
   "cell_type": "code",
   "source": [
    "c = a + b\n",
    "e = c * d\n",
    "e.backward()"
   ],
   "metadata": {
    "id": "Y0svSAs2h0Ap",
    "execution": {
     "iopub.status.busy": "2022-12-08T16:36:33.716770Z",
     "iopub.execute_input": "2022-12-08T16:36:33.717312Z",
     "iopub.status.idle": "2022-12-08T16:36:33.722739Z",
     "shell.execute_reply.started": "2022-12-08T16:36:33.717270Z",
     "shell.execute_reply": "2022-12-08T16:36:33.721707Z"
    },
    "trusted": true
   },
   "execution_count": 69,
   "outputs": []
  },
  {
   "cell_type": "code",
   "source": [
    "test_sanity_check()"
   ],
   "metadata": {
    "id": "w9n8DN6RYkrx",
    "execution": {
     "iopub.status.busy": "2022-12-08T16:36:34.866380Z",
     "iopub.execute_input": "2022-12-08T16:36:34.866751Z",
     "iopub.status.idle": "2022-12-08T16:36:34.890964Z",
     "shell.execute_reply.started": "2022-12-08T16:36:34.866719Z",
     "shell.execute_reply": "2022-12-08T16:36:34.889690Z"
    },
    "trusted": true
   },
   "execution_count": 70,
   "outputs": [
    {
     "name": "stdout",
     "output_type": "stream",
     "text": [
      "Value(data=-4.0, grad=46.0) tensor([-4.], dtype=torch.float64, requires_grad=True) tensor([46.], dtype=torch.float64)\n"
     ]
    }
   ]
  },
  {
   "cell_type": "code",
   "source": [
    "test_more_ops()"
   ],
   "metadata": {
    "id": "1T198QDQYh_q"
   },
   "execution_count": 71,
   "outputs": []
  },
  {
   "cell_type": "markdown",
   "source": [
    "# Обучение на основе собственной бибилотеки"
   ],
   "metadata": {
    "id": "o-KbDOhMYHZ1"
   }
  },
  {
   "cell_type": "markdown",
   "source": [
    "## Многослойный перцептрон на основе класса Value"
   ],
   "metadata": {
    "id": "uVK1JLXom0Ze"
   }
  },
  {
   "cell_type": "code",
   "source": [
    "import random\n",
    "\n",
    "class Module:\n",
    "\n",
    "    def zero_grad(self):\n",
    "        ...\n",
    "\n",
    "    def parameters(self):\n",
    "        return []\n",
    "\n",
    "class Neuron(Module):\n",
    "\n",
    "    def __init__(self, nin, nonlin=True):\n",
    "        self.w = ...\n",
    "        self.b = ...\n",
    "        self.nonlin = nonlin\n",
    "\n",
    "    def __call__(self, x):\n",
    "        act = ...\n",
    "        return ...\n",
    "\n",
    "    def parameters(self):\n",
    "        return ...\n",
    "\n",
    "    def __repr__(self):\n",
    "        return f\"{'ReLU' if self.nonlin else 'Linear'}Neuron({len(self.w)})\"\n",
    "\n",
    "class Layer(Module):\n",
    "\n",
    "    def __init__(self, nin, nout, **kwargs):\n",
    "        self.neurons = ...\n",
    "\n",
    "    def __call__(self, x):\n",
    "        out = ...\n",
    "        return out[0] if len(out) == 1 else out\n",
    "\n",
    "    def parameters(self):\n",
    "        return ...\n",
    "\n",
    "    def __repr__(self):\n",
    "        return f\"Layer of [{', '.join(str(n) for n in self.neurons)}]\"\n",
    "\n",
    "class MLP(Module):\n",
    "\n",
    "    def __init__(self, nin, nouts):\n",
    "        sz = ...\n",
    "        self.layers = [Layer(sz[i], sz[i+1], nonlin=(i!=len(nouts)-1)) for i in range(len(nouts))]\n",
    "        \n",
    "    def __call__(self, x):\n",
    "        ...\n",
    "        return x\n",
    "\n",
    "    def parameters(self):\n",
    "        return ...\n",
    "\n",
    "    def __repr__(self):\n",
    "        repr = '\\n'.join(str(layer) for layer in self.layers)\n",
    "        return f\"MLP of [{repr}]\""
   ],
   "metadata": {
    "id": "rkl70dxhkcQN"
   },
   "execution_count": null,
   "outputs": []
  },
  {
   "cell_type": "markdown",
   "source": [
    "## Обучение многослойного перцептрона"
   ],
   "metadata": {
    "id": "YkkaE1V1m5i5"
   }
  },
  {
   "cell_type": "markdown",
   "source": [
    "Сам перцептрон"
   ],
   "metadata": {
    "id": "WWy-H8eCn2zm"
   }
  },
  {
   "cell_type": "code",
   "source": [
    "nn = MLP(3, [4, 4, 1])\n",
    "print(model)\n",
    "print(\"number of parameters\", len(model.parameters()))"
   ],
   "metadata": {
    "id": "3La6nRi4m920"
   },
   "execution_count": null,
   "outputs": []
  },
  {
   "cell_type": "markdown",
   "source": [
    "Набор данных"
   ],
   "metadata": {
    "id": "OvkZVOLcnvqu"
   }
  },
  {
   "cell_type": "code",
   "source": [
    "xs = [\n",
    "  [2.0, 3.0, -1.0],\n",
    "  [3.0, -1.0, 0.5],\n",
    "  [0.5, 1.0, 1.0],\n",
    "  [1.0, 1.0, -1.0],\n",
    "]\n",
    "ys = [1.0, -1.0, -1.0, 1.0] # desired targets"
   ],
   "metadata": {
    "id": "aLJULsNanpVC"
   },
   "execution_count": null,
   "outputs": []
  },
  {
   "cell_type": "code",
   "source": [
    "for k in range(20):\n",
    "\n",
    "    # forward\n",
    "    ...\n",
    "\n",
    "    # calculate loss (mean square error)\n",
    "    ...\n",
    "    \n",
    "    # backward (zero_grad + backward)\n",
    "    ...\n",
    "    \n",
    "    # update\n",
    "    learning_rate = ...\n",
    "    for p in n.parameters():\n",
    "        ...\n",
    "    \n",
    "    if k % 1 == 0:\n",
    "        print(f\"step {k} loss {total_loss.data}, accuracy {acc*100}%\")"
   ],
   "metadata": {
    "id": "OuCTaTB8n5l0"
   },
   "execution_count": null,
   "outputs": []
  },
  {
   "cell_type": "markdown",
   "source": [
    "# Домашнее задание"
   ],
   "metadata": {
    "id": "n4maaWL5yg-f"
   }
  },
  {
   "cell_type": "markdown",
   "source": [
    "**Домашнее задание 1.** Доделать практику. Оформить код в три отдельных модуля `autograd`, `nn`, `train`"
   ],
   "metadata": {
    "id": "2yyK39RYo084"
   }
  },
  {
   "cell_type": "markdown",
   "source": [
    "**Домашнее задание 2 (Опционально).** Создать свою функцию softmax, наследуемую от `torch.autograd.Function` и имплементировать forward и backward проход. Сравнить со стандартной функцией в Pytorch. \n",
    "[Создание функций](https://pytorch.org/tutorials/beginner/examples_autograd/two_layer_net_custom_function.html) [Софтмакс](https://congyuzhou.medium.com/softmax-3408fb42d55a)"
   ],
   "metadata": {
    "id": "FdzPyQ-hylKH"
   }
  },
  {
   "cell_type": "code",
   "source": [
    "# Ваш код"
   ],
   "metadata": {
    "id": "bGMpj9Pf61n2"
   },
   "execution_count": null,
   "outputs": []
  },
  {
   "cell_type": "markdown",
   "source": [
    "**Домашнее задание 3 (Опционально).** Добавить функцию софтмакс в собственну библиотеку автоматического дифференцирования. Сравнить с пунктом 2"
   ],
   "metadata": {
    "id": "3VPpRO6H6SHF"
   }
  },
  {
   "cell_type": "code",
   "source": [
    "# Ваш код"
   ],
   "metadata": {
    "id": "2YJfxtqSphFs"
   },
   "execution_count": null,
   "outputs": []
  },
  {
   "cell_type": "markdown",
   "source": [
    "**Домашнее задание 4 (Опционально).** Добавить визуализацию обучения. Потом мы пройдем более подробно."
   ],
   "metadata": {
    "id": "nRRgw0HNsr_a"
   }
  },
  {
   "cell_type": "markdown",
   "source": [
    "https://docs.wandb.ai/guides/integrations/pytorch"
   ],
   "metadata": {
    "id": "W5AWW52REfn5"
   }
  },
  {
   "cell_type": "markdown",
   "source": [
    "https://docs.wandb.ai/ref/python/watch  "
   ],
   "metadata": {
    "id": "ekFfy3cWVOIW"
   }
  },
  {
   "cell_type": "markdown",
   "source": [
    "https://docs.wandb.ai/guides/track/jupyter"
   ],
   "metadata": {
    "id": "9G4SOp28ok0o"
   }
  },
  {
   "cell_type": "code",
   "source": [
    "!pip install wandb"
   ],
   "metadata": {
    "id": "lumiR8oykL04"
   },
   "execution_count": null,
   "outputs": []
  },
  {
   "cell_type": "code",
   "source": [
    "!wandb login"
   ],
   "metadata": {
    "id": "Xw3c6P7BkP9b"
   },
   "execution_count": null,
   "outputs": []
  },
  {
   "cell_type": "code",
   "source": [
    "import wandb\n",
    "run = wandb.init(project=\"polynom_learning_\")"
   ],
   "metadata": {
    "id": "udPv0ufwkxOv"
   },
   "execution_count": null,
   "outputs": []
  },
  {
   "cell_type": "code",
   "source": [
    "run.finish()"
   ],
   "metadata": {
    "id": "Xtpc9MAUodNs"
   },
   "execution_count": null,
   "outputs": []
  }
 ]
}
