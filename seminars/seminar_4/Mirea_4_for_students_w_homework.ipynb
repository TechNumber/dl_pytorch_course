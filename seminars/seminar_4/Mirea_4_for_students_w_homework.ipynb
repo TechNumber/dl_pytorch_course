{
 "metadata": {
  "kernelspec": {
   "display_name": "Python 3",
   "language": "python",
   "name": "python3"
  },
  "language_info": {
   "name": "python",
   "version": "3.7.12",
   "mimetype": "text/x-python",
   "codemirror_mode": {
    "name": "ipython",
    "version": 3
   },
   "pygments_lexer": "ipython3",
   "nbconvert_exporter": "python",
   "file_extension": ".py"
  },
  "colab": {
   "provenance": []
  },
  "accelerator": "GPU",
  "gpuClass": "standard"
 },
 "nbformat_minor": 4,
 "nbformat": 4,
 "cells": [
  {
   "cell_type": "markdown",
   "source": [
    "# Vit Transformer"
   ],
   "metadata": {
    "id": "mfCxjGV5oTiJ"
   }
  },
  {
   "cell_type": "markdown",
   "source": [
    "## Модель"
   ],
   "metadata": {
    "id": "D-FMYv-jwLiV"
   }
  },
  {
   "cell_type": "code",
   "source": [
    "import torch\n",
    "from torch import nn"
   ],
   "metadata": {
    "id": "3hL_6WoCwLiX",
    "execution": {
     "iopub.status.busy": "2023-02-19T14:29:08.419906Z",
     "iopub.execute_input": "2023-02-19T14:29:08.420845Z",
     "iopub.status.idle": "2023-02-19T14:29:09.994767Z",
     "shell.execute_reply.started": "2023-02-19T14:29:08.420758Z",
     "shell.execute_reply": "2023-02-19T14:29:09.993600Z"
    },
    "trusted": true
   },
   "execution_count": 1,
   "outputs": []
  },
  {
   "cell_type": "code",
   "source": [
    "# Смоделируем данные\n",
    "\n",
    "n_features = 10  # Количество признаков\n",
    "n_classes = 3  # Количество классов\n",
    "batch_size = 5 \n",
    "\n",
    "data = torch.randn((batch_size, n_features))\n",
    "print(data.shape)\n",
    "print(data)"
   ],
   "metadata": {
    "id": "GVgNwDyzwLiY",
    "outputId": "12963669-c25f-4252-cb51-90c92f710dba",
    "colab": {
     "base_uri": "https://localhost:8080/"
    },
    "execution": {
     "iopub.status.busy": "2023-02-19T14:29:09.996744Z",
     "iopub.execute_input": "2023-02-19T14:29:09.997309Z",
     "iopub.status.idle": "2023-02-19T14:29:10.073374Z",
     "shell.execute_reply.started": "2023-02-19T14:29:09.997269Z",
     "shell.execute_reply": "2023-02-19T14:29:10.072381Z"
    },
    "trusted": true
   },
   "execution_count": 2,
   "outputs": [
    {
     "name": "stdout",
     "output_type": "stream",
     "text": [
      "torch.Size([5, 10])\n",
      "tensor([[ 0.5589,  0.0802,  0.3944,  0.0969, -1.2385,  0.5998, -0.6889, -0.5860,\n",
      "          0.3113, -0.0137],\n",
      "        [ 0.0202, -0.7358, -0.7950,  0.1727, -0.1478,  1.5512, -0.5337, -0.7009,\n",
      "         -0.7723, -0.2491],\n",
      "        [-0.0956,  0.6090, -0.9796,  1.0532,  1.8489, -0.2773, -0.3571, -0.8735,\n",
      "          0.6746,  0.3242],\n",
      "        [ 0.2130, -0.4064,  0.4562,  0.0692,  0.4672, -1.3482,  0.7206,  0.1788,\n",
      "          0.1646, -0.4228],\n",
      "        [-0.6793,  1.4267, -0.2582,  0.0930,  0.7736, -0.2133, -2.1203,  1.0483,\n",
      "          1.1972,  0.4434]])\n"
     ]
    }
   ]
  },
  {
   "cell_type": "code",
   "source": [
    "# Зададим простую модель\n",
    "model = nn.Linear(n_features, n_classes)"
   ],
   "metadata": {
    "id": "GKVgvWaawLiZ",
    "execution": {
     "iopub.status.busy": "2023-02-19T14:29:10.075018Z",
     "iopub.execute_input": "2023-02-19T14:29:10.075817Z",
     "iopub.status.idle": "2023-02-19T14:29:10.081946Z",
     "shell.execute_reply.started": "2023-02-19T14:29:10.075773Z",
     "shell.execute_reply": "2023-02-19T14:29:10.080894Z"
    },
    "trusted": true
   },
   "execution_count": 3,
   "outputs": []
  },
  {
   "cell_type": "code",
   "source": [
    "# Применим модель к вектору\n",
    "answer = model(data)\n",
    "print(answer.shape)\n",
    "print(answer)"
   ],
   "metadata": {
    "id": "PyfujdNcwLia",
    "outputId": "2a36373f-c349-43f4-f8f1-44ae1404a07d",
    "colab": {
     "base_uri": "https://localhost:8080/"
    },
    "execution": {
     "iopub.status.busy": "2023-02-19T14:29:10.085473Z",
     "iopub.execute_input": "2023-02-19T14:29:10.086000Z",
     "iopub.status.idle": "2023-02-19T14:29:10.127657Z",
     "shell.execute_reply.started": "2023-02-19T14:29:10.085973Z",
     "shell.execute_reply": "2023-02-19T14:29:10.126156Z"
    },
    "trusted": true
   },
   "execution_count": 4,
   "outputs": [
    {
     "name": "stdout",
     "output_type": "stream",
     "text": [
      "torch.Size([5, 3])\n",
      "tensor([[-0.2303, -0.3228, -0.4147],\n",
      "        [-0.1225,  0.4043,  0.4657],\n",
      "        [-0.3629,  0.2782,  0.4268],\n",
      "        [-0.0831,  0.2372,  0.0211],\n",
      "        [-0.4622, -0.0456, -0.2161]], grad_fn=<AddmmBackward0>)\n"
     ]
    }
   ]
  },
  {
   "cell_type": "code",
   "source": [
    "# Модель как наследник nn.Module\n",
    "class SimpleNN(nn.Module):\n",
    "    def __init__(self, n_features, n_classes):\n",
    "        super().__init__()\n",
    "\n",
    "        self.lin = nn.Linear(n_features, n_classes)\n",
    "\n",
    "    def forward(self, x):\n",
    "        return self.lin(x)"
   ],
   "metadata": {
    "id": "oCsGwzuRwLib",
    "execution": {
     "iopub.status.busy": "2023-02-19T14:29:10.130725Z",
     "iopub.execute_input": "2023-02-19T14:29:10.131024Z",
     "iopub.status.idle": "2023-02-19T14:29:10.137223Z",
     "shell.execute_reply.started": "2023-02-19T14:29:10.130999Z",
     "shell.execute_reply": "2023-02-19T14:29:10.136150Z"
    },
    "trusted": true
   },
   "execution_count": 5,
   "outputs": []
  },
  {
   "cell_type": "code",
   "source": [
    "# Попробуем применить модель в виде класса к данным\n",
    "model = SimpleNN(n_features, n_classes)\n",
    "\n",
    "answer = model(data)\n",
    "print(answer.shape)\n",
    "print(answer)"
   ],
   "metadata": {
    "id": "AJvKzV5ewLic",
    "outputId": "b784fcd5-03f9-4abd-a554-60f0cc2f053d",
    "colab": {
     "base_uri": "https://localhost:8080/"
    },
    "execution": {
     "iopub.status.busy": "2023-02-19T14:29:10.138547Z",
     "iopub.execute_input": "2023-02-19T14:29:10.139440Z",
     "iopub.status.idle": "2023-02-19T14:29:10.147424Z",
     "shell.execute_reply.started": "2023-02-19T14:29:10.139404Z",
     "shell.execute_reply": "2023-02-19T14:29:10.146390Z"
    },
    "trusted": true
   },
   "execution_count": 6,
   "outputs": [
    {
     "name": "stdout",
     "output_type": "stream",
     "text": [
      "torch.Size([5, 3])\n",
      "tensor([[-0.1275, -0.1295,  0.1917],\n",
      "        [ 0.1864,  0.0651,  0.0036],\n",
      "        [-0.0476,  0.8188, -0.1587],\n",
      "        [ 0.4028, -0.7506, -0.1177],\n",
      "        [ 0.0684,  1.0636, -1.1000]], grad_fn=<AddmmBackward0>)\n"
     ]
    }
   ]
  },
  {
   "cell_type": "code",
   "source": [
    "from torchsummary import summary\n",
    "\n",
    "model = SimpleNN(n_features, n_classes).cuda()\n",
    "\n",
    "# 5, 10\n",
    "input_size = (batch_size, n_features)\n",
    "print(summary(model, input_size))"
   ],
   "metadata": {
    "id": "3I-SqCkrwLid",
    "outputId": "f385357c-8203-46c3-f437-a5cc0e824ab7",
    "colab": {
     "base_uri": "https://localhost:8080/",
     "height": 417
    },
    "execution": {
     "iopub.status.busy": "2023-02-19T14:29:10.148818Z",
     "iopub.execute_input": "2023-02-19T14:29:10.149836Z",
     "iopub.status.idle": "2023-02-19T14:29:25.631236Z",
     "shell.execute_reply.started": "2023-02-19T14:29:10.149795Z",
     "shell.execute_reply": "2023-02-19T14:29:25.629944Z"
    },
    "trusted": true
   },
   "execution_count": 7,
   "outputs": [
    {
     "name": "stdout",
     "output_type": "stream",
     "text": [
      "----------------------------------------------------------------\n",
      "        Layer (type)               Output Shape         Param #\n",
      "================================================================\n",
      "            Linear-1                 [-1, 5, 3]              33\n",
      "================================================================\n",
      "Total params: 33\n",
      "Trainable params: 33\n",
      "Non-trainable params: 0\n",
      "----------------------------------------------------------------\n",
      "Input size (MB): 0.00\n",
      "Forward/backward pass size (MB): 0.00\n",
      "Params size (MB): 0.00\n",
      "Estimated Total Size (MB): 0.00\n",
      "----------------------------------------------------------------\n",
      "None\n"
     ]
    }
   ]
  },
  {
   "cell_type": "code",
   "source": [
    "# Модель как sequential\n",
    "model = nn.Sequential(nn.Linear(n_features, n_classes))\n",
    "\n",
    "answer = model(data)\n",
    "print(answer.shape)\n",
    "print(answer)"
   ],
   "metadata": {
    "id": "YIBvYYBewLie",
    "execution": {
     "iopub.status.busy": "2023-02-19T14:29:25.633181Z",
     "iopub.execute_input": "2023-02-19T14:29:25.633771Z",
     "iopub.status.idle": "2023-02-19T14:29:25.641961Z",
     "shell.execute_reply.started": "2023-02-19T14:29:25.633729Z",
     "shell.execute_reply": "2023-02-19T14:29:25.640776Z"
    },
    "trusted": true
   },
   "execution_count": 8,
   "outputs": [
    {
     "name": "stdout",
     "output_type": "stream",
     "text": [
      "torch.Size([5, 3])\n",
      "tensor([[-0.0452,  0.2694, -0.3855],\n",
      "        [-0.0914,  0.4373, -0.8429],\n",
      "        [ 0.5737,  0.5737,  0.4307],\n",
      "        [ 0.0534,  0.2777,  0.0788],\n",
      "        [ 0.7021,  0.0620,  1.0626]], grad_fn=<AddmmBackward0>)\n"
     ]
    }
   ]
  },
  {
   "cell_type": "code",
   "source": [
    "# Модель как nn.ModuleList\n",
    "\n",
    "model = nn.ModuleList([nn.Linear(n_features, n_classes)])\n",
    "\n",
    "# answer = model(data)\n",
    "# print(answer.shape)\n",
    "# print(answer)\n",
    "\n",
    "answer = model[0](data)\n",
    "print(answer.shape)\n",
    "print(answer)\n"
   ],
   "metadata": {
    "id": "uBwzYlptwLif",
    "execution": {
     "iopub.status.busy": "2023-02-19T14:29:25.643422Z",
     "iopub.execute_input": "2023-02-19T14:29:25.643905Z",
     "iopub.status.idle": "2023-02-19T14:29:25.655825Z",
     "shell.execute_reply.started": "2023-02-19T14:29:25.643858Z",
     "shell.execute_reply": "2023-02-19T14:29:25.654671Z"
    },
    "trusted": true
   },
   "execution_count": 9,
   "outputs": [
    {
     "name": "stdout",
     "output_type": "stream",
     "text": [
      "torch.Size([5, 3])\n",
      "tensor([[-0.4538, -0.3708, -0.0788],\n",
      "        [-0.9524,  0.0063,  0.0382],\n",
      "        [ 0.1445,  0.0192,  0.1958],\n",
      "        [ 0.6490, -0.4464, -0.5139],\n",
      "        [ 0.0891,  0.2724,  0.5520]], grad_fn=<AddmmBackward0>)\n"
     ]
    }
   ]
  },
  {
   "cell_type": "code",
   "source": [
    "# Проверим параметры модели\n",
    "class ParametersCheck(nn.Module):\n",
    "    def __init__(self, n_features, n_classes):\n",
    "        super().__init__()\n",
    "\n",
    "        self.lin = nn.Linear(n_features, n_classes)\n",
    "        self.seq = nn.Sequential(nn.Linear(n_features, n_classes))\n",
    "        self.module_list = nn.ModuleList([nn.Linear(n_features, n_classes)])\n",
    "        self.list_of_layers = [nn.Linear(n_features, n_classes)]\n",
    "        self.param = nn.Parameter(torch.FloatTensor((1, 6, 7, 9)))\n"
   ],
   "metadata": {
    "id": "m5fE17SRwLig",
    "execution": {
     "iopub.status.busy": "2023-02-19T14:29:25.660828Z",
     "iopub.execute_input": "2023-02-19T14:29:25.661093Z",
     "iopub.status.idle": "2023-02-19T14:29:25.667710Z",
     "shell.execute_reply.started": "2023-02-19T14:29:25.661069Z",
     "shell.execute_reply": "2023-02-19T14:29:25.666620Z"
    },
    "trusted": true
   },
   "execution_count": 10,
   "outputs": []
  },
  {
   "cell_type": "code",
   "source": [
    "model = ParametersCheck(n_features, n_classes)\n",
    "\n",
    "for i, param in enumerate(model.parameters()):\n",
    "    print(f'Параметр #{i + 1}.')\n",
    "    print(f'\\t{param.shape}')"
   ],
   "metadata": {
    "id": "pzvFgyhHwLih",
    "execution": {
     "iopub.status.busy": "2023-02-19T14:29:25.668932Z",
     "iopub.execute_input": "2023-02-19T14:29:25.669772Z",
     "iopub.status.idle": "2023-02-19T14:29:25.680007Z",
     "shell.execute_reply.started": "2023-02-19T14:29:25.669744Z",
     "shell.execute_reply": "2023-02-19T14:29:25.678742Z"
    },
    "trusted": true
   },
   "execution_count": 11,
   "outputs": [
    {
     "name": "stdout",
     "output_type": "stream",
     "text": [
      "Параметр #1.\n",
      "\ttorch.Size([4])\n",
      "Параметр #2.\n",
      "\ttorch.Size([3, 10])\n",
      "Параметр #3.\n",
      "\ttorch.Size([3])\n",
      "Параметр #4.\n",
      "\ttorch.Size([3, 10])\n",
      "Параметр #5.\n",
      "\ttorch.Size([3])\n",
      "Параметр #6.\n",
      "\ttorch.Size([3, 10])\n",
      "Параметр #7.\n",
      "\ttorch.Size([3])\n"
     ]
    }
   ]
  },
  {
   "cell_type": "markdown",
   "source": [
    "Параметр #1 - тензор длtorch.FloatTensor((1, 6, 7, 9)), тензор размерности [4]\n",
    "[nn.Linear(n_features, n_classes)] не выводится, поскольку .parameters() не может его распарсить\n",
    "Параметр #2-3 - nn.ModuleList([nn.Linear(n_features, n_classes)]), линейный слой с тремя нейронами, каждый из которых имеет 10 входов. Поэтому у нас есть тензор [3, 10] (три нейрона по 10 весов каждый) и тензор [3] смещений каждого из трёх нейронов\n",
    "То же самое касается Параметров #4-5 (nn.Sequential(nn.Linear(n_features, n_classes))) и Параметров #6-7 (nn.Linear(n_features, n_classes))\n"
   ],
   "metadata": {
    "id": "_TR4x9jlEiIx"
   }
  },
  {
   "cell_type": "markdown",
   "source": [
    "## ViT"
   ],
   "metadata": {
    "id": "9_ccpqgpwLih"
   }
  },
  {
   "cell_type": "markdown",
   "source": [
    "![alt text](https://drive.google.com/uc?export=view&id=1J5TvycDPs8pzfvlXvtO5MCFBy64yp9Fa)"
   ],
   "metadata": {
    "id": "O9Ck2xnvwLii"
   }
  },
  {
   "cell_type": "code",
   "source": [
    "import torch\n",
    "import torch.nn.functional as F\n",
    "import matplotlib.pyplot as plt\n",
    "\n",
    "from torch import nn\n",
    "from torch import Tensor\n",
    "from PIL import Image\n",
    "from torchvision.transforms import Compose, Resize, ToTensor\n",
    "# from einops import rearrange, reduce, repeat\n",
    "# from einops.layers.torch import Rearrange, Reduce\n",
    "# from torchsummary import summary"
   ],
   "metadata": {
    "id": "khe7vy_ZwLii",
    "execution": {
     "iopub.status.busy": "2023-02-19T14:29:35.836199Z",
     "iopub.execute_input": "2023-02-19T14:29:35.836641Z",
     "iopub.status.idle": "2023-02-19T14:29:36.068783Z",
     "shell.execute_reply.started": "2023-02-19T14:29:35.836597Z",
     "shell.execute_reply": "2023-02-19T14:29:36.067843Z"
    },
    "trusted": true
   },
   "execution_count": 12,
   "outputs": []
  },
  {
   "cell_type": "markdown",
   "source": [
    "![](https://amaarora.github.io/images/vit-01.png)"
   ],
   "metadata": {
    "id": "cbPI9vsXDZH9"
   }
  },
  {
   "cell_type": "markdown",
   "source": [
    "## Часть 1. Patch Embedding, CLS Token, Position Encoding"
   ],
   "metadata": {
    "id": "I7Au2Fd1FZbj"
   }
  },
  {
   "cell_type": "markdown",
   "source": [
    "![](https://amaarora.github.io/images/vit-02.png)"
   ],
   "metadata": {
    "id": "YjbKwA7lGY3O"
   }
  },
  {
   "cell_type": "code",
   "source": [
    "# input image `B, C, H, W`\n",
    "x = torch.randn(1, 3, 224, 224)\n",
    "# 2D conv\n",
    "conv = nn.Conv2d(3, 768, 16, 16)\n",
    "x = conv(x)\n",
    "print(x.shape)\n",
    "print(x.reshape(1, -1, 196).transpose(1, 2).shape)\n",
    "print(x.reshape(1, -1, 768).shape)\n",
    "print(x.reshape(1, 196, -1).shape)\n",
    "\n",
    "# Не одно и то же\n",
    "print(x.reshape(1, -1, 196).transpose(1, 2)[:, :5, :5])\n",
    "print(x.reshape(1, -1, 768)[:, :5, :5])\n",
    "print(x.reshape(1, 196, -1)[:, :5, :5])\n",
    "\n",
    "x = x.reshape(1, -1, 196).transpose(1, 2)"
   ],
   "metadata": {
    "id": "9tH4Nb22GeuS",
    "execution": {
     "iopub.status.busy": "2023-02-19T14:29:36.071193Z",
     "iopub.execute_input": "2023-02-19T14:29:36.071576Z",
     "iopub.status.idle": "2023-02-19T14:29:36.137602Z",
     "shell.execute_reply.started": "2023-02-19T14:29:36.071538Z",
     "shell.execute_reply": "2023-02-19T14:29:36.136575Z"
    },
    "trusted": true
   },
   "execution_count": 13,
   "outputs": [
    {
     "name": "stdout",
     "output_type": "stream",
     "text": [
      "torch.Size([1, 768, 14, 14])\n",
      "torch.Size([1, 196, 768])\n",
      "torch.Size([1, 196, 768])\n",
      "torch.Size([1, 196, 768])\n",
      "tensor([[[ 1.9820e-01,  3.5735e-02,  7.3878e-02,  1.2364e+00,  1.3674e+00],\n",
      "         [-2.4284e-01, -2.5351e-01, -4.9248e-01,  2.9324e-01, -2.9278e-01],\n",
      "         [-8.5247e-02,  6.6871e-01, -5.8609e-01,  5.7148e-02, -6.7786e-01],\n",
      "         [-7.6983e-02, -1.7448e-01,  1.8261e-01,  8.7499e-01, -1.7342e+00],\n",
      "         [-3.6403e-01,  1.0650e+00, -9.1690e-01, -1.5085e-03, -3.4499e-01]]],\n",
      "       grad_fn=<SliceBackward0>)\n",
      "tensor([[[ 0.1982, -0.2428, -0.0852, -0.0770, -0.3640],\n",
      "         [ 0.0444, -0.7480,  0.1472, -0.9912,  0.6310],\n",
      "         [-0.4030, -0.1425,  0.6838, -0.5301,  0.3148],\n",
      "         [ 0.5554, -0.1558,  0.4384, -0.0945,  0.4003],\n",
      "         [ 0.3640, -0.4141,  0.9624, -0.1521, -0.0746]]],\n",
      "       grad_fn=<SliceBackward0>)\n",
      "tensor([[[ 0.1982, -0.2428, -0.0852, -0.0770, -0.3640],\n",
      "         [ 0.0444, -0.7480,  0.1472, -0.9912,  0.6310],\n",
      "         [-0.4030, -0.1425,  0.6838, -0.5301,  0.3148],\n",
      "         [ 0.5554, -0.1558,  0.4384, -0.0945,  0.4003],\n",
      "         [ 0.3640, -0.4141,  0.9624, -0.1521, -0.0746]]],\n",
      "       grad_fn=<SliceBackward0>)\n"
     ]
    }
   ]
  },
  {
   "cell_type": "markdown",
   "source": [
    "Представленные выше операции не эквивалентны. Второй и третий случай дают одинаковый результат, поскольку в обоих случаях получается reshape(1, 196, 768). Но это не то же самое, что reshape(1, 768, 196).transpose(1, 2) (первый случай), поскольку тензоры в памяти хранятся по принципу C смежности (строка за строкой, расположенные последовательно друг за другом в виде длинной цепочки), и при формировании нового тензора в первую очередь будут задействованы значения, принадлежащие последней размерности (значения в строках). Другими словами, при переходе [1, 768, 14, 14] -> [1, 196, 768] новый тензор будет составляться из строчек, т.е. 14 строк будут будут проставлены друг за другом, и, поскольку это не равно требуемой размерности 768, будут подхвачены строки из следующей матрицы-канала (второго по счёту из 768 полученных после свёртки каналов) и т.д., пока выстраеваемая цепь не будет иметь длину 768. Очевидно, мы получим не тот результат, который хотим: мы ожидаем, что первая строка полученного тензора будет содержать значения 1-го, 2-го, 3-го и т.д. канала для первого патча, вторая - значения всех каналов для второго патча и т.д., а вместо этого получим, что в первой строке содержатся значение 1-го канала 1-го патча, 2-го патча, 3-го патча и т.д., после значения 1-го канала 196-го патча пойдёт значение 2-го канала 1-го патча и т.д."
   ],
   "metadata": {
    "id": "7IWgi3nJtycH"
   }
  },
  {
   "cell_type": "markdown",
   "source": [
    "![-2147483648_-223167.jpg](data:image/jpeg;base64,/9j/4AAQSkZJRgABAQAAAQABAAD/2wBDAAQDAwQDAwQEAwQFBAQFBgoHBgYGBg0JCggKDw0QEA8NDw4RExgUERIXEg4PFRwVFxkZGxsbEBQdHx0aHxgaGxr/2wBDAQQFBQYFBgwHBwwaEQ8RGhoaGhoaGhoaGhoaGhoaGhoaGhoaGhoaGhoaGhoaGhoaGhoaGhoaGhoaGhoaGhoaGhr/wAARCAIXBQADASIAAhEBAxEB/8QAGwAAAgMBAQEAAAAAAAAAAAAAAwQBAgUABgf/xABIEAABAwIDBQUGAwgCAAYABgMBAAIDBBESITEFE0FRkRQiMmFxBiMzQlKBcpKhFSQ0Q1NigrHB0QcWRGOi4SUmNZOy8GRz8f/EABgBAQEBAQEAAAAAAAAAAAAAAAIBAAME/8QAIxEBAQEBAAMBAQACAwEBAAAAAAERIQISMUFRA0IiMmFxgf/aAAwDAQACEQMRAD8AdiaAANLIuSqy1s1bivG9kc4EpaSwmivxJTRKTlN6mDlc3T8QrQHBXGioLBEvkiUQ7MJN4Ha4fUp3KyUk/jIbDKxunBpxqy/aDaQ2Xs2SctLj4WgczotW2SFU00VVE6KdgkYciCEP02LsCGKg2c0vkZvJTvJHYtSU/FKyapjdG4OAB0S8Ps5QU78UcR9C4kD7JtrGx1MQaA0Bp0Sn0afAtqrX5KAF33QJnbZdahl8xbqr07Q2eMcowFTa1NLUxMjhAIL2l9zbK6LGMNW3lgsnPg36faFbzVLhWxZLmSsmYzS0I/eXfhTDzcZIEN+0Ov8ASnPg06FYKgOWatcWRJSQDhqlqUWqJOdgmH5i6Xps55D6Jz5Rv0+Dkpvkqj1Vr+aBKvOWSDSgGWX7Irjkg0mUkpvxCU+D+ngOSmy5puLqbiy5kFKMkGjHfktxKPIe6gUZ78l+BXSfB/T4UG6gFcXWXMmVtE7yqpoh9WI/ZNUTcOO/1JEO7RtWQ8ImW+5WhR6Pv9S6f6j+mJpGwxl7zZrRclebftztu0mQUGJ9gS7kvSvaHtLXAEEWIKyKembFtl5jYGtEVhYeaMI+3GIgJCC7iQsLbDIhs575JXxljiW4HWJPJehkzaQvNbToamc088DO0MikJdFe10p8G/Wz7P787MgNUS6Qi9zrZap/RI7NnkngvPAacg2DSU9dA2JtqzpqNh0dJn0WhQhu5aQs7bgJkpHDK0w/0tGhNoW880v9Q/TYGZU2yzUXXAgIOgMzRhPoiUjbQM45Ic7hhPHJXo3e4ZfWy6f6hPphTbJRkeKm9hmgZapaN2+/JGpx7pltLIFSbsd6IsDiImC+Vkvwd6MdVBC4ZrjrkiRKsHuymmNuxvol6o+7cm4zdg9Er8CfUgKrrK5sqGwChk6kAhtvqCaaMknUuzFvqCca4Aaq34M+uLSgzRh0bmniCjbwIM8rWscSbADNFWJseIR0sTeLZHD9V6MDILD2aLQROvk+QuFvVbYItqlU8fq2qggcVVddEmPtl4ZC7K+IWWrStAhjGlmhY+2ycEQHF7R+oWywgMHolfgz6La4tdYXtExz4qdoFw6dt+q272AWLtyVrH0bXC+OYfojPpX4cYMNQ0D6U6NFmNqo+2M7w8J4p7fMA8Q6peQwYAjMqj/JKT7UpoB7yZgPK9ylP2w2Q2ghmlPNrMupRmqbjf8AvTvwpsEFYkdVVmcllIQbfM8BGM+0Ld2njv5yf/StiRrE2CE51wVnGfaFh+7xm3/u/wD0huq6wZOo7+jwtItpqE2qJD5BNg3CxY6mqMr8NKb5ZF4FkZslec9wxvq9Wj4tMuKy9rDeCnjGYdKLqXO2g4+GEfcoDoK6WaJ791hYb2F1MU/Sj3knqnQElT5SSX1yTbXW81bOtKsBmqvOqknlkquzaitL0msnLEU3qkqUd6TP5k0DZLygyrEIUh7pRC5CkdcFGEWoRZjuPeKbKVo8mu/EUw4gK+X0ZUHLJDlthIPJXJQ5CCDmtGDpM4RZMHRLUxtGLaXRS7zVv1okpafNjuGSOXZIEzrscOYWi0KnyibbNGvfVCpvhNRCQStfqRNr6oNR8J1uSNiFkCdwMbvILT6t+Lwi0bfREzPqhwuG7b6K5cpY0Vccilage7TRsUtUWwlWfUorfC1WKo1wwi1l2NTFiSblK1Ryb+IJgkc0rVG4Zb6glPqU03IBcTdUacgucbIk5xSkmczPVMOKXmI3kfql4jTYyC4BCbIDoVfGCEVlc9KaVA9Ey8g8Uq4/vDfwpRKb4KdVQOy1XY7cUSQ/MJWH4zwjucEtG61Q8pT4N+nFB1zVcYsql6KofoUCmFr+qM51wg07s3eqUnB/TYUFQHc12IHiiQUoux3oq0/w2+itIRhPFUpiN2Evwf0dcdFBcFGLkiQFSPdnmiRnuD0Q6jNhV4j3RwyS/B3q6qQpuoJCKlagWLeWJMNzCXqD4fxBGaRZK/En1Y2zVTkVD5GsaSTkFRsokYHN0KKhS/FYjDNLynvsKMHJX4KxVHBSXqrnXCil3fGb6I5IsEu43laUYOHqrUi3mqnXJdiVS7NSKCTacHyRQhEje/ZExBWpEEqHeS4kHiqlw5qKAD78gckW6CCN8fREuOataOVXBSXDmqOcLaqMWPx3cMlzvJRiG+Pouc4K2NC02hXh/ado7S3lhXt5nALxHtU4Cdls+6uXnOO/+OzX2dtbFkMQurGtjBzcFdkDLeEdFfcR8Wjou99XnkoHbYiPEMkuayN08djexKdMMdiMA6JYxMFREMIFyeCU9QujitjB8YKJ2+EfNdEZAwfKOivuWcGjojw+gGuiPFAfVx9qjN7WBTphZY2aL+iVdGztUV2ZkFPx9Rume3RgeJd21gzJR2wsA8I6Kd0z6R0XPfE+ljXR2PeSwq4nVLC117ArQMDLHui3olBAztUfdAuDwS8fUbo7ayPiVY1kfNGbCz6R0U7pl/COiG+JZScm0ImtJc4AJMbVphUYt8y2G2q06ilimifG9gLXCxCxofZ7ZzakDsrCC3jcpzBunf25RjLfx/mCqdv0TRnUR/mRBsHZw1o4fyoo2NQN8NLED+EIb4n0o72goy3uyh/k3NJs29aZ7o6ad4w5Wat0UsUQ93GxvoAhwMb2l9wNFZYNZrdsV8g93Qlo/vfZEFftLD8GG/4z/wBLbbG0cArhreS2z+Lledl2rtGMd+jY8f2vP/SHTbdkEjzLRzAn6QCvRvAIsQEtSsbv5O6OF0pZnwLLpH/zCAP4Wo/IqH2jN7NpKg/4L0G7aeAUbpozsOiGz+OnWAPaJ51oqgf4qIduljnk0s5BOVmrfMbRwCXo4m7ybIa8kpmB3Sjdvt4wTjywI37cjLQRHL+QrTbE08ApEYF7gIbD6yXbaZb4Up/wKHT7TcC8thebnktWUC2YQ6JrS6QW4pzMDLpY7QqXeGINHMlUfUVj/wCYxgt9JK2hGOAC4xg6gI7J+Hlee2Y6SmfUurHNcXvuHNBzC0aWrYGO43dcJuWJtrBoQ6KMWdlliKeywMuuNY08+i4VEYOK3etrZO7ptr4Qo3beQXPYWUk+rYGkk/oh0tS3ASTxPBNysbhOQQ6JjXRm4B7xS5g91La2MZXsu7dHfVNbllvCFUxM+kdEd8TyvJbf20GObE2F7i1wcHgZao1HtypEbQaKTyN1sbQ2dDVR4ZG2sQbjyRqCJop2jCEp64PdZY25UgEuoZLeRUs9oLn3lPNH6sW9umgZNCndNOoCNsKaxH7cpXAgyAG3HJFp9s0zYmjetuBzTlVSRPYccbTlxCDTbJo3QsJgYTbWyXMT9WZteE54xZW/a0B+cWRP2XSf0GWPCyl2x6RwF4G/ZTi5Ss+0oXNIa7OyPFXMMbdchyQZ9k0jQbxaDgUSLZMLohgdI0EcHpcwcujduaBx6Kv7QYb65eSgbJYBbezW/EoOxYtXPlcPxo7Cyl59pRODgCQUb9sQRgBz87IFRsqmiYTgJPmSU9DQU4a0iJl7ckrmDJdLftqE+Eud6NJVJNrPPw6eV/8AjZarYmRjusA9ApsC05IcPrzku0Kh5FqYtz+Ypg1Fa8ZBrPVpKfqrWFxxCZDMgnbBkrEMNXKDvKmRoP0MsgT7KbLG4PlqnOI1LivTYbC6q4BHZ/FysKmaaSKnhAe4NyBcFpb94aPdu6KJhaSIn6k3ZK2YMl0sJ5LZxuuqmeUtuInJsNVi3JHZ/CysOrbNUviG7LbODs+K0RJKBnEVMjbTxjO+abDbixVtmJJ0rvpSLCI9Vk7WoZNotiDg+MxuuC05r0AaquaCpLFseVj2LE2RrXU7721Lzcppmw4rm8Up9ZStV38WzlhKdAGStqSMiOiZF4KVgI0RSZhpGOq0C3NUeOaPstjLY6YznuZ25poGY2s0fcrmH94PombXKVqSFjv/AKG9UOQVFsmt6rQw81Qtujq4y499vXWaMVhfNMtbUcQ3qrxtHan+gTeBK1PGES2c6BvVDLKgaBt/VaBFlVyMq2M6nbMZJBYX45pjDMD8tl1O330vqmg25zVtSQrgqL3u2yq9tRbItTtrKr8gjpWMyBs132IHeTAbNlctUUmb5b8HpogXSt6Mhcsm+pqE+Oexs5qcKo/TzUlXCFOyUtd3gMyjOjm4uHRWpdH/AIij+qtvUkK7qX6x0VHxykZPHROlDIuCtq4Sp4pHMycBnyRDDINXjoiUg90L8yjkLW9aQlupLWL/ANECWKTCTj0HJaDhyQJ82EeS0rWFIGyGIHFb7Igjf9f6K1M33LQTfJEIstb1JAN2+/j/AEQZ4pAw9++XJOEIc3w3ei0vWsBijeY297gibl9vH+iJB8Jp8kVa1ZCZikGsiWqInhpOO60nJWp+GbKy9awJkTyB31bdPt4v0R4vCFf0UtaQkYZOL0vURvAHfuLrRcsba088YdhAZG3PEVZUsyHmseR8TNcY3geP9Ejs0SRRPqayU97MB3AJqnr2VL3MZe7eYspasikmJpDTKATokq2SSBocX3JyaPNC2xI4VdOI74zk23qgbZqHMmpIoxieTcDzSlGwzsyOb315CQH2BOd1piKS3jS1O+Ohp4o5XjGdfMlaAcCByKN8ikLGKQ376Bu5BMLvvcJ5zglXvHaWAclfHy1LMX3cn1qkgewEl4AAXSV0UcjWE3cTZK7RkdM+OljNjJm48mrNisBnqcUgkAi0b5+a5jJBM4B/DMp4NEUYa0ANAsF57a20XR1HZqQ3nksBbgrKla0Mpme9kcgJZk6yMYZD86ps2jFFTtYc3nNx5lOZKauEXRzC9nBDpsbsQY9pLTYq21KvslOS0XkccLRzKpsiB0ELg/N5N3HzV3g50wWyt1cF2Ca2ThZL7TkJdBAw2dI/O3IJyaRtPTuc45NbdHSwB7JS094KsLJCwYXCyW2ZtA19O55yIcRZHbVCCIXF3ONmtHFLeJ+iuEkbS5zgAM1zRI9ocHBDrHu7BK59g7AdEXZpL6SJx+kI6uByxy4XXcLKY2SloIcmJh3Hei6HwBXeDnQsEpGbgq7uX6gfsm7XUFHSxmzMlABLgRdEwSAeJGqBdhtzVJZBFC57sgAlbxM6zqrezSsp2u17zrcAmt25oAD7AeSrQxkNdNJ45Dc+Q4JSurQ+YUsLsLj4nclJVsUknklqGxwPDsJ7zrZLQEchaO+gNgZAI2sFgD1ToOSVEIxPPz/oqGJ/9RXkqWRjM3J0A1Kve40spPJcZ8145G432vkjCN1r48kpWO3tZFCzUd53kFetmIEcDDZ8ht6BXUwRh3pdu5L2Nir7h31lEp4GQxhsYsEW2SOrhLdHejvnRE3BHzlWOUw9EVW1sLGAn5yoMBv4ymfJVcM1tbCRi97bEdFfccS53VWOU2XJFUtrSFzANcTuqG6AW1PVNE5IbhdTaskIbn3xGI2spdAzhi6opHvjbkpcra0hCWnbbO5+68T7UxATMIvoveyjJeH9rAd8zDyXLz+O3hJr7LQVbK2miniN45GhwKavZeU9g5Xn2YoRJmQ2y9O13NdHJe4slnC9RFzzTOSXe395ht5pQKfGakFVByzUjVE0uslT/FQn1TRsLpM3NTFY6XS8R8mgOKsCqA5K4KBocMilNaiMnWxTTjkUobmpivkLFLxGnxoLLlw0XFElXeE+iUZ/FAH6SmXeaWbY1Y/CUvFKdHqpPkoC69kFQbAZoEFjUv8ARGcckCH+If6Jz4NPC17KyEr4uaBKvKDSEGaX7IjjyS9Kfey35hOfKN+tG6k6IYNlfEECUecskOk8cnK6u9wAQ6M96Unml+Dfp4KdVHDJTfJEgphlkg0Xiky+ZGktZBo8jJ+JP8H9Ogq3BUupvlmgakmipRABrrfUVL3ZWUUbgGu83FL8H9NE8FIXAg+q69/JAgZ8wVShbaM+pRJdMlSiGGM3+op/gfpv1VTqpxZrnCwug6FZ9Cuo/giyibMFRQm0LQun+rn+nLc1Omqre4VtdVzdAJxeN1uStRt/d2HyUTEBjrcl1G69PHnbLRdPwP01YC11JKre/moJsiZepyY48LI0HwmeiBOQWO8wjQHDGweSt+BPo4UFcHclDnImUqwC0pmOwa23JLVPgKOwjCLpfgT6uTdQpJCo52XJQqXqSLD1CYYcrJSpILRfmmWOsL3V/Bn0Ui4VSL5Kcao6UHiLokXmHfjH9yaHJKSEF8fHvJq6VGfRALqDkNFF7LicrXUMq937xEDzKbH6JST48V+ZTQfYWKtGVfUKpaoDuHFWLss7IkSI/emehTtwAknO/emHyKYxE8UqMWPkqPVrhUecslFpVh/eDzwpxvApJpO/+yba5WjKuf0VCbKbqrs9FCpeN16t/wCEJwai6SiyqX+gTQKtSVclBcbAq5PBUeo1ApfjSpu9kpAbTS58kxiCvl9aLEob33Gi5xVXAcUYtApBd8v4k2bJOmdd0vAYk0SCFfL6kribKr9CrXCo82BUWl6Pwvv9RTDktSnCH/iKYxAt1Sv1Ii6g+Err5aqrn5WWxgqM3iv5lHJyS1I73X3KI5+S1+tEucl5XXYVcuQZSMJz4LRq6nA3TbIhCFTuG6aiX81q0SAhT/CdfkiYghTm8bvRafWqYDeJvKyMTkgQECJtuSIXAKVo5yWqfhlHc8cUtUu926yvjGtFiyaLq980FjwGj0VsQ4KY0rnLD2k/tFTHAM2NIc//AIC2nOABF1gSVDKeSoc9rnSOk0A1HBKRLRK6oa2oZHIcMMbMbvM8AhwzimZLVVPdfLbAzjbgEN2z6itl7VK5sTrWawi4A80x2SOkaZ6p++kA1Og9As2s+aV0dbDVVdw4tOCPl/8AaWY+V1c+ecB01w2Nn03F09TsdV1r6ioHdjbZjeRSuzwaiplnHCRwHqrBpmQMEobM8HBZ8zydOQUVPtBgwtp4y8yDueaHJsmarjLJHbsOcXOOuIqtfs+Kho3SkmScjC03t9lC1eknqtoOdGZbRsPfe3ieQQ59omEBtyZblg5p+mhOz9mBsLbyBtz5lZ1Ns+R0rJ3/ABnOLrOVg2tCio3yGOSZuFrDdrTqTzKLS+/rqmXgyzGpinZMLmdw8mt4IezbNjlvqZHX6okRqn1rpHNgde51LcgFk7EpDNtaWWVxfu/mPEr09bIIqeVwtfCbLN2TT9mfLiyuAbpfg3615XOYy7Gl55BLYqyQ5NbEOZzV6SbfOkkzwE2b5pouFjmibJEPaq8vk7zIBYfi5pyn8cnqh0wETZS/K7yc1Sjm32+c3QuOFIXQs7TXySnwRDA314puphbPC6N/hcLFRTM3MQaSL3uUtWGpc/BBhDSPEeCKsyiZHQyVYjNomf7sp2dMHzb6dpu82ZfQBFrKUQbOcxhLnXu5x1PNCpiaqSGOL4cbsT3cPRL7B/T+134aCW3EWTVCzdUsTeIaEhtMmd8FKz5nAu9AtVlmtA8kcLUTZsd6KsHwwplddpz4KkTgGBX8T9FUFdiHNRiHNFS9SbMKSmPaahkAuWNs5/8A0nKhwwOSdGx7HyFw8TrklL8H9M1Um4p5HgeFpIWW2JgoHSSWxuGIu43WrO0TROY45OFlnN2ce6JpS9jTk3gotXjJMELn5E2Vq6q3LMDBjlcO60K8xAwAc1WCEB75JM3u08glYkL7JYHQ7yTOW9jfgm6qYxtDYxeR2TQup6dlPiDDfEbqd0N8ZSbm1gOSKk44Nw8OecUjrlxQKem7XI+olJANwyx0C0Jbbxt0BsEjWOjY4NZwPFWpBaJxMZDiThJF0zohQxtgjDG6BWLgTqooT/jN9EXysguPvW2PBFuNVakrlDlxcOaGXgnVTqhH432REEuG9uSNFfGOaViSpJVHZ6Li8c1QvF9ckcWAkHffZXcEJzxv8iNFL5G21HVWxpegynLJeK9rB7yO3JexllbzXjPat4L4y3O64+c47+F6+lbEji2Zs+Cka4u3bQCbcVqdsYLa9EWOJo+UX9EXA3kOi78ebpY7QYDx6IZq2maM59E65g4AJew7VFcC2acwbKMa1otr0VhWt8+iYDRbQKwaOQQ4eUoa+PO9+iVkr4mzxyElrW3vcLVcxttAvP1VN+0dqRxS3FLHe4B8R80/Gwbo8ntPSsNo95MBru2F1k7BteGojbJESWOGRsVWsFPs3Z8paxjGhlgALXJXbCojSbMgikHfw3d90P8AifRztFg1xflKD2xrpoyL8eC0TG0jRKhgFVFkOKsviNlX7cOAJ+y41zRwPQpsNF9ArBoB0COw+kX1zQPC63osqDaLTtiVuNxAjBDbaL0EjRY5LyLqE1XtPK2SZ7WmC7cBtxSlg2XW87a8LfE7D6oR9oKME3marR+z1C03kjMp5yOLkduw6BpypIvyBTfFcpF/tLRDWUEeSBH7SUglc4PJBHBpW2Nn0sQ7lPG30YEOGGMVLrMaO7ySl8f4NlIt9pqXUl9vwFFi9oaWoIbG+7jw0Ws2Ng+UdECp2bS1QInp43+ZaEN8f4eX+gmuOVo3W52VKeru+QtY43PAJV2wTDfsNXNTjg2+JvQpWnZtinnkwCCpb64SnLMCy6321L8rRu6LjVSA/Dd0SDK3agPvdnD/ABlCv2vaL/DQhp/ueEOF00+peW5xu6IdJVODn2Y43PLRLPbtV1yRBGOAJJQ6Wm2nK6T95iiz+Vl05mDZdbAq5Cbbt3RQa4s1YR6pVmyal49/XSO8mgBHGw6Zw96ZJD/c8ocLKFNtiJgu82A80rDt+miDnOeCCeC0HbIomjuwMv5hRQ0NOMeGGO2IjwhLZnwculh7SU5ybjPo0lUPtTSXwlzgRwLbLdFNG3JsbR6BRJTQnvOiYSOOEIbP4WVjw7dgrJDHCS54FyLJylqXBp7jjmeCz9l0zJK6uqg0WL8DbDgFs0gGAm1rOKezPg5dc2pk03buikVL7/Dd0UVdU2GCR8ZaXM1BKLT1cU5wtcC8NBIB0Q4WASVbwD7p4+yHS1pDLBjjY8k9MMrrI2hPLBs18tK9jHtOrhwT2Z8TLrUbWOOsbuih1Y4fy39EHYr6iagifWgb1wvkOC0cIGZQ4WVnS1l2m8br25IdLVWiFmOP2TlUQyN5yyCyNn7SkmpW7mF0r7nwjLXmlswcutMVhJzjcPspNaT8jh9kuINoVA949lO3kBiKj9jyvvvayY+mSMwsq8u0BgIwkZKKfaTREy99EvJsOEA43zPPnIUWl2LSGFt4yfVxT5g5dM/tJvIoR2s0E3yRW7Eom5iEE8iSi/symFrQMH2R2FlZtRtePC4aHgiR7ciDGtzLgOATU9JExjrRMGXJMQQRiJlmN05JbMGS6QbtoO8MUrj5MKk7SmcO7SzH7WWqGAWsB0U2HIIbDyvP1NdVlpHZHNbzLkaOq2hhbanbbniTtZYxuCajALG+iWzPgSdZhqq4XvS3/wA1R1TtF3hpmtHm662LA5WVnNyyCOw8edmdtE2MjWNF+AumRHWOHfe4Dk0AJ+p8IFuITLGgpbMGTrGdT1IHcknBPNwKC6jlcCZZJ3ejrL0OHLMJPaL9zRzOGVmlT2LGXQunDAXl0jMfcLjnZaW8mJyjv90tSRllLTAjktTBoraMhUyT2+F+qjeTj5P1TlrKXNBU0sZkks2+i7ljfmjNdOTmwdVZ7fex/iTrWXCtoyFAajgwH7qC+pw3Mbb8rpwNtmqucAEZSxm+/NQ0louQbZoxM40a3quc795jA0sU4ByStGQke0WyDb+qq4VFtG39U9YcdFVwGaPsuMxvaDObhuiO3f8AJq5p/ebH6U4ByyVtSQqBOD8tlD9/buloTlriyo8WU1bGbG2ffuzbchHtUXzLQpiN6p/DupuwKtrSFN3OfmaqPZOL2LU8BbRDejq2M6ETY5MxfimGxzEZub0XQ/Gk5JtgsErUkLbua/jb0Q3Rzm5xttbknTqqOHFSVbGfBFKcfvBe+eSOIZsveCw8l1OTjl/Emhor5XqSFDFMf5tv8VQxzWPvf0Thz0Q3iwUlWwjBFI4OtJazuSPuJP6n6LqP+YD9RTOitvUkLbiQ/wAz9ECSCQXIlPRaHBBk0Kk8msI00cjo/iWz4Ipgf/UPRdSH3f3KOdVbepIUNO/jKeiHJA4NPfKeOiDKbNPotPJbCkELjGO+c+CN2d31lTTX3TSdUwta0hYwO+soc1OcDu+RknCBZBn+G7zCkvWsLwQHdN77r2RDTkDxuRKdvu253yRCLq2tIUdTn63IE8BEZ77j5LQcEtUn3TvRWW6lnAoqcljSXlWNPwxlGi8DUQhS1ZCbqfm42SdTTWAN758VquaEpUt7n3W8alirackAYig1mzTUxhhkc2xvcLQYLgeiutasjHOzTDTPjiecRBzPEpal2X2OGKMOzJu71K3nC6UqRYx/iVlS+MDFMfrKxtoR9p2nTUgcS1vvHf8AC9K0BZ9Ps8srJ6mUgvebN8gpq4t2U28ZSzoCJmgOK1CMkpICKiNXxo2O7O4275VGUGAuwvIBN7JzEOKs2xzBU0vWEZ6LeswPcSCk30DpJt3vCGWz81tOCVt+8/ZWWpYpHR4GhrSQBkFJpnfUU5ZTbyU9lnjGNV0ksrmxscRGfG6/6K1PS4HOY1xAGllpPAzS0QInfyySlGzrhTkauKh1MT85TdgoIR0shCWjxtsXGyBT04iY+xwht9FpOySzYhKJGO0JzVl4NhKhpnTyPqZCRfJnotDs5+oo7GBoAGQCsVNLCb6fuklzlSGEuYDiKck8JuUGmHcV3iWdUMB+sqDTni4pmwUFTa2M+op+6TjKllOSwWcdEeoF43LofAFd4mdB7Mc7uKoaew8R6p0oTjqp7VcZ80BFu8TmitgAGbj1UVbxGy5NrEJbeyVcu6beOO1yeJCW8HOm+z4tHHqp7P8A3u6o0bQxoA4KXFHVwi+ACRveOqL2cc3dV0gvJH6owN1bUwEwC2p6qu4aOJ6pnVVOSmrhJ8IMjRcou5aRx6qH/FaijJW1pAXQNPPqqdnamL5KhOSm2thN0Td6BwIRGws5KH5zg+SNwWtaAmFt7WVDC3iEdUccypqk3RRiawGVlzo2EeEKX/Hv5Kx0VtaQpJEzPJeO9q2gOjsLCy9rJmF4z2taS6MDkVy8rx1/xzr7I3hdXIQ2mysCujksgOA7RER5o9xZLl37xF904lPgcVfRUBVwckCQ8ZGySItUxWAzJTjnZHNZEleI9qw08jcIcCWuOh8kvEfJTbVNO+opphEaiCG7nRNdYk8D5rQ2ZtWDaAcIrskZ4o3Czmpp8rWNLnkADiVlbKibPtCp2hGLRyAMZ/cBxUKNsnklTlURHjmmScskp/6mL7reKU+CcirC5OardWvwRIOTQ+i83Cf/AM1gWNjTHP7r0j9CsKGO/tJi5U+v3SnxK9COSsqjkpBAGSCqvGRS8I/eXX+lMPPdKWiP7y6/JKfBv08AFxC4ZqLokE8ZFApLb6X7JmQiyXpbCWQ+ic+Dfp21lcBUJBUh1hqiSkgyQ6QeMjmrvfdpQ6F195+JKfBv083yVgqB1lOKyBIkGSFRgd+31FWkdcIVE/J5v8xTnwf1oDTNArZN1TyvHBpKuZABmVl7YrWChnax7S8tsADmUP0nbEZbZkTjrJdx+5WhRWMTvxFLUUW5oIIzqGAJii7sXLMp/g/oNfseCtY/u4JHjNzTa/qj0GzYKCO0Le9bNxzJTRddddElH2LTdZs9HHXUT4Xuw53uFoSaLPZs5tQ4S72Rmoc1pyISnwf05suV8tKDKBiaS0kDI24p4jJDiYyGMMYLNGQCuEThDaDb08o4YSgezbQ3ZNPYcD/tH2s4MpJXDg0oWwctl0w07gV/E/WpZd6LuCq7JEgpvCbrqUncsCiZ3dPoupHAQtS/A/TS7govkoJ80SAqT7t19LI9Pbcs9EvUZscPJFp3WjaPJL8GfTHqquPkpxjioLhzRMlVDuFMxDuj0S9V4TnkmIz3BbknfgT6KBbNS5ygOFtVBItmiZaoPdueaZHhCUqnDD9001wwhW/An1fgs3bgJ2bPhGeFaBOWRWVt2qbFQSsLrPlGFo5kqGNF8GD0atEgrMiaY6enYTdzcIJWjjHEq34E+rEAKjjyUlwOhVHFQgX5yReqdByySEh95F6pzGFakWOmqC4qznqhN73UUuQe0M+6cCTeLTR2801jVoxe+aG8j0Vi4EIZKOFpYC1WCfpTgOVzokwL1A/CU03JKpF/0VXkWXYkNzgVFLxm9Q4cbXTY0STB+8uI+lNhytSLgZZoT9FfEEJ7siotBgPvZANcky1J0/xpPsm781cSVYobtFOMWKG45KfrWgU578v4sk3dJ05GOQ/3JkOHNXy+tF/MIbxkrB45qj3ixUW0vR5GT8RTeqUpXeL8RTBeAVb9SXieKDLorueLaoD3CxupPrUOlPuvuUUnNBpnARfcqxkAOuat+pBSckCUjCUKrrGUsMksh7rRcpWKuE9GJ3NMYc29ncAtIpumcN02yPiBK89DU1FQ6FgIgikvYjUgI9QOwOiljke4F4aQ5173Vs6krcvyQZwN26/JWEgA1QppAY3DyUk6tq8A9030RdUGB/umZ8FcvAOZUv1peOIS9TYRPvyRnSDnkl6l7TG4X1Cs+pfgkNgxt+SIgRPAY3PgiGQcStY0vEuzSlT4PumC8Hil6lzTHrxVk61vB49Ar3QWSANF1beNUsWVcpOr/l/iTDpQeKWqHAhufzBWRPKmW5gKbWQxI22q4yC4zUxdS4apKe4mj+6bc9vMJOdzXSMF+aXj9Hysef7ZLWbSqKSN5Ebn2Dr6Aar0tLG+JmF7sQGhWTVUcVLGJaVoa9jsR5nmtWnqWyxMeCLOF1Ksplx5pQ/xLTpkjGUc0tvAalpuLWVka2HdON1xzGSHvG8wuMwtqEcXUP8AJAZlM70RTK2xuUu2Qb5xJysqNpu65CMzbZkKDO3mplJY+aDD8ST1XOmaOIQY5mY3nFxSgWnr2UXyQd+36guMzfqCOFq79ECmPcPqufOzi4D7oEVTFGzvPAzPFWTib09dVJsUkdpR/Jd58gq9te++GIjzJUxtHnPcdbkuhNo23PBIyvnc02LGhWiiDoxvZS640BslnE3pl9VHHq655BBfJLJlEzCDxcisZFH4GgKxkZa9wiWkJabCA55L3XGZVGS9mmkxscS45EC+Sane3DrxV2vaRnZO/B/QRW30ief8VBrDbOKQfZMGRg0soL280cUnJVHE04H5HkritI/lPP2VpHtxNII1RN43mAqmgGseB8F5+yo6uPGGQfZNbxnMLnPbbUKYrOftBrZG4mPA82ordpQE5ut6hWlezGy5CsREdQ0+q1nES2qif4XtP3XF9xkUs+lpnasaD5ZITqZgB3crm+jlsUZzvfN9Ee+SyHNnjlBjmDsuIVxWzRH3kYPm0q2DrTJQ3aJNu04ye9dp8wiGrjcMntI9Ucpahx98PRS88EAzNMos4ZBS6ZvNWxpVZCvG+1r7Oj9CvWyzMPFeR9qHNe6M62uuXn8dv8f19UG0AbYWuI8giCt/sf8AlXmf/DzbJ23sKJ8xvLH3HnmvYNZnou+x5ulzW2F92/ohGrxTx2jeDyIWgWgjRLGwqIr63Kss/iWUZtWQPhv6Kxq3aiN3RMtAAvZWAH2U2fw8pLtZt8J/5VmbRp27REbZGvZhJLXDJzT5L0BGSVcP3iLK+ZS8bB8pWKKCpma2OsqZpoW/KGWLvUhbLJzExrGQuDQLABuieDb5q+EW0Q9p/CykDWPA+FIfslxVuNQz3b7gaEZrVe24ySuH96hPqrLP4llWFVIR8J/RSaqXhE/onRqptyR2fwsrNdVy8YX9EtHM41IkELg/DbMZrYeBhKUjNqgNI4FKWZ8Syo7XKMzE8fZWbVS52ieq7RpKqpjaKGoFO4OuSW4rhJsg21AMpqacf3NLSps/i5Tr6qa3wXoMU8u/J3Tr20KVk2htODKbZpkbxdDID+hQo9vsZPd9HVh2HMbopT/4NjaE8+XunLjNNb4Tlnt27UTC1Psypd5uAaP9qXVG2JfBSwwjm+S5/RH/APCymnTza7o9UOCWUvfZhueF0pJDtog++pWejHH/AJS1Ps7akrpMe0926/yRD/lWWYNl1u72fTd/quMlRbKP9Ug3Yda74m1qg+jWj/hT+w6xt8G1qkerWn/hTYWU0ZagZbu/3UUs0vfwsJzzzSMuytqBtm7UcR//AKm3VaTZFdJjEm05QAfkaBdLmJnW0J5uLAP8lSStMQO8LGAc3gJQezzXD39VUy87yW/0jRez9BHa8IeRxeSUNi5SM3tJEx+CIGd3KPvLqWt2nPE7stIGXd4pHWt9lstpIYBaKJrB5BWoiC1+XzJbM+DnWU3Z+0ZzetmJH0RuwhOMoQxrQKVhw8SbnqtQBEw5ZI+xYz3SVAaQIh1U0b592O5lfmnHts1VoQDET/cVd4mddinHyC3quLqi3g/VN2XEI7Cwg+SoF/dfqq0ksxiyZfM8U5L4SqUZvDlzKWzAzrhJMTmz9VzpJwbiP9U0ByU2R3Dxi7T7VPRyxsi7zmkC5VtnOnhooWGI3Y0C4PJacwyPokGTT7gdmixm51NglvPg51UbSdjLC0tcNQ42KJ2mY/yzbndJS0O0qpwMroIwf7bkJap9nqxzPc177/ScgjpYfmqpGtOJotzxIEe1mQwtu5o/yWT+zpovj0LpSBYuE1wVo0NI8xNLKCEebnJ7MHOjN2/GTYEOPIFMxV083ggfbmclDaWqvcRU0Z4ZFFdR1rrXqWMHJrENhZVZZqjCQY+HNTFLPu22ZfLmhSUM1iZKp5y4ABXg2XjiaXVM5y0xWS3g50XfTjMsz9UN1XIPEWt/yRf2NT/MZXeshUt2PRsudy0n+7NTYWVl1O1N21we5gH4lzNutsA27jyaLrQnoYGscWwsFhwanaeFojaGtAFuSV8uDnWUzalU+2ClldfyRhVVzr/urm/icFr7vyUWFswhp4wKiXaLstwxrb5EvRMG1njxxMHkLrQqx7t2HW6bjFmjmlskGTrEFHtEgiSdwPlYIP7HmdUtnqC+cs8Ie7IHmvSAWVXA21U9ixkTPqAWXYLXHFNYpyB3R1XVGRafMJ1jARZW3gydJA1FvCD91GKptctb1T5bbKyq4WGimrjKkfPjZjYL4srFM/vFtG39V0495FbPvJ0NtbirakhMioto3qqkVJ4NA4ZrQwqrhkj7FYy3Co3rMWG+dkUMqD9KvKPfxfdNgCyVoyEnMqgMi2y4sqcPyp0+ahxR1cZYbUipFy3EW5JnBU5d5vRTe9Sy3IpsjkrakhItqL+JvRCeyoIyeOifsTqqOaLZKey2M1gnE9g8Xw5myZDJyM3jooZ/FG/0pwBXyqSFN3Pf4gt6IckM5HxB0T1uKpIbBT2WxnQNl3sgD7EW4JndSk5yfoqwXM8h9E56q2pIVMMn9T9FV8Mg/mfonL3Q5BlcqSrYzoo3ufJaQix5JgU79TIeiilF5Zb6Fycwq+VaQr2d39QqkkLzpKR9k6cskJ4yKmthCmhlJeDIcncEc07/AOq66mkFt5f6imTmrblSQmad3GR3RCkp3WPvHJ8hBkFwVvZbGfTwuMfxHZErNmpa7FUTMeQ9rrRtJyc1bVIPd58yq1dRHTMc+ZwY0c1repJx5OJtZtTaPZ6sGOGIBz23vc8ExX++rI6KJ7i1oxSgcBwCps3tVWKmeK0UUshdvCLkjySlI2pggqq+MtdG55uHjvFoy1V3rVpyUr6gRRU7yJWDFf6UenhdWysbJiAiN3An5kDZNfDC2Z9S8Nkeb2PK2Vlo7LvNPUVIa5kchAaHC17cVrWk4a7NbV7uqHLTgRuIc7TmnCg1BtE4eSktWwKGEGJveOnNF7M22ruq6AgRt9EYG6ltaQqaUHi7qgz0zQwm5uBzT51S9VYQu9FZbqWQOOmG7bmdOasaVvM9USE+7b6K+oWtqycANMzz6pepp2hpLQb+qePqlqrKIqy1LFWU7S0aq5pmW49VeLNo9EQ5qW0pCvZ2AEZ9UCenY0Ai+oTxzS1Vmxv4grLdGziwpmEaKezMuitGWSuBYo6shV9MzkeqTmp2h7LXzPNab0lUNBfH5OS8aliklMxzCHDKyV2TA001jnZxA6rQksI3E6AJXY7bUbXfUSf1W2thh1Mw6gpc07BO0WyIWgRl5pV4/eI/utK1iwpmcApNKzkjgZKdUdpepV1My1rfqlTCxshFrAC60HDJK5Cf1CUoWF2UoncXOu1nADJRJs4axvLf1WgAucFNpZGO7Z8xveUAeiHFs5xkcHSusOS2HBAi+K9XaOFhspnGR5+6kbLi4uf+ZPqSjtLGe7ZsNtCfuh09DCWnu3zWi4ZFAphZptzKu8HOqiiiaMmrjSx8v1TXBQQLKbVyEZadgYcrFdDTtcxvojyjulRBkwW5JbxM6r2VgF7KDSx8kzqFUo7SxnVFMwNNrhEjpmYdFeq+Gc+KIzwhPbg4EaZg4KrqdnEJngqnRHauEZIGNLbDiiinZrZROPD+JGaclbUwLs7LaKphZwajEqrlNXCU0Td4wACxRtwzkqy+NnkUcBW24mAmBp+VUdCz6QmFUhHauEHxNE7ckYxMOrR0XSfGbnwRLJWpIA6nZxaPuEtLs+F5vhAPMZJ4qjrI9VlOo3RygRPvl8wupxPZ8SK45tTb7b5vorOF0rWkImSN4ysDysvLe1bRhiIXr5omOGbQV5H2pibHHHa4zXHz+O3+P69j/wCHmzYqPYbJImYBMb2/5XsRklKSCOkp44YG4I2NDWgckyDmujiuc0q+wniFr5nNNZWSk1zUwEG4BKfink0Wi6twQwfNXByQJLtLhKP/AImG/mm3HJJvBNRD5EpeI1oAZeStbLVVGmqkG2vBA0HIJcu/eYh6o7jqlXH95i+6UGtC/JTwVAQpLskCQ85FLR27S3nZVr66KjgfLO7C1ouUKkmbO+KUAgPZcApwa1FOSVqquOjgkmnNmMaXFTQ10dfTR1EN8DxcXFkTGeBZLwgdoN/pTEhyKWht2hxP0pT4F+nhYBSqNeDkCCuLgEDUl0JQKRvvJDojSHE1BpSBJJZOfAv08BYLiQEMyABZH7YdLtVtJTsEjWi8rvpRJsSaZIVH4pPxKznZZ6qlI6xk/ElnKN+mnvDGkuNgBxWds7ao2hPM2JvuozbHfIlZntPtR0cTaSnd72bI+QWpsSgbs6gihA79ruPMo5zSPSaZodCcn5/MiSHukoNDkH/iKX4P60AVYG4zQgfspHkUSS83BVaJ3cPqVEh7psqUNt3lzKU+D+nvNdqqH1VmuQwlJW3aUOiF4rgWzKvK7I2Q6MkRfc/7T/B/TwGWa4KgfzUl19ED0OU3abIdJ8BvqVMzsjnZUpXBsAxeaX4P6bteyq7RBhrYajEIXtfhNjY6I2IO4oEVmbdpV6Me6HBRUO7pQKauga5kDpGiUi4bdP8AA/Wi0ZZrjoqY+AVsQtmiZecnCfRXpjaFnohznun0VoHAQsueCX2DL01qoJISQ2nT9rFMHjfEXsmTIOJRwgakkxkDkjweBvolKlwMbgOSZgcN230T/Bn0xqMlUiyq2VpvZwJCkvBCJFaq4aSmWE2CVqSDG5Z9VXTT18NHQuAwkOldyHJW/Bn1vXspd4blD9TmrYha10TKT5W/EE63QJKoAsD5hONdklfgz6uTfJDdxupLrZlVc4EZG6Kk5SQ9n4k+w2GiRlN3s/EnAUr8SCHPRVcDZWBAbZDc/hdEqUlznj9ckyL8krLbfR+qbDwlQiBmqPCIHAclV7xbLNEqUtapZbkmwPNLEjtDSDwKYxApeQxeyHIbZKwcOJQ3uaiVKx51Jv8ASmS8NNiUqxw7S7h3USs7NFBDM6Zxmc5wdGBkG2yN1a3hNo4eCMs0N9iClqWpZLbdtIaNSeKO4ggqRfKYBCffP9Am26ZpSGwnf6BM4xbVKhFzpeyFIcipx24obnBwOaki2hUpJfJyunASUlSuAkkvzTgcOBCvl9SOcblDebBS544IbnX1UkW0GkuTJf6imQlaZ1g/P5ijh41JS8p1JVybeqDJmMslcvCDI/I2KMi2h0ucf3KV2rSRywukkGJ0bSWg6XsmKZ4EefMq0uGZjmONg4WKV+pCNBAGbNhjYLDdj/SxDR1ggGzzHaEuJdKDlhvey9QxrYo2sbo0WQpS0tPotEoFLSQmKPFG1xaMiQndBYCwS9O5rY25ojpmtFyQBxUs6szF3uAF15+u9o6GAuY6cF2lm5o9VtljsUdG01Emht4R6leSi2QdpVT3NDGxNPfc3T0V8Ylr2mydow7QhxQXIbkbhaXokNnwQ0VMyOFoa2ya3w5qWLKI71S1SfdOKu6Yc0tUSNMbhdaRLTUPgb6K6VZMAwC40UmccwtZdWUw45JSqNo3crq++BGqVqpQWEXGavjupbw7EQA23JXJF0oyduEC4Ctv231CliyjuIulavNgsfmCntDQdQg1EzXNGEjUJSXUtmH2WDQrYgl2zsDR3gu37BncdUcqywRxsUnUax/iRDUM+oJeeZhLLHil4zqWp2g/d0MrhrhIRKFm7pYmW0aEltSdrqYMBHee0fqnWTMa0C4FhzUsraO7RLP+NH90R1Sw5Ygln1DTMzMWzulJUtPg5KLpftDODgpM7eYRyl7QRxSv/qPsrOqG8SOqUkrIo5cTiAAFZLBtaN7KCbpI7Tg4uVTtSAfOEcLTbigxfFegnaMDm3DwhR18O8d3x1Vg1pLikhtCA/zG9VI2hB/Ub1UwtMu080Gm0cPNCkr4AD7xp+6BDtCAXBeLk81c4LUUE2Sh2hD/AFG9VX9oQ/WOqmEPN4T6KsHgalZdpQWIxhVh2lAGgY81cuC0bqt8s0k7akI+b9EM7Vh4Bx/xK2Lpip+G4osZ7ovqsubaTHNIDH5+Su3aWQDYnn7K5xN60Tqqu5LPNfIdIj9yhurag5iJtvxKZV03MfD6ot8lkzVtRl7puv1Kwqqo54GDyLlbLg61DpkqG6zu11WmGP8AMquqqrgxn5lMtXTUps9nDNHusR9TVEg4GGx+pFbVVYHw2fmVsuJK1rqjje6zBV1R1Ywf5Krqqqv4Yx9yplXTr/it+6JiFvNY0s1XiBDo7+i5r6zjKweVlbG1rEgKhzWeZKq3xGE/hVd5UAZvbf0WxtGqZN3Iwn0Rr3Cw66omDSXgHzCdgq3uDQ+MgW1WsbTUhyXkPa8e5jz4r1D5wB4T0Xl/amQPhYLHI8ly8pZHbwvX05tRIB8F5+yMJ5OEL001qJh56rrs/jhlImplAygeUB1TKZYyYXNsdDxWo4ZWSkgG/hHmU5Z/BsqRUTf0H/orb+cDKB36JxoH2Vgj7Sfh4S7RPb4LuqBvpXTxkwkW5lavDNKv/iYQOZSln8Gyp305/lOU7+a19y5OWVyAh7T+HIznzzW+C63qs2r2saWaLexPxOuGgZkrekFgV5KGftvtPI11t1Sx2H4jmUpZ/BsaM/tDHTUnapGO3emWt/RIP2/NtWenh2bjAvvJTfRo4FeS2ntCaCp2mGTBtLHKcGV7vPJavs1E4UDYoHE1VX3pZB8jfXmpyfjdW2rtR21NoxQtygjf3gXa21W7DtWUzx4IRFFhsC91r+ixqCio6MVNYW74tkLIGuz0/wDtFZsZntDIKvar3brCd1G02DLcUpZ/Ewx7T1s9TDT0cbc6l+HJ2oXoqLfQU0cMcQIjaG5OC8YauL9otbSAvjo493CT8zybXWx7IiRku0Zpnks3lrk5EjUofhY9C+SpAzjA/wAlmz1VQyQxRtAlkFmi+nmtOrrmMpDOz3jOYXlqbbPadoVG4bvpj3IrZhvMqy8+JYb2VHUUu052Ne+RuAF+KQkYlrtr3Pe9rDG4s8Qx6LLvJTNNLA7eVEnenl+lZdERiqTHbcA95/EgcPuVPZW/FtiaeV7WRNDGC5cXJaPadVJMezMjIc4DM6+iFTQ9pY9jHFkfimd5cGo+yN0+aeseAyKPuxg6ADilvEv0Xbu0p9n0nhG9k7rA053SmzY59j0DqirwmSTvOLjn6JSo2jDWTT7UlH7tSAthB0e/mkaKpq/aWSKOpfcA3s0WAHmir02ydpVu0qd0zoGxx3s25zIXO2uKWWSIubvdcN9Vbbm04NgbL7tmkNwxt5lYfspQO2lUvrqqXfCLTzcc/wBEpeVLOmaSjnrdtCSfC5zBvHAnTkF6wMqBpgt6rM2BCXVe0Zn6mXCPQBaEVe9+0JKV8ZY1guHEeJG0sS/tQByZb1VKMVBDsIbrxK0Hi4QqLPHYW7ysvKlnUBtST8n6q2CqtkWD7lNlchq4RkFUGnNirSNqN3cYdSnZcwVSh+GfUp+3Bzrh2g6lgVgKjm1MFvFcMkNPCUgqQL9wqtKagxDw6lPSZtPFUoc4bnI3P+0t4OdUtUEfKuAqQcsICcy4aLtUfYsZswqiDk23qs6rqpoKKwcAXHC3PO5yW9KQGleQbUdu2zFTuA3NPd7vXglvEzp2ljmoquCFuG7ojc8yOK0pq0072NmkjYXmzQTqsOXbTHbYheWFsIY4NdzRq2ETQRzTtxVE0gEd/lF1NXGxOagNJu2y8u59U+opnUbGzPMmJxvYgDgt/aNa5gFPSt3s7ha3BvmVl0szNmbEklFt8SQTzN1d42HquurGtJgwDCBc3vnyWnAKx0bXSBgJFyOSztkUb6psU04LYWC7GnVx+orclqYoLB5zJsANSjq4SmFSGG+FK1FTUU1Ix1mlzrNaONytWcgsPDJYG0a5sVTRxu7xwlwbzdoEt4GdChhnNfDE0gyQhz3u8zlZOP2k9lQ+B1rsbdzhoEOerGx6N73AS1UuZA5/9BJ0sbmU0tZNc2zN/nf/ANBTSw/2iapjL2Czb2zyKjaO0J6GmZYtL35NHFKU0j5ZpCXERwMz/uceKHBLHVVfba54bSxENiB+Z3NLeDnWlsymqKOlJkcMb++8uKchlmmYHxPjew/MDcLN2xPJXzM2fRHN4vI4cGoO1doR7FpYtn0eUmG5w6tbxKGnmmNs7QloaN75S2xyFtSV3s/QVEMDp3WdLOcbi7X0XlGvqdqVFAJ3F0IJIaTmbakr6ZAzDG0AZWSt4OABlTxw3U4agD5EwyaOR7mMe1z2+IA5hXcLo6VjOnE1hiw6jRHDai2rbqagOw5HiE0DkEreDITcyoI8TbqCycDxNunhYqHDyuj7L6smTf4mXLfEmwKj6mqs4sWW+oJ4d0CytqSFCyqIyLQhuZVDiz9VoB2VzkqPdllmppYypBOZmXe3XKyYENRwe3ouktvI7a4k2NVbRkKbqozs9vRVdFPhyeOieOaq7Q80dKxllk3aGAPGY5I+4nGsg6IcsmCpZhGJ1tAnseWeSVoyFXQznSUD7IckM9spR0RJq1rX4YgZX8m8Pul3RVcpLppREzg1gz6qauBNjlFQbyC+HkjPppZPFICPRJ0jj+0pYxI6QNYL34FbICt8mkKMppGiwfYeio+nlGYm/RPOI4lLyTNBsXAHkVNrWFYYpTI4b3Ow4JgU0nGU29EKBx7RJbkE602VtSQuaZ5y3p6KppXN/mOTtwhSEDO6k8qthOGBxc8Y3ZHVHFM7QyOVKa+8kub5p219VbUkKOpjwkchupj/AFXdU+5txkgOFuC08qthKngL8YxuFnHijikN/iO6qaT+Z+Ipmyvl5XUkK9m4F7uqDLRgg+8f1T5QnjI8UZ5VrIz4KUOZ43a80XsgHzv6olJ8PPmUZ5sCVb5XWkKOphbxO6peWmaGm7n9UnBthrZao1UgYI3ABp1GWiHJLWbTBNO009P9bh3j6BWWtZFZauOJgjhD55zoxh/2rw7Inq+/XyEMP8lpyHqn9l0EVLA3dt7x8TjqVoBtgpfJpGVJsiI07oYiYmkW7pVRs2CliwRDCAOBWq45WStT8N3OyktawKKmYY23ucuah8DGi5J6osJtEweSR2jM4T0kTBfeSZ+gCu3WkZ7tr0rXPa9krcJtm0oM+16LAbOe239pXoHMbbQdF5n2iqXbsQUrRd5wl1v0VlSwxDtehewOxOtzwmyudsbPb8xP+JTuy6GOloYoXNBLW55cUPawZTUpczdxZ6lt+ilurJwodtUPy4z6MKFPtWhezuPs7kbhauz4sdHG6doxubc5WQa6gpzGSYWE3GdlfG9Swr+1aBjQDKHHyF1X9u0QuGsefRhWjDs+mjZ3IWA+iUo5o3bQnpnhgcy1m4bKWrIX/btFfvRyAcyxNRTU9XGHU4yuL5LRdSQvHejaR6LIiOHaFTHGAGNLLAcFZU8pjZZAwjwhXNOy3hCJGMlYo7Skhd1Oz6QlJ4WNLMrXctFySqRnH+JKUbISq4mPq6SINHiLz6ALS3DBo0JOnjMu0JpToxoY3/ZWiApaUgBgZ9IS0kLBNGMIAN085KTH30XqVZRsFELB8oUmFlvCFdpXE2U2lkAdCz6R0WRVxhtdTtAFnO0W2SLFZM7ce1oP7WEqyjY0BTR/Q3oodTRf029EYHTms7a9W6npyIviv7rB5lEsG7PA4ZMaR6IDKaIzOBjb0RaKAwUzGON3Wu4+amMfvD7qyiv2SG3w29FU0sI/lt6JgHJBnLw33Vr8boqEaSG3w29EKnpYiX3Y058kSmqO0Q4vOytT6utzS3iLdjh/pt6KppYh/Lb0TJ0WVtDaElM9wjiLmtFy4nJSapiSniDT3G9FFPTxbodwdFaN7pYWvcMJc29lamvuxdL8RJp4+LB0Vdwyx7oR1BCKk5oWYCcIursiYWjIaLqixjd6K0XgFuSX4mdQYWfSFQws4NCMVV1ijpYUmjYADYDNGEbS3Jo6Kk4GHNFbolbwf1QxN4NHRQ6Fp+UIt7BVcjqkpY2hzBbijbpvIKk1rs/EjhWpge7aeACqWN0sEVUd6rKTlY3eMyRAwcgokF5GX5oit+JAy1vIIbmgcEY2Q35qSljH2s0bo+idhbaJnoltrWMJ8gmIHXiZ6K0USWtpdeU9qrblnqvVyG68p7WA9nZbmuXl8d/D6+usccrooKVpJ2VMMcsTg5j23BTPBJy/EOISsgtPCfMpo2Skx9/D+L/hdPEK0NNFIVGm+XJWxIU4k6eSWcf3mLPLNME5JV/8VEeAul4jWiM1a3RCa7NWLkDilQcEbieAXjdi7NNbRzyiR0UlZI92MagXsFve0dZ2TZNVJfPAQ31KpsWIRUlBGBYNiGSfj8Cs2L/w/oI3wl75JWMJc5jzcPJ4rd2fsKj2XE+OkjwB+tzdaQIAUF4QttLGNB7P09IJMLnuBvhDjfDfksT9i7SDxSNrI2UYB7zW9/DyXsnm4IukHxudK7B4sBsn4jXkNgbNbV7cqxGTuKU4WnmQFpUOwtrRB9HLNDHRbwuxsHfcCb2Wh7LbKm2XTTdrA30spe4g3XoQRdS3qyFn07YqXdRNAa1tgF5Whq2Q3pqKIGskJB7lsJvxXsX5hLQRs7TIWtAdbWy0+VqyK6D9l7LewXkqqg4S+2rign2dmjoaWlpi0NLg6dx1XqnRskaMTQ62lxopuApqsWt2c6HZMkFCAZMPpiKw5YqqoopWyxGmgjZ3mXzJXs5LWNtUrDGyR0zZAHNdkQUp8Svn+1Q2Nmz6GNrnQ4Mb8AvcngtH2Zq6TZENQyq91Wl/wyO8RwAXtYKGmphhgiYxp5BXfR00krZHwsdI3RxaLhHVx5Ta3su/b8TZq2Z8ElwWNGjR/wBre2Bs2PZtJ2eHwsOvNaUgFskOjI95+JLf+KX6mm2fHTTyyxOcDIbubfK6bcBfS5UXANlOSBaDKcslSiOT/wASvILhCpDhD/xJ/g36fGa63JUa7RSXA6FcyRJobqlHYRnO/eKl7u6eKrSWbFlnmU/wf03qoKqHD7qxcECUc7ukKtGcUOnErpCLKtGQ2L7lL8H9ODRTYc1UOBHJVJzRPS9fKIIHvdkGi5XhqNxp9l120ZL4qh2EHkCV6j2jE01A6KmaXF5DTbgOJXUmy4JNkxUs7A+PDYhOfNFgVULJ2Nq4mk00TmMuPpGpRpNpSbS2jEzZzDJFGLB9u6CeP2Xq6alhp6dsMbAI2iwCtHFFECI2NaPIWRVkPEWy4CM5Z36n5nFZVLsmStozNJdxbMXNjBy1zTtTT1nb5nNja5jgBG8nJo45La2dG2GkjY0aDPzV/E/SrK+aV+4o4HseBmZBYNTtLQCJ29mcZZyM3H/hNNA1tmuLvNEgZz3TxWTPsuSplp6qnLN41uEh7b8dQteYjCVNMRuWHyT/AAP1mTbBbUQOEkhMr3AueeNjp6LTNFCaYQOYDGABayPiHFWyOiBvN7S2YWRVTopCyN7blgHEDmvPxP7RFBT08ZklFgGfSBxPqV7msAMLh5FUo6SCJoeyNjXkC5AzKX4O9YWw5RBRT1VTY1Ekhb5kjIALE/ZO0tobTqRPAWb17S+RxyDOQXuW7LpWTmdsTQ8uxffmmXBozBUJ5Wso20O0aZ0TbQiIxgAaFesiHcbfkk6oB0b72OSZhNmgX4K34MvUQUUFPNLNEwNklzeeaZOiriHNQTlkUSKVJNrDLMJxp7oSdRexvbVNsdlYp34M+pvfVScxyUYgoJ80DKz5FvDvBNgJSp+XO/eCbD7WCV+DPrnNxAjgVUts0AaBTi812KwKKk5ThlZc6uTbTfKySneN6w5apoPBCV+DBOCRraowjDE3HK7Jrf8AldW1raSK/ieTZrRqSkd62laZZzvKmX5R/oI4VDM8Wz5GOqZLvkJuTxK7tpq3vEhdBANO6cTv+kk+N0m0qN9SQSS4hnBuS9E0MI0FkqMZ7Np0VOwMivlwDCla72gp4oX7txdLbutwm5K13mJjSSGgDisdgjqJjVShoiZlFca+akUjsushpXY3yPkkkBdIQ0nvclqSbfp2sOBsj3W0wFCYw1M+Q3MeHlmQtOOKKNoDWgK+TRkO2nFM288xiB1aAR+qytobT2dFu4qUYpS4EvsSWjndei2jPBSUz5Zg2zRkLanksDZ0TGumra1o382jbXsOAAWjU1T7dpWSEuktkLXyutKPbdE/IVEYPIuWeymNXMTgbG22WJtyuqtiwsa6d7g5zBezmNtborUjSftqiac6mIf5Ko2rSSDu1EZ/yCw+wwHb1GY42CJ9O5xaBkdP+1rz7JonsdenjzGgFlMWmdmzsqHSPhc17MWoN1p2yXlfZG0NPOwHutlIAXqA8HipUnEkoTxcZq7nAcUNzxmtFtBpP5n4imuCVpXAB/DvFHxjmrZ1JUkIMmQKsZgOKDI8EHNSS61sVojeK/mVareY4ZHtFyGk2CFSvAizPEoxkaRnZK/UleW2E+nkeAad0lTI9z5HluTblekkHdIA4KWbthOANbzsqSytDSbrT61WpT7lt+SKTZZ9FWNkY8AWEbsPqmXTstqpZdWM7tNVUTzspzG0RutYhJ1DtqhrrshIHmUTZ01toV4LrtxjPzsnqiZpY7MaKydS3jzs22No0skEJhie6TIWcjSv2tJPBMaNnur5B+twrU0cc+1y8m7KdnE6uP8A9LafK3CQDYkaq2daMY7S2iMnbPJ9JAs6rmrZJ2Su2e5rY2mwuLXPFWmD6LaFKG1b5ppX99pOWFb080ZjPeC0iUhDUbVka3DSxMbbVz0ntGDalaI8dPGwxOxA47hb7auKNgxPa0AcSlajbVAwESTsIOtjdRfxm020tpEmPcRTObrgcurK3aJjOOis240dnqk9mbZgir6x8ji5hIEeBtxhWl+3qSqO7aS15cAGuFlpOpfiP2jtEttFQO04lZ+ypZjtx7toxlk72dwcAF6YVDMIFwsOumY3btE+4tgcLq42vSZYcl52ldfadeeAkaFruq2BtyVh7KqGyvq5Ta8kxy8gtI3ldeqZorH1Sjapthmu7Wy3iRylLDDtMknUEnDb6lY1bOaWnqWEssdHJeM6lpqnjMTSCbuJuSjXyShqmjQrjVMHFTKssMuOaVmzmi01UGqZzS8lUwyxm+SslS1o8EhtaofS0jpYyLtIJ9EXtbLeJIbZqGPoJG6l1gFMraepZDLTNedXC6z4nGTasjuDW4R6pimkbBTxx3JwtAQmyxRy3YMtTlxVkS1o4AXiQ6gWCz6w76vp4uDbvKYFbGdCk9+3t73u0wAAqetXWnwS7P4l/oqGujAzcEBtfFvnEuGisia07pDac5jhDI/HKcIU/tKE6PBSNfWMlwPjJLo3XAtqjitKmgbTwNjboApp8y/1Sce02PZctc08QQphr2DEfPklJcHetMrN2gwkxyEFzGOuW/8AKL2+O2d+iDPXsEbsLXOJGQspIWmGSCRgLDcWU0x92LrPpqhlPAGkOvx7vFWi2gGtyY8/4pZxNat7Kpdks47SJF2wSdEN20pSO7Tv++SOVdPT5sd6KYiMDR5LKlrqhwNoMNxxKvHUVJa2zWDLjdLLg71qEqpKz3VFTnbAPsUIzVJOTm/lRylpyc3YeCIw5BZMhncDilt6NVgyWwvO/wCzUsHetXEOao5w5rO3btHTSlVMIN/eS29UcXTU7h3LHijYxbgsqSAWHfl14lWNPGQLmXqUrElaBe05EhVc8c8kgaWMj+Z1KqaeIaiTqVMXTMjxjZnxRBI3iQst8EeJvdk15lX7NETfA8/cq4krRLm2yKE945pJ1NHbJsgP4igupRwMo/yU9V1O0AJGOF+BV6aQGCPMeFJTUodkDJcg/MpZRsZG0OY9xH9xSvxpXOqnivMRILC24ssb2nzpm+q2RG2E3ZDY81g+0r3GmbcFua4f5Jx2/wAd69P/AOHddWz+zdPvWYnMJaCTwC9hvagj4Y6rB9idmy7P2FTNqfiOGIjkvUAWXXXHKUx1IHwx1Sz3z7+PFGBnlmtQpZ9jUQj+4/6Sl/8ABsSH1J0iA/yV2uqSPhtB9U40X4KwaM0fYpCLjVAZMaSPNAL6jfxkxjqtNwy80q8E1EOeVynKNmLDtP0DqrHtWfdb1TYKnUrn7f8Ah48jt99RUVdFs8sad7IHuGL5WrYaZ21EbRG0ZZWKbfs6F1a2sIJmazAPILgD2lh5Ap+NC+KwFT9Leq4sqTqG9U6M1bUIex4zHCqGbWs+5Q2Cd01iG4rLSfkgR/xOf0pTy4lijWVXAM6q+Gp4YE4G2CtbJD2LCBbVEHNl0GFtRvXeEOstJ+QQITed/onLwLOuDKmwzYqmOq+pieauIR9jxmviq9cTEKmjqC+TvNBvmtKW4CDRnFJNfLNOeXAs6gQVBAu9vRW3FSf5jbeidaBdWNzoufseMuSGrBykZb0VaSGocX2kaM88loyWtYhDoT8X8SU8rgZ1Ap6m+crPyqdzU/1WAfhTozXWzU9jxmSQ1PCVvRDpIqhwf3xk7iFpSDLJBoxZr8794pe3Bs6ruJwfiDooMM98pQB6J31UZIey4SfDOB8UH7KKaOYxnC8DM8E3IMsiq0YtGR/cU/bg51DYJuMg6KTBPwlH5U2ApJGiHseM99POQTvgPsq0sExiFpBqeCdk0VKO+7+5T9rg51App+MwH2XGnqL/ABgfsnR5rr80PaljMmhnI7soB9FNNDMYhhkGXknJRkTZRSN9w1LeDnVBTTf1R0UGlnH80dE6RbioR9ixmS08/CQdFeCCYxC0lvsmpdFalvuGXyV3iZ0HcVH9UdFXs89/i/on7KpU9quM6SCazve8OSmCnmdEwslytkLJmbNh9FakuIGX5Je1wc6EaecDOUH7LhBUj+eLfhTvmuyKM8qfrGZUwTljrzDTSytBBOY2e9Ay5Jip8D7ckamFomZcEreDJ0Ds05/mj8qo6lqP6o6LR/0uKHsXqxZ4J2sN5Ra2eSYjp5i1pElsuSLVZxvtyTUIG7aL8E7eDJ0n2af+qL+i7s9QNZQPsnjkuN7XIR0vVl1MM+G5kBA8kdlPMW33n6K1Qe64pph7gCVvBk6V7PN/UHRQYZrW3g6J0nyVNUdKxmTwzjCXPBGIaBM9mn/qjopnNmt494f7TjT3Vb5XBk6RdTTkW3uXooNPOABvR62WjcEKkgtxR9ix5na809DHFIXGQ4wMhaypNW1ULS58UjWjjkmPaI4KVjyRhbK0knhml5Kl9bOzdNxuteKM8P7nJakkZvb5zUvL4pnVLR7tobkBzRqeUteZah029IzcYsh5BeiodntpgXPdvJn+N5GqYkjGE3Asp7LZHk3yMkr6V3aRhBdm7K2S1jUwgD97Z1CvLSQvqYy+Jpte1wgVbWSvNLQQxmb5n4cmDn6q20ZIzK7akc0op46gGP5yOPkmI9y4NfPVsy0AOQWrQ7Ggo4sIYHuOrnDMo8mzqaRtnwsI/Cp7LjDFZTxTXdWNN26hFdtOlw4jWgC3FOMo6eKpDWxMDMBywhZW1Gs2hI2iomNsD3yAOiVqSRk1VfHXT3NQHRsdaME8fqPknYn0cIEklZjltqGk28gvQUWyIKSMARtc8+J2HVMPpo2j4bfyqTyXHm2bQJlLKZk8zzkO7h63QJ66eq31K8ObNjbHbEDqvRsaBPIQPlXndgUzqra1bVvzjZM4N8yrbWkhwUobt6GMuItTGx5Zha0lGLEiV/VZ5ufaiMcBTH/a25R3ckNq2PM+zlNeWujEjgxkxAXpBSC2TndVg+zRLa3aTTn74lepFslba2FOxA5l7/zIUlECPG/8y0DmqSaEKTyqWM2lpWkPBLsnc0waRoGRd93KaUWMhPFyPqlfK6khM0jAb59UjX7iliL53ljb2uTxWy5ef2/s6XaDqeNpAga7FJzWnlVsD2VUQ1r3sDXd3NpJ1C2BSR5ZHqsjYtKRI6Ztg0Ocy33yXoNBotfK6khV1JH9J6paopGbt2HI2yzWiQErVuDYnnSzSVNq2R57ZdFNUUYLJt2d4/EcN75piTZda0HBUREcMUZ/7TmwGBuzYPMF3UrSetfK6nrHktn7PrmwmQGEmRxccTSCjzUdeyNxtTnLzU7Z2k51VDs+iJEsjgHub8oW1O20JB4NSlutZMYNNRVrY8UcFPd2biXHNXOztoyHvSQRjyYTb9Vu07bRM9FWoqoaYAzPbGDkMRspfK60kx5l/sk6WpM0tY65FjhbZHf7PQwx3dNK/CMruXoIpGTMD4nB7ToQboNYPdOWlrWQjFsSiwhxiDj/AHG6N+yaMtwinZh5WTTHBsIJNsklsyaWolke6XexDIHDYE+Sl1ZgsezqaEWjhY30CxvaCljijgljja1zZm3IHmvTOCwPaIns8duMzP8AasbyxpRwMLAcA0WFtaNrdrbNDGjNzhZeii+GPRYW0/8A9d2cDpZy21rONZ8LBHfCNF53YTQ6CckD45sfK69M8dwjyXmtg2bTzt4CoIHVXxo2PSthZh8IXGJoGTQrt0CpOXCNxjAL7ZXR2lkBeY2ZOsEnPJC1zLFgOJYW1hPOY4pJ71Lz3Y48g3zJXN2FDGYnTzvkeXDFdyUGvTMMT9MJVyGeSy+x0MYGCTdkcpLIExgZYN2g5v8AkCj0uNSpkbBE9+DFhF7AZrLg2nTVUsYYQHXzaciElVVdgRT1rpD+C68rVtcalz2zOdKTlZtilA8rj6fG1rhkAkdpND5aaEAd+TEfQLO9lhWhkgrseEWw49VpxA1G1ZH/ACwswj1OqNKfD27AGQSkrWtlFgBlyTpCzNoSOjLN23E85AXS8Uo7qOJ2drX5FDds6F2uL8y4Q1MjRilDPQKrqepYLsqMR/uCi44bNpx8l/UqkdFA2pIEbdL6IUU1XKHGN8TwDYkLo463fkl8YNuSstTOtERRjIMaPspMTPpCV3FYT8Zv5Vbs9Qdajo1DpDFjQDYBBga0OeCBqoNJJbvVDz6AIENGS54MslgeaU+Cfs08lBaw8AgGgHCaT8yqaH/3pOqhCvDbaBCp8OHhqqOoB/Vkt+JDp6BrgfeSjP6ld4P6eAb5Kri0a2Qf2e23xZbfjKj9mwu8Re71eVNVWaaJoddzRlzQo6ynDAC9t7I5ooI2nDG29tbKYYY8A7reiuoAa6mHzgoZ2jBzP5SnzEz6R0VTEy3hHRRWZPXROjIYHOPkwqzax5aBHTyG3MWTczBu3WHBWiF2fZLeJnSZnqD/AOmI9XBVNROMuzH8y0bKrgjq4ypppy3OCwuNXK+KpcO7EwerkzUDufdEaMgrfiT6RwVZvnGFV0VSNXs6LQIF1V2a2rjLk7Q0su1rs+BVu1uYbPheLcQLpmb5fVXsrfiQp22Ig3JB8wqdriOjgnSwHUBCcwcAOimqz5qppkZga55HIIsb3PF3twcgrTNAe3LNCo5TKxxfqHEJVolzdbrzXtO392H4l6iQ6rzHtQf3TzvkuPneO3hOvq8bQ1oAV7qgfkrg5J45a70S0gtUQfiP+k1lZKyu/eIRrclPxCtBuisDzQ2lWxckIaT+iWcR2qG4vqmMQsl73qYr65pQafACkiyri0U3ugajjkl7fvDPQph5ul227U2/0lPxGnm+FWGaoHDgbKMVjquf0nSAYTdLQZ1J54UZzsQQIiBUn8KfjODfp9qshhwsrYwEMJDxkl4LGd4HJMOdcXCXgI38ic+DfpwaKxzCoH3Vi8AIdIKXQ3QqO2OXPiiSPBB4oVIQHScM05/1oX6dVgeCGHi+qkuA4oGiY5HJDos95+JTI64VKJ1t5fi5P/Uf09oM1UZri+41VQ4C9ihCRIbAoVEbtflaziiPILUKkcML/wART/B/TakjyzQw+wUGUc0OkmTQqtDbdm/1Fc54I1UUrhuz6lOfB/TlgoIuLquIc1JeLZFEgpTZpQ6M4o9eJV5HghVo3ARZcSUvwf04DZRqqYhxKneADVAtVlJAUUZvCFWR4sc8lNI4CEWIS/B/TfBVvko3gtmVV0jSNUcPVJcgVelN4WoMjxYqaR1oW5p/gb04dFByCrjB5KMYtqifAJXWB5K9K68Tb62UTEFhVaYgQs9EvwP04M8lBGtlQP5HJQZRnmieqT+B58ir0590z0QpiHRO9FaB7WwsF+AV/Bl6bDua4lB3g5q28BGoRMvUkNjefJHhsYmG/BL1JG7eeFkWJwbG30S/An0wucMr3yKHvB91BkAaoWlqnwOTbMmD0SlRI0sOaYbIA0C6t+DPowN1V1uCqJBpdcXNKhaTqXENH4h/tOsdlolKgtcBc/MP9pprgBqrfgy9FvYIMsojaXONmgXJKkyNA1WDtamrdpSiCJ4hpPnde5d9lMLWH7QbQdX3jhJEDXAmw18yvV7NoY6aIFvee+xc86lZG1KKGk2Y+OMBotcniStujfemiN79wf6WqSnCA0IMh7uZsFLpg1pLiAPVYFTXP2pKYKAlsI8cnA+i0jWunqnVdS2CjdmCQ54GQWtSUkdLGGx63uXHUnmk4KaOldEyPLW55laLXDmlRgnBUc6w8lzpWjUrH2ptTdN3UHemdpbghIVpXalc81Ip6LvSuFiRwWjszZzaKIZYpDm53NIbLo+zTB85xTPBLitwSgaEJUZRALIUumS4yAk2Kq54tmVMLdZNfWNoo55HXvhy8yqezUW72VC93iku93ncpLaZbVyVbyfd08Rt5ustPZTg3ZtKCdIm/wClakLxODvaaSx8NMLj7rZlHcXm9mziX2k2g76GNbdb0srQ0lzgB5lRWLsI4Ns7SZoS4OXqW3sF42hqC32jrGw2cZI2kE5BelG9Iu6c35AWAVsbTxIQXnI5oEFTiL2SOu9hsTzV3yttqFGtDpSbycsSZsk6aRoD8x4kcTtHELWdSCEGyVnNgSUUzt+odUpVztbDI7EMmk6rSLpbYBLqEOPzPcf1WuMlibAmaNmQXIBIutQ1DPqBVsupKK7RZ21H4KOc8mFNGpZxcOqzNtVLRs+oAIJwEBaTrWj7GbbZtNw92EzVMkey0T8Dudkps2ZsdFA0kAhgyTZqGfUOq1nWlYey9mhm1Kqd13Flmhx1J4la1SPdu9FIniaTawvmUGoqWFpAcFZLqWzDFPnCy/JZm25KeOJvaIxNIco2WuSU3DUtDGi/BJ7QpIK+SOR0ro5I/C5jrFbOtvBNjURoaJrCbvcS53kTwR6r4b78kOmMVLEI2E21JJuSVWpqGFjhcZqyXUpepreylrZI3yMezLC29zyRdk08kbJJJWCISG7Yx8gR46iPA25GQVjVs4FSyrKO4rz+3xdtM0cZhdazqtnNY+152yTUrAfnxdFfGdbyvG1GO4PRYO2O7tbZrv7yFrCqYGC6xNsztfX7OcDYNkN1vWtvHoXm0RPkvM7CF6GVw4zn/a3X1bBEc+CwNhzAUcg/94kdVpKlr1LNEvXOlbSyGnbilDe6OZUCpaG8/suNU3jdTKux5aip45pCNoxzCreTicRknTsujD2NZcuxWIxpnadc4RBlPcSyHCHW081k1W62caaWMOc5sl5X8SFZ41NjcZsOjAziB9SUZuy6RlsMDB9lkf8AmYTzMjoWGRt++9wsAE/JtymhBMkgAUyrsMz0rBC5sDWMcRa9tFmt2PTxVMD8IcRz580lP7QT1j3DZcYcxvie4ap2m2iKhsTi04uOXFWSpbGpUTNpqd8h0aEPZcJjpg6TxyEvd91nVFWK6qZTsBMUZxSWHHgFqCpDQO64D0Usq7DLsgsmsbjraVo4XcQm3VWROF3RZvad5tId0nAzlzK08alsbIGSydtVxhh3NPnPJ3RY6XTrqrLwu6LKneJdpRHdHuDE42zJ4LSVdaGz6QUdKyMZm13HmURv8QfwqvaLfI7ogtqSZycDhlySko2tFJz1ghkDMJI4kaBX7SbeF3RZ1VPvqhkdiGtOJ+Wp4I4Wta9xdAhPvH+qp2q+TWO6IUc5xv7hvfkrJYOtAnLLVZrJJX1zw59mN4W1TBqD9LuiUlc6SZjhGRhObrZlTKutF3hQqY2xepQzUG1sDuiFDO4Xs1xzSy4mtC+qhKmdx+RyjtDvocji6NIcj6IMHgCo+d1j3ChwzuLRZhVzib05wVSgmd/0FVM7vocti6tN8N3opjIwD0SstQ8hw3btF0cri0WaTktnE05dVcfNAMzx8hVTK8nwFaQtTOTuyrg5ApWaaTCRuzY8bqwleG5sKucSXpklDccskEzP4MKq6Z5/lnqjIuum+W3NFvkkpZH5XadUUSSW8B6pWJKO7yQ3IZkk+j9UJ0sl82lHF0KskEYDjwuh0DCKZpdq7NArnPlkjiI8Rzz4Jppe1oDWZDTNKziLvI0XmPakjsg9VvyOl4N/Vec9p8TqQYwAMXNcfOcdvC/8o+nhlXY5Mt6lXwVVu6GdU2O8MlZpJGYsuvt/44+pE9raNI/1S7xUGaLEWYrm1lrOGSUkbeeEgcU/HyG+KwZV82KSyq4OZdNjRXAyQ9v/AA/UkWVQbqxLtFSahly2/Ahajhklf/VxZZWKfjRsE3VSc8bOiuIqoDxs6JpotwyVrckPYvUi6KqaPGzogNjqd+LuZitlktN2iWYP3ppOmEpTySxAhqRmXt6KXQ1B0kb0Ttsl1rIey4zzDU2+I0fZBiindUG723tnktF+lgl6fKpcD9Kc8uDZlW3NQNJm/lUmCoOsrfypzK+igZ6Ie1PCZhqAPij8qDBDO6R43oB4myffkDdApSd/KOFglPK4FnV+zz2ymH5Vxp5z/O/RNjIrro+1LCD6WUAne/og00Mxc8b21jy1WjKQWoFEbvlvwKU8rlSzrm0s39Y/lVuyy/1j+VNjLRSM0Pal6s99NLwnI/xC6lp5HB/vSLO5J2UDCbIVEMn3+pOeXAvj1PZZSc5j+VQaSS+c7ugTllxvxQ9qeEX0ktv4h3QKlJTSEP8AfHU6BOv8KpRHuvv9RSnlcHOqGkk4zOP2Cg0Tj/Od0CdcFXThdH2pZCDqSSx984fZTT0z93lK4G/BNyDu6KtHlFz7xS9rg5NQKR5HxndFHY5Acp3H1TodYLgb+qHtSxnSUctr79w+ymlpnujylcM05MO6q0fwhwzKftcHOq9lk/qu6KOyP/rOP2Tug1XKbVyM+WicW/GcCpp6V5jvvXDMi1k1ILgqKMWhzPE/7V9riZNUdSOI+K7oqCkfxlcfsnrKLc1PaljPkpXYTeV6mmpnGIe9f6JmU9w25KuzyTTtLsjc/wC1duDnUijffKV3RQaSQNsJnXTgJXHNH2p+sZstHLYltQ4fZTDSSOhbaVwTUxsCupLmFt0va4GTQuwyD+e9V7FINZndFoWUEZZo+1P1jLlpXhrveuOWivBTvdCwl7hcI8+bHDyV6P4DAfpCXtcHOg9lfxlPRW7K/hKeidHmLrskPal6s2opZBG471xFtLK0dJI6NhErhkmZyd24DkVaB3u2X5J+1wc6AaGQ2984edlHY5L5zO6J43PoqEo+1X1jNnpnNYbSEphtMcItK5TUNJYbJhgsweiV8riZ0sKV/GU9FxpH8JnJwA20XXzR9qXqyqimdZvvScwmeyutlM9RVG4yyzCbaQQrfK4EnSzqQ2A3hvzQzSOB+I5P2uqu0R2n6vL+0FMW0MnvHEmwzWnDAYKVpllc0BoJJ4ZJH2oeGbOe7Fhs4G/3U07J9tYDUAxUbbWbxk9fJK24OF8FRtqQtpnvZQDxSHV/p5LSh2W2njDInOYByWrHCxjA1gDWgZAKSwBTVxjvpXNnis9x1TTaU8ZXgq8zb1EXLNRV1Qp2hjBilfk1qVtGRn1+KECOF7nyu08hzKXotkOa58tS9zpCbt8gn6Cje1z31BDnON8XNPvblkjtLGUyjAqA3G83F73TfYha2N/VQLirZ+EpzUK20ZCZowR439UnXRbqK0bnmV5wsF+K13d0ZpItE0m+do3Jo/5UlpY89tGlFNs+qAc4u3edzqStSkomso4QS4EMGQd5JLbjiKeccHBo6lPz1W5iEcID5cGnAeZStqR5vYmDte0XuxOe6bC0NOZW+3ZpkGKqcfJgOQWP7EnesrJJADIZicXkvWPGSm1ceUZCxntNHHc4XQnTyXp+xxgDN3Veelbg9o6Nw44x9rLfrpnx0xbAAZn91l+ZUt60K7Pp2TuqJbOwmQhueoGSZkoo+N+qNSwilp44m54Ra/NWk0W2tnCNPTM7+K5GLLNSBT9pEBBMhbitfQKrqhtLBPNKcLWkkrP2E58sdRtCpuHTG7b8GhK2pJGx2aHQNF0ptCliFLLZoBDDw8khsYSVlfUbQmcRG44IWk5W52WptIHsc34D/pGWrkI+z9NHJsunc5tyWrV7HCLdwdEh7Oi2yqb8AWstbdaThc0kWd2DosjbsEbdnz4WgGwzt5rfcsTb+VBJfPNv+1pbrWQfZ9Ox1JEXNBNtU1uI/pCDQ/wzLaWSY2kI6msdUyCOKGzQDlw1VtutJMaHZ47eEdECpgZhPdGnJRsyu/aNPvhG5jCThv8AMOaLOLtPotLdSxWmhjMTThGiIYGfSOiimtumjhZBmrMMojjjc9504DqtbdWTgphYPlHRLVMTBE44RpyRGNqXuBkcxjfpAv8AquqheJ1+S0vWsRDEzdMyGY5IgiYNGjol5ahtJRmV57rGXS+yHTTRmoqiQ+TNrL+FvBa2tMPOjaBfCB9li7QY19dE0WG7YXH75LdOiw6xuHaOJ3zRWH2KvjU8pxqRxtLG90aLD25GO27OAH81b0eTG+ixNsuIr9mgaGUlRfxpzsG4eAB4SvP7AAOzXXFyJT/tein+E63IrzuwP/0+Rp4Sm/VaJXpWsBaMh0UmMEaDopj8IVzopSkhGrbCxokmwtDM7leW2ptB9a9lLRxWMpye4Wy5r0e0aNtRLFLKfdxXJadCsukpxK91ZIO894DByaEvEPJFHsCCgpzvpHOFruzsFg1xj2hNG2CMMhxFsQtnIefotzb80kskFBFdm+Pef5cl5/akQ2ZtSljppXHC0am+G+S0Zq7JazZ9c+lL2vxMxOI0B4hGpjJHHUSwMLwZHGIc0KXZ7YayiaTixuN7ZEi3FegdG1hia0ANBtZaIz9jTRxsEUrHMnkJc4ubbEVuYRbJZu0R7yka3xGUWP2Wm0Zao04oWAcFjub2esdLLZrXO18ltOKTna18rA4Ag3ViWBjaFM7SRq6IRmd8oe04gALFHFPDhtu2geiG/Z1O4Zxtz5ZKKK57LahKh7e06jwqDsunHyk2/uKB+zqbf2wXFuasGnzNGMi4JaWKnlfjcRfyNlf9mUtrblq79nU1vgt6KaWKNlgiGFr22/EhMrIGyvxSNH3RzQU4/lM6IMdHT754MTctMkvwVjtKmBsHhx/tF1Dq4Ed2GQ/4ppsLGjusaLeStYI6WM81jjpTy9EOCqkBfanec1ouGSDAAC/8Sv4P6C6onPhp3fc2QzLVnSnA9XLQKjVTSZrzWm92RgepQ4TWYQWtjw+q0n+E3QqYgxi2Su8H9LHtv0x9VUtrj/SHVaJVSFtVlysrA1xxR2tyKrEa1rBZkbh62WhJ4XeiiHNjfRXeDnShqKhvjp3H0N1BrXfNBKL/ANqfdY8FVw8lNJlzV2R9zL+VWbWuwj3Mh/xTU4uwqzAC0K/ifpPtnOGQf4qprmcWSD/FPHzCoWg6o6rNlrGvItG+wP0oorCRlFIf8UeYAWtbUIgA4q7xP0oah/CB9vNUdO6+cL+ieNihnyU0mTLidVwPDHAC4NwtC2SpN42eqLoFfxIC9uS817Ut/dBl8y9NJldeY9qb9jy1xLl5djt4f9nt/ZLbzdu7Jgq2nNws4X0K9He4yXzv/wAK9nPoNkzXc58D5Lxki18s/wBV9CxALrZl45OdeyVkdaohA5lNPItzSj3e/iFhqc1YFaAN1Od8hdUafNEDskTc43CWuRVRehTBIslrjtURJ0BS8Rv1oAqwKGHtHFTjBQdNQ/JLt/iW5/KUZ7hZKsd+9An6UoFaIJtqp11Q94LBcX8yiTpNLBLxH95I8ld77DVBhcN+TlonPg29aAN8l2YKHjB0KnGOaBOkOSBTm07/AECu94tqgwPAmkJ0Snwb9P35KboO8A4qwkFkcJL8wgUnjlHmrvfyKDSvAfISeKUnKP6fBACkHJCEo5rt4BxQwtTI7LJUo3eP8So6QHQrqJ479/qTnIO9PBxPFSQhYxwKgyW4oEs8jDzQqR12u/EVzpRY5hCo5BhfmPEU84P6eDjxUk5IQc053XYwOKBOkNmlUonAxk6ZldI/I2zQ6SQboi9jcp5wf09e4U35IDZLalSZBzzRJaR2SpSP91e/Eqsr221QqSQbvI8Sr+DvWgHXU4s0FsrRqrbweqhamU93yUUrjuhyuVR7xZVppLxg3sM0vwf08CLriQbhB3mWqsHtI1CJaiVvdKrSH3QsufIC05oVM4NhFtEvwf0+0qHFCbKLWKkvF9UC1WS2E81FJ8Bt1SRwtkV1K8CFmd8kvwf04DYZKrjZD3o5qMYPFEtVl8DiTwV6I4oYz/agSODmOz4K9I8CnjF7WaEvxP05oVxKpjHqoMnPREtUnPcd6FTBYxM9EGeQYHZ8CrQSDdNz4Jfg/prO2SocgqmQDQqplGeaJaHUOwsJtoEeN3cb6JKoeDG84uCYZIBG30TvwJemQ5VcUISjmoMwJRwtAqj3b+YTbTkEnO9pbnzTIkaArnBlHxC3FJbQr4qKF0krrchxPoiOm4ArMFAx1Y6pqZDK8eAHRoWwtYG1IKnaFJJV1pMUQzjh5eZ8163ZxBo4HWsSwf6WJ7RSBuzJ8J4ZLW2c5rKOBpNiGDUq34MrRvxCo4/dUMrbWBBS1TWx07LuOZNmgcSiWgV9WKeSLCMcjjZrRxKLSUhbeWpOOd+p5DkElBGe0Rz1JvM6+XBo5LVEreatGC5AZIbn2VXSt4FUdI3mpi6XJPa2EaYSmw9IF47S2x4FWnrAxwii70jh0HNKxJRnyGZ+Bh7o8X/SlwDW2GVlSJzImgC2epQ55rCzMyePJTF2MD2imBidG0EuLmXtwzWpJG2m2fM8Zu3ZJcdTksbb+GOjl3fiLmXPM4lq1czTs2Zrjf3JH6JWJKyvZQiKRjGnKSnD/vdeokOS8d7MSNbPR97/ANKf9r1j5m2zIRXXm9qydn2pQz6Bs2E+hC3aC9dOap9903uxA/qV5j2nnY+SliBzfO258uK9fA+OGFjGEBrQAFfKJDiDMbDJBNfFjwA4nchwUvmYR4h1UyrbHm9rF9UJKdhs0OGK3EnIBO7VkZs/ZBhYQ0lojaL/AGVjTtkbP32te6QOB9NEvX0JrIHOkmY6oBBZ9Isb2VsSWE4aFxjofeyb5zxgYDYMYDc5egXoq8A0koOmAg9Fn7NY/eOqa50Ymtha1puGhMbTqmNoqjvi4Yf9KYup9niDsqmI+gLWusTYcrItmU7XODSGhaXa4reILeUutKYdosP2gv2CS3Nv+wtJ1XGfmCxPaGoYdnSYHAm7f9haS61vGrQn93Zbks/bexoq2F72RAzm1jzTNFVRtpow4gHCEZ1ZH9QVsupLMEpo2wQRsjbhDRYDkqzG7XIRrGfUhy1keE52yWkrWw1T5QMtyS1S7e1dPGw5hxc4eVl0NWwRNF+Ct2pgN7fey1nWl4aJS1USGOtyUGsZwv0QJ6prmOyN7KyNbAq+mdV7O3bfFYG3O3BJ7LppBWumbG+CLBhcxx1dzWhHVNwNuDpyUmrHAHotZWlNOOSxNtEsMEjb3Eluq0TVAjQ9FlbaqA6nZYHKRp081pGtlbURtG30WNtDDNtfZ7L95uJ5Cfjqhu22adOSye0tO3HucD3YQBl5rY2xuS+A25Lyuwy9jq+KZpa4S3t9yt59cwDP/SxaaZrto1pGZdhP2V8YPlXqoyMIV7hICc4RZruivv3Bvhd0RvjSlV2hG+aB0cer8ieQ4oUkQiijY0Wa0gBENQ76HdEGomJaAWO1HBKRLSm3IGyQxuLzFIw3Y4C9ivJNp31O0op6t73xh/fkLbC40AXu3SlwF43H7Ibw1zMLoLtOoLclMZnU72121Q+LvQ07LB3C5WtPYOj54kOIiBuGGDCOTW2QauqdG0OcwgA3Vk62uP7ztMW8NO3/AOR/+lpjJZGzS9kTpHMcXyuxEpw1EnCNyNiymSVmT1cYqms7xc3gAmHzScGFZbJHPrpHFhuCAB9kpBtaHa5CO7TvI+wQ3Vs7Rd1M4N/EEQzSAfDcsjatTVYHM3ZZG7ugjUlHC0xDt+OeR7RHJhZkXYb5/ZX/AGlHvgcMmn0FD2dTuo6cMEJuc3HmUUSP3490b24pYOjjacR1a8f4FcdqQc3D/EqHSSgZQ3KUpqqeWSRskTSW8uCOFpk7SiJ7rZHejCl2VrzM8sp5CfSyZdK9o+EUJkrzK6zDfklIOrmpqnaU9vV4Udpqr96n6OCu6aS2cZS8VdLM97WRmzTa6GFqzqqoH/pnfmCDFWyNLsdPJrwzTO8lP8tVifJidZt8805ODvVDtPlTy3/Chu2qW600x9GprHIf5dvuq45foRxdLHajCDjZIw+bCqQ7UgDNXfZhKZeZbG8YQoA/BlGLJScTepG1ac54nD1aVV21ae3iJ/xKKQ8/ygowuz92FMXS8m04C0946fSV0W0oGRi7jpyKJI1wY4bpuipG1+AYYwVc4moO1Ij4A93o0qn7UYfFHIPVqP7wZCMKrhLbwC6mLpSbaTHMIDX/AJSiR7RhLQC4tPmLLpd4GkFgU4XuaPdtPqrnEl6520YRkHE+gQX7SYDlHI70aUcRyD5GrrS/SFMhaTkrXPtggkOfKyKKioIypyPVwUymUWu0aog3tswFc4MLOqqlmToB+cKke0WkkTDdEcyiywGU3expI4lB7IGnKJnRTF1V9fC+VgZI0m/NN4sQuFm1NIHmxjaORCFQTTvY6M+KN2E3Wzja03uyK817T3NEfxBbkgltwWD7QB4o3by1rrn5Tjr4X/lH0ag2Y6gpYqelc1kUbcLRZMGnqr/Fb+VNN5ogzXS+VcsIGmqi02maD+FLbmobPGHygk6WC13HKySfY1MB8yn4+QeXiuKepv8AGb+VE3E5/nAf4poDmpQ9nT1JOpqi2UwH+KA2nn7QzFMCbEaaLTebjlZKt/io/QpePkNi3ZJv62f4VPZZr5TW/wAU4FbmjfKl6s6SlntlUf8AxQG00+/aBMNNbLUdxSzAe1N/ClPKjYltLMB8f9FxpJic5z0ToUoe1P1jPdSSj+ceiBFBMZyN7bLktOS9kvCLVRJ1wpzyuBZ1JpJLC0x6LjRynScj7J0C6kjJD2p5GdJRy4fjnog09LIZHAzG/otF5yKBT/HffklPK4FnUiieB3pnFcaJ/CZ6cUgdEfan6xnSUb7fHePsFSmpXlzxvnZcloSaZoFILSS+qU8rg51LaNw1lf8AopNC4/znprMKQSh7UsIOo3AG0ryq0dM9weHSOFnJ2Xw5INETeS/1JzyuBZNFbRn+s/qquoyf5r7+qaDlfIoe1PGY6iOZ3zwq01JcO944d7gnpMgbIVFnvM/mT9rgZNWbRf8AuvP3VTQZ5SydU60KTa2S5+1PIz30Vhfev6qtJS4mEue/IninZMwUOjHuyD9RT9rg51Bohwlf1UGgadJJAfxJ0C2a7UKe1LGe+hHGR+Xmq0tEHMze7U6FOvHdI0Q6JpERufmP+1fa4OdR2IA/Eefuu7CBmHv/ADJuylH2q5CD6QOabyPy81NLSh0QJkfe/NMyjulVpARCAczcpbcTJqeyADxuP3XGjbbuvf8AmTINguytdH2pZCMlEMJ948D1U0tEDEDjd1TMhu0rqO5hFyl7XByagUbbeJ3VR2IaY3/mTtrBcUdp5GdLRNA8b+q6mo2mFpD3A+RTMouFFECIW3S9rg5NU7CM7vf1UGhBNsbx/knh6LnFH2perMm2eA0gSP6q9LSB0LC5zifVNS3LTbkq0YO4Z6K+1wc6jsbeD39VU0YH8x/VNlQb/ZH2pYzp6RuE9997c0SCkDomnG69s80WcZG3JWpid0y/JP2uDnUdhFviP6qjqJvB7uqcvyXHRH2pZGVUUYDHHG7LPVMRUjHNBxOGXNWqhaJx4AI8I7jcuCVtwM6AaFt7439VzqJv1O6p29xoquBGiPtSyMqakYxlyXH7pltGxwyc8Zc11XfdngmWnuiwOiVtwZOljRNAObj90J1G3PxD7p/Oyo4ZFH2pY8v7QU4bQOtfxN1PmtmChYGNGJ2nNI+0bCdlzkatsR9lq0MgkpYn/UwH9Er5XEkDkpoYWF73OAH9yUg2eKhxnnaW/wBNhOg5+qLPI2omLpSBTQnP+5yeDsbGlosCEfarjOfSsbIwAkXPNNNo2W1PVVmBdNERlZ3/AAmwOatoyFuxMOt7eqh1DEBx6psjkgVM7IY3PkNmtFyVPalkZFSyOmmYG4nFwIaAdSmaTZzWMxS3dI7Mm/6JWkjknrW1MwIxA7tp4BbYzGiXl5VJCvYo7Xt+qFJRx4TcG3qtAhUkbkh7VcjyPtBAxsDWC7cUjAOq1qyjj7BMALkRnP7LF9qmzunpGUtsZlbYHS+dkaOk9oquBzZZoIL3BBbcp21JGf7LRskq6VjgLdm/W69jJRwtB7guvO7C9l6zZ1bFPUTsc2MFoDeRXqpR3c0ParY8Xt7ZwqKykjp7b0y2Hpa69DFsyaQN3zmRt4iMa/crKbIaz2miZTuuyAFzyPMWsvWNFkvKpIVj2fDG2zWDzPNQ6liHyDonUGTRGWrYSpqeN5kLmg2cj9kiF/dt6LqQWMn4k0r5XqeMLdliA+G0D0WV7QRRs2ZPhaA5zcIy5rcJWPtzvRQRDWSZo/W6ktUXZlOwUkd2NJGWae3EYHgb0QqLKIgcymLq23Wk4Duo/oHRY3tFEBsqpLWi4aDkPMLeI1ssrbI3mz6lo4xlaXrY7ZIa+ghJaLloTu7ZxaOiQ2I8O2ZTu5sCmsrXMmZT0wxTPFyeDBzK1vWk4d3bQNAlpo24T3QjRXawNe/G4DMniqzjunPgtL1bOKU7G7luQ0VKqdtM0DBje7JrRqVemsYGcyFmV07htSJkIxyOiIAv4c9Sr+pPh2jqRVMeSzA9ji1zTwKmoaN27hkuoaPskTw55e97i5xPMq9RYsdfktPrWIiDdy05HJYdbtbczRkWbGZMFrXuOJ8lvRgCBo8l4/ajJNwIHMd7ouN7ak+H/a36349cwAtuLZrM22G9hkJGhBy9QtCla5lNEH+IMAPrZZm3nWo3Di57QOq0+tWjC28LMuAWHXbObWbUcxz3R44RYtNiLFbUErGwtu4DLmlWyxzbWZgc1xER0N+KzYVj9mKVrffOlmdzc8rotiU9BJJNAXAuFrE3tmt4hK1LbxuV8bUsmCsb3RkrFoBUR+EeiJkRmjVkDc0Wyslqkdz7hNuS1R8PPmFYl+CtaCFxb5Kzcmi6lSlA8NlmbVbjijZ9cgBWo45JCsjxiM/S8FWJTMbQ1oAGgVsIKhug9FdFYC4LMbHu6m7hnJISPSy1nhIVTTvInM8TTol4jTYGSXqKUTuiLvkdiUOqnxC74XnzFihO2pFcdyW/LdlRTThYZJe37w30QztAuHdp5j/jZAdWuE7SaeUZckoNO1ZcynkMYu4NyWdS1MVNC1jA+SU5us03JTZ2kALPhlb/AIXVf2jTjNwc0+bCiQsL5JGl0seC+gvmojtv35cAhftOmNxjt6gqjK6n3zjvG6DirBp91iCskvNDUtZ3XNmf9wjT10L4y2OcMdzGdkrTOpoHmU7yaU6yOaSorWcbBCgHef6oJ2lDmDiHq0qkFfBifeQC5VnxGiQOSqctAlztCnGRlafuoO0KfP3reqKivGSDSG8So+vpv6zeqFT18AjzlaM+aU+J+nrKp0QP2hTn+a0fdDftGBpydiP9ouoo0oOE+irCPdtSUm0mOBDI5HH8JUx1+FgG5k/Kr+I0LKpy1Sh2i0GxikH+Kq/aUTdWv/KVukJOO45XYMgkZtowuYQMVvQqzNpRYRha8+jSr+D+nTkVU6JU7Rbxjk9cKr+0IeJc2/MWRhLz+Fv4kQW4pOWuhIFn8UQ10AHjCtQfDyQ3Dqgu2lBbJyCdoxXyxH7FZlp8nM9UhSkM2hVR87OCvPXh0kbYonuJPKyHFHOdomV0OBhZa91bOMfeLhef9pGjsLxkvRP0KwPaKxoZCeS5V08Z19QblbJXxFDDhZBra2KippJp3hrGAklNz0ltbaEsb46ShINVMcsr4G8XFMglksDScWuZWdsWDEJNo1Vt/VZi/wArOATTqyHtsDN43HnlddINbAP3Ug2Qg8c1xkbzXM13nJLNP7zGAeaM9wINiEq1wFVEb8CnBtjU4ZKdM0JsoA1U70XzIQw1ybApZpHaRzwor3gjJLNf+8C/0pQbT4NzdTivoEPGLDNdvGjjkgSz82+aWhP704E/KiS1EYjc7ECAM0nQVYqpXSBjmNIs3Fx80p8G/WsCpvdBEgByK4ygalHC10uhQKfKZ3oiukDm5EIEDg2d9zwTnwbenhnxUgoW9HNTvGoHqZACCg0p97JfmrOkvxQaaS0styOCUnAt60cioBA0QhKOakSt5o4WxL9M0GkPekvzV3StI1QaaQNfJnldKfKF+nlbhyQN8LHNWEoOhRw9dJpkh0RHvB/cpfILaoNJIPeG48SUlwd60LEHyUg3OQQBKOea4zC+oQykmXujLNRRuuxxP1FQ6RpbrdUpHWYeWIpz4O9OXtkpvbVUErSqb1vNHF1MhBabqtETuyHa4j/tRJI3DqEOkkYYzn8xTzibNPa6KwzQBI0aFSJQOIQxdXlb3ShUoIj+5UvmAGZCHTSDd6jUpZxN6dGeq698uCBvmtNrq+8ZbIo4upeLNKrRX3IN8rqrpWhp7wAVaWZojABGqX4n60AclBJQd8LBdv2jkhlPUyG7fNVpL7loKq6VuE5gfdDpJmthbchPOBvTwNuas4XS/aGjVX7QwjUIZT10ws0qlJbs7D5KkkrSCbi1tFFLK0QtubJZweadCqbAIO/FtQo3zTfvXRylrpiA0kclNMRuWeiXllbhPeCmCRoiZnoE8uBvTgIup1S4maPmU9pZzCOFqKkHdOtyRoT7tpPJK1E7Sx3eGiLFM0xtz4JX4P6McjkpDjbRBM7QcyqOqWAao4uqVbrtTcThgHos+eZjmHvBMMqI8I7wulZxJemjZUcVTtDODh1VHTs5o4WxmbfAdsyovkMB/wBIcc5j2bSRRus+VgAPLLMoXtHUtbsuos4eAhEhrKFtNTCofGXRtFr8DZKzgwenpzUPa1zcNLF4QdXnn6LTcABkkotqUrsmzMP3V37QgtlI3qgTpfjRX+pN3ssyWsi3kR3jbXzzUy7ao4wS+oYLcjdKyjGji5rGkP7RqSCP3aI5/wB7v+glK72hZLE6OibJJK8WaWsOXmpp56k04ZDAIAB4pXj/AEFsVoF4ZOxzjYAFOQT75mK2Fp8N+IXlsddUT4RNAWtORINneSeZJtQixlpIwBkQCVbEj0JQ36LCdtDacAAdDBP5tfh/2hu9oahgHadnyNHNjg5HKuwLbTbbU2e8mzRKL/qvUMGS8fVbWpK50bHF0Tt4y2NpGjl6kVMY+YW9UvKVJcNYQEKTRCNXGPmHVDkqo7eIXRkq2h0kLGVEpYxrSbZgarQaQsqGqjbLIS4cE0Kxg4jqlZdSWG7i2iBNkEM1kd7YgfuhSVkZGbgpJVtEpCMUluaZLslmU9Sxpfd2V0ftkf1BW+N1pcKbc2w3ZUcJsHOkeBY8uKQ2rWxtraAPuQSXgDMk8P8Aac2lBSbTi3VTnbMEaj0WfR7KpqOq7Q6eSd4bZokN8K0iWt2hziueZTZssynq2Rss7mUQ1jb5XP2WsutLw245pKtaHwvaOLSFJrGngeiUra+NkEjjfutJ0Wkq6B7OOJ2ZG06sJb0KQnNVTurGxNc2okkvvXDuhnqj7DlFPs2LFfE67jYcyk6+eo2nUSUUbhHBYF72gk25K5dbeGNjPDDJVyzPcx5DYsbiS7zstyR2JhJ5LLo4YKJrbBz5Gi2Nwz/+kzJWNwuuDpyWyppqmHuW+iyaWkmdtR0ssRbhc4mQ6OB0ATsFWN00AHTkidquPCei1l1ZTbiLJWoPcIVTUk/K7ogTVV2uGBw+y0l1LRJaxlLTMfIHG+QDRclIwUs1fUx1VYDHGw3jh8+ZTTKjuNvG42HJX7S61927otiS8NkLB9ooN7Tsdjc0NkGQNr3K0TVuI+G/osfaVQauaKBjHEMfjk8gNFZLq2nafYVHgDnNfISPmeSnqfZtLTPxwwsY61rgIcdQ8MaBG7IIm/kI+GVLK0pq/JK1XwnKDM+3w3IE0sjmOvGQtJda07F4QiE8ki2Z4aLRk5K+9lI+GVsaUd5sgVBtGSeapvZeMf6oM8shj+GdVZEtPMNwpv5pVr5MI7nBQXy64P1UxZR3JWo0H4guMs1vAOqBO+QgXblccVZBtPN0CvdJNdLxZ+qtvJSDZn6o4Upkm/2Ss/jj/EpxTcWfql5XS4mFzLG+WasiWnQpLWnUBLB01s2jqpxS2vh/VT1WUV3klnj37PQqXOmI8I6pcvmErLtztklINp8gcVBa08AlsU/0jqpJm5Dqjhau+JhGbR0SraeLfnuNtbkiudN9I6pZpm3x7uduaUg2nGxRjJrGgeTVbCBkB+iB7/i0dVxM1smjqjhaI5oIzAQIomF77tbryUOM9tG9UOLe4njK91ZB3prcRfQ38qoaSBxuYmH/ABCgie+jbeqoRUDg3qpi6l1LABlEwfZDgp4izONup4KXCcg+FDhE2A6aq5xN6YNPF/Tb0XbpjfC0D7KmGa2dlQtn5tRVaUDCR5LoR7tvogSCUA3w6KYmSlgsRaycnE0yQOSo5rTrbohlkvMKu7l5hFdVnY0sIAHREYAG6BAkZKQ4uIsApbHKQCCFc4m9HIB4Kj428h0VSyUfMFQslF7uCmLoc0TABkNeSIYmfQOiXlZJbNw1Rd1IR4wlnGWLGW0HRDLRyC4xyaYwPshmOT6h0RyKHOBiZkNVcpeZkjXNu7jyVjHJnZ/6JWcSVMjl5/2jP7jJZbD4pLHv/osLbzHiikxuuD5Ll5SY6eN6+k9lqDmJ8vRed2vs+bbu0WbMFQ9tPEN5OWjXkFoex+1pNqezNJW1Gb3MOI+YTPs9EXwTVsg95VSF9/7dAOi6e1c8hP8A8sujiEbq+odE0eHFYW+yyayqj2Zu+y2mLnFkIY25c9eprdo0zZnUkjiXujLnADwt5nkvM7LpaPZ0jdpVDi2JxIhEjicDOFr80/HyoWNejbWUezhNtmrwyk3OEDK+g81mV/tIyNsUdFJJNVyS7sQluFw8yOCTqtqHam1jNVtmg2dSEGNgBvK/gk6GdtD7R1dftmB7KucA0kJFzbQfdbauPX1lQzZzIBU1LmyyuDWtAuSSihobVxxuqLyFpdbiAvLxslG2e37ZeZKiCPE2EaMLsmtHmrQMrZZZagxSRV04cHGQd2NnCystSx6vZkw2nA6WOSRrWvLc7Z2V5p4IquKlNQ8zyXs1ueXM8lj0tYafZEFJskNdKIgZJD4WcyTzWSJ27HpJKwPfNW17sET3G5w8/RDaWPcGkdbKd4+4WbWOdRPa7eukc7JoJtmsKLbEtU1tDSTOEMEeKpqS6x9AUrHXzbbk2ax7Xsp72kmdkX66Ky2fUset2Q+TaNIZ5XvjOIiwcCDblks7aFaHzvgjnlLGnC5rCMT3cgnJK5wpnQbFiBZE0jeEdwf9lT7N7LghpY6ojeVMt3Oe7PM8kdL1ZslBLQbObE+SRj6mYDBivhB4Ldp6MtlEYe8NDAAbpfaY3216CG2TcTz9gtKK7arPTClPKpZ1c0uEXMj7DzSdI9tdJKI3SiNhwh5OTilvaHaUrN1Q0NjUVDsOvhbxK2KGkZRUsUDNGCxJ4lD2pZAH0eEH3sgHqss1tHS1JZNVFptzuV6Cdgewg6EWWDUS02yQ5rIwZHizG2uXFPxvBskrUgiiqI2yQzukY7QhyI6ja0G75LeqHsimfTUbRLYSOOJwGgJRNp1IpKOWVxthYSht0vWMXZpkrKuuJnkMMb8DG348VpU9KDI8Y3gc7pX2epnU+zGmX4kpMjvutKlHv5LaJ7co51fsLR8zz/kuNC0nxv8AzJsLrLn7U/WEZKFtvHJ+ZDpaUPfIC5+RsM1oPFxqgUg97L6hOeVyjZNW7C3iXfmXGjZzeP8AJN3+6j1Q9qWQi+iafmd+ZVpaNhx5nI8CnZLAFBoxYyZ6nJL2uDk0QUUY+r8yg0UdzfF1TI01VjmM0falkIOoorHN35lNNTMLCLnI21TL22CHSaP/ABFL2uJk1IpIwcwfzKTQwng78yOMzorFH2q5CEtDGWm1+qrSUbCw62DjoU6/QoVGMLHZ37xT9rg+s1cUMYNxfqoNBDqWn8xTIzVr5Ie1LIRkoIXN0P5iopaOJzNDqeKbeRYqlICGHPiUva4OTVexxX0PVcKGI6tJPO6aso8wj7UsJyUUOEjBb7qKWijdGMYubnimZScOarR5x/cpbcTOriiiGQb+q7sUN8m/qmNAoLkPalkKSUUJB7pBVaSkjfD32km54pt/hVKM+5vlqf8AaW3BzqBQw/Sb+qg0MX0nqmv9qpcUfalhR9HEGm7fvdTT08L4m4m2PqiyHIjyVKP4LbpbcHOidhh1z6qjqGG2h/MjgrictFNq4SkooQDcHqpgo4XRNNiTbM3RpvAppRaFqvtcTOq9hhv4f1XGght4f1TVr5qC7Kym1cjPloogw2bn6piGliMbLjO2ea6oAMbs+CvBfctz4BXbiZ1U0cPFt/uo7DDfJtvumLZaKp0zR2rhGekhDLhunG6OyjhLQcA0Vagh0bh5JmM91oHJO+VxJOhOo4D8iq6liAILck1e41Q3C980Parkef8AaDZ0ctA8Rx4nuLWj7lacWzKZsYbuGDLgF1RcBo/uH+06wc1beJIRdsmjeLOp2H7IJ9n9nn/07bfda9gFBzCmkwpdhUIkjw0zCMWafj2VSsAwQRtHk1XlNpY/xJoG4zS3iTtZEEMJral8jGtbHZjQepUPp+2vDY2bunB7ztC7yC1DTwvdjcxpdzsrOAaLBTVsZ7aSFk0bGRtAF8k6KaIDwBLut2qK3Ip6+SttGQE0kXFgKG+lhA8ATVyUN4uCUNq4zm0UD6q8kbXWbkCNE8KaLXCECP8AiNPlTYKVaQM08X0DohSQR2Pcb0TJKFJmFJWsJU8DDNJdreHBOiGP6R0StOLVMvoE821lfK1JAtww37o6IUsLLeEdEySNAgynuqSrYXpo2XfkNU1u28QEvSm5k9U0BzV8rdaRQsb9KBIxvJMuyCDIBZSWrQKVrCw6E3KYwNQKRowm2mIpkhW/UihYLaJSrgbLE9jgCHCxCddkgS5tN1pWrBa3aVPAWU0MMsbR3SXWPRCodn7WjY43p4nSHG8kFzrlb9KLQt4pkW4BW1pGMzZM7v4utkf5RjAFWbY0YBwz1F7f1FsnzQJsmu9FJetYzYNkgxNw1VQMvrVzsuoZnDXSj8YDk9TW3TbI/mtbdWTjJdQ1wHdrusYSstLtANcXVbD5bpbxSs5xNfbJWXrWRmQ0W0DE397a0eUaL+zqu/fr5D6NAWhT33Lb8l0tRFCRvXtbiNhc2utb1JJhB2y5H5SVkzm8QLC6JHRxUkL2Qttlck5kp4ODm5Zg8UGcdx2fBaNYtEBu2+iIQEOC26b6ItslL9WRUt5JaoHu3X5Jk5JepNo3ei0+t5LRW3bfREtmhw/Db6IqtrRRwS1TlE5NHRK1R907gtEq7M2jLgrcFWPwj0V1P1oGW5JeoyYPUJklLVPg+4Sn1KO1otddaxXM0F1J8kVQfJLzjNl/qTBS9Q7wA/UrEoxCiykHJRdFUFtgbhLSD3sdxzTLil5L7yP7pRKLbmuIupJtko4KKG7XJAGdR/imHC6Xvaot/arBpgBdYWXArib5Iko4IEQtK9Hd6IUQ948JTg0W11DlbyXHiiQJy1QqbwG/Moz9ChU3gPqUvwf0UhQQrcFBRIGUd05cFWA+7CtIe6VEHwwlPg/q5CqTwVzmqFQgZrYHeimPwhRLmx1uS6M9wFX8T9WKq4c1JKq5Ri8/hy5og0F0OfwFXB7osl+IgjkhuyFiiWVHI4RWoN8P4gpIVagZN9Vfh6K34k+gvGRXn/aI/uMi35M7rz3tH/BP9Vz8vjr4/XvtgUApNiQUxAbdhJaBa187fqqxQbTo6dtLSshcwZMlc4jCPMLVa9rQiCQEZFNy4zKbYcMFPOJnOmmqB72V2rv+gkodiQRVVM2Vz6hrL4GyG4bbyXoMYItdKOA7VCeQcn4jRBs2m3293Qx3v9+aM6nhe9r3xsc9vhJbmFfeN5hTjB4odPhQ7OpRUmpMLTOR4vRY225HSSbiF5iO7c5zrZ28l6CSQALOmp4p6qHeC+R4p+I0lVQx0WyaWiiAjdMGsceJyzJSMXs+dtbQjrJngUEQLIoxkSBxR9uU8m0Nq01PHiDBGbuAyFzY/p/telp2xU0LIohhYwAAeSPxWBJ7JROqnvEhZA4i8bbi4HA+SXkgj2ht6no2x4KWlaSQMgTbReqe8G9jZZGz9nik2nPO6YyGbOxHhVl1LjaZAyOMRsYGstbCAl4tkU8DwYsbWg3DA82B9E1vBzU70c0T4yJ2YduwvJyMLgPVPxG1T/iqVMLJnsfctew3BC6N/wC8nP5Up8C3oQgZLtfeuAvEzLLmjurjJtBlNCb2GKTK9giPeS1xjtjI1KU2VSdjic6dzXVEri6RwOqOFrVd4SvLzyQxbdM1a15bHH7qzC65vnovROkGeaXjkY2pdc54UvGDaLs+rdWxGR0EkDb2aJBYkc1kbVc7au0Ydnx3MLDjqHDSw0C1qqZ+4d2cAyEZZoGzaVlDEQXY5nnFI86ko4WnCwRsDWiwAsEOmdaeTnYK75mAG5A+6Xp543TSYXtda2hSk4N+tUFQSgCZt9VJnacrgIZT1d5yS9KfeyjzCtJK3TEg08jWyyi/JKTgW9aQ0yXX8kATtt4s1D6uNgJke1oHMo4eryaIVI7vycLFKHbNHJKImTtdI7IAG6PSTtvJmPEnnBt6fBVg7kgiZvMLhMw8QhhavIe6UKkd3X/iKh8zQD3gEKmlaA83HiTk4G9P3XEoJnZzXCduWaGHsXfoUKjPdf8AiK6SZhae8OqDSTtDX/iPFPODvWiLK3ogCoYRkRddv28XDqhi7FnnmVWkPuznfMqr5mEeID7oVLO0NPeGpSzib1oh2SoXckHtDbnvDqqGobzHVHKujPcLHJCon3i5d4/7Q3VLLHvDqhU1TG1hBePEeKWcb9amJcTZKCrj+odVJqmW8bT90MXRnvuMlSjcRDyzP+0B9Qyx74H3Q6WqYGWc4aninlwf1ph1jquL0l2uIHxtH3VTXwH+az8wRwtMyOJBuq0RG4HqUnLtKmAOKoiH+YQ6XbFG2IA1EWv1hLODvWzfkpvbglmVcZ0cLeqsKqO/iHVTKWrSaKKQ3gaCqS1MZae8OqHT1DBELuA+6uXB/Wg111U2Sna2j5hl5rjVtJ8Q6qZV2L1Dvdu8gi07gYWegSM1UzCbuCvBVM3Tbkac1cuJL1oXuud1SfbYyPGBbzUitj+sdUcq6ic2a7LgjscMISNTVxOY7C4HJEbWRYBdwGXNKy4kvVp9owU7sL34pPoaLlCZtWne/A5xjedA9pbdZux5YnOqqqQt3kszhe/AGw/0nqjstUwsnwPHmpi6LMQWg/3BaDSAAvOU8+6jkjkcXNZJZhOuFa7a2KwGIdVbLiS9OEqCQBmlTWR/UFBrIj84RyrqJiDJH+JONsAsyaqYZGEOFro4rYz8wSsuJKdNlR+aWNbGALOzVe2x54jYI5VtjjlUx3807iWW6rjM7HB1wAUbtzBo5KypKdJ5Ib3WCW7awcVV1dGb3P3UyrsS137zl9Kb1WZHUs3uIHKyY7Ywcf0VsqSmzohvKXNa3z6Ib6xnn0UyravT/wARL6BN3WXFWNEkhF7ZcEwK1ptr0V8pUlN3Q5TlklzWtvYB3RUfWNIsQ7opPGraLSmzpPxJu91lwVTRjIDjnyRu2A/K7or5TqSnCUCUkhB7X/a7ohvqwQbtd0Ukq2i0d2sIP1FNXWZT1RYw91xz4BG7WSMmP6K2XUl4cJQZrWPol+2HjG/ohS1Zsfdvt6LSVrV6aVscF5HAW1uUxFM2Voexwc06ELyNdHLVzmCma+5Ac84srei0Yv2myIRxiKJjRYdwmyt8Wlb7ncyl5nd13osjcVzgd7VzX/sYAEGSgkLTvpqx45YwB+i08Wvk2IJo2RNu8DLiVDtqUrMjUMB9VgmkoKSBslRTufcgXeSbkrUgp4YBeGjay/EMC18WnkM7akJbiiEkv4GEpd1bUyh2Gie0W1e4BMb54HwyAhmpdLGS1hLSLXCsjWuh7Y6NucTAR5lI7S2XV7RMcL5It2My/Dm30WlC+QRtwsJFlfeS2+Geq1nWl4Fsuhl2fAYpZzOAe7fgOSYqD7t3oh7yX6D1QpZJi1wMdrjW6knWtMwH3TeOSKXZJCOSXdtws4IhfN9GfqrY0pknzS9QbxuF+CqXz28A6oMzpt267ABbmpI1vDcNhG30V8V9UlE+fALMFrc1cOmPygfdaxpTOLVK1R9y5Q5098mjqgzGZ0bsTQAFpEtNRkBjfRXuDqlWb3CLAdV15/pHVSxZTRKVqjeP7hRim+kIE5lwXIHorIlp5hsBdSUm3fi2QsiEy8gtY0orjZAmzw+qq4THOwQJ98MN7WvwVkS1oA5KNEs3fEC9lx3/AAwo4umCUCT4jPVVtPxw3S8gmErMRFkpEtP3AF1F7pctlI1FlGGfgWj7I4ujOKACN/fyVXMqOBahYJhMO8AbKyNaeBsuuliycDxNUBkpGZCmNphx5IEZG8fmqFkw+YdEKNku8d3hf0Sk4h8Ec1xIS+CX6h0UGOW98Yt6I4uiPsQhU+QdnxKq5kv1/ogxRy2dZ9s+SWcTTxKqXDiUARycXjoodFLbKQdEcXVpDkfRdAfdhBkhlA+J+irDHIWDv2PolnE/TdwoJCBupP6n6Kpik/qfojiplILHei6N3cHogSxuDT31zInFoO8IySzib0zcaqjihbt+mMqDC76ypi7UTHuFEDshnwS00bg0nGSpETiPGVcifozneaG53JDMRGryqOiOfecoqk5yHHNWvklpoy213HVWMRI8blcafXSG3qvP+0X8E/1C25ITbxFYO324KN5JLhdcvL46+P8A2j6WKFxyMz1fsBv8Z6a0VxnnddPauXrCTqE2+O+/2S/ZffxtMr8Rv9lpvu4HglC0iqiuMrFOeVDymJ/Z5vnPJ1VhQHTfSdU4LFSh7V09Yz37PJGU8nVLNoiKmMGVxBB1K13aFJ2/eoj5FKeVC+MT+zmuNzLIPRysNmtH86T8ybAOqtdH2p+sISbOBHxZB6OQo6Fu/aMb/DriWi7RAjzqW/hKs8qN8Y5uzmj+ZIf8lY7PjJtif+ZOBSAAPNH2pesZ7qBn1yfmKBHQsE9sT9NcWa036JaFo7UTf5dE55XBsmrNoGDi/wDMVYbOi5v/ADlN2yQ55BFC9xNgBcoe1P1hV2z47ZOf+crFrZ2UlfDTMxOkmyaSStXZQtQteSSZCXZm+qTrAH7WpAALl2qfjaFkAkodrE+6FOB5vcVT9h7TmA31e2HnumEn9SvUgW80htbaMey6OWomOTW5DiTyU9qXrGZH7PU4B7VPUVTuOOU26BBloGxSdm2a4QSv0JFwAlvY+er2gys2hWONp5LMZwaAtCAuf7SkfKyDF9ybK7RyJ/Zm04BdkkFTbg67LrnPq4QDUbLkfz3MuL9F6Jovqh1ErKeN0khAa0XJKPtT9YwBXwSC3YNoNPIwu/2l2VbhUbuOgn75s0yODRfzzR9i7Ql2tVVtTdzaZjhHGw8SNSr7VGBoeNWzRnL1TlrnZ0d2x5alrXTTup+bIj/yVZns7SMN5d7Of/ckJ/RbTRksLa9ZUftKgpaQkY5C6QgfKFz9rXT1khbaWz6WkkpJI4xGBMAbZa5LXo6OLFINbHmkPaEjcQA/14//AOQWnRAiSX1Cct9QsmjiijBuB+pU9hivfD+qYHmud5Ln7U8Iy0kTtWnqqUtJGcdxezss0285FDpbNMnm5Pbg5NXbRQk+H9VBooQSQ3NMZWyK7EDqhtLIRfSxWzaqU1NFZ4Lb97mm5SLFLROLGzPb3yCSBfVPbg5NHFJFbJo6q3ZIreH9Vi7J9p6baE7qaRppqtpsYn6/ZehByyQ2lkLOpIsJ7v6oEMDTFIcIJBNk68AtJQKfJkvqUpbg5Ned2Uyt2jDO9tTHE+OdzC0x4gLfdPHYtbK60u0LNOu7hA/5UeyeB9JVubxq5f8A+S9CAAFPalkeef7MQlt5KurcR/7lkGh2Fsyq34BlldG/C73rsj1T+39qN2ZROc0YpnAhjeZQfZOmfDsxrp/jSuMjz5nNXbjZF/8Ayns0293J95nf9qD7JbPb4BO0+Uzv+1vgXWJ7RbbbsmlcYwZZ3ZMYP9o7VAd7LUgBwy1I8t8SupvZeilYTI6ZxDrC8pTewoaiLZsZrZHSTy3kdfhfOy0KIYQ8DPvFXbiZ1nN9l9nM1ic78TyVDti7Jhexr4Imvdk0HitarqGUsLpZjZo/VeU2Uyb2h2w7aVQ1zKalJZAzz4lTarbOyKFngpIgfwhWp6CmdCbwRm1/lCeezLNZdfV9h2ZPK3x5ho5uOiU+D+hbIiFRV1lQTigx7uJvABupH3W32aK3gA+yV2NRdh2fTwnNwbd3qcytH1GSO1cKSQRAfDBXU0DHQtLmDoiTZA2WWdt0dGzBLMMbdWgEnoFduJnWqaaI/I2/olquMQwOdDAJnjRo4pWP2jpXAFrZ3X4iF3/Sfp6qOri3kV8IPFpH+0dq4xJqevlbctgpxysXFE2ZJL2gUtfHGXFmKN7PmHmEzV14bibDFJORkcAyH3KT2PUDaFe+dt2sgZu7O1udU9uJnW92eIaMb0UOgitnG3oihwc24II5rF2pXzN2hSUdHbG845CRezBqhtLDk8MWB1owDbki7qIxAlg05LL21tN0LRTUrQ+pmuGj6RxcVpx4o6FoldjeGZnnklbcTOktgwRu2bG50Yu5zzp/cUzWT0tGGdoLGYnBrbjUlB2PI2n2LBJJk0MLj1KzYGnbNc2SW5jjcHkfTbwj/lTauNepij3fhAFwmQyFoBcGi+QusvadQ+TFBTuwlti9/wBIWbTVb9t1FMC/93pTjmfoC4EgD/lXuDJ16rcs+gdFxhYMsDeizNo7TazZ75qWZuZwteMxdRV7YNNSx4G453MBI+nLUqdKwzPG3FGA0Dv8k1u2NGYA+y87FXVE01JTyEGcneSkDJrc7BPbTqDVSM2fSyASyfEIObGcSrdGRrNaxwuA0hSY2AXwjosmvqX08cdFQZTObbF9DRxKrS7VjpNlQurZjJIQfxOz1U6uHntYZ4g1oFyeCbELfpCSjlExgkALcWdjrotIZDyV8tSQIxgcAl6h0cLHPeAGtBJJ5JpxXj9v1ku06yPZNCbB5vM/k0ahGarY2fWRV+CaAXic02uLcVpYByCy430+zNxG4iNjW4Wk6IjttQOkbFT4ql7uEYvb1KVSHnYW62CESxwu2xHksPbFGGmSpraiaSHLBTNNrnllqr0rHUNFHDG3DPUOxBvBl/8ApQmpT4TNICBoE1hAOgWBQRyUm1nQmZ8zZIsRxm9iCntpVb4hHBTkCeZ2FpIvbmVb9SNA4RwQn2AtZZf7aY2sZRR+/laPeuGQYPNJ7T9pG0bmubEZICSwPB8ThwAUmq2qTCXS/iTWXJeaptsyQ0JnqYMM8r7Rwt1cTotCr2w2lMETmF9VNa0TTcjn9lqkamEFClsBlks39siTabaOnZvC0XlcDkzy9UOr2uO2MpaZomfrKQco28yVItaNKQ5jrfUUe1wvOUO2u0V5pqOEyxNJ3kt8gnJ9pyTPkhoMPux7yV3hZ/2Vb9SNjLkgyNyKT2TUy1FAyWpcC4k5gWuL5FMieOXE2N7XFuoBvZaNSbKETBssTzDKMsTeKehikYPeyY/8bLqQAxXGlymAVberIHgCDPYNPkmD5Jacd03Un1K8uN5tPbUMA/hqUbx3rwXqjayx9gwdyapda8zzb0GQTe1qzsNHJL81rNHMnRXy7UnwpX1UlVUihpDY2vNIPkHL1K0Gwtp6cRxizWtsFgUbqvZVLv56dhD3AynF3ySdV6FzsURdwIWirU3wWeiMGoNG8OgYRdH04qX6sVcAAl5rYHZZ2TLhkUtMO6Vp9Sopx7pvoi2yQoPhN9Ea61+rPihCBPYxuB5Jh3kl5/huJ5Kz6lTDnGLIgCFAfdt9EYAWzWrRQoNQPdP9EwdM0vUH3T/RafWvxaLwN9FYhVj+G30V8lK0+Ku080vPmw2TB0S9RlGc1Yl+CN8I9FNuSq090K6ixUhL1GjfxBMpapOTeHeCs+pRhorKrfNT6KKgpaf4kYHPNMnzS8uT2eqvjwaLZWIsuuo4ZolijuKXd8ceiZJySziN+30Tg0e111gFwyXcM0dJRwQY/ivRXFBjN5n2Vg0dQ5T6qCiqrrWQITfFlxKK5DgObr80p8QWy5TqVUoqHJoVSDwC+qu7RDgIwpfiCkKpFla6g8VFAmHdd6KIs2A+SmUjCfRVhyYPRX8T9XsFQq5VCUVL1HwypGQCrU/DKs3QJfifriLlUIVnFUN81FLVGeH8QV0OoNg31Cm+Sv40+hy6LzftI79ydbmvRSHJec9pD+5H1Q8vjt4/X1lpvqihKQSiSJrxo4XRxK0DNKuMsWdkLpPETVRXHAph8zSNQlA9naojiF7HJPxHyaQCm6FvW81xmbbWyGFqzzcFJl371FlwKYMrSDZyWEje0xEngUpEtaA6LtChiZp4rjM06FHKWxZ1rHNAjNqhtvpKs6ZpBzQI52CoaL52KUnBt60gSrX5IG/bzXb8DUhHKeiSeFLRfxOX0ohmaQRdAbK1tRqNEpKFs1oB2iztuzbrZ8xBsSMI+5smt83iVie0k4dT08YNsc7B+t1M6WtinZgpYmD5WALGqXf/AI/RDyJWv2iNze48GwtkVhz1MZ29RAEE4XXKviNr1BccJwjNeZ27RPnilqq53diad1ENMXMreNYxmZcB6lZO2q2nqYY4xPHbeNLu8NLowjuyaMUOzKeEWBawYvVIUbT/AOZah18uztt1KbdtvZ7G2dVwj/MLGp9tULfaB7+1RYTBbFiFtUptF7Jpus3a8Rlp3mQgwtaXOHOyH+3tngX7ZB/+4EpX+0GzpqSZjauElzCLB6MlLRPZ2ExbIhebYpbyOsOaX2u8l0MYb4qiMfqmdjbRo37Op44qiIlsYBAeMkhVVsL9tUkZlZYPxHMcAnPtCvVtdZvJYlA11Vt6sqHfDhYIm+up/wCFoOroSxwjlYXW+oIGzgykhwve0yOcXPIPEoSHoe2W7yWiZfWdpt6Zp+juZJb6XWXXzxv2lRhzhYFztfJPU1RHjkIcMyM7pyX1HZrUBsEtV08s7RuZ3QOGhAuoFUwfMOqk1UY+YIZdLYxJ9mbbxXh2qzCPqhQ6bZu2ZN4H7UYzvath/wDtbpqo7HvBCpqmPE8h4zKeXB2aQ/Ye1HDvbakA8ogESP2fqAPe7Wq3HyIAWoKph1cFPa4x8wQ6WxkP9moXC81VWSHiTMQlH+zsTaeY0onklB7rTUEXXoHVcZGbggU1THd5xDM5JTcG3rA2b7D08cjaqullfVFwdcPPdPIHivXhvAcEv2qPTEOqkVUdsngfdTKWwWQWBS8VzHKPMqXVUR1cOqFBURWf3gM+KuXB2aT9lIt3s+QHjUSn/wCRW7wWZs4R0Ub2F7Tie59x5m6aNZFxeOqOUtjA25QvqJomvcHumkDW5eFmpW5QNDWOaPCHWCDO6nkkjkeRijvhN9FNNVxgOAcBmllwd60yLt7psea8xPQGbatLTTP3xb76Z5GtvCPRbZrYgPG3qlN9SsrX1XaGB7owwtLhwN/+Ucp7Gk7IeiijOT/xFIv2xRDJ1TED+NBp/aCgiDw+pj8R0zVzg71o7UYw0ckjm4nRtJZ6qNj0raKghjGuG7vMnMlIu9pdnuBtIZByawlcfaSnNgyCodlkBEQpJV1sy2c0heenArdoUtEfAxxmk+xyHVGk23K/KKkeAeL3ALN2SJaiumq53sjBksGg3JAyt6JSXE3r2LRYZFSb2SYrWAeIKRtCLi8I5V2CyBL0lFTMBkbDGJHEkuDRcrnVkJv3v0VIKyJsQxOsbngl63B2a0AANAErUTXmZBHbEe8/yau7fFwdmseSepNbOYmta2S2GUnwj0RylsNbQmJ/daP4rh3iNGDmgO2VDTUBmjc+NzYu9gdbH6o0HZ6SJ4a8vkfm57tXFMx1MElOGP7zS2zhZLLib0rHWM2Zsynja0ySlgDI25kkrOpGVtHtCeqr4nzSzsAjwC4Zn4fJatJBRUZvCHF3AvJcR5ZpvtkR539Ecq683s4XdXV+0HtE2IszOTGjgESLas+0hNNTkRUNO0tdiHeebJ6op6HE+Uxd92fG1/RBNHC97zvJBDKQ58QGRKecTZpOaaeTZNBQxh0Lpmta6V+TbWuf9IlRWGho30+xm710bbyzagcz5lbTpaeWMRyMD2jRpbooZJTwsLYowxmeQbkjlXY81VvmldMyjqGSRSBrqiUDwgCxsdEfYWzDUUTGR4oaO7nEHWU+fkq7Rnjq7U1KN3AXWdhbbFnn9lvsq4qeG1i2NjfpyAVsuJvWBXU1REyionQswiQloab4zbK44BaUuzJY44Awb1zn4pyTbEbZfa6Vp6g1W2mVTg/C2N2BhGQBOR+63RWg5YHH/EqZV1gxw1tK6a8IfUTTAiUZNtbLohbHgqW7UrXUwbKQQySZ51dxstuapY4tGF3i5K1HuqOMsgjfYkkkjMkpWXElik+y5Y6KZtI/FVT5PldyStVsaOh2aGw3fIwtLnnMmx/0tbtR+h3RVfV3BvG63ojlXS0NZ2iqhELLxi+J5yGnBa5N/RZO/G8YWsdkeSaFWeEbz9lrKMpmQY2OF7XFrhYGy6RjK6tlA8DhE3PhqStU1DrfDd0Qo3CJz3NhcDIbusFpKWrOiZLMGyNa5mE3BF0eClhp24YGNjHkLJYTnfAhjtOSL2lx/lP6LWJKzdqxTnaVNKyB08UTHWDdMeVif1WY2rl2dtCV+13EmVgdGWtJDebQvRmofwjcR6IEry7xQl3qFpF0jsdks9ZPWVLN2XsDY2HUN5nzKptGmrZdqg0rcLTDhbKdGEnM+tk7DM8TyERutYZWRzPJwjcrZUleO2vsOr2fS1b6Z+KKRwL8Pjc1B7PUCpoqmakfJSRswQQjUO+ojzXtXSyHIwuI80N0rwM4nW4LdZ5aBtU3bL5Z276obH7qMDutJ/8A7qmII5aPaNRvGuqdoSgBjrd0ZZnyC3oJHNfIRES4nNHEkhN9ybrWVpWHQbJrI4TDlTl7i6eYG7nny5KdqbGggoJnUrHh4jOTHeM+fNbTpZhpEeqG+WUZGEn7qSVdeSZHUUmxnNo2mCNpG8lt3nc7BEdW0whbQ7PD3wXs8szdKeX/ANr0kLnljm7kvaSb3VomlhuymDPSwVsSVgV7qsRxRye4Y+zIadjs3HzPJbOydmM2bSYMjI7N7uZS00U0m2KeV0RLWRuw8gbhaLpJQPh3+62NaPRi0NuRKYtzWfTyy4O6y+Z4opfOfk/VSzrSmSgTAEEeSpjn+j9UF76i3wx1Wka0OgohAxvvHljb4Wk5BRtejdV04Edi9jw8A8bHRXhM+AAMBHqruM1/COqtnWlJOZNtGRjJojFTssXg6vPL0Wi9vdI0CCTUA5Nbb8So91RY3a0D1WxrTVPYRNRL3SMD5ywANbb1RLz3Nw3qtY0vDBcgyeB3oqEz8cKFJv8ACcm24rSNaLAbQsRg5Iw74xttayKBPxwrWNKYJvogT5xPtyUWn5tQZm1GB2bSLLSNaLTn3TPRGBSUQmMbbFtrIhE3Nq1jSmC7JAnPuneiEWzn5moUzZxG7NpFlpEtNROsxvoiYgdEnG2UsacQtbSytu5R846KWNKYJsl6mxiddRgl+sdECeOfA7E9uH0Vn1rTrfCPRSXBJhs2AYXjopbFN8zwfspZGlNYsktUOuBfLNcY5vrHRLzxS2BL75jJWRrTzTlqpB5JURS8JB0U7qX6x0WxtMFyXmPeZ6qDHJxf+iXlhl3jbSZX5KyJafDstV2IFLbqQAe8/RcIpNN5+imRdGc5AJBmHoqvhk4SfogmKQSC8hvbVWRLT17KC7zSwhk/qHou3L/6h6KZFFc5CjPvX5qHQvH8w9EFsTzI4YzpqrMY7iC4uA4pfcO/qFQYHn+YVMjCucEKF2bs+KqYHal5QYoHEu75GaskxN6dxDmoLhdLiBw+dy4wOv43I8XaK5wzQ4HYWZoZgP1lUhiLm+JyWTENYwuLgg7jXvFV3NtXHqjxVpHDC654KkLxgbmgyw5HvO05qsdPdoONwy5pZMHemy4c1QuHOyF2cAeJ3VQacHLE7qjkLqKh1mHioD8hmgzwhrciTnzVhTgjU9UsmIIXhVLxbMqhp221d1VHQN4k9UeKHMQS31Ul9hkUKaEAtIJ15rtwM736pZMaWqyOFjmvOe0j70ZAzzW9LA0jj1Xm/aOLd0oAvmVy8vjp4bsfR/ZoCt2Fs+dz33fC25vrktZ1EzLvP/MgbLphQUVPSx+CFgYPsn9U9rnkJPoI3DxP/Mlm0UYqYhd2YOd81pO4pdp/e4zyaV08fKjZFzs6N2r3/mU/s+O2r/zIk1QyBjnyODWjUkpWk2tFWTmKEPPdxBxFgRdc9pZF3bPiA+b8xQRRR72Oxdxvmn36HNLt/iI/Qpzyo2QQUMQHzn1cVbsMWvev+Io4zU+qHtT9YUfQxEcfzFAZRxCdoz0PFPvOvBLsN6lv4SlLRsmrihi4Bx/yKt2GI6g/mKOFIPNH2p5CslBDbQk+pQYqOI1AFja3NPv0KBGbVFvJKeVwLJq/YYr5t/VYPtBQxOqdmRtabuqRfPgAV6ZYe0gZdt7MYdGl7/0RnlSsh79m00be7GB6LBr9nQSbZomOa4NOLMOIOnNerf4V5+vFtr0Bv83/AAn4+VGzo0nstQSMs5sjnXvidIXf7RofZyga20tJTuPAiOy0KmobTQOkIvbQcyko6+oZVQxVkbGtm8Ja69jyKG08VfsHZoGVFB/+2FjR7Io2+0McYposBhcbYRqvVPBWC4FvtHSuFu8xwPRWW4FnY1BsihH/AKSEH8ARG7Mox/6eL8gQtpTVjGxs2dE173usXvOTBzWVB2lm14oe3TVTx3pxkGNHKym08jVl2Js+Tx0cJ/wCwWbC2d/5hjjFJFgETiW4cl6txNs1ixuw+0jBfN0JH+kpbg36ePs7sxwsaKIegsl5PZShPeiM0bv7ZTkj7Uj2jJJEaGqjpoW3MpczET6Imw6qarpXPqXNeRIQ17W2DhzsjtPCNTSRM2lSNDb912von6WniMkowCwtkhVIDtrwW+VjinaVlpZT5hL2uBnV+yxA33Yv6Kwpof6Y6JgBda65+1LIUfTw28AVKWmju+zBkcsk28CxsM0KmBD5OOaUtwc6v2aP6R0Xdli4xt6I9rriFNpZCj6aIA9xvRDpaaLFJ3G2vom3nha6FTWD5Lc0pbg2TV+zRA5xtH2VjSxX8DeiMNF32R2lkLPpo7eAdFSkgjJkBaD3uITTjkhUtryHTvKy3EyaIYI+MbeiRlbUOc5sNHGADk6R2R6LT14WUgc0dLHn5NnbTlNzPTQt5Nixf7S8OwKiVzxNtOYjFmGMa1eleAg0wzk/FmnLwf1lD2Tozcyy1EpOuKUpmP2b2Yy37q1x5uJJWqFbIoW0mb+yKCLwUkIP4AiUlJA3GGxRgYtA0Jp9hfig0pzktl3ylPg/pjs0Q8LGj7LjTxgeBvRWvfVWLsrI6ReSNhbmweWSHRQRMjcGMDRiJsPVGkOWapSZsda/iKW8HOj7lnBo6Ltyw6sHREAVTcXRXA3MYAbNHRVpGR7rwgi5XOuV1IPdehKX4mdHMTfpHRQ6Nozwi3oiKDnxRLCk8bMPhHRWpIm7hlmi1uStM3I30srUv8PHbkr+J+iiMDgF2BvIK4BtzUkZZI6WQpUxt3b8hoeCLCxpjbkMmjgoqfhu9Ciwj3bfQJbwZOqlgB0Cytt1Ap4mRMcGPmNrngOJ6La4eaVqqGGqcx1RG15jN2k8FNXGNT0+Jm+LMLA0NiBGjef3TFbaomjpQQIwN5Mf7Rw+6dqGhsRS52SJauSd8zt3K1odHbW3nySt4i1DCHbycNA3hs38I0TZaANERrA0ADIBc4CyGqRqALx/jCba0W0S89iW+TgnWgW5J28GKNZzXOYCM0UW4hQ+1uSJYTeA2aLLimrDglZB76P1TjRklfiRUtQ3ABGsqPARUq2xqG/hKZsOCWA/eGnyTRyCtSKYUN4sCinVUk0UUnAL1L7/AEhN4RyS8Q/eH87JoAK+SRQtBQ3gWRjxQZBlZTVoNMAHyWHFNAJSnykk8imweK3k3iqQhS6I9r3QJQbZLRqBSjuu/EUyQgUmjvxFMq360+BlvGyG5uRRyUN+ikrUKkHuz+IpiyXpfAQNLlMYlfL6k+IcBZBkFwjEoLzkVotDps4x6ouHNCpj7v7o9rrX60VtqgyDulGOSFKThK0ah0ucLUayFS5wtzRlb9SfFCOSHL4T5IpQnm7TdSNQ6fOMIx0yQKf4TbI4KtafFChyG7HeiIc0KQd1w8lI1RBnE0+SvZDp/gtRCFq0+IIyQZh7t3oim90Gf4blo1dCbRt9ERChzjb6Imi1SIdmgVHwnWTBQJz7py0ars8AsrocXgbfkr3zyWqxxS898ItzTBQJ8m5HNXxSiDJSobmAVdStFClpzZzPVME56IE+rPxKxqK0KbWXAKbc1GUI1S7h75o4WTDuSA4kTtCUSjAWVSM1fgqkIqG4ZITB753oEdyA0+/d6JINYKC1WByUFAg3aIEOrvVMO0QIfE8eaX4lG42sqlWPqqk5IqG/IIdN4LeqI/RCp/B90vxP0V3koIyUnNVOSnxaBJk1yiK+AZcF0vgcfJTD8Nt0vwf1Yg8VUhXOeqo7LRBS1QO6bc0RosBZUqM2ZcwrjQJfifqChuHVE45qjlCKz/J6qToonObLDiuJuNEr8SAyLzXtMbU3PNemkGS8v7UfwpztmuXl3jr4fdfXG9EQHRLCUDUogmaBe6eOQjyADdeerNtxRVzIaMGqqLEYI87Hz5KPaeSYQxvY+U0rXe/ZD43N8kDZW09iRSM7C+KEBveDjhcD53zT8Zwa04NmTVcraja7w8t8EDT3G+vMrWbE1hu1oHDIcEvFtOknNoaiN7uTXgo+/bbIhDpaxK/2ljpt7u6Orn3bsLiyIkX9VnN9saffxl9HXMyyBgK9Pv4wCMQF0tvYjVxnG3Jp4pQaSZ7WU5sG0lcb/wD+M5NQ7bknkDWbPqw0/M+PCP1KcdW07Mnysb6uCXl23s+AneVcLba98KHrQcSW58UvH/EN/CVly+1uyWZCsY48mguP6IMHtVs+SobhfJmLA7p3/SclwLetvaG0odmQiWoDyy9iWNLrIcO39m1AG5roHOPDGL9ESWrhEZdKWhlrm68vUspdvSmKgpYhDe0lSWAdEMLXssYcMTTcHSyFGP3m4OVkGmZDR00cEWTGCwzXRzM7QLO+VWRLWle+ixZTi9o6cHPBA4rS37PqHVY7JWft9zi4d2C2vmpi7G85122Xnqs49u0MepF3fay2e0sz7w6rDdOw+0sOYs2ncb/dWTBt69FLBHUMDZRdrSDa/ELIe81m3YwzOGkaS4/3HgtI1LCCA8Z+awIdnVIfLG6vZHTSPL3GNtpHX4Xv/wAKSHr0YnjkLmscHFuoB0WHIf8A8x0oGfcef0WhAKWjiwQkNHEk5n1KzGzsO32uuCGRE39UpAt619r1TqLZ80sYu5rTb1WVsypp9nwNiicayum78m77xJPPkFsOqIZWlr8LgdQUKnFFSXFPHFFi1wAC6OUtOglzAXDCbZhY0QDvaJpGZbEf+FpyVcNrYx1WPSzRu21O/ELNiAvfW6UlwbZo+2Z5aqpi2fC/dCQF0r+TByWnQS0oi3NI9rmxDCQ03sk6qGhrXtdURskc3IEo7JqemiLIQxjQNBkjhaHT+/2lUycImiMeupT9M4b2S3Cyxtk1cYhmfI9t5JnnXzt/wn6aqjbLIcQzI4p+txNmtW5U/dKNrYj8zeqntsN8njqueUthh+lwhUx78t+aE6tiGWNqpBVxh0lyMzdKeNwdmtIOXA21SvbIh8wUGti0xhHKWwxIboNPbeSX5oLqyO2bkKCsYHvucr5JSXBtmtUFcf0Sfbo/qVe2s+r7KetL2hp5FkOlz3n4ku6tjIOYVIKxjC7PUqzxuDs1rC1l1rJMVrdbqpr2aX/RGeNLYakJtqhUpzk/EgurYwBc/ohQVrGufe9icjZKeNwdmtRWFrJHt7MrX6FQa9vG/Qo+tLYbkzCDSjOT8SA6uj/u/KVSnrGDGXA2LuSXrcHetMjRSlO3M4B3RT25oyAN/RHKWwWQZKlIQA4f3FAftBtyMLifwqsFZYOOB1sR0CXrcHZrSvYKUia8fS7op7cD8rvyqetLYZkyUUV91nzKWfWNtk15t/aqU1aWs8DjmdAtlwdmtawIVLcUka43Pu3/AJVHbTcWjf8AlU9aXtDE2YIXUh9xGDySclaXA+7d0XQVL2xNvG4gDUBL14O9azXZKCRzWf2t5yEb+i41b8rxv6I+tLYZnNo3ehRIn+7ZbkFmS1Mha73bhlyV2VT7Nbu3eHW2SXrxNamLioc4WzWcKqS3w39FPapP6TsvJD1q6JU/DdzTTT3RmsqoqJHMN43N80ZtVKW/BcMk7OJvWhfDdVc8FZxnnJyhdb1VhNL80TkfVdFnIuz8Q/2nb2WRLLIS0bpw7wKaFTMG/Ad1Ss4Mp2+ahzgbpPfzkZQnqFU1E4/kO6hHF0R499Fn8ybBOiynzTmSMujw55Zo+/m4QnqErElO4vNDe66UdLUf0v1VN5PqYj1UxdG/nt4ZFNA5ZrM3kxmB3eeE2F0Xez/07fdaxpTpICE8hAL6jhGOqG59RxjGfmpI2rRX7S8/2hNYuCzWOl37u4Lkc0bFUfQPLNWxpTd7IUjskA9o4NHVDcakDwtP3Uni2iweOT1TWILMidMXvsBfijg1NtG9VbOtKcLuRQpdM0D95+lnVDeani1vVTF0SlyDs/mKausuAznGAB4kwBUDUM6q2dSXhsnmhSHIoBFQfpsqPbPbPD1Wka0SmdZhz4lHxCyQhE2EhuHXO6NabhhVs60pguyQn6FCLJz8zVRwnAIBapI1otMQI/uUbGkIGzFl2ltkXBNwc1WzrSmXOvqhPN2lCwz8XN6Ib2TAHvt6KSNotKfci+t0e+SRp2yujuxzQL8Qilk1vG3orZ1pRnFDkN2n0QTHOcjI3ohvjnse+0j0Wk61tFg+EEW6ShjmMYs8AeiJu5b/ABB0WsSUwSqSEYXeiFupdd5+iHJDNhPvBpyUkW0WnyiCJdJU7JTG0iS1xyRN3Lxk/RWzqSmMVkGU3Yc+CGYpf6v6IckMoabv/RaRrR4T7pvor3CUgjkdGDjtyyRBDJbOQ9FrJrSjOIsgTfDdZdun/WUGaF+B3fy9FpOtaZjPcb6K/mlo4ZC1tpCPsrGCS1t4ei1kaW4MXXQagjBnzCqYHnLenogzwPDCTIVpJqWnWuFhZSXBKtp3Fo945W7O62cjlrIsopI0QZyO7c8Vxp3W+K5AlhIA75JutManA7LVTjSzad1viOXGnJ/mO6qZG2jF10B5G9abrjTkD4jkB0BEjBjcb34pRKcxAri/KyD2YgWL3dVU02LV7h90ci9GLggNI359Fxphxe7qhbgCW2J2iWRLpvEAqOeOaE6mDvmd1UGlGuJx+6OQly8EaoUThifc8VxpgOLuqFHA1z3XJyPNLg3TeMaXVC4c1Tsrb6u6qDSt5nqjxepfIAEKCQBvVQ+nbbj1QoYGluZOqXMTumjIOaqZAqdmbbjf1VTTMHPqjwkSPGF2fBVjk7guVElO2xOaiOnYWAkG6vMHou8HEqrpBbVQaZnL9VR1Mzl+q3F6pM9uEq4kbh1QJoWhhIFrK4hZYZZlbmJ3VnSDmhukbY5qxgYBmEIwM5Bbi9BleLtueK4yN5hVlhbdthqVJgbbwhXmNNDfKLG5XmvaVwfSm2dl6R8EZHhXn/aCACkeWC1ly8sx18LdfTW7Pjtm51vxK37PiuNepTLTe1lbQp+1cshR2zoXCzg7qs6TYVDPVtElOx4LSTiF1uEpUAdtYf7Cn4+VG+MIT+ytFJh3BfSkfNEQClmexsAzl2hXvPPfW/4XprcQpJv6o+1/p+secPsfs4N7xqZDwLp3II9ktlidlopL2NxvHZ/qvTPQGgGqZzwlaWpYz2eyWybXNGx34iSjM9nNlRm7aGEH8C1gcl1uam0sjOOx6Jl93TRtPk2yFFs6AVA7gGS03pdn8QD/AGpTyv8AQ8vGaVn9n6SqlDqhrpGjRhPd6JyPZ1PE0NZE1rRkABkm2qyPtTyEX0UFvhhAjo4TPhwC2FaT7pZjbVQ54Up5XAsmp7BA29o29Fl0NJDJtescI2kNa1tiFuOOFpJWZsQbztVRe+9lOH0GSPtSyG30MGHKNoI8liimj/8AMUYLBY05y+4Xo38VgSut7SUnnC9WW1LJraFHD/Tb0VuyRcY29EUeangjtLIVkpIbZxt6LIp6dj9uzNwDC2AZW81vSWsVj7OcJNtVpBzaxgKctwbJrXbTRD+W3ouNLET8NvRHaFYjJDaWQlJTRAG8beizaCBjtpVhwDIMAy8lsyeFZeySXVleXDSRo/8AiEtuDZNarYY+LG9F0kMYYbMb0RAFWY2jcb5WKO0sjL2TBG6hBLB8R+dv7im6SCPeygsHBC2OLbOjvxc53VxKbprb2T7JbcoZ0cQR8GN6Kezs4sHREtZSjtdMLPgjGeAA+iHTxMxyd0E3TEiFTD3knmUt4GTTDYm/SOitumH5Rf0VgLaqb55IbTwvLEwDwDohU0TcT7tGvJNSG+qBB8R/qlLcGyaPumkZNHRTumjgOisFymlgL4wB4R0QaZgxSZDVMyXIS9I6z5b81Z8H9NBoHAdF2BrtQFZcUdIF7Q0ZgdFWlaLyWA1VpHXCrSHvSeqX4P6a3bTqFxYOQXB97clId5IkFIABoqUxBdILcUWQ3BQ6YWc+2Wav4NNADgAps3kFF7KdRmoQcjbIVI0OEn4kWT0VKTIPyt3lfwf0wIx5KSwcFK7NQgniyHSDEw/iKvKTZUoxaP8AyKX4P6ZsucArXUE5aIEXlaAMlFGP3dnorTOHJRR5wMHkl+D+jkeVlVzcle/BUdcqEWnNmO5WN0SAAxt5WCHOO470KJBbdMI5BL8T9FuBoFx04LvUKrr5oKWqrbl100wAsHolKnOJwOlk2w9wJX4M+rYbeah7Mle6hxyUIpOSA3niH+04NM0pPmBc/MP9pkeqtSLhQQuuqudkopaYe9j/ABJkNyS0lt5Fn8yaFgrUiSLZBCeeCIShvUUt/wCob6FNAc0qP4hvoU0DbVWpHHPRCkRUGS6il4v4h1/pTQSsXxz6JqytSIIF+aE/REKo/RGKBTfGkB4WTYStP8WX7JoeSXl9SOdkhSaIt0OQiykUvS57wf3JpLUp70o/uTJ9Fb9bxVOuaHJoUTX0QpTkpGoVLYtd+Io9rhL0p7r/AMRTFlb9afFTYKjyLIlkOTitGoVI68efMpgjyS9Ke4bcyjklXy+tPipyQ3jIop0QXk2Kkah03w/uUbVApz7seqYvyVt6kQfRCf4SUQocmhUihUx9190WyBTH3evFMK36kVGqq+1irOKo7QqT6tBps4W5Z2Rrc0KmzjF0Y6rX6k+KkIcngd6IpzKHJmxysah0/wAJqLpqhU/wm2KMVL9aKkIU2cbvRGKFKfdu9FY1TELxt9EQjJDhPu2+ivdStEEIFR8MlGJQKgnduC0+pRGXwhXQ2HuBXC1aOIuEtOO6Lc0yTbJLzmzPurGq40zXG64FcSVGVIQJB7xnkUclAlPeZ6qxKP6rio0Gq4lRUEBLn4wvlkjkpdwvMPRWJRvILl3BQoSHJeMWkffmjuQI/iPViDhVOfkuuuJU+KC7Q8kOnF2580V+YQ4NDzur+ILZRZSoJ4KKDL4TbkqxeBt8laXwn0VIr7tqv4P6IVUgKwVHG6MUvUfDNldo7oVaj4ZVmnuhKp+oOmaoQCiFUcLaKEVm1b6qzhkqzfL6q5GStSAO8lge0A/c5PML0DxksHb4/c5fRc/L46+P19A2RtGPaNBT1UJuyVgcFoA39V4r/wAPMcXstQCc2dgNgeVzZetFS22ZCeXXLYOTkl2/xjT/AGFd2hn1AfdCZM3tYOIeBOQbWmCpuEETsGrh1UGoZ9Q6o5S0R+bUuy3amfhK51SwfMOqAydgqhmLYdbq+MuDa0wcl1ysLa+2jRdnigLTPPIGMBz9StM1TLC7h1UylsME5ZpdhJqPLCquqo7eIdUt+0YYahoc6+LIWzSko2xsAqUqKpht3hb1UmrjHzDqj60vaGHG4ISzP4q/9qp2pnEjqqR1UYqTcjJvNKSpbBdqz7ihmcD3sJA9VfZsHZKGCLi1ov6rK2lVsqq2kpW2wYt5J6Ba3a4hbvBHKWivOSxAzee0UbuEcB/UrUdVx2PeHVY9LVM/btS4kZQtAz81ZKNsekDrq1vNJtrYuDh1XdtjF+8OqnrS2DymwKwthnHtLabuUgHQLSfWxkG7229Vh+z9cztO0nXABqDY80pLlC3r1d7WV8WSSFbGRfEOq7tsemNt/VH1p7B5vCVk7BdjfWvJ1mP6ZJmor4mxuJeBks32fqWilke4gF8jnfqU543KFs16ZpGiW2hJu6SV3JpQxWsGRclNp1bDRTAO1aeCHrT2HKJu7oYGi3wwiUvxZEq2siZDG0utZo/0upqxge8k5FOeNwNmthTxSX7QhHzLu3RnRy5+tdPaGZDYIVOfeSID62M3zv8AZVgq2Nc+/E5ZJzxuBfKa0sRspBuk+3s0N+ig7QY054rfhKPrS9obeMkKmA3kvqgmvjtmHdEOnrWNfISHWJ5K+twbZrUFuKkgJI7QZycf8SoNeCMmu/KVPWlsMyDJApW+8l45oRrRbNjvyqkFVhdIcJzPAJTxuDbNaYsOK64SZq/7HdFBrSNY3/lQ9aWww8XCHS2D5fVBdVEn4b+iHBUOa55DHm50sllwd6072VhnmkhVu/pP6LjVP4Rv6KetLYbfkEKmtikt9SXdVvBsYpDfyVIKl+KS0bteivrcHetYahWBWf2mS/wn9FBq5QR7h6PrV9jkllWk0fbTElTVSEG8DwqU1TKA/DG495KeNxN61l33SAqZdDE5cZ5QfhOsp6rpuU5Wsh0ZOA5cSlzUzAfBJv5qlNUzYCGxEjEeKvrxN61CeqrfJJmab+keqo6Wc/yj1R9S0xKRhKilNoWJV8sxv7r9V1NLMYm+7080s4m9aOKwVcSVD5vo/VVLprX3f6qYujTHuOPkVeEndsJFsgkZXz7t3uxofmVopKjdMODIj6lc4O9aF8vNRfNJ46i4tGPzLjJUkZRj8ymFq9UbRPtyTLHDALrNnM5ieHsaBzujMdUYRZjdOat8eDvTxOWSguyzSWKq4Rt+7lznVQHgb+ZT1XRKg5Nw/UP9plr7DNZU7pyG3ABuEYGryyZ1Vs4krRD7qrn80j+9Hg3qoJqiDcM6qYujTZyREfUmA7PMrLeanHHcMyOWfFG/ej9AVs4kvTxcFUvySYFV/YFBbVW1Ypi6IXfvDCCNCmQeKy8M++ZctDjdMYKng5oVsSU6XZeaE7MJcxVH9RvQqjmVBBs9vRHF0Rlu0n8KaDhbVZTROZiA9odbkjiOoJ8bR9krGlO3ByVXWCVEdRfKRo+yq6OfO7xf0RxtEhI3snPJMNeOCzYmymR/eF8rmyOI5reMdErGlOF1kOQoJjm13g6IT457fEHRHIu0SlcMUmfzJgvWZDHIS/C+2eeSNu5vrHRKxJTZcEN7gQQgGKUfzB0VHxSgZSDzyUkW0SmOT/xFMByQgikOKzwBfkjCCbjIOitjSjl/mhyPyQjDLxl/RCdFNY2l/RaSJbRKY2Yedyj3skII5C0kSWz5Iu6mI+J+i1nWlpkvHFCcRYoJhlGsv6KjoZbXEv6KSRraJTm0f3KMXgpGCKQtJElszwRRBJf4h6K2TUlMFw4IbnXBQzBJ/U/RUdDJb4pUki21NKfd68Sj380nBC8syfbPkiiF/wDUKtkSWjFwQ3OyOap2d/8AUKG+B9jeQ9FJIttXpz7oWKMHWScFO4xg7whF7O4ayuVuJLRsXNUeRhPohOgdwlchvp3WPvHaLSRbaJAQ1gsjYgdTZJwQOMYO8d6InZ3X+I5ayJNHLhZBmf3HeiqYHH+Y4IUlOcJ77tFZI10eF3cbnwRMYOhScUBcwHG4ZcCibg28blrjdHLxzQpnARlD7Ofrd1Q5YLMd3nHLipJGMMd3BbSynHnqgMp7sb33ac1JprfO7qtxhi4c0GZwDPuu3Fvmd1QpoAI73drxK0xLpgOGEKC8c0JtOCBdzvsVPZ2+Z+6nF6JjHNAlc27DfipNO3meqDLC0WsTe/NWY101jFlUyDQlD3DSM79VHZmHW/VbjdELxzQS8b1ufBcaVg5oT4GiRuWS0xrpkyAcV28HMKgp2clXskYJIGqmRurmRvNLsc0TPN9bIjqVlsggtp2b14t+qsxro+8bzUGVoyuoFMwcF3Z2E6KcXqrpWniqRPaL58Vd1PH9IQoomEuu0a5JcwRTK2+oVTK3mFO4j4tGaqaeM/KOiOQuqSSsIPeByVIpGBozV3QRgGzR0VIoWFgJaCrzE/Vt+3g4KhmZ9QVzAwfKOiqYWfSEeN0GaVhY4AgrhOwW7y6WFgYbNC5kLCBkCnzE7rjUMscwqGdn1BEMTeDQFV0bLZtCnF6VlmYdDfNdv2c10zG2yaBmr7scleNtAfUN5hYm3JGyUcgbmbLdfE2/hHRYm3owKGQtFiuflmOvjux7qm2XTU0McUUdmMFgL8EfscOXcR8uCnRXa5ZADQwEZxi6FHSRdpw4BbBonTpql2G1YD/ZZPxtwbBxRQfQD6qxo4DrG0/ZEBVwSjtPIWdQ05Hw2pcU0LZsIYLYbp9+QWXtCfs0c0uXdhJSlo2R5/ZkDdte01TVBt6Oh91HyL+K9NU7mKSKMMZje7IEcOKB7O7PFBsuFhGF77yP9TmltsOfR7Rpqx0UksEcb2u3YuQTaxt9lNtq4psir7fPXsmjYGQyYWEDgohihrtuhjAMFKy7wOLjokvZlwi2ZXbRkL2tnlfJhd8oBKe9laZ0URqJiTLVXld9zkOie0ceibSRD+W3op7NET8NvRFBspBXLa6ZC76eLXdt6JUsp4JXySNa0BlzdPy+A2zK8BJsnam0do1j9o3ipwbxkP1aOAC6S3Asep2LTNqXTVsjB742jBGjQtcU8ZyLG9EpsaftGzaeQDVgWiM0NpyQtLBHY9xvRY9NDG3b0rXRts+AcORW5IclhvOH2ip7fNA4FWVLI3GwRg2wN6LjDGPkb0Vx5q2tkdXIVmhYIzZjeiwfZeNpdWktGc78rea9FUHDE++gCwvZUA0rpLW3j3O+xcU/G8oWdj0AiZwaOisImDPA3opCkOQ10whtERspZXYBcNPBB2NSNipmMLcwxt/VTtuTBSFo+dwb1KZpMnvHKye8c/00IWD5Qs/bDAKQgAXc4AfcrTLsll7XdiFMzPvTtQl6dhwxNwAFoyHJVpo2mSTIHTgiuPdVKW28ktzTl4GdNtjZ9I6KcLeDR0U3spGfkueugTwLGwHRDpmjFILC90Z4CFTA7yTzKU+DnTLWN4gK+Fo4BQCFJOWSJYG9rRfIKtLbHJ9lLySq0p78nql+DnTeFvILsLRwXLr6olgbw0INK0Y5T5oz7WzQqXxyeqU+Dfpqw4LtNVYaKpKJKSGwQqYgPkvzRHkEINP8STlcJT4P6ayvouI8lZpHBRcFEgnodMAXS+uaNILhCpR3pPVWfB/TYAAsq5HRTmNM1xaVCDf4bFUpSPeZfMryAWsEOl0eD9SX4P6aLVUq3koOSJBSOVaSxYeBxFWkFlWkcA0/iKX4P6PoVNl2pyXeEokDKDYqlL8IIkpuDZUpR7kX5lL8H9MWC4qMJK636IkBN4XX5FXpwDEz0Qp3ABw8kSnPumeiX4n6NYAWVCbK1wquAA1RUvUm0LyeRTLD7seiVqT7p9uRTDBdg9FfxJ9EuqOJ0KlUJ4qKDUZAeoTA0yzS05AZnzH+0cZBK/EiVxOVlIKhzrDNFSs98cVvqTY8ylZX3fHb6kwFakXOao45Lhe+aq45Gyig3/eI8uaaSV/fsGl7ptuStSLOB4IbwiHPRCcLKKAw2qSOGFM3SrT+8kf2pkW4K+SRypJkrkobzkooMJvPJlwCY9ErET2h9+QTYSqROqDI1EJsEN+l0VoFN45B5pq1hklaY+8kvzTSvk0QRcIbyGjPVEJCC/MFaLQ6XPefiTF0vTm2O3NGJWv1I5xugvBAPmiXQ3nI3Wah0wu11/qTBtbyStK64df6imfVa/WiDmqOtbNEJQnm4WjUGn8J9SmcNktTnun1KYB6K1PFxyQ353Vz5Kjx0UjUCnHcPqUc5JenN2H1KMMlfJp8SqP0KklUdobotVKb4efNFKBAe590YJVp8dpqhvOR5WV7qklsJUn1qFTX3QRsygwu92LowK1+tHFClB3bvRFQ5fCfRbWqsA923giW4ocDrxtRSVr9afFdUGYXY+3JGJsUKTwErRK6LJgvyVyqxG7G+itxWv1kHJAqL4EwQgT2wG60apb4QrnIKjD3QrXWZX1S87fDbmmCUvOcmnzCsSi2VuCgHKyk5qVVXC4yQHD3rEc+SXebSMWjUwBkoK691yzKu0yQGj3xz4Ix0QAbT/ZWfEo5UHzXAruCJKONkCLJz875orzYIMPjffS6s+IOqlTfyUXuswchsDZDgPuwiPy4IMBOD7q/jCnNVKm+Sh3NFgZs2OXR+EeiiY90+i5h92PRLON+pPEqjla6gm4UUrUAYLeYVr5BVqMm/dWvkFb8SfVHlYu3Beil9FsO4rK2sL0soI1aUK6R75XzIKW7SzgQp7Uz6x55pZXLRS4kaWQWOPaW8sJVXVced3AfdAbVR9oBxZYbapyVLWqHXRGnzWf2qMfMEUVTAfEFPWrpp5PFZtVTMrnugkJDHszI1TJq4uLx1QW1MfaMWJobh1ur4ypbGg3usA4AWusvaO04YaaqIcC6MYbf3HQJl1XEcg9vVZ4oaHtrqouxPJBLS7u3GhtzUnitrN2tfZHsiYXC8zmWsOLnImytp1FLU0lNtOBkAmjDYSx+IaaFaG1I6TaNM6Coe030z0Kx6GColrKX9ouh3dGO49jrl50F+Sclzo69oCbKwNhkkRXQ5e8afuriui4yBc/Wnptzu6s2skEcVQ53yxEoprobeMXWJt7aMcdDVEOuXR4R53yTkuDbGzsBm72TSC1vdgrUvbNZNFVMipYWA+FgH6JoV0eHNyGUthp7rg5LAnN/aGjH/tOWk+uj+Zyxu1Rv2+xzSbMgP6lKSpa9MCrApHt0fAqe3R28SPrV2I2zPudm1MjTYtYSEtsCEQUkDOIhbfokvaLaEf7OewHORwba3Mp6lqo2OsMmhoAy4JzxuBbNbF1F0l26Mmwvf0XGtaDxz8kPWn7QHbNiyEHMb1v+01T2Esn2WVtCujkqKWLPN+LTkmoatokkIxWPklPG4Ns1rAm2qzdokOnoxr76/wChV+2N5Hos6vqwa2iBDrB5Onkp63Vvk23ZhCpTaWX7IBrmcQ78pQ4KpokkyJv5JetxNmtlrlZrlmirHJ3RX7bb5XH/ABQ9aXtDrzcFUpj35L80oawEZtd0VYKuzn912Z5JetxLZrVyyU4kl2vFbuO6KHVThpG/8qPrV9oafndCpiRJJ6oDq0gZxvN/JDhqnBzzu35nknPG4N8prWxX4rr5apFtUb23T8+NlPaX3IET+iHrT9jT1SmNnyDmUuaqT+k4ocFTJik9y/VLLg71ri/MKCUj2mTK8LzdQaiYn4Lx6o+tX2NvOSDT+OT1QHVM3GFyHBPNvH2iOZ5pTxuJvWoCAuxXSW+mv8E9V29nGkRt6o+tXTj3EBUpXDFJ6pR0tRl7v9UOCeYPkAj455pevE3rYDhdcXWWeJqgmxi/VW3lR/SHrdH1LTMjhkqUp+Jf6kq91Ta4jb93KtO+ezi1gOeeaucHetMuAK4vHNJ4qk/yx1UHtNs2Nv6qYumJHAqlLYMdf6ilnCot4W9VSn7RhOEMtiOpS9eJvWriA4rsSSw1Bzs23qucKg/Tb1QxdHkcfVVpSd0PUpV7ajm1RA2owDCWW80s4m9aWLkVUvulQKjjhXYanmxHC1eU90+itA73TPRKyCoINy0ZFdCycxNs5uYySzib0/iChzkqI6m2rVG7qOLmdFMXVqg+6fbLIphjrMGfBZszJwx2J7bW5IzIajAPeN05JZwd6cx34qC7LVK7mfjI3oo3U9spB+VHJ/V0SYjDnzH+0yHCyzJopQ3OQajgjiGe2Uw/KrZxJTmLzUXulRDP/VH5Vxhn4TD8qmT+lqZsnx5/MmQ7JZ74Z8TMUuI4ssrIwhmJ+N/8VbIMpsFQ5wOiXFPLb436KrqeWxtN+iOLtS4gTx580wH+izTDJvmAy3PomOzSn+aR9k7IkpvEBxVXOy1S5pZCPjO6Ib6aW2UxA9Ecn9Lau0/vF7/KmcWazhA8z23p8KOKd9viu6K2QZaZLxbMqpI42S5gf/UKoYXD+a5TIvRI3WnfnqAmN4As5sRMrhvCMtUYQOH8xxVsaaax3zVXPHMFLOp3HSVwQ3UruEr1MjbRIHjeSX5pneBZsNO4veN66yYFMb/FcrZGlprEEN5yQTTn+o5UdTk3944BTIttXgNt5+JF3gtqkoorl4xuyKL2c/W5WyJLRi8cENzroZgP9Ryo6nNspHArZGurU5DQ7P5kwH3SMENw4Y3ZFG3Dv6jlrI0tMFyG51roXZzxkcqPgP8AUd1Uka2rU7hhPqjh4ScMJc02e4Zou4N/G5WyNLTBeEN7xYoXZ/73dUN1NfPG/qpka2ppjZhz4lHxXzScNPjaSXOGfNG7MB87uqt+pNFxcyFVzhbVBdTD6ndVU0wDfG7qtkW2rwEBv3RcSTgpxhzc7XmjbgfU7qtZNSWjFwHFDe7Im4VOzj6ndUOSlFrhzuq0xbatA4YBdFxgcQk4YA5nid1RhTMta7j91bIk0YyC2RQ5Hd058FTszeBcPuqPpmgHNx+6kxrokDhu2gomMJOKnY5oJJvbmjCmAFrnqtcbornjghSvGA5jRVdTNvq7qhS0zA0nO9ua0ka6PE8bsZ8FbGBoloaduAHPqrmBvC61xoLvRxKDO9pjK7szPPqhywMDCbZhaYwrZAGjNSZGnihCBhaDZT2ZnI9VON1cyNAtdBnkaQLEaq/Z2ckKaFgbkOKUxLowkbbVcZW81UQRm12rjCz6QjcWa4ytI1QJJW42Z8Ubcs+kIMkTA5lgNVpjUUTC2oXb9v1Dqo3TODQoMLeLQtxeoM7b+IIRmbvtRoi7lmuEIJjZvhkLWS4gu/YRk4KDUMz7wU7tgGTRkqhjHatCPF6o6dttQUJk7cTs+KO6JgywhAYxuN1grMxF+0M0uoNQwcUTdN5BQWNtoFON0J1SwjMoUU7QCCeKK9jeQVImNIOXEq8xu641LNFU1LUXdjkFBYOICnF6VkqWlpAPBQypaGNuiyNFiABooiaCwXAOSXMToRqm/wD9C41TLI+ADgFRzG8QpsbpOepYWm1yfRR2puEZG/oiztGByhoGEJcxi7qka2PRZ20Jg+CTUCxWs9oAWXtQDssuXBcvLDm69yyjht8NpU9jh/ptH2SuxNoftHZdJUnIyxNcfWy0cSXtRyF3UkFvht6JcUsIqWgxtzaSniUuBepYRoGlOWjYK2khyIjb0RW08d82N6KWlWBubIbSyKGmhA+G23ogCnjNQG4BhDeSZN9CboTTapH4UpaNkG7NFxY3opEEYGTGj7K97qUdq4C6Bls2C3ogMhY2ewa0DDyTjswlm5VI54VZalkMMiaPlHRSY2X8I6K3BcLcUdpYG+NmEjCOi8z7Qsa408QaLSTMFv8AIL1DtF5vbbQ7aezAOMzU/GjY9IyNuG2EdEXA23hCo02AV75IaeKuY0jwjosilax+3J7AdyFo6lazzlksHY5L9tbTdnkWt/RKDXoxG36QCuLG20HRSCbKCeaJYwduBktVs+E5Y5rnLWwutOnaO0PyHhCy9pND9tbPBGbcZHRadOffvvyTnwP06AOAUEBQNFPogeMp1ptsgEfBhv8Acn/6TsNjNILX0SEFv21WX8W5Z/tyfgFpn+gTDDQaLaLMri0bRoGnUvdw/tWoNFlVl3bVoQM7Yz+iE+nWiWi2YCHTlpnkHEWRHGwshU4tLIQNbJT4P6csBy6KwAUBcFNLHGwyIQ6exfL6q71WA2e/7JT4N+mG2GSJcWtqhj0Vromq8CyHTkB7/VXcb3Q6cgPk9VZ8C/TgXfdUuVJKBoeBwKBTHvy+qI4m2SFTO94+4Tnwb9OCxCmw+yrlwXE3CBIk0QaYjHJbmiuOSFTeJ/qlPg/prVTYaKL2XHyRJSQADJApx35DzKK+9kKnNnvFuKX4P6bHRd6ZqPRTeyJIOY0QqY+Ph3ld7hbJCp3AF+p7yX4n6bCklUBvmpuDqiobzqqUo7rvxFXdZVpT3X5/MVfwf0wALqXDLRQCp1GqhAyjkqUoJiHqUSQ2CrSG8Qz4lX8T9FsRwXFXtlzUHRRQJbBp9F0GcMZ0yCibQqac+5bfkl+J+i2AGSqdLK11VxtoipWoHu3eiMwdxtuSFUOsx3oixm7G+iX4k+rht1Dm2yCsDbgocipSe+H7j/aaAyCWqcmX8x/tNNzalfifrgeAXObkp04KHHJFSs9w6PliTTUpN42H+4JsOtolfiRJPJUdzUl2aG83GSKgudeeP7psBIE++Z6p0Hl1V8ki5Q36eSsquKKlh/EDP5SmEuMPaBbkUzcJVIi+qo9WVTZRb0vGLTOvyyTCXYf3lw/tTFkqkcUN3FFuAhPUi0Cn+LIDwsmToloT72T7Ji99VakcTkhusroblFCgzfJ6pgJeA96T1R75K1Ig5qh81dxyQ3HKwUi0Knyx/iR/RLwX79/qR7q36kcQqOF1c6XVXHJFaFTizT6pi3JL097O/EjXzSqT44hUdorEqjjkVGoNNcNd+IoyBTXs6/1FHJsrfrRBtxVCdVfVUeeAUahwXwn1RbIFOThPqj35aq360cqPzB9FfjmhvNr8lGoVOPdo1skGnPcyRjqrWiDkhSElp9EUm6FJ4SjGVg+EFe9xZCh8AREq0Te2qFMe470RDmhyDuu52UiV0Pwm8MkQZIUPw235IhN1v1nIU47hREOYdx3otGqY/AFYjLNVj8A9FYm6jKuS8ubfujuQJ/BlzVjUVpFlPoqjgFKjIQZvG31RigSeJpvxVjUYXsuUA5KbqKo4c0A/GafJGcckBx9830SiUcaKCF18lW6JOcMjwQGACV6KShNtvHckp8GiLip4KCUVDchRCwdfmUYoMfz35qxP0TioK7I+SjoswUmhCHEfdhEfoUOI9wK/jL6lUOZVybWyQ3HJZQZxdjlUeEei6Y9x3oobm0K/ifqr1nbSANNIPJaLsln14vE6w1XO9dI2/ZGnfR+z2z4pCcQiB72ovn/yt4FIxVEbGgYmgDzRO1xWuXjqnlc9hom3kgg/vDCORQ3VcTh8RvVBZVMErCXtIAOd0vGUbY0734KQ7LLVK9siaPGM9M13a4hq8KetXYbLskFmdQPJqGa2G3xG9UFtUwTtIe0tw81ZKlsaw8tVYHmkW1sd/GF3bI+LgplXYccL6JcH94b+EqnbYhq+xQxWR74HENFZKlsaPBRfklTWx64v0UdtjtmbKetXYZcbjNed2qP/AMY2Xc5bz/haxrWW1NvRYm1KqP8AaFA8Hwyjgn4+ODbK9WCApSQrY3DIk/Yru2sH1flK5+tL2hp2hWDsC/7Q2i4/1iL/AGC0X1rQ0nMD0KxvZ+qwy1bjezp3WyXSeNyja9ZccVBIKQNcB8rvylSK1tvC/wDIUPWn7EauztvUgBzbG82WlGffu8wsCWqDvaJji11o4Dlh5lajKwb0lrXWtpZKeNC3rVAyUnIJIVZ/pv8AyoU+1mQljHRvLnusAGoetLYXp7/tyttoIGf7K0oD799+QWDs6tD9qbSkDHkDAzTlf/tacVV755wOvbSyc8amta9lkzvvtulBH8qQ/wCkz2sn+W/8qypKlzttwkMflC/K3mEPWrfJvPdkhU5G+k+yA6qdb4b/AMqpDUOxvO7fnbgnPG4O9a18l17JIVTtBG/ordpf/Sf0R9afsbdYjJDgtvJM0s6reNInn7KkVU8vf7pyWXB3rVBspBSHaJOEbuisKiQ3925HKWnCAQhQZPfZLmqk/pOVYaiQvfaM3SkuJrTBIzKnEEkJpR/KcoM8vCFyOL7G3kAJenykkJ5oZnmAvuifulqaqmfNK1sJuCL3OiU8bg3y61w4Kb31SYknzvD+qh01SPDD/wDJH1LTZIGoQ6d4D5PVKufVHWMD/JVidPjfha2/HNL14Pt1q4xwVr2Wfap4Nb1U2qho1pHm5DC9jcjrhBpiC5+fFAf2m3hZ1Vads5LrBl+KWcHetO+WSguBSZbUad0fdRgqeBYeqOFpokWN9UKnsC/8SE5tTbVn6odO2dxeA5oIdmlnB3rSxhcX9Unuaj6229FxjqPqZ0Rw9Ml44qtKbNdn8xSrop/rb0VYI5yHYXtAudQlnB3rUvbiu3iS3VR/Ubb8KkwTnPej8qOT+rt/hh77jNRSuG5bfmkzDOL3lH5VNPFK5gtIAPRLJib1p4mjRQXhJ9nlJN5f0Udml4zfohkLaNK8WOaiFwETBcaJKSllOsx6K8NLIY2++cMuQySyZ9Hbp7H5rri1yUr2OQD456BV7JL/AF3dApk/q7V6gjC4+SLE8Bjc+Cz6imkEbyJXGw0RYKR+6Yd665CVkz6kt0+JG2zUF4PEJY0j/wCs5VdSO/quRyf1erTvGA58R/tMCQWWbNSODc5XmxGSZbSm3xXq2TGlpneDmqukFsygdjNvjPVHUJA+M8/dTJ/V2pmcA5n4kw2QHis2Wl77PeP8QGqY7GcxvZAPVKyYMtNGQc1RzwMroPYsviyet1R9IAL76QfdGSLbUuIE0eepKbDxZZJZ76MY3kXNzdNbhpPjf+ZKyJLTe8Ch0g5pcUoPzv6qHUYPzv6o5CupDx2hufAo+8HMJEUwE7QHvIIN80cUjbZud1VsgzR94BxVTICEM0jDa7nH/JDfSMt4nD/JTIXUscO0ON/lTBf5rPZTt3xbicRa97pgUjDq5/VWyJNGMg9FVzweKE6lYdS7qqOpWcC78y2RtqYnjeyfZH3gHFIxwAyvFzbLijClbwLvzLXGmjOlA0KqXofZW8cXVVfTMPFw+5W421MLxik9UXeDiVnwUoMsoJfYEWOJN9mZxxG3mrZElorni2RQy/I5qppmHn1Q3UzP7gfVSYt1aB+bs+KNvAlKeBpx3J15o3ZWc3dVriS0THdQ54AKGaZp1Luqq6lZzd1WmLdTTvydmPEj4xfVJQwNdizOR5owpm+fVa5qTRi8HiqFwzVTTs4E9UI0zBfxdVpi7U07gA71KKZG80lTQh2PFfxG2aP2Zvn1W8s1JohkAQ3SDiVHZmDn1QzSsztfqtMa2ugeLHPijl4A1ScFO0tNyb35o3ZmefVa400UShVfICDmhdkZ59VV1IwC4v1UyN1aneCzM2RRIEpDAwtzve/NFNOwcP1WuNNFMg5oT5AAcwoEDNAChyU7MzbOy0xrqYZBgGaIHgcUGGBhjBsr9nZxH6q3GmiGQAahCklaWnPguNNHfRUmgZu3ADgpxrq0MrcDcwib1p0KXpqZgibcZ2RTTs+la43VjKCNQhTSt3bu8NFbs8f0qktMwNJDQMlZjXUxTNwDvDRWMzeYVGQx4B3ReysIWfSFONNQZ23zcEKaZuHxDVF3MY+UdEGeJuDJoVmNdWE7ABmFO/bbVQyFlvCFYxs5BTjdUNQz6ggyTNJbhPFMbtnFoQJmAFtgLX5KzGuridqk1DRxU4BYWau3beQU43QnTt55ITpmCQG6YLByHRCLW71osM1ZjVO/brdQ6obzRcA8lUsHIKcXoLqlg4obZ2Y3Z5JgtHJDYBvHC3BWYnXdoaNLn7KDUt8+iLhHJdhFtFON0salvI9ENk4BdrryTJHkgxgFz/VXidRvhxB6KpnHI9EewCrYcs1F6WdUCx7p6IUc925A9E1IMjyQYGhrUuYndQ6ci2RP2VHVBt4T0TFlVw6qcUlJMS0gNPRVExDQA13RMTABpVYxeMHyV5jdKvnd9B6JOpnc5nhI8ytR4SVU0GMoXCkr14p4/ob0U9njA8DeivorXH3WlTADBH/Tb0Q9zEJ4wGDQ5WTRaAEB3x4vuuktHIOIY7ZNHRX3MdvCOinIKwPFDpYoYGWzY3olhE1tUwBoAwngnTmEuT+9RjhhKUtGwcRsHyjorYWgeEAeis0+S43IQ2rirmgjQWQQxonaQBockZ17ZBAjznbfkUpUsOBtxoFOAclYDkpBIR0sCcwD5VgbciDZ6WUW7kjSeq9G+5WNtWMywvFruDSR9k/GhWw1otoFOEHgh0zzJBG76mg/oilAwZGgNIIBCxvZ9jPekDWV/wDtbM3hKyNhDdsIIsS9/wD/ACTl4NjeLRyXBotolaraFPRsDqmVsY4AnMoDNqucx8pppWQjRzhm77IEVpwHbarjmcMbB6arSgaN+ctWrE2btCmFdtKR0zG4ntHedbQLVpqqGWo91I1/d+V10hxpBttVhzh1TtxgGUdNGXH8R0W1vRiwlwudAs2fZMj55ZaWpdTmUDHhaCSRpqjKeB7GjAiqZC2xlnccxbyT0LQKhxH0hZT9i1hFhteob6Mal4NjbSjmc2HbMmmskQclBr1FhosoNxbeB4tgP6lVh2dtIfG2pjH9sACbo6F9PPPNLMZnyWAuLYQOCk+qaOQKDT/Gf6BHdohQn3z7cglPg/pkDPNSRyCnJde/FB0VdobhChsZJPsjOF0KAe8f9kp8G/TDQBqrWHBVGavfmiSj2i2SFBYPejOOSHT2xyHXRL8G/RwVNl17BcMwiSCEvTNDZpiBmSLoz/JCpviyc8kp8G/TgF9VxC4KUCBfoUKmPvJLDkjvtaxQoLbx9gn+D+mwQp4WVAeeRXXQJV+hCFT+N+Vs1d7roVP45LZXKU+J+m8IKnALKL81JJRVR2QOSDTZ7y4+ZFe7JCpTnJ+JKfE/TYtZQQNAouFJ8kVDfkNEOkzDwcu8VdxyQ6U2xg/UUvxP02uBCgG6ghBVX2Q6TKLM8SrPPBVpheM+p/2n+J+mAuKgZKSQQipeVourU/wm+iiQZKaY+6Zfkl+J+inNQcgrjJVcBZAitR4HWGdkaEe7Zc8EKfwO9ESI3jb6JX4M+i/ZVOmSm9lBOShFKhxwG2eiab4R6JaY9whNNIwhK/Bn1xBtqqubbVWxclDswipOcZst9YTQ0zSk9u5+MJpunklfiT6k5oE4ysEe/JCkGIKQqzyLTM9U2NLWQXxgTRHm4/6TgAStDxcwWF1zuJVxoqOPAoGBb94Z+EpoJW/7wz0KZBvxVoxByNwqOI1VyEN44lQqXaD2g8sKZBSrL9o/xTIJSoxLghO4ohOWSG9SLQYgN/JnyTFxbJLRfFf6BMBXySOPmqOIVzmckN2SkWgwm0kluYTJ0ySsPxJMuKYv5pVJ8SUNysSqON1I1Cph3pM/mTF0vBm6S31JkNWv1oqocOSsfNUdkFFoVOPHn8yOlqd3jH9yPeyt+pE+iG/irXyVHm91GoFPljv9SZvlyS9PbveqP6la/WiriqOvZXPBDcVkoVNkHX5lMXFkvTkYTbS6Yt9lb9aIKG7Qq5Ko45KT61Cpr4M+aMg0x92fVGvYrX6sQ7RDkzBvyRDmVR5yPotGocOUYRChweAItr8FmiChyeB3oiocubTfktPqVEN9030RMkGE+7Fle+VitViTogzHuO9EQocp7jvRafWro/ht9ESyHH4B6Il1qiCLDmgTHuFGJQJz3CtPrVdpyCsbKjDlmrKLEHyQJc8N+aMcsxqgynJtuaUSijIWXXUBTfNFVSLoL7CVhRkF9t61KJRb8lU+SngoyUVCEPim3JEJQf52R4KiMVBKgqD6qKq4oLPE/wBUVyCw99wWjUW6o7VWvko5rKo85FCh8P3RHeSFD4T6qj+ilDcrnJUcVooMw7hVIsmN9FeU3afRCiPu287JfjfqzklWfCcmyUrUm8bvRc/I49e1Wusmg25TbQpoqiCQOjkbdp8k2K6I/OnlDYbJ4pd1xPGRzKo6tiAzcgOrYzLGQ7IEpePjRtjVBurX4pHt0NvGp7dHbX9EfWr7Q4T5oOIioj5WKAa+PS56FCNawysc0mwv8pVnjUtjXauJ5ZpEV7LcehVu2ssbA9CplXYaxCxQQ4CoYByKD2xttHflKCaxgmY4B1s+CUlS1r4+S7F52SIrGkZB35SuNWPpdf8ACUPWrp0u80s6z5gHZgghCdWD6XflQe1XlaWtdkOSUlS2NWFjYo2sb4WiwV7rOFU76H/lUuq3HRj/AMpR9aumqjE6NwYQHEZErztPsjaEbjENoiNji5144+9meZWu6rNrmN5H4UAVh3wIjcRbSyUlS0Wh2FSUb98Q+oqOMszsTv8AofZabrWskhUvOe7f0Umd5zET+iOVdJ0ezKd7qt9VTMdjlJGNgNxYKjvZ3Zsk/wDCtZl/LJZ/pOmrcP5Uh9AqsqH74kRO8OlkpKlo1FsejoXiSCMmTg57y8j0JK0CeSQFVIP5L7Ke1v8A6Tx62R9aXsaf5IUOU7udglzVP4RPKWdtFlPI98toxYeJwCUnBtbeIFTcLzrfaA1TnR7Nppap7dXAWZ+ZNUnbGPfJVFz3v+QeFvop6lrWcMkCE2mf6BBdUSt/lOugwzyGd9onaC6U8eBa1QVbEDqUnvZeETuq4yy8Yj1Rw5TZKHCfeyD0Szp5v6RP3Q4ZZt487s9VcG1rAqSQkd7Mf5RHqVwlnJyi/VTC004ocNhI/lkgPlmH8q/3QoZJzI/3efqlg61rqC4JMPqMvdj8ys4z/QOqFhaYNkOndaSS/kly+oGjB1VIDUGR9mtvxzSk4OtcOFlxcEiHTjLC1ReoJ0bb1RwtNSEH7IdOe+8jmlyKgj5VEInxvsW+aecHetIPHFc6xSZbUEZFqjBU/U3oj6ltMuQ6c99/qgmOqt42dFSBkxc+z2g3zySzn1N60w6+i4myVbFPf4reil0M/wDUHRDIu0dwBCBTkAyWPzIToJ7ZzD7NVaeGQ4wJSM7aJSTB260MYt5ri+yW7NJwmPRR2WXjKeiOQ9ornDNVpHgh/wCIoMlLIBlM70sFSCneWutI4Z8EsmDt1pYx5KxcEkKV/wDVd0Xdkf8A1no5P6W0eR2WarSvG6+5/wBpd1M+1jM9VgpXFnxX3udCrkz6O3WiZBzVDIDoUt2QjWV/VcKMZnePP3UyLtFkksDxU08g3TM+CWfSAXON3VTDSAxglzr+RS5iTdPGUc1DpG21S4pBxe/8yg0TPrf+ZHIvXTubu3HyV4pQI258ErJSNDXWc/TmiR0bCxpxP0+opZMTbpjeNPFcZGnigCijtmXfmKqaKMHV35ijxeuqH2Yc+SOJRbIpGaljaw2LrjjiRxRxEZg/mKVxJumDMBldUdKLZZIPYoR8p6lQaKEjQ9SjxeqzPF2Eu+YJkTA8VnzUkTC0tafEBqmBRRWF2nqlcxJo5mHAhQZm80MUUQ+X9VR9DDyPVTi9VklBmizFgT/pH3zeaSdSxNljAGROefkmexQ/SeqtxJoombbUKDKDxCp2OG3g/VVdSQ2zb+qnC6rvG9oYb8CmN83mkuzRCZgDciDcJkUkVrFgVuDNF3w5hVMrbaqvZIeLG/dVfSQkeAWR4vQ2yt7SSTlhR9636glWUsQnthFsOiN2SHjG3olcaasZW2PeCoZG28QUmlh/pt6Kj6aK1sAU43Qo5GtmdmNAmd822oSkdNG6VwLQRZHFLE3RgVuJNW37fqCo6VvMLuyxk3LQqvpoiM2BHi3VIZG435hMb1tvEClYaePG8YRbgjimi4MCVxJqTMz6gqmZvAhSaSLUsF0OSmjI8A6Kca6rBK0OkzGqPv28wlYKaMueC0EAo/ZoreALXNaatv28SEN8zTxC408RHgHRDfTxn5AtMa6iCVox3PzI+8bzCVhgjcX3aNUfs0X0ha5rTU71t9QqmVmYuLqezx8GhUdTx/StMbocMjWF1yNUXfMPFLwwMcXXF80bcRjRq1kaakzN5hDdM0/MFxp2X8IVXU8Y4BbjdUp5WgHPiUbft5penp2EG7b5lH7NH9IVuNNSZmnihunbmLhWNPH9IyVH00RucIR411WCVrWZkaom+aOIQYIY3MzbqUbs7PpCtzWmo37eao+dobqrGFn0hUdCyx7oU4vVYZmhgzCLvm21QYImFg7oKMYWcgtcbqN83mOqHJO3C6zhormFnBoQ5Imhps0LTGqIZm4BmFczsz7wVIWN3Yu0aK+5Z9IWuJEb9hzuhSztLTY6o27ZwaEOWNoa6wAyWmNVYqhoYLkAqxqGA6ro2NwDIFWLG/SFrixTtDNboM07Cw2KYLG3vYIMzW4DkFpmtUtqGYczmo7Q0cVdrBYZBTgHILN0I1DOZ6IMtQ02tz5JktFsggStFhfmFZYmVZtS22d+intDfPorNaANFNhyU4oRqBnYHogPqAXtNj0TZHkgPsJGKzEuuFQMsj0UGcDg7ojWHJQ4KcXoDpxyd0Qt/aS9jpyTJ0zQSQZdOCsxMcZ7/KeirvzwaeiMQPuuOQyCOxgHTH6XdEETEPdZrimigNAErkplSo3x+hyqZnfQUwfIKDmopZ0zjlgI+yHHK4aNJzTL/RCisQfVX8T9Rvn6YCqulf8AQUwbclQmymlhR8r9MBQmySYRZibeRY5IMfwxyV1MBMsn0FKzvfgddhtZaBCUqc2myNIj/wCEpMnssxsoB3cz2tvyuveiNv0jovNexexZdhbEp6WqIM+b5CNMRXptOKVvUc5jSPAOiXc1okiBaLXPBMEgJd5BkjvpiVlGw0GN5C/opDRxAUgWUo9LFS0cAOiAQBPFlxKYIySzxeaH8SvjepTmEHgFwaAcwpyCm10dVGHLKyA8NE8WQubpjggOcBJHlxVg0zaykAH/AP4oHMKyhKPGSWxYZ2DgbppyWFjMy/ml46NM/ZWyGgUht9CrYUSJTSjfxxAeK5UsAFQwcwVTaFFLLhkpZRDO2+Fzm4h9wsf9m7ZnqIxPtWKJmd9xT2JHqSUolehmqYKVuKolZGObnWQWbXoJL7usgdbW0gSsPs3QscHzsdWTf1Kh2M/9Jb2igodnbOkmbQwPlNmRjdjNxyCitSr2nSUkAlnmY1p8Njcu9Oaym7Q2lW1BGz6LcNLcpKk2y/DqibG2HDQU0EkzN7Uhg7788PkOQWtGRvxwGFWcgswbErajOu2tOf7IQGNH/KIPZejHjfUSHiXTuzW3dddHaTDf7NUYOTqlo5Cd1v8Aa6k9ntnRTuvBvTYG8ri//a2nHIoEQvO4eQSm4N+mGRNY0NjaGgaACyvYWXDJTccUCDchQgb93mAiyGwyzQYDad1+Sc+DfptcouuxImqTZUgf714PJWcQUKE2kd6JT4H6cBXFVB5qUXRBdldDgN5H28lY/ohxfEf9koBv0Uk3QwSrXR00F2RQqc+9k4aK7zfihw23rwlPgX6bUZXUXXHNQnPyCFTk45L8LK7skOA3e8eiv4P6cB5rslQGyku8kTQ45WQqfxyW5qxdkqU7u/J6pT4P6bupvkqAqcQRJDzkUKm1kH9yI83Q6fJ0n4kp8H9NtNtVxz5qozUE8kCUktzKHTC4f+Iq8jskOkNw/wDEU/xP0zbz0XKt12LJBVXuysFSlN4/8j/tRIVFM47r/I/7S/E/TV+BUcc1TFdTcWUVSVTTOIiaLochyK6m+EEvwf0ze+qhxsovkuOY5oEXnJ3b/Qo0DrxM9ECfwu5WKJCfdt9Er8H9GKq4cl2q55sFIRSoaS0hMtBsPRLzmzSmmG4BCt+DPqMlBF/REKo4okUnFsOfzBNhKzfLx7wTbRYJVJ9cQqEIl1R5voipSQDex/i/4KbACUk+LFw7/wDwU2CEqkTYKjmhWOWio83GeSigWAnj9CmQEpf94j+6bBVqeKSAUN+isQqv8lItLsF6kE/T/wApnLglm/xAB+lMgedla0cQgvzBKPbLJBkUjUvC33zz5BNABLRfGdfkmbhW/U8XZZ3VHtCsqO0yW/VoMQ949MhLQuO9eLZI91qMcboTzkrkobtEVoUGT5fMpgaJaA9+TPimMkqkQQhu0RShu1Ui0GnyMmepTACXg1f6pi9grUnxxQ35aq/mqPGWai0CnGb/AMSOgU/if5OTGStaIOSG4ZIrskJ7lIlBphhDvxFHNyg02eL1KP6q36sVIQ36IpKG61lIlCphZn3KMg03gN+aNda/WiD6KklyCrE3Kq/QrRg6cWYEa3Hig0xJjCISs0cdPJCfoVclUeThPotFqsAG7ai8EKA+6bzsiFatEE5ckKTNrr8kU6IUp7h9Fo1TEO4OSuVSI+7Cte61aIKDN4CjaIE57hC0SiM0CkqjT3QVa91lQc7pebQeqOdMkCU+H1ViDN0XC6qNFKipJuEtJm9iMfVAktvGKxqMoK6+SglFlSg6zfZFJyQb2lHolBFAuuXXyVSVCQ48kFgvI66IfNCZ8R6sEZVKnVVcoqjsghw272fFWcc7IcOWK3NL8T9G4IblOLNUc5QlHnu5oEXg+6M85ckGLwfdX8FLik6g913knHFJVI7pshTj2Nw7VSdUgytBGQPRXFY3z6J+tGWGybBAlcMUVvqQzVg6B3RLy1IDoy1rjZ3JKeNS2NgO8lN+CSFXcd1ruijtbhbuu6I+tWeUOk2CXebPj4HEhGrJ0jd0QH1RL29x+TuSvj4ja1wdFYHLNIiqf/TeR+FX7S63wnn7I+tWU052SXfnJFnoUI1DiPhPH2QX1Dy5hbE+wdxCU8alrXByU3CQFRKRcRvHqFIqZRa8Lz6I+tXYdcgfzWX5lD7TIf5L+gQd/IXstG4AHilJU1qCyuLnVIb+U2Iifb7K3aJrgCF56I+tX2NvGR5JcAb+P7oTqqYA3hf6ZIAqJDKw7l2SXj41LWxkM1SaGOcNErGvANwCL5pQVEx/kuXGefhEeqnrV02/DpogRkb+39qC6aYg+5PVBZNLvriFwNtEpEtawdZWxA8UgJpz/Jd1CkSzXziPVH1XThz0KDEB2lxv8oQjJMBfdHqhxzS70+771tLqyJa0yclF7pTeVB/l5+q4uqP6dv8AJTF0y+1skKG2+cSeCXdJUAfCv90ON85kNmAZZ5qycS1qXHquxeSTa6otmwdV16i+TAfup6rpl+SFDlK70QXGptkxt/VUjNQZH91odYcclcS1pg2U4kmO0cm9VwFRfRvVHC0w45ZKkJ947PggO7TwDeqpEKjeuth0SwbWlfK11IclQKiw8C7DOczhCmLpgnJDhI3jyguE+HItuhRMnMru81WfE3rT3ll28Su6mPzNU7iY/OOimFphzhZDp3jeSW8kAwTD5x0Q4oJt48tkF/RXODvWpjCkusEkyCe+co/KpMM39TL0UyFtMOItqhQus5/qhGCUjKW32QoYJC543hvfklJB260g8DiuxjmlBTvAzkJ+yns7rZyG6OQtph0gtkVWnkzkv9SWdSv1Er1WGBxLryOGaWTB26094BoVG9FtUoKQkfFeu7Hzlf1RyFtGkkvyVaZwAfn8yA6kAHxHn7qIKcHEC9+R4FLmD3T+No+Zc544lLikYfmf+ZR2JuffefVyGQuiPkFsiFWmkbu9eJQn0TL5l35ioho43MOK+p4lPmJ3TgeOYXYxbUIIo4/7vzFcaKO2hP3R4XUySixzC6nlaIm5hBfRxAXw/qugpYnRtJGfqlzB7pvftGqjftPGyGKSPTCeq40sQuS39UOL1WaVuB3eByKvHM0MbmDYJeamhDHWbwV4KWMxs7ovYZpXMSbpntDTxCgzMPzBD7LGNWXXGni4tR4XQ55W4DYgpgTtaB3h1Sk0EQYbMA80dtLCW/DalzBm6L2hh+YdVR07ODgfuq9kit4Ao7LEB4AjxehzytIbmNRxTInYBk4dUlPBG0CzADiHBMinhcM429FbmJNE7Sz6gqOqI7WxBT2aL+m3oqupoR8jeinF6WlnaJYjcHv8/IprtLLZOHVKyQxtezC0WxckxuIja7G9FbiTUmqZ9Q6qpqYyPE3qrbmIaMb0VdxHndg6KcLpc1EQmYS5ts7m+iZ7XEdHt6pZ0MYmjAY22dxZMiCPgxvRK4M1zalgHiFvVUdVR8HC/qr7iPi0dFBgj+htvRSYvSrahgmviFrc0c1bB8wH3Qt1Hv2jCNDlZHFPGT4G9FbjTUGsjHzDqhPqovrb1RjBGPkb0Q3wREZsb0RmNdLx1DBKTiFrJgVMfFw6oLIYzOQGAZI5hj+hvRW4k1Hao7+JvVVdVR2ye3qp3Mf0DoqGKP6B0WmLdDiqYxI+7hn5onamE+IdUGKKPeu7osmBTx3uGDorcSajtEY+cdVR1THnZw6ohhZxaOiG6Bn0jojxuhRTxiR93D/tG7Qz6ggwQsMsndFhZMblnFo6K3Gmo7Qz6gqPqI9C4D7q+5Z9AVHQR/QLrTGugwTta59yLXRu0sv4hb1QYYmF7wWg2KNuGD5R0WuNNR2lg+YdVV1TGb94dUTcs4tCE6CMG+EdFOa10KCdjS+7gLlG7Sz6gUGGJhc/IHNHELLaBW4k1U1DCPF+qG6oZzV3xtByaFTA36QpxbqkFQ0XztmiGoZfVCgjb3rj5kYRtPyjorcaaoaloPiVXVDL2xBFMTT8oQ3Rt+kKcbocM7A21xe6ualn1IdPG0g3aNSj7pg+UFW400M1Leao6obY5o26bwaFV0bRfuhSYwMFQ0MGdkQzs1BuqU7GYNBqi7tvIdFrmtAjUt5ob6lhbqj7pozwhCewYTkArMa6HFUtawDiidqZzXQMBjblwVxG2+gUtmtNDNS3iUKSpbhKZLByCDK0BjsuCuxuqR1TcICsagEKYmjAMkTCBwU4s0A1LbcSgy1Ac0gA9E24C2gQZQMBVmJdVbUCw16KROOR6IrWjCMlOELbGylzUcgUGSouB3Xa8k4QOSBNazbc1ZY3UCoy8Luikzm2TXdEVuY0U2siuUuag28DuiE+U4mksKaNidEGT4jFZiVUTkjwOUGYj5Cj2UarXFwsZn/QUMSu3mTCDZNkWQR8X7K6mI3r/oKgyPN+4UchQjq9LOkktkwoTZH7x2Fqbd+iA3OVy2pUbyTiz9VBfIfl/VMAclUhbVwq58l/D+qFG+TvWbxTjhyCDEM3eqWjgeKT6VDnSfSOqYy4qpAU0sKudKQch1Q4zJhyAt6pp9rZIMI7ufMpIA8y38IH3StQZAw3A0Wk5KVPgOV0Kr1gAyyVwAeAQ2ODhcZog0U1cS4C2SWnywE/WEzwS1RmG5/MEvGpYaAGlgFcAKjSr4rqfWxJalph4M/nCYzGaWkzLTycEvEaebkO6ra5qrTzVr20QpKkXCWkAxR3HzJu6Xk7zm+TkoNMgKTnooAsrZaoEpmEFwAlj495HdoUuT32X1Dk/FKbztySrdo0zp3QNqYjM02LMYuPsmlg7co6NzMLqOSWaQ3a6BneB54uCKu9otsSUMMUFCWvr6h4ZCw5+ptyAWjE54dC2Uh0lu9bmvnuwfZ7aNZtuorH1MsIpzu2vmdvXjyHBerqGN2K1r4ny1NXMcLTI/EXOP8AoLpMnBvWxWbXo6AhtXO1jjoMyegV66r7PQvnj1w3bfzQtnbPFPEDUhstQ/vSPIvc/wDST9psdRTR0kJLXTE6cgLoEtR1NRBtBtHUTGoEsW8DiAMJ5ZcFqsH7wBbgsf2fifPTx11U5r53MDAAPABw9VrMNqkfhSgnHDloqgWK5TmEDVJ56IUf8QbD5UVzSRdCjtv/ADwpQaaC4gkZLgeKtiuiUBcDmgxG032TLxldLx5TH0SnwaYuFOpXWupHJElHHJCgzmdbkjPbkbIETrTkaGyU+DTllB1UBysLeqhKEFDhBEzvRGcQhR23rvRWJfo9uamyj7q10SDdpkhwtvI70RSUOI+8d6JT4F+mQAVbRVBUk8UTVcUKH4r+AyRCbDmhwuvLJlZKfBv0xfyUHyXE5LlCUII0VKcEvkvzRHG3ohQm8koB5K/g36ayUEWXBSSCoQbiAqQ5ukPmrPIQ4HXc/Lir+D+mlN8lAdkoJuoSj1WmbbH+JS/XJUpj4764lfwf0zouuqk30U3y0RwlX8eKrTeA/iK5xPBVpiQw58Sl+D+mfVcbKMWWaqXX0UIOW54KaYWhaOCq439VNP8ACBV/B/R734KFw0XWy1RIvP4HW5K8B9yz0Q5jZrvRWgziZ6JfiT6Ne+qhwuuJUE5IxS01zG5NM8I9EtOPduR4z3Qlfgz6JcBQXZWUahQctESL1Pea0ad4f7TQzSdQe6Df5h/tMB2St+DPot+ao5wXXVSphUvJm+O9snBNCyVl8TPxBMApX4MXuLIbslclUcUYRdwvKz1KaCWdlLHxzP8ApMApVPFbNUdxVi5DeUYtAtepYf7T/wAJu+STuTUMPkf+E1dWpHOQnaIt8ihOKkWgMFqgn+1M8LpZnxyf7Ue6tGOPkhu8kS6o5TVoMQAmfnwCYufslovju9EwrU8XcFR7slcmyE+9uay0OAjeyEpi/JLQ/EfyTF1qkSfJDeeKuSEJ3qpFocBG8fbVHulYfivtomL3VqRxKq4qSquOWSkWhQeOT1THBLQfEk9Ue+euStSOcwHRDLbaIhNlRxCK0KAAY7c0cAJeE2L/AFR8+aVSOKG7RXJzVHWUjUKnGR9Ue6BTmwd6o3otfrRxCocwrElVdosoVOO5lzRtEGDJnLMoh81r9aOOaFIBYohN0N/hPooqKce7ARDZBgJ3YRCVb9SOKHKO47nZEQ5vC70Wn1q6IdxvorKsPgCsSpWVcR90vOe4UdyDMO4clY1EboFJUNGQVisyhCDLoPUIxzQZjYDndVKK0KDquBuNVBvdRUOz1S7x7xluaOdUKTxsVSr6ZrlN8s118lMUM3Qj8UeiMTxKAb70eisSjWUWUhQpVDfkhNHvXeiOfNBb8Z1+S0Si6C2iqRx0UlQSsqjgbZIEVy54PNGdxQmHvP8AVUVyqOsFe6odM1lDdkgxg4XeqM61uaDHo71SH9cQlp23aU06yWmNmkBCmR/8N/aaX2h2Qe1Z1MBwvPPkV7jMWsvln/hpHIyq2pVsYezzuaWhoyBX0cVbh/KkP+KV8e8GU7ivqlqjQfiH+1TtbiPgyD/FAmqXOaPdObmNQlPGpfJqs81fK+SzxUPt8F5+yu2eXhC4eqPrV06XZapaY2wnXvhCM8pveFwQpJpHNb7tzTiCUiWxrNNxeyuHBZ4qJgMonKwnm/pORsWU+XBLSEY2W+pBM81vgnql31Et2XhcLO4q+PiNrZxAqbjis4VE4PwCfurGSc/yyPup61dOudYJYm8jOPeQnPqBmGHqgmWYvZeKxvzSkS1rB3BUndaJ9tbFKCSc57r9VbeTnSP9UL4lpbYUBh2eHPBbJI5z3gjiSs/ashg2tSzPw4Wsduy82aH+a2d7Pb4P/wAkpUM7S5jKina9pv3XWIKcg2p2DtSbaLKjfiN26kwB8V8LshohbbqmUVXSVM5wwtc5r3W0uNU7Ex8EbY4KdsbG6NaQAF0gmeLOia4eZRxdLez9+xOfYiOSRzmAixsStJpvOPwpcvnsLxaeaoHS79pwXNtLpSJrUDgNVYuy8khvJzlux1Ul8+Vowfupi6cL8kFh/eL/ANqXvUfQPzIbJJt/bAMWHS60iWtUOuVOIXSjTP8ASB91J3+dg0fdTC0y5+SDE68+Y+VBe2a2QA+6Ezf70hobislJwbWsHALrpL9444QrYZyNWo4WmbixQGfHdfkhOFQB3S1CaJzIRdt7KyJa0sualpCSLJzqW9FIbMdHgfZTF025yCx1pnZ8EF8c/CQdEJkUpkIxjFzslJEtaQerApIQzDWQEeiIIpOD/wBEcXTDjkUGJ1pXZ52VHRS/1P0Q44Hl7gX521srJMTaeD/NWLr8UqKeQfP+isYHf1D0U4vRS/I2Q4XneP8AsqOp3WykN/RCigeZHgyEWtmlkxLrQxKN5YoApnjPeuXGnN/iORyLtGc+/FDhcMb80F9Of6rh90OGEue8Y3ix1vqlkxNutDGL5KTILapTs3/uSdVPZL/O/qpxdphz22OaFDK277Hihmkbxe/qhw0zXOkBLgAcrFaSJ08JQeKtvfPJAbSsHF35lxo4/wC6/qtxdoj5BbVDhkAx5/MqOo4raG/qqw0kb8QeL2dlmrzE7pnegcVO/HNUFHHyPVW7JHbNv6qcLqj5281FNM3Ac+JUPpYeLAop6WNzTdg1KvMTumN8z6h1XGZh+YKpoovoauFJC3SNo+yPF6q+dgB7w6qIKhgiaC6ymSni/ptH2UQ00To2lzGk+ivMTujipYfmB+6qatl/EFIp4h4Y2j7LtzH9Dei3F6BLUxkOzGnNWiqoxG3vAG2l10sLADZjeitFDHu2ksBNuS3MHuu7Uw/MOq41LOLgrmFh+QdFBiZxYOinC6BNURYHWcLogq48IAcEOpijMTsgDbkisiZhBDWk25K8xJup7Uz6gq9pYdCOqvum8WgfZVMLRo0D7I8XpWepYRZrhe4/2mG1TAMyEGeNuHQDMcPNNCJtvCOiVzE7ofa2cSoNZGPmHVG3TPpHRQYmW8DeinF6TlqWlzLOHiujiqZwchTxtJYRYWcOCZEbfpHRW4k0PtcehcFV1XHaxcAjbtv0hcY2j5QpsXKTNTG57CHXsc0ftcY1cqPYN4zIapkRN+kdFbiTQTVxD5gquq4/qTG6bxaFBjaB4R0U4vSRqoxM0l2gKMKyMjxKCwb9mQ0PBMCNv0gq3EmgdrjHzBUfVxjimzE0Z4QhPjaRfCOinFuk21TBLe+VkY1cd7XUMjG+0GnJHMTb3wjorcSSlxVMDs3KrqyPmmixt74R0VHRt4NF/RTjdKMqoxK5xNgQjGtZkMQVY2ATOyGmiY3beLRdW400uaxg4qj6xlsjmmSwcghviaflAU5F6VjqmB7yTqjisYRqFSGJu+fkDkExu2j5R0VuDNCNVH9Sqalml0bdt+kdFR8bfpR4vS0dQxsjzcWKL2tn1KsUbd4/II+7b9I6K3GmhGqZzVDVR/UmDG3kOiG6No1A6KTG6XiqGtc/O9yi9rYOKpCwb2S9tUxuhwAVuNNC7XHxcqOq2X1R903iBZDdG0cAtMa6XhqGgvz4ovamjiqwsGJ+Q1TGBp4LXGmgGqaOKq6pa4apksaOAQ3RjkFpY10vDUNaD6onam8810DGkOyHiRSxvIdFrjTQu0t4FDfUtvqeiOWg8AqOa0cFNjZQIKloabnieCuakZ5qIGgsNhxKMGgahW40lC7S3z6KrqhpByPRHwAnRVcBYqcbpaGcYQLFENRyB6KYGjdooAWtjQDtB5HohyVBwOGE6ck0RZDlAId6KyxrKXinOEDC7ormoPBp6IkIG7ARcIupbGmlN+76HdFSWYlpGAp0gIE4G7ctL1sCbO6wGBytvnfQ5FYBgHNTwV1cpczOt4HIMkriBdhGadIS89sI9VksVErwPAVJlfbwFGbm0XXW4KapYyycIz1QnveXNJYQQeaccLIMg7zPVWVLFN48fJ+q7HJbJn2umAMs1Fgpq4Wc6S3gz9UIvkEg7uduadOiA74rVZUsUxS38P6riZT8v6pkWUWupq4UdvuAHVCxS48mjFbmnSEEfH+y0qVS818wOqgma+g6pm2aqVtXCrhLyHVDbvMbgLX4pt1uCA0WldbklqYoRL5KrhKRwTNlVTWwmWy+SEwyEvAI14p14ulo8nv4Zqy8SwJwl4kIErZbahPHjdLy5NQtWRoezWxKb2f2XFR0gJa3xOOrjzK2R5rlyyoJsl6m2D/ILlyXilOtItkFx8ly5RUE5JaV12gj6guXJQaebor5ELlyFJRwS0xzZfTGFy5LxSnRkF2JcuUVBFxcaJZwIfH+JcuViU6BcKRquXIK5wSzgDNH6lcuS8fqU1qutmuXKK4gW0S4/iWjyK5cn4jTQFypsAVy5EnGxCWbYVAPkuXKxKb1C7K65coqHAcUBhAn/wAVy5WDTQcDnZXByXLkSUcgsPvzysuXJRP0yM1xAXLkCVdkMghRXMp9Fy5KfBpiwVhZcuUKOJQos5nDkFy5WJTACnyK5cp+rFTogxH3r7+S5clPg0wBxXW4lcuUMNzUKIWe/wCy5ct+B+mQFBuNVy5E1XE2yVIL4pLjiuXJ/gfpgHS6nQLlyJhutY2VKd13Sfi/4XLkoP6ZapIXLlCCeqUx7pt9RXLlg/TAPBQdVy5Yw3qKfKFua5cr+D+ijzU+a5coQEuh9ESHKJluS5crfg/ojslUgHVcuRh0CdoMbr8kdrQGj0XLkgn111BK5ciRaoALLnmP9ptpNrZLlyV+DPriquzC5cjCKTZlt/qCYB8ly5KjPq2ag5jNcuRIu8DesvzTIz0XLkqMSquN7rlyJAH4zE002C5crU8UEoUmi5cstLtPv78bJi91y5ajEFUcOK5cpFpdg/eXfh/5TK5crWipzVHBcuWagRfGfzsmFy5WpHHRDOma5cjFoMXxXpgHkuXLVIq5DcSuXLRqHF8V6Y01XLla0RdDcVy5SLQoB3n+qYC5crWiDoqOXLkVBh+b8RRiVy5WpFbqjs7rlyiBU+TT6lHPouXK1o7gqOGq5cowVP4EZcuVv1Y42QpB3T6LlykSoh8AV1y5atEHNCn8Dly5WfVczwBSVy5RoqTdBmIw+hXLko1EGgXE+S5ci0QTkboMpzb6rlysaiDRd6rlyyocL6ID8pGFcuV8Uoqg6XXLkVVP6IBylbwyXLkolE4KDpZcuRVRyCCBKfRcuSGr8FVy5cswbsks34j1y5WDVnJeXjdcuRJ//9k=)"
   ],
   "metadata": {
    "id": "mRgn-3VAtrbS"
   }
  },
  {
   "cell_type": "code",
   "source": [
    "t = torch.FloatTensor([\n",
    "    [[111, 112, 113, 114],\n",
    "    [121, 122, 123, 124],\n",
    "    [131, 132, 133, 134],\n",
    "    [141, 142, 143, 144]],\n",
    "\n",
    "    [[211, 212, 213, 214],\n",
    "    [221, 222, 223, 224],\n",
    "    [231, 232, 233, 234],\n",
    "    [241, 242, 243, 244]],\n",
    "\n",
    "    [[311, 312, 313, 314],\n",
    "    [321, 322, 323, 324],\n",
    "    [331, 332, 333, 334],\n",
    "    [341, 342, 343, 344]],\n",
    "])\n",
    "t.shape\n",
    "\n",
    "print(t.reshape(1, -1, 16))\n",
    "print(t.reshape(1, -1, 16).transpose(1, 2))\n",
    "print(t.reshape(1, -1, 3))\n",
    "print(t.reshape(1, 16, -1))"
   ],
   "metadata": {
    "id": "n18okL3fZtCd",
    "execution": {
     "iopub.status.busy": "2023-02-19T14:29:36.138916Z",
     "iopub.execute_input": "2023-02-19T14:29:36.139341Z",
     "iopub.status.idle": "2023-02-19T14:29:36.153399Z",
     "shell.execute_reply.started": "2023-02-19T14:29:36.139307Z",
     "shell.execute_reply": "2023-02-19T14:29:36.152482Z"
    },
    "trusted": true
   },
   "execution_count": 14,
   "outputs": [
    {
     "name": "stdout",
     "output_type": "stream",
     "text": [
      "tensor([[[111., 112., 113., 114., 121., 122., 123., 124., 131., 132., 133.,\n",
      "          134., 141., 142., 143., 144.],\n",
      "         [211., 212., 213., 214., 221., 222., 223., 224., 231., 232., 233.,\n",
      "          234., 241., 242., 243., 244.],\n",
      "         [311., 312., 313., 314., 321., 322., 323., 324., 331., 332., 333.,\n",
      "          334., 341., 342., 343., 344.]]])\n",
      "tensor([[[111., 211., 311.],\n",
      "         [112., 212., 312.],\n",
      "         [113., 213., 313.],\n",
      "         [114., 214., 314.],\n",
      "         [121., 221., 321.],\n",
      "         [122., 222., 322.],\n",
      "         [123., 223., 323.],\n",
      "         [124., 224., 324.],\n",
      "         [131., 231., 331.],\n",
      "         [132., 232., 332.],\n",
      "         [133., 233., 333.],\n",
      "         [134., 234., 334.],\n",
      "         [141., 241., 341.],\n",
      "         [142., 242., 342.],\n",
      "         [143., 243., 343.],\n",
      "         [144., 244., 344.]]])\n",
      "tensor([[[111., 112., 113.],\n",
      "         [114., 121., 122.],\n",
      "         [123., 124., 131.],\n",
      "         [132., 133., 134.],\n",
      "         [141., 142., 143.],\n",
      "         [144., 211., 212.],\n",
      "         [213., 214., 221.],\n",
      "         [222., 223., 224.],\n",
      "         [231., 232., 233.],\n",
      "         [234., 241., 242.],\n",
      "         [243., 244., 311.],\n",
      "         [312., 313., 314.],\n",
      "         [321., 322., 323.],\n",
      "         [324., 331., 332.],\n",
      "         [333., 334., 341.],\n",
      "         [342., 343., 344.]]])\n",
      "tensor([[[111., 112., 113.],\n",
      "         [114., 121., 122.],\n",
      "         [123., 124., 131.],\n",
      "         [132., 133., 134.],\n",
      "         [141., 142., 143.],\n",
      "         [144., 211., 212.],\n",
      "         [213., 214., 221.],\n",
      "         [222., 223., 224.],\n",
      "         [231., 232., 233.],\n",
      "         [234., 241., 242.],\n",
      "         [243., 244., 311.],\n",
      "         [312., 313., 314.],\n",
      "         [321., 322., 323.],\n",
      "         [324., 331., 332.],\n",
      "         [333., 334., 341.],\n",
      "         [342., 343., 344.]]])\n"
     ]
    }
   ]
  },
  {
   "cell_type": "code",
   "source": [
    "class PatchEmbedding(nn.Module):\n",
    "    \"\"\" Image to Patch Embedding\n",
    "    \"\"\"\n",
    "    def __init__(self, img_size=224, patch_size=16, in_chans=3, embed_dim=768):\n",
    "        super().__init__()\n",
    "\n",
    "        self.img_size = (img_size, img_size)\n",
    "        self.patch_size = (patch_size, patch_size)\n",
    "\n",
    "        self.num_patches = (self.img_size[0] // self.patch_size[0]) * (\n",
    "            self.img_size[1] // self.patch_size[1]\n",
    "        )\n",
    "\n",
    "        self.patch_embeddings = nn.Conv2d(in_chans, embed_dim, patch_size, patch_size)\n",
    "\n",
    "    def forward(self, image):\n",
    "\n",
    "        B, C, H, W = image.shape\n",
    "\n",
    "        assert H == self.img_size[0] and W == self.img_size[1]\n",
    "\n",
    "        patches = self.patch_embeddings(image).flatten(2).transpose(1, 2)\n",
    "\n",
    "#         print(patches.shape)\n",
    "        \n",
    "        return patches"
   ],
   "metadata": {
    "id": "WVwf4n1bwLik",
    "execution": {
     "iopub.status.busy": "2023-02-19T14:29:36.154965Z",
     "iopub.execute_input": "2023-02-19T14:29:36.155309Z",
     "iopub.status.idle": "2023-02-19T14:29:36.163350Z",
     "shell.execute_reply.started": "2023-02-19T14:29:36.155275Z",
     "shell.execute_reply": "2023-02-19T14:29:36.162217Z"
    },
    "trusted": true
   },
   "execution_count": 15,
   "outputs": []
  },
  {
   "cell_type": "code",
   "source": [
    "patch_embed = PatchEmbedding()\n",
    "x = torch.randn(1, 3, 224, 224)\n",
    "patch_embed(x).shape"
   ],
   "metadata": {
    "id": "E57UzPBuE4qi",
    "execution": {
     "iopub.status.busy": "2023-02-19T14:29:36.164981Z",
     "iopub.execute_input": "2023-02-19T14:29:36.165322Z",
     "iopub.status.idle": "2023-02-19T14:29:36.189260Z",
     "shell.execute_reply.started": "2023-02-19T14:29:36.165287Z",
     "shell.execute_reply": "2023-02-19T14:29:36.188254Z"
    },
    "trusted": true
   },
   "execution_count": 16,
   "outputs": [
    {
     "data": {
      "text/plain": "torch.Size([1, 196, 768])"
     },
     "execution_count": 16,
     "metadata": {},
     "output_type": "execute_result"
    }
   ]
  },
  {
   "cell_type": "markdown",
   "source": [
    "![](https://amaarora.github.io/images/vit-03.png)"
   ],
   "metadata": {
    "id": "JVUm-TJFGm6L"
   }
  },
  {
   "cell_type": "markdown",
   "source": [
    "К эмбеддингам патчей (матрица Bx196x768, всего 196 патчей, каждый из которых кодируется вектором размерности 768) конкатенируется вектор 1x768, представляющий собой эмбеддинг (токен) класса. Поскольку мы хотим настроить токен во время обучения для отображения класса, из вектора создаётся nn.Parameter. К полученному тензору прибавляются позиционные эмбеддинги, хранящие информацию о расположении патчей друг относительно друга."
   ],
   "metadata": {
    "id": "TmsaJ5ZY0n3M"
   }
  },
  {
   "cell_type": "markdown",
   "source": [
    "## Часть 2. Transformer Encoder"
   ],
   "metadata": {
    "id": "rUxuB53PFv1h"
   }
  },
  {
   "cell_type": "markdown",
   "source": [
    "![](https://amaarora.github.io/images/ViT.png)"
   ],
   "metadata": {
    "id": "vkklM-fqFpa9"
   }
  },
  {
   "cell_type": "markdown",
   "source": [
    "Основная идея self-attention модуля состоит в том, что для каждого из эмбеддингов создаются запрос, ключ и значение, которые затем участвуют в создании нового эмбеддинга на основе старого, учитывая его взаимосвязь с другими эмбеддингами. \n",
    "Поскольку мы имеем дело с MHA, нам для каждого эмбеддинга требуется несколько Q, K, V.\n",
    "На вход полносвязной сети поступает эмбеддинг в виде вектора длины 768, который преобразуется в вектор 3x768 = 2304. Эти три части длиной 768 каждая относятся к запросу, ключу и значению. Вектор преобразуется в тезнор 3x12x64. Первая размерность - слои запросов, ключей и значений. Всего составлено по 12 запросов, ключей и значений длиной 64 каждый (то есть у Multi-Head Attention в данном случае 12 \"голов\")."
   ],
   "metadata": {
    "id": "mY7st3Xf6BY6"
   }
  },
  {
   "cell_type": "markdown",
   "source": [
    "![](https://amaarora.github.io/images/vit-07.png)"
   ],
   "metadata": {
    "id": "G34WzminccX7"
   }
  },
  {
   "cell_type": "markdown",
   "source": [],
   "metadata": {
    "id": "ACAqbCivDGsa"
   }
  },
  {
   "cell_type": "code",
   "source": [
    "class MLP(nn.Module):\n",
    "    def __init__(self, in_features, hidden_features=3072, out_features=768, drop=0.):\n",
    "        super().__init__()\n",
    "        \n",
    "#         print(in_features, hidden_features, out_features)\n",
    "        \n",
    "        # Linear Layers\n",
    "        self.seq = nn.Sequential(\n",
    "            nn.Linear(in_features, hidden_features),\n",
    "            nn.GELU(),\n",
    "            nn.Linear(hidden_features, out_features),\n",
    "            nn.GELU(),\n",
    "            nn.Dropout(drop)\n",
    "        )\n",
    "\n",
    "\n",
    "    def forward(self, x):\n",
    "        \n",
    "        x = self.seq(x)\n",
    "\n",
    "        return x"
   ],
   "metadata": {
    "id": "VPQts2WWdeYQ",
    "execution": {
     "iopub.status.busy": "2023-02-19T14:29:36.190842Z",
     "iopub.execute_input": "2023-02-19T14:29:36.191198Z",
     "iopub.status.idle": "2023-02-19T14:29:36.197562Z",
     "shell.execute_reply.started": "2023-02-19T14:29:36.191162Z",
     "shell.execute_reply": "2023-02-19T14:29:36.196427Z"
    },
    "trusted": true
   },
   "execution_count": 17,
   "outputs": []
  },
  {
   "cell_type": "code",
   "source": [
    "x = torch.randn(1, 197,768)\n",
    "mlp = MLP(768, 3072, 768)\n",
    "out = mlp(x)\n",
    "out.shape"
   ],
   "metadata": {
    "id": "LFxxcPoMf7IW",
    "execution": {
     "iopub.status.busy": "2023-02-19T14:29:36.199375Z",
     "iopub.execute_input": "2023-02-19T14:29:36.199778Z",
     "iopub.status.idle": "2023-02-19T14:29:36.283998Z",
     "shell.execute_reply.started": "2023-02-19T14:29:36.199744Z",
     "shell.execute_reply": "2023-02-19T14:29:36.283117Z"
    },
    "trusted": true
   },
   "execution_count": 18,
   "outputs": [
    {
     "data": {
      "text/plain": "torch.Size([1, 197, 768])"
     },
     "execution_count": 18,
     "metadata": {},
     "output_type": "execute_result"
    }
   ]
  },
  {
   "cell_type": "code",
   "source": [
    "t = torch.FloatTensor([\n",
    "    [[111, 112, 113],\n",
    "    [121, 122, 123],\n",
    "    [131, 132, 133]],\n",
    "\n",
    "    [[211, 212, 213],\n",
    "    [221, 222, 223],\n",
    "    [231, 232, 233]],\n",
    "\n",
    "    [[311, 312, 313],\n",
    "    [321, 322, 323],\n",
    "    [331, 332, 333]],\n",
    "])\n",
    "t.shape"
   ],
   "metadata": {
    "id": "_pwQXAU5UOQ_",
    "execution": {
     "iopub.status.busy": "2023-02-19T14:29:36.285246Z",
     "iopub.execute_input": "2023-02-19T14:29:36.286696Z",
     "iopub.status.idle": "2023-02-19T14:29:36.296024Z",
     "shell.execute_reply.started": "2023-02-19T14:29:36.286659Z",
     "shell.execute_reply": "2023-02-19T14:29:36.294780Z"
    },
    "trusted": true
   },
   "execution_count": 19,
   "outputs": [
    {
     "data": {
      "text/plain": "torch.Size([3, 3, 3])"
     },
     "execution_count": 19,
     "metadata": {},
     "output_type": "execute_result"
    }
   ]
  },
  {
   "cell_type": "code",
   "source": [
    "torch.cat([t, torch.rand(1, 1, t.shape[-1]).expand(t.shape[0], -1, -1) * 100], dim=1)"
   ],
   "metadata": {
    "execution": {
     "iopub.status.busy": "2023-02-19T14:29:36.297873Z",
     "iopub.execute_input": "2023-02-19T14:29:36.298298Z",
     "iopub.status.idle": "2023-02-19T14:29:36.309783Z",
     "shell.execute_reply.started": "2023-02-19T14:29:36.298264Z",
     "shell.execute_reply": "2023-02-19T14:29:36.308714Z"
    },
    "trusted": true
   },
   "execution_count": 20,
   "outputs": [
    {
     "data": {
      "text/plain": "tensor([[[111.0000, 112.0000, 113.0000],\n         [121.0000, 122.0000, 123.0000],\n         [131.0000, 132.0000, 133.0000],\n         [ 10.5491,  48.1869,  38.3643]],\n\n        [[211.0000, 212.0000, 213.0000],\n         [221.0000, 222.0000, 223.0000],\n         [231.0000, 232.0000, 233.0000],\n         [ 10.5491,  48.1869,  38.3643]],\n\n        [[311.0000, 312.0000, 313.0000],\n         [321.0000, 322.0000, 323.0000],\n         [331.0000, 332.0000, 333.0000],\n         [ 10.5491,  48.1869,  38.3643]]])"
     },
     "execution_count": 20,
     "metadata": {},
     "output_type": "execute_result"
    }
   ]
  },
  {
   "cell_type": "code",
   "source": [
    "t_exp = torch.arange(0, 5)\n",
    "t_exp = t_exp.view(1, 1, 5)\n",
    "t_exp"
   ],
   "metadata": {
    "execution": {
     "iopub.status.busy": "2023-02-19T14:29:36.312755Z",
     "iopub.execute_input": "2023-02-19T14:29:36.313011Z",
     "iopub.status.idle": "2023-02-19T14:29:36.321201Z",
     "shell.execute_reply.started": "2023-02-19T14:29:36.312987Z",
     "shell.execute_reply": "2023-02-19T14:29:36.319851Z"
    },
    "trusted": true
   },
   "execution_count": 21,
   "outputs": [
    {
     "data": {
      "text/plain": "tensor([[[0, 1, 2, 3, 4]]])"
     },
     "execution_count": 21,
     "metadata": {},
     "output_type": "execute_result"
    }
   ]
  },
  {
   "cell_type": "code",
   "source": [
    "t_exp.expand([3, 2, -1])"
   ],
   "metadata": {
    "execution": {
     "iopub.status.busy": "2023-02-19T14:29:36.323399Z",
     "iopub.execute_input": "2023-02-19T14:29:36.323779Z",
     "iopub.status.idle": "2023-02-19T14:29:36.331597Z",
     "shell.execute_reply.started": "2023-02-19T14:29:36.323728Z",
     "shell.execute_reply": "2023-02-19T14:29:36.330399Z"
    },
    "trusted": true
   },
   "execution_count": 22,
   "outputs": [
    {
     "data": {
      "text/plain": "tensor([[[0, 1, 2, 3, 4],\n         [0, 1, 2, 3, 4]],\n\n        [[0, 1, 2, 3, 4],\n         [0, 1, 2, 3, 4]],\n\n        [[0, 1, 2, 3, 4],\n         [0, 1, 2, 3, 4]]])"
     },
     "execution_count": 22,
     "metadata": {},
     "output_type": "execute_result"
    }
   ]
  },
  {
   "cell_type": "code",
   "source": [
    "t_r = torch.rand(size=(197, 3, 12, 64))\n",
    "t_r0, t_r1, t_r2 = t_r.unbind(dim=-3)\n",
    "t_r0.shape"
   ],
   "metadata": {
    "id": "u1_HllufUeFt",
    "execution": {
     "iopub.status.busy": "2023-02-19T14:29:36.332901Z",
     "iopub.execute_input": "2023-02-19T14:29:36.334088Z",
     "iopub.status.idle": "2023-02-19T14:29:36.347238Z",
     "shell.execute_reply.started": "2023-02-19T14:29:36.334038Z",
     "shell.execute_reply": "2023-02-19T14:29:36.346259Z"
    },
    "trusted": true
   },
   "execution_count": 23,
   "outputs": [
    {
     "data": {
      "text/plain": "torch.Size([197, 12, 64])"
     },
     "execution_count": 23,
     "metadata": {},
     "output_type": "execute_result"
    }
   ]
  },
  {
   "cell_type": "code",
   "source": [
    "class Attention(nn.Module):\n",
    "    def __init__(self, dim, num_heads=8, qkv_bias=False, attn_drop=0., out_drop=0.):\n",
    "        super().__init__()\n",
    "        self.num_heads = num_heads  # Кол-во \"голов\" MHA\n",
    "        # dim - длина эмбеддинга\n",
    "        head_dim = dim // num_heads  # Длина запроса, ключа, и значения\n",
    "        self.head_dim = head_dim\n",
    "        self.scale = head_dim ** -0.5  # Коэффициент нормализации коэффициентов значимости\n",
    "\n",
    "        self.qkv = nn.Linear(in_features=dim, out_features=3 * dim, bias=qkv_bias)\n",
    "        self.attn_drop = nn.Dropout(attn_drop)\n",
    "        self.out = nn.Linear(in_features=dim, out_features=dim)\n",
    "        self.out_drop = nn.Dropout(out_drop)\n",
    "\n",
    "    def forward(self, x):\n",
    "        \n",
    "        # Attention\n",
    "        x = self.qkv(x)\n",
    "        x = self.attn_drop(x)\n",
    "        x = x.view(x.shape[0], -1, 3, self.num_heads, self.head_dim)\n",
    "\n",
    "        q, k, v = x.transpose(-2, -4).unbind(dim=-3)\n",
    "        x = nn.functional.softmax(q @ k.transpose(-1, -2) * self.scale, dim=-1) @ v\n",
    "#         x = x.transpose(-2, -3).reshape(B, -1, self.head_dim * self.num_heads)\n",
    "        x = x.transpose(-2, -3).flatten(start_dim=-2)\n",
    "        \n",
    "        x = self.out(x)\n",
    "        x = self.out_drop(x)\n",
    "\n",
    "        return x\n"
   ],
   "metadata": {
    "id": "4QnAW3rSc2OZ",
    "execution": {
     "iopub.status.busy": "2023-02-19T14:29:36.348627Z",
     "iopub.execute_input": "2023-02-19T14:29:36.349173Z",
     "iopub.status.idle": "2023-02-19T14:29:36.360066Z",
     "shell.execute_reply.started": "2023-02-19T14:29:36.349139Z",
     "shell.execute_reply": "2023-02-19T14:29:36.359168Z"
    },
    "trusted": true
   },
   "execution_count": 24,
   "outputs": []
  },
  {
   "cell_type": "markdown",
   "source": [
    "![](https://amaarora.github.io/images/vit-08.png)"
   ],
   "metadata": {}
  },
  {
   "cell_type": "code",
   "source": [
    "# attn = (q @ k.transpose(-2, -1)) * self.scale\n",
    "# attn = attn.softmax(dim=-1)"
   ],
   "metadata": {
    "id": "OukFkeXzdFpB",
    "execution": {
     "iopub.status.busy": "2023-02-19T14:29:36.361461Z",
     "iopub.execute_input": "2023-02-19T14:29:36.361801Z",
     "iopub.status.idle": "2023-02-19T14:29:36.371577Z",
     "shell.execute_reply.started": "2023-02-19T14:29:36.361761Z",
     "shell.execute_reply": "2023-02-19T14:29:36.370728Z"
    },
    "trusted": true
   },
   "execution_count": 25,
   "outputs": []
  },
  {
   "cell_type": "code",
   "source": [
    "x = torch.randn(1, 197, 768)\n",
    "attention = Attention(768, 8)\n",
    "out = attention(x)\n",
    "out.shape"
   ],
   "metadata": {
    "colab": {
     "base_uri": "https://localhost:8080/"
    },
    "id": "8NeRHHJAgg5R",
    "outputId": "143fdcfe-b61b-47c5-efd2-e511010f43a7",
    "execution": {
     "iopub.status.busy": "2023-02-19T14:29:36.373125Z",
     "iopub.execute_input": "2023-02-19T14:29:36.373597Z",
     "iopub.status.idle": "2023-02-19T14:29:36.425370Z",
     "shell.execute_reply.started": "2023-02-19T14:29:36.373547Z",
     "shell.execute_reply": "2023-02-19T14:29:36.424338Z"
    },
    "trusted": true
   },
   "execution_count": 26,
   "outputs": [
    {
     "data": {
      "text/plain": "torch.Size([1, 197, 768])"
     },
     "execution_count": 26,
     "metadata": {},
     "output_type": "execute_result"
    }
   ]
  },
  {
   "cell_type": "code",
   "source": [
    "import math\n",
    "\n",
    "\n",
    "class Block(nn.Module):\n",
    "    def __init__(self, dim, num_heads=8, mlp_ratio=4, drop_rate=0.):\n",
    "        super().__init__()\n",
    "\n",
    "        # Normalization\n",
    "        self.input_norm = nn.LayerNorm(dim)\n",
    "\n",
    "        # Attention\n",
    "        self.mha = Attention(dim, num_heads, attn_drop=drop_rate, out_drop=drop_rate)\n",
    "\n",
    "        # Dropout\n",
    "        self.drop = nn.Dropout(drop_rate)\n",
    "\n",
    "        # Normalization\n",
    "        self.out_norm = nn.LayerNorm(dim)\n",
    "\n",
    "        # MLP\n",
    "        self.mlp = MLP(dim, math.ceil(dim * mlp_ratio), dim, drop_rate)\n",
    "                \n",
    "\n",
    "    def forward(self, x):\n",
    "        # Attetnion\n",
    "        x_mha = self.input_norm(x)\n",
    "        x_mha = self.mha(x_mha)\n",
    "        x_mha = x_mha + x\n",
    "        \n",
    "        # MLP\n",
    "        x_mlp = self.out_norm(x_mha)\n",
    "        x_mlp = self.mlp(x_mlp)\n",
    "        x = x_mlp + x_mha\n",
    "        \n",
    "        return x"
   ],
   "metadata": {
    "id": "K6e8y_YvwLik",
    "execution": {
     "iopub.status.busy": "2023-02-19T14:29:36.431153Z",
     "iopub.execute_input": "2023-02-19T14:29:36.431429Z",
     "iopub.status.idle": "2023-02-19T14:29:36.438873Z",
     "shell.execute_reply.started": "2023-02-19T14:29:36.431403Z",
     "shell.execute_reply": "2023-02-19T14:29:36.437877Z"
    },
    "trusted": true
   },
   "execution_count": 27,
   "outputs": []
  },
  {
   "cell_type": "code",
   "source": [
    "x = torch.randn(1, 197, 768)\n",
    "block = Block(768, 8)\n",
    "out = attention(x)\n",
    "out.shape"
   ],
   "metadata": {
    "colab": {
     "base_uri": "https://localhost:8080/"
    },
    "id": "3aMihgfEhyql",
    "outputId": "993524e8-c7eb-4b38-802e-557e89ba8285",
    "execution": {
     "iopub.status.busy": "2023-02-19T14:29:36.440877Z",
     "iopub.execute_input": "2023-02-19T14:29:36.441366Z",
     "iopub.status.idle": "2023-02-19T14:29:36.533052Z",
     "shell.execute_reply.started": "2023-02-19T14:29:36.441331Z",
     "shell.execute_reply": "2023-02-19T14:29:36.532141Z"
    },
    "trusted": true
   },
   "execution_count": 28,
   "outputs": [
    {
     "data": {
      "text/plain": "torch.Size([1, 197, 768])"
     },
     "execution_count": 28,
     "metadata": {},
     "output_type": "execute_result"
    }
   ]
  },
  {
   "cell_type": "markdown",
   "source": [
    "В оригинальной реализации теперь используется [DropPath](https://github.com/rwightman/pytorch-image-models/blob/e98c93264cde1657b188f974dc928b9d73303b18/timm/layers/drop.py)"
   ],
   "metadata": {
    "id": "BPBmiO5FhoN6"
   }
  },
  {
   "cell_type": "code",
   "source": [
    "class Transformer(nn.Module):\n",
    "    def __init__(self, depth, dim, num_heads=8, mlp_ratio=4, drop_rate=0.):\n",
    "        super().__init__()\n",
    "        self.blocks = nn.ModuleList([\n",
    "            Block(dim, num_heads, mlp_ratio, drop_rate)\n",
    "            for i in range(depth)])\n",
    "\n",
    "    def forward(self, x):\n",
    "        for block in self.blocks:\n",
    "            x = block(x)\n",
    "        return x"
   ],
   "metadata": {
    "id": "b1uO18VTwLil",
    "execution": {
     "iopub.status.busy": "2023-02-19T14:29:36.534344Z",
     "iopub.execute_input": "2023-02-19T14:29:36.534828Z",
     "iopub.status.idle": "2023-02-19T14:29:36.542473Z",
     "shell.execute_reply.started": "2023-02-19T14:29:36.534789Z",
     "shell.execute_reply": "2023-02-19T14:29:36.541414Z"
    },
    "trusted": true
   },
   "execution_count": 29,
   "outputs": []
  },
  {
   "cell_type": "code",
   "source": [
    "x = torch.randn(1, 197, 768)\n",
    "block = Transformer(12, 768)\n",
    "out = attention(x)\n",
    "out.shape"
   ],
   "metadata": {
    "colab": {
     "base_uri": "https://localhost:8080/"
    },
    "id": "hIfp984oiBqc",
    "outputId": "704c9a49-92d6-4859-9f61-06555bf89579",
    "execution": {
     "iopub.status.busy": "2023-02-19T14:29:36.544059Z",
     "iopub.execute_input": "2023-02-19T14:29:36.544443Z",
     "iopub.status.idle": "2023-02-19T14:29:37.423503Z",
     "shell.execute_reply.started": "2023-02-19T14:29:36.544393Z",
     "shell.execute_reply": "2023-02-19T14:29:37.422483Z"
    },
    "trusted": true
   },
   "execution_count": 30,
   "outputs": [
    {
     "data": {
      "text/plain": "torch.Size([1, 197, 768])"
     },
     "execution_count": 30,
     "metadata": {},
     "output_type": "execute_result"
    }
   ]
  },
  {
   "cell_type": "markdown",
   "source": [
    "![](https://amaarora.github.io/images/vit-06.png)"
   ],
   "metadata": {
    "id": "GqUxpyv3cwNm"
   }
  },
  {
   "cell_type": "code",
   "source": [
    "def get_positional_encoding(n_embed, embed_dim):\n",
    "    pos_enc = torch.zeros((1, n_embed, embed_dim))\n",
    "    posits = torch.arange(0, n_embed).view(-1, 1)\n",
    "#     freqs = torch.exp(torch.arange(0, embed_dim, 2) * (-math.log(10000.0) / embed_dim))\n",
    "    freqs = 1 / 10000 ** (2 * torch.arange(0, embed_dim, 2) / embed_dim)\n",
    "\n",
    "    pos_enc[:, :, 0::2] = torch.sin(posits * freqs)\n",
    "    pos_enc[:, :, 1::2] = torch.cos(posits * freqs)\n",
    "    \n",
    "    \n",
    "    return pos_enc"
   ],
   "metadata": {
    "execution": {
     "iopub.status.busy": "2023-02-19T14:29:37.425157Z",
     "iopub.execute_input": "2023-02-19T14:29:37.425577Z",
     "iopub.status.idle": "2023-02-19T14:29:37.432073Z",
     "shell.execute_reply.started": "2023-02-19T14:29:37.425538Z",
     "shell.execute_reply": "2023-02-19T14:29:37.431002Z"
    },
    "trusted": true
   },
   "execution_count": 31,
   "outputs": []
  },
  {
   "cell_type": "code",
   "source": [
    "from torch.nn.modules.normalization import LayerNorm\n",
    "\n",
    "class ViT(nn.Module):\n",
    "    \"\"\" Vision Transformer with support for patch or hybrid CNN input stage\n",
    "    \"\"\"\n",
    "    def __init__(self, img_size=224, patch_size=16, in_chans=3, num_classes=1000,\n",
    "                 embed_dim=768, depth=12, num_heads=12, mlp_ratio=4., \n",
    "                 qkv_bias=False, drop_rate=0.,):\n",
    "        super().__init__()\n",
    "\n",
    "        # Присвоение переменных\n",
    "        assert(embed_dim % num_heads == 0)\n",
    "\n",
    "        # Path Embeddings, CLS Token, Position Encoding\n",
    "        self.patch_embeddings = PatchEmbedding(img_size, patch_size, in_chans, embed_dim)\n",
    "        self.cls_token = nn.Parameter(torch.rand(1, 1, embed_dim))\n",
    "#         self.pos_encoding = nn.Parameter(torch.rand(1, self.patch_embeddings.num_patches + 1, embed_dim))\n",
    "        self.pos_encoding = nn.Parameter(get_positional_encoding(self.patch_embeddings.num_patches + 1, embed_dim), requires_grad=False)\n",
    "        print(self.pos_encoding.shape)\n",
    "        # Transformer Encoder\n",
    "        self.transformer = Transformer(depth, embed_dim, num_heads, mlp_ratio, drop_rate)\n",
    "\n",
    "        # Classifier\n",
    "        self.classifier = MLP(embed_dim, math.ceil(embed_dim * mlp_ratio), num_classes, drop_rate)\n",
    "\n",
    "    def forward(self, x):\n",
    "        B = x.shape[0]\n",
    "      \n",
    "        # Path Embeddings, CLS Token, Position Encoding\n",
    "        x = self.patch_embeddings(x)\n",
    "        \n",
    "        cls_token = self.cls_token.expand(B, -1, -1)\n",
    "#         print(cls_token.shape, x.shape)\n",
    "        x = torch.cat((cls_token, x), dim=1)\n",
    "        x = x + self.pos_encoding\n",
    "#         print(x.shape)\n",
    "\n",
    "        # Transformer Encoder\n",
    "        x = self.transformer(x)\n",
    "\n",
    "        # Classifier\n",
    "        x = self.classifier(x[:, 0])\n",
    "\n",
    "        return x"
   ],
   "metadata": {
    "id": "Y9gyxdqQeFs6",
    "execution": {
     "iopub.status.busy": "2023-02-19T14:29:37.433477Z",
     "iopub.execute_input": "2023-02-19T14:29:37.433827Z",
     "iopub.status.idle": "2023-02-19T14:29:37.446585Z",
     "shell.execute_reply.started": "2023-02-19T14:29:37.433792Z",
     "shell.execute_reply": "2023-02-19T14:29:37.445510Z"
    },
    "trusted": true
   },
   "execution_count": 32,
   "outputs": []
  },
  {
   "cell_type": "code",
   "source": [
    "# x = torch.randn(5, 3, 224, 224)\n",
    "# vit = ViT()\n",
    "# out = vit(x)\n",
    "# out.shape"
   ],
   "metadata": {
    "colab": {
     "base_uri": "https://localhost:8080/"
    },
    "id": "2lGhne8kjeYs",
    "outputId": "ff66c84e-b63f-4139-ab51-1b14bb6b48f6",
    "execution": {
     "iopub.status.busy": "2023-02-19T14:29:37.448107Z",
     "iopub.execute_input": "2023-02-19T14:29:37.448528Z",
     "iopub.status.idle": "2023-02-19T14:29:41.004991Z",
     "shell.execute_reply.started": "2023-02-19T14:29:37.448494Z",
     "shell.execute_reply": "2023-02-19T14:29:41.003714Z"
    },
    "trusted": true
   },
   "execution_count": 33,
   "outputs": []
  },
  {
   "cell_type": "markdown",
   "source": [
    "# Домашнее задание"
   ],
   "metadata": {
    "id": "4QbFtayBkp-c"
   }
  },
  {
   "cell_type": "markdown",
   "source": [
    "\n",
    "1. Выбрать датасет для классификации изображений с размерностью 64x64+ \n",
    "2. Обучить ViT на таком датасете.\n",
    "3. Попробовать поменять размерности и посмотреть, что поменяется при обучении.\n",
    "\n",
    "\n",
    "Примечание:\n",
    "- Датасеты можно взять [тут](https://pytorch.org/vision/stable/datasets.html#built-in-datasets) или найти в другом месте.\n",
    "- Из за того, что ViT учится медленно, количество примеров в датасете можно ограничить до 1к-5к."
   ],
   "metadata": {
    "id": "6nZbwbK9kskc"
   }
  },
  {
   "cell_type": "code",
   "source": [
    "import random\n",
    "import numpy as np\n",
    "from pytorch_lightning import seed_everything\n",
    "\n",
    "\n",
    "def set_random_seed(s):\n",
    "    random.seed(s)\n",
    "    np.random.seed(s)\n",
    "    torch.manual_seed(s)\n",
    "    seed_everything(s, workers=True)"
   ],
   "metadata": {
    "execution": {
     "iopub.status.busy": "2023-02-19T14:47:21.892824Z",
     "iopub.execute_input": "2023-02-19T14:47:21.893207Z",
     "iopub.status.idle": "2023-02-19T14:47:21.900336Z",
     "shell.execute_reply.started": "2023-02-19T14:47:21.893176Z",
     "shell.execute_reply": "2023-02-19T14:47:21.898785Z"
    },
    "trusted": true
   },
   "execution_count": 34,
   "outputs": []
  },
  {
   "cell_type": "code",
   "source": [
    "import wandb\n",
    "# from kaggle_secrets import UserSecretsClient\n",
    "#\n",
    "#\n",
    "# user_secrets = UserSecretsClient()\n",
    "# api_key = user_secrets.get_secret(\"wandb-api-key\")\n",
    "#\n",
    "# wandb.login(anonymous='allow', key=api_key)\n",
    "\n",
    "wandb.login(anonymous='allow')"
   ],
   "metadata": {
    "execution": {
     "iopub.status.busy": "2023-02-19T14:47:21.902693Z",
     "iopub.execute_input": "2023-02-19T14:47:21.903332Z",
     "iopub.status.idle": "2023-02-19T14:47:22.693401Z",
     "shell.execute_reply.started": "2023-02-19T14:47:21.903293Z",
     "shell.execute_reply": "2023-02-19T14:47:22.692391Z"
    },
    "trusted": true
   },
   "execution_count": 35,
   "outputs": [
    {
     "name": "stderr",
     "output_type": "stream",
     "text": [
      "\u001B[34m\u001B[1mwandb\u001B[0m: Currently logged in as: \u001B[33mtechnumber\u001B[0m. Use \u001B[1m`wandb login --relogin`\u001B[0m to force relogin\n"
     ]
    },
    {
     "data": {
      "text/plain": "True"
     },
     "execution_count": 35,
     "metadata": {},
     "output_type": "execute_result"
    }
   ]
  },
  {
   "cell_type": "code",
   "source": [
    "from __future__ import annotations\n",
    "from typing import Union, Optional\n",
    "from torch import optim\n",
    "import os.path\n",
    "\n",
    "\n",
    "class Logger:\n",
    "    def __init__(\n",
    "            self,\n",
    "            model: nn.Module,\n",
    "            img_size: Union[int, list[int, int], tuple[int, int]],\n",
    "            epochs: int,\n",
    "            train_batch_size: int,\n",
    "            loss: Optional[nn.Module] = None,\n",
    "            optimizer: Optional[optim.Optimizer] = None,\n",
    "            **kwargs\n",
    "    ) -> None:\n",
    "        model_name = str(type(model))\n",
    "        model_name = model_name[model_name.rfind('.') + 1:-2]\n",
    "\n",
    "        self.config = {\n",
    "            'model': model_name,\n",
    "            'img_size': (img_size, img_size) if isinstance(img_size, int) else img_size,\n",
    "            'epochs': epochs,\n",
    "            'train_batch_size': train_batch_size,\n",
    "            **kwargs\n",
    "        }\n",
    "\n",
    "        if loss:\n",
    "            loss_name = str(type(loss))\n",
    "            loss_name = loss_name[loss_name.rfind('.') + 1:-2]\n",
    "            self.config['loss'] = loss_name\n",
    "\n",
    "        if optimizer:\n",
    "            opt_name = str(type(optimizer))\n",
    "            opt_name = opt_name[opt_name.rfind('.') + 1:-2]\n",
    "            self.config['optimizer'] = opt_name\n",
    "            opt_params = optimizer.state_dict()['param_groups'][0]\n",
    "            if 'lr' in opt_params.keys():\n",
    "                self.config['learning_rate'] = opt_params['lr']\n",
    "            self.config['optimizer_params'] = {\n",
    "                k: v for k, v in opt_params.items() if k not in ['params', 'lr'] and v is not None\n",
    "            }\n",
    "\n",
    "        if not os.path.exists('./wandb_runs'):\n",
    "            os.mkdir('./wandb_runs')\n",
    "        # TODO: .env\n",
    "        self.run = wandb.init(\n",
    "            dir='./wandb_runs',\n",
    "            project=\"ViT_GTSRB_classification\",\n",
    "            anonymous='allow',\n",
    "            config=self.config\n",
    "        )\n",
    "\n",
    "    def watch(self, model: nn.Module):\n",
    "        self.run.watch(model)\n",
    "\n",
    "    def log(self, metrics: dict):\n",
    "        self.run.log(metrics)\n",
    "\n",
    "    def finish(self):\n",
    "        self.run.finish()\n",
    "        \n",
    "    def save_model(self, model):\n",
    "        trained_model_artifact = wandb.Artifact(\n",
    "            self.config['model'], type='model',\n",
    "            description=f\"trained {self.config['model']}\"\n",
    "        )\n",
    "        \n",
    "        PATH = f\"./models/{self.config['model']}_{self.run.name}/\"\n",
    "        \n",
    "        if not os.path.exists(PATH):\n",
    "            os.makedirs(PATH)\n",
    "        \n",
    "        \n",
    "        \n",
    "        torch.save(\n",
    "            model.state_dict(),\n",
    "            PATH + 'model_state_dict.pth'\n",
    "        )\n",
    "        \n",
    "        trained_model_artifact.add_dir(PATH)\n",
    "        self.run.log_artifact(trained_model_artifact)"
   ],
   "metadata": {
    "execution": {
     "iopub.status.busy": "2023-02-19T14:47:22.695508Z",
     "iopub.execute_input": "2023-02-19T14:47:22.695852Z",
     "iopub.status.idle": "2023-02-19T14:47:22.713687Z",
     "shell.execute_reply.started": "2023-02-19T14:47:22.695817Z",
     "shell.execute_reply": "2023-02-19T14:47:22.712596Z"
    },
    "trusted": true
   },
   "execution_count": 36,
   "outputs": []
  },
  {
   "cell_type": "code",
   "source": [
    "class EarlyStopper:\n",
    "    def __init__(self, objective='min', patience=1, delta=0):\n",
    "        assert(objective in ['min', 'max'])\n",
    "        \n",
    "        self.patience = patience\n",
    "        self.delta = delta\n",
    "        self.counter = 0\n",
    "        self.best_metric = None\n",
    "        self.is_minimization = objective=='min'\n",
    "\n",
    "    def is_early_stop(self, metric):\n",
    "        if self.best_metric is None or (metric < self.best_metric and self.is_minimization) or (metric > self.best_metric and not self.is_minimization):\n",
    "            self.best_metric = metric\n",
    "            self.counter = 0\n",
    "        elif (metric >= (self.best_metric + self.delta) and self.is_minimization) or (metric <= (self.best_metric - self.delta) and not self.is_minimization):\n",
    "            self.counter += 1\n",
    "            if self.counter >= self.patience:\n",
    "                return True\n",
    "        return False"
   ],
   "metadata": {
    "execution": {
     "iopub.status.busy": "2023-02-19T14:47:22.716475Z",
     "iopub.execute_input": "2023-02-19T14:47:22.717035Z",
     "iopub.status.idle": "2023-02-19T14:47:22.727289Z",
     "shell.execute_reply.started": "2023-02-19T14:47:22.716998Z",
     "shell.execute_reply": "2023-02-19T14:47:22.726286Z"
    },
    "trusted": true
   },
   "execution_count": 37,
   "outputs": []
  },
  {
   "cell_type": "code",
   "source": [
    "import numpy as np\n",
    "from torch.nn.functional import softmax\n",
    "\n",
    "\n",
    "def test(model,\n",
    "         loss,\n",
    "         data_test,\n",
    "         acc=None,\n",
    "         logger=None,\n",
    "         device=torch.device('cpu')):\n",
    "    loss_value_list = []\n",
    "    if acc:\n",
    "        acc_value_list = []\n",
    "    model.eval()\n",
    "    with torch.inference_mode():\n",
    "        for batch_data in data_test:\n",
    "            test_img = batch_data[0].to(device)\n",
    "            test_label = batch_data[1].to(device)\n",
    "\n",
    "            pred_label = model(test_img)\n",
    "\n",
    "            loss_value = loss(pred_label, test_label).item()\n",
    "            if acc:\n",
    "                acc_value = acc(pred_label, test_label).item()\n",
    "            \n",
    "            loss_value_list.append(loss_value)\n",
    "            if acc:\n",
    "                acc_value_list.append(acc_value)\n",
    "\n",
    "    return np.average(loss_value_list), np.average(acc_value_list) if acc else None"
   ],
   "metadata": {
    "execution": {
     "iopub.status.busy": "2023-02-19T14:47:22.728649Z",
     "iopub.execute_input": "2023-02-19T14:47:22.729261Z",
     "iopub.status.idle": "2023-02-19T14:47:22.739974Z",
     "shell.execute_reply.started": "2023-02-19T14:47:22.729118Z",
     "shell.execute_reply": "2023-02-19T14:47:22.739116Z"
    },
    "trusted": true
   },
   "execution_count": 38,
   "outputs": []
  },
  {
   "cell_type": "code",
   "source": [
    "def train(model,\n",
    "          data_train,\n",
    "          data_test,\n",
    "          loss,\n",
    "          optimizer,\n",
    "          epochs,\n",
    "          acc=None,\n",
    "          logger=None,\n",
    "          early_stopper=None,\n",
    "          device=torch.device('cpu')):\n",
    "    model.to(device)\n",
    "\n",
    "    if logger:\n",
    "        logger.watch(model)\n",
    "    wandb.define_metric(\"train/loss\", summary=\"min\")\n",
    "    wandb.define_metric(\"test/loss\", summary=\"min\")\n",
    "    if acc:\n",
    "        wandb.define_metric(\"train/acc\", summary=\"max\")\n",
    "        wandb.define_metric(\"test/acc\", summary=\"max\")\n",
    "    \n",
    "    model.train()\n",
    "    for epoch in range(epochs):\n",
    "        batch_train_loss_list = []\n",
    "        if acc:\n",
    "            batch_train_acc_list = []\n",
    "        for batch_data in data_train:\n",
    "            model.zero_grad()\n",
    "\n",
    "            train_img = batch_data[0].to(device)\n",
    "            train_label = batch_data[1].to(device)\n",
    "\n",
    "            pred_label = model(train_img)\n",
    "            \n",
    "            loss_value = loss(pred_label, train_label)\n",
    "            \n",
    "            if acc:\n",
    "                batch_train_acc_list.append(acc(pred_label, train_label).item())\n",
    "            batch_train_loss_list.append(loss_value.item())\n",
    "                \n",
    "            loss_value.backward()\n",
    "\n",
    "            optimizer.step()\n",
    "\n",
    "        test_loss_value, test_acc_value = test(model, loss, data_test, acc, logger, device)\n",
    "        \n",
    "        if logger:\n",
    "            train_loss_value = np.average(batch_train_loss_list)\n",
    "            log_dict = {\n",
    "                'train/loss': train_loss_value,\n",
    "                'test/loss': test_loss_value,\n",
    "                'epoch': epoch\n",
    "            }\n",
    "            if acc:\n",
    "                train_acc_value = np.average(batch_train_acc_list)\n",
    "                log_dict.update({\n",
    "                    'train/acc': train_acc_value,\n",
    "                    'test/acc': test_acc_value,\n",
    "                })   \n",
    "            logger.log(log_dict)\n",
    "            \n",
    "        if early_stopper and early_stopper.is_early_stop(test_acc_value):\n",
    "            print('Run was early stopped.')\n",
    "            break\n",
    "\n",
    "    logger.save_model(model)\n",
    "        \n",
    "    logger.finish()"
   ],
   "metadata": {
    "execution": {
     "iopub.status.busy": "2023-02-19T14:47:22.741632Z",
     "iopub.execute_input": "2023-02-19T14:47:22.742057Z",
     "iopub.status.idle": "2023-02-19T14:47:22.754361Z",
     "shell.execute_reply.started": "2023-02-19T14:47:22.742023Z",
     "shell.execute_reply": "2023-02-19T14:47:22.753484Z"
    },
    "trusted": true
   },
   "execution_count": 39,
   "outputs": []
  },
  {
   "cell_type": "code",
   "source": [
    "from torchvision import datasets\n",
    "from torchvision import transforms\n",
    "from torch.utils.data import DataLoader, Subset\n",
    "\n",
    "SUBSET_LENGTH = 1500\n",
    "N_CLASSES = 43\n",
    "# INIT_WEIGHT_PATH = 'kaggle/models/weights/___.pth'\n",
    "ALPHA = 0.000001\n",
    "IMAGE_SIZE = 224\n",
    "EPOCHS = 20\n",
    "TRAIN_BATCH_SIZE = 50\n",
    "TEST_BATCH_SIZE = 50\n",
    "DEPTH = 6\n",
    "N_HEADS = 6\n",
    "DROP_RATE = 0.2\n",
    "\n",
    "device = torch.device('cuda:0' if torch.cuda.is_available() else 'cpu')\n",
    "\n",
    "img_tform = transforms.Compose([\n",
    "    transforms.Resize((IMAGE_SIZE, IMAGE_SIZE)),\n",
    "    transforms.ToTensor(),\n",
    "])\n",
    "\n",
    "data_train = Subset(\n",
    "    datasets.GTSRB('./data/GTSRB/', split='train', download=True, transform=img_tform),\n",
    "    torch.arange(SUBSET_LENGTH)\n",
    ")\n",
    "data_train_loader = DataLoader(\n",
    "    data_train,\n",
    "    batch_size=TRAIN_BATCH_SIZE,\n",
    "    shuffle=True,\n",
    "    num_workers=2\n",
    ")\n",
    "\n",
    "data_test = Subset(\n",
    "    datasets.GTSRB('./data/GTSRB/', split='test', download=True, transform=img_tform),\n",
    "    torch.arange(SUBSET_LENGTH)\n",
    ")\n",
    "data_test_loader = DataLoader(\n",
    "    data_test,\n",
    "    batch_size=TEST_BATCH_SIZE,\n",
    "    shuffle=True,\n",
    "    num_workers=2\n",
    ")"
   ],
   "metadata": {
    "execution": {
     "iopub.status.busy": "2023-02-19T14:47:22.756603Z",
     "iopub.execute_input": "2023-02-19T14:47:22.757332Z",
     "iopub.status.idle": "2023-02-19T14:47:22.989998Z",
     "shell.execute_reply.started": "2023-02-19T14:47:22.757298Z",
     "shell.execute_reply": "2023-02-19T14:47:22.989083Z"
    },
    "trusted": true
   },
   "execution_count": 40,
   "outputs": []
  },
  {
   "cell_type": "code",
   "source": [
    "from torch.nn import CrossEntropyLoss\n",
    "from torchmetrics import F1Score\n",
    "\n",
    "set_random_seed(17)\n",
    "\n",
    "model = ViT(\n",
    "    img_size=IMAGE_SIZE,\n",
    "    num_classes=N_CLASSES,\n",
    "    depth=DEPTH,\n",
    "    num_heads=N_HEADS,\n",
    "    drop_rate=DROP_RATE,\n",
    ").to(device)\n",
    "# if os.path.isfile(INIT_WEIGHT_PATH):\n",
    "#     model.load_state_dict(torch.load(INIT_WEIGHT_PATH))\n",
    "# else:\n",
    "#     print(\"Weights not found.\")\n",
    "optimizer = torch.optim.Adam(model.parameters(), lr=ALPHA)\n",
    "loss = CrossEntropyLoss().to(device)\n",
    "acc = F1Score(task=\"multiclass\", num_classes=N_CLASSES, top_k=1).to(device)\n",
    "\n",
    "logger = Logger(\n",
    "    model,\n",
    "    IMAGE_SIZE,\n",
    "    EPOCHS,\n",
    "    TRAIN_BATCH_SIZE,\n",
    "    loss=loss,\n",
    "    optimizer=optimizer,\n",
    "    depth = DEPTH,\n",
    "    n_heads = N_HEADS,\n",
    "    drop_rate = DROP_RATE,\n",
    "    dataset='GTSRB'\n",
    ")\n",
    "\n",
    "early_stopper = EarlyStopper(objective='max', patience=7, delta=0.)\n",
    "\n",
    "train(\n",
    "    model=model,\n",
    "    data_train=data_train_loader,\n",
    "    data_test=data_test_loader,\n",
    "    loss=loss,\n",
    "    acc=acc,\n",
    "    optimizer=optimizer,\n",
    "    epochs=EPOCHS,\n",
    "    logger=logger,\n",
    "    early_stopper=early_stopper,\n",
    "    device=device\n",
    ")"
   ],
   "metadata": {
    "execution": {
     "iopub.status.busy": "2023-02-19T14:51:18.505865Z",
     "iopub.execute_input": "2023-02-19T14:51:18.506248Z",
     "iopub.status.idle": "2023-02-19T14:57:33.918394Z",
     "shell.execute_reply.started": "2023-02-19T14:51:18.506211Z",
     "shell.execute_reply": "2023-02-19T14:57:33.917257Z"
    },
    "trusted": true
   },
   "execution_count": 41,
   "outputs": [
    {
     "name": "stderr",
     "output_type": "stream",
     "text": [
      "Global seed set to 17\n"
     ]
    },
    {
     "name": "stdout",
     "output_type": "stream",
     "text": [
      "torch.Size([1, 197, 768])\n"
     ]
    },
    {
     "data": {
      "text/plain": "<IPython.core.display.HTML object>",
      "text/html": "Tracking run with wandb version 0.13.10"
     },
     "metadata": {},
     "output_type": "display_data"
    },
    {
     "data": {
      "text/plain": "<IPython.core.display.HTML object>",
      "text/html": "Run data is saved locally in <code>./wandb_runs/wandb/run-20230219_230835-n6oyus1q</code>"
     },
     "metadata": {},
     "output_type": "display_data"
    },
    {
     "data": {
      "text/plain": "<IPython.core.display.HTML object>",
      "text/html": "Syncing run <strong><a href='https://wandb.ai/technumber/ViT_GTSRB_classification/runs/n6oyus1q' target=\"_blank\">proud-firefly-30</a></strong> to <a href='https://wandb.ai/technumber/ViT_GTSRB_classification' target=\"_blank\">Weights & Biases</a> (<a href='https://wandb.me/run' target=\"_blank\">docs</a>)<br/>"
     },
     "metadata": {},
     "output_type": "display_data"
    },
    {
     "data": {
      "text/plain": "<IPython.core.display.HTML object>",
      "text/html": " View project at <a href='https://wandb.ai/technumber/ViT_GTSRB_classification' target=\"_blank\">https://wandb.ai/technumber/ViT_GTSRB_classification</a>"
     },
     "metadata": {},
     "output_type": "display_data"
    },
    {
     "data": {
      "text/plain": "<IPython.core.display.HTML object>",
      "text/html": " View run at <a href='https://wandb.ai/technumber/ViT_GTSRB_classification/runs/n6oyus1q' target=\"_blank\">https://wandb.ai/technumber/ViT_GTSRB_classification/runs/n6oyus1q</a>"
     },
     "metadata": {},
     "output_type": "display_data"
    },
    {
     "name": "stderr",
     "output_type": "stream",
     "text": [
      "\u001B[34m\u001B[1mwandb\u001B[0m: Adding directory to artifact (./models/ViT_proud-firefly-30)... "
     ]
    },
    {
     "name": "stdout",
     "output_type": "stream",
     "text": [
      "Run was early stopped.\n"
     ]
    },
    {
     "name": "stderr",
     "output_type": "stream",
     "text": [
      "Done. 0.7s\n"
     ]
    },
    {
     "data": {
      "text/plain": "<IPython.core.display.HTML object>",
      "text/html": "Waiting for W&B process to finish... <strong style=\"color:green\">(success).</strong>"
     },
     "metadata": {},
     "output_type": "display_data"
    },
    {
     "data": {
      "text/plain": "<IPython.core.display.HTML object>",
      "text/html": "<style>\n    table.wandb td:nth-child(1) { padding: 0 10px; text-align: left ; width: auto;} td:nth-child(2) {text-align: left ; width: 100%}\n    .wandb-row { display: flex; flex-direction: row; flex-wrap: wrap; justify-content: flex-start; width: 100% }\n    .wandb-col { display: flex; flex-direction: column; flex-basis: 100%; flex: 1; padding: 10px; }\n    </style>\n<div class=\"wandb-row\"><div class=\"wandb-col\"><h3>Run history:</h3><br/><table class=\"wandb\"><tr><td>epoch</td><td>▁▂▃▄▅▆▇█</td></tr><tr><td>test/acc</td><td>█▁▁▁▁▁▁▁</td></tr><tr><td>test/loss</td><td>▁▂▄▅▆▇▇█</td></tr><tr><td>train/acc</td><td>▁███████</td></tr><tr><td>train/loss</td><td>█▄▂▂▁▁▁▁</td></tr></table><br/></div><div class=\"wandb-col\"><h3>Run summary:</h3><br/><table class=\"wandb\"><tr><td>epoch</td><td>7</td></tr></table><br/></div></div>"
     },
     "metadata": {},
     "output_type": "display_data"
    },
    {
     "data": {
      "text/plain": "<IPython.core.display.HTML object>",
      "text/html": " View run <strong style=\"color:#cdcd00\">proud-firefly-30</strong> at: <a href='https://wandb.ai/technumber/ViT_GTSRB_classification/runs/n6oyus1q' target=\"_blank\">https://wandb.ai/technumber/ViT_GTSRB_classification/runs/n6oyus1q</a><br/>Synced 6 W&B file(s), 0 media file(s), 1 artifact file(s) and 0 other file(s)"
     },
     "metadata": {},
     "output_type": "display_data"
    },
    {
     "data": {
      "text/plain": "<IPython.core.display.HTML object>",
      "text/html": "Find logs at: <code>./wandb_runs/wandb/run-20230219_230835-n6oyus1q/logs</code>"
     },
     "metadata": {},
     "output_type": "display_data"
    }
   ]
  },
  {
   "cell_type": "code",
   "source": [
    "torch.cuda.empty_cache()"
   ],
   "metadata": {
    "execution": {
     "iopub.status.busy": "2023-02-19T14:48:06.747461Z",
     "iopub.status.idle": "2023-02-19T14:48:06.749894Z",
     "shell.execute_reply.started": "2023-02-19T14:48:06.749634Z",
     "shell.execute_reply": "2023-02-19T14:48:06.749663Z"
    },
    "trusted": true
   },
   "execution_count": 42,
   "outputs": []
  }
 ]
}
